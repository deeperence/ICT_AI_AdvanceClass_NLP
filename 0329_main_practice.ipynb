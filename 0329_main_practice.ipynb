{
 "cells": [
  {
   "cell_type": "markdown",
   "metadata": {
    "collapsed": true
   },
   "source": [
    "* 색인 & 가중치 => 학습\n",
    "1. 수집한 문서 목록 가져오기\n",
    "2. 각 문서에서 색인어 목록 추출 전처리 -> 어절 -> 형태소+명사+바이그램\n",
    "3. 가중치 계산(TF-IDF) -> TDM -> TWM(with DocumentVectorLength)\n",
    "\n",
    "* 질의 -> 색인과정의 2 to 3\n",
    "4. 질의에서 색인어 추출\n",
    "5. 가중치 계산\n",
    "6. 유사도 계산(코싸인)\n",
    "7. 유사도 순 정렬(거리-오름차순, 각도-내림차순)\n",
    "8. 검색 결과 출력"
   ]
  },
  {
   "cell_type": "markdown",
   "metadata": {},
   "source": [
    "## 1. 모든 문서들에 대해 토큰화 수행하기"
   ]
  },
  {
   "cell_type": "code",
   "execution_count": 54,
   "metadata": {},
   "outputs": [],
   "source": [
    "# 이 코드에서는 지금까지 배운 내용들을 활용해 텍스트 문서에서 쿼리 단어를 검색한 후 해당 쿼리가 위치한 문서 경로를 출력해 봅니다. \n",
    "\n",
    "def getFileList(base = \"./\", ext = \"txt\"): # 아무것도 안했다면 base는 현재 경로\n",
    "    fileList = list()\n",
    "    for file in listdir(base):\n",
    "        if file.split(\".\")[-1] == ext: # .을 기준으로 split한 것이 txt인지 검사\n",
    "            fileList.append(\"{0}/{1}\".format(base, file))\n",
    "            \n",
    "    return fileList\n",
    "\n",
    "# txt 컨텐츠를 편하게 읽어오기 위한 함수\n",
    "def getContent(file): \n",
    "    with open(file, encoding=\"UTF-8\") as f:\n",
    "        content = f.read()\n",
    "    return content"
   ]
  },
  {
   "cell_type": "code",
   "execution_count": 55,
   "metadata": {},
   "outputs": [],
   "source": [
    "def ngramEojeol(sentence, n=2): # sentence를 받아 어절 단위로 분리해주는 함수\n",
    "    '''\n",
    "    입력:     단어1,   단어2,   단어3,  단어4 : 4\n",
    "    출력(2) : 단어12,  단어23,  단어34 :        3 - n + 1\n",
    "    출력(3) : 단어123, 단어234         :        2 - n + 1\n",
    "    '''\n",
    "    tokens = sentence.split()\n",
    "    ngram = []\n",
    "    \n",
    "    for i in range(len(tokens) - n + 1):\n",
    "        ngram.append(' '.join(tokens[i:i + n]))    \n",
    "        \n",
    "    return ngram"
   ]
  },
  {
   "cell_type": "code",
   "execution_count": 56,
   "metadata": {},
   "outputs": [],
   "source": [
    "def ngramUmjeol(term, n = 2): # 음절 단위로 구분하는 함수. sentence를 받아 2개(n=2)씩 쪼갠다.\n",
    "\n",
    "    ngram = []\n",
    "    \n",
    "    for i in range(len(term) - n + 1):\n",
    "        # ngram.append(tokens_ngram[i:i+n]) # 방법1\n",
    "        # ngram.append(tuple(tokens_ngram[i:i+n])) # 방법2 (튜플로 반환 시 키값을 쓸 수 있음)\n",
    "        ngram.append(''.join(term[i:i + n])) # 방법3\n",
    "        \n",
    "    return ngram"
   ]
  },
  {
   "cell_type": "code",
   "execution_count": 57,
   "metadata": {},
   "outputs": [],
   "source": [
    "import re\n",
    "from string import punctuation\n",
    "\n",
    "\n",
    "def getPatternList():\n",
    "    patternList = dict()\n",
    "    pattern = re.compile(r\"[%s]{1,}\" % re.escape(punctuation)) # punctuation 안의 특수문자가 두번이상 반복되는 모든 문자에 대해 패턴 정의\n",
    "    patternList[\"Punctuation\"] = pattern\n",
    "    pattern2 = re.compile(r\"([A-Za-z0-9\\-\\_\\.]{3,}@[A-Za-z0-9\\-\\_]{3,}(.[A-Za-z]{2,})+)\") #이메일주소제거패턴\n",
    "    patternList[\"Email\"] = pattern2\n",
    "    pattern3 = re.compile(r\"([A-Za-z0-9\\-\\_]{1,}(.[A-Za-z]{2,})+)\") # 신문사도메인패턴\n",
    "    patternList[\"Domain\"] = pattern3\n",
    "    pattern4 = re.compile(r\"\\s{2,}\") # 공백제거\n",
    "    patternList[\"Whitespace\"] = pattern4\n",
    "    pattern5 = re.compile(r\"([^ㄱ-ㅎㅏ-ㅣ가-힣0-9]+)\") # 한글이 아닌 영어 기호 제거\n",
    "    patternList[\"Korean\"] = pattern5\n",
    "    pattern6 = re.compile(r'[A-Za-z-_]{8,}') # 영어 (대소문자) +\\-\\_ 제거 (8글자 이상)\n",
    "    patternList[\"ElimLongEng\"] = pattern6\n",
    "    pattern7 = re.compile(r\"를 2019 및 금지|네이버 채널에서|저작권자 주 블로터앤미디어 저작권자를 명기하고 내용을 변경하지 않으며 비상업적으로 이용하는 조건아래 가능합니다|\"\n",
    "                          r\"디지털 마케팅의 미래 아이포럼|무단전재|오류를 우회하기 위한 함수 추가|재배포|기자|아이뉴스24|구독해주세요|\"\n",
    "                          r\"고수들의 재테크 비법|이건희칼럼|성공을 꿈꾸는 사람들의 경제 뉴스|머니 및 금지|및 금지|\"\n",
    "                          r\"네이버 모바일에서|네이버에서 헤럴드경제|채널 구독하기|헤럴드 리얼라이프 헤럴드경제 사이트 바로가기 헤럴드경제 무단 전재 및 금지|\"\n",
    "                          r\"전자신문|바로가기|전자신문인터넷|인터넷 및 금지|중앙일보|친구추가|구독 1위|\"\n",
    "                          r\"한국경제|재배포|기사제보|보도자료|한경닷컴|네이버에서|자세히보기|자세히 보기|모바일한경|구독신청|\"\n",
    "                          r\"머니투데이|돈이 보이는 리얼타임 뉴스|연예뉴스|파이낸셜뉴스|무단 전재 금지\") # 높은 가중치를 갖는 단어를 하드코딩 데이터로 제거\n",
    "    patternList[\"ElimRecWord\"] = pattern7\n",
    "    \n",
    "    return patternList"
   ]
  },
  {
   "cell_type": "code",
   "execution_count": 58,
   "metadata": {},
   "outputs": [],
   "source": [
    "from os import listdir\n",
    "\n",
    "FileList = getFileList(\"C:/Users/brsta/ICT_AI_AdvanceClass_NLP/0314_DownloadedNewstxts/\")\n",
    "NewsContent = list() \n",
    "\n",
    "for i in range(len(FileList)):\n",
    "    NewsContent.append(getContent(FileList[i])) # len(NewsContent) = 180\n"
   ]
  },
  {
   "cell_type": "code",
   "execution_count": 59,
   "metadata": {},
   "outputs": [
    {
     "name": "stdout",
     "output_type": "stream",
     "text": [
      "   오히려 단체측 무선이어폰 연구는 존재치도 않아 국내 참여 연구자도 어리둥절 이엠에프사이언티스에서 일부 언론 보도를 부정하며 직접 보내온 이메일 내용이다 이엠에프사이언티스트 관계자인 조엘 모스코위츠 미국 버클리 캘리포니아대 가정사회건강연구소 소장은 무선 이어폰의 건강 유해성에 대한 보도를 부정했다 고재원   1212 18일 오전 전세계 과학자들이 애플 에어팟과 같은 무선 이어폰이 암 발생 위험을 키울 수 있다는 호소문을 국제연합 과 세계보건기구 에 제출했다는 일부 국내외 언론의 보도가 나오면서 불안감이 확산되고 있다 하지만 실제 이 단체와 호소문에 이름을 올린 과학자들에게 확인한 결과 호소문은 4년전 제출됐던 것이며 또 특정 제품이나 제조사를 언급하지 않은 것으로 확인됐다 18일 데일리메일과   등 국내외 일부 언론에 따르면 전 세계 과학자 247명이 무선 이어폰의 비이온화 전자기장 이 암을 유발할 위험 우려가 있다며 과 에 호소문을 제출했다고 전했다 이들 매체들은 호소문에 애플 에어팟이 에 관한 법적 기준치를 준수하고 있지만 장시간 노출될 경우 건강에 좋지 않을 수 있다 는 내용이 포함됐다고 보도했다 이들 매체들은 이 호소문에는 전 세계 42개국 과학자 247명이 서명을 했다고 전했다 여기에는 한국의 연세대 한양대 가톨릭대 단국대 중앙대 경북대 한림대 소속 과학자 15명의 이름도 포함됐다 하지만 취재 결과 호소문 작성을 주도한 비영리단체 이엠에프사이언티스트 는 애플 에어팟과 같은 무선 이어폰에 대한 유해성을 주장하지 않은 것으로 확인됐다 동아사이언스가 이엠에프사이언티스트에 직접 이메일로 확인한 결과 일부 언론 보도가 호소문에 대한 부정확한 내용을 담고 있다 며 무선 블루투스의 자기장에 머리가 장시간 노출될 시의 안정성에 대한 연구는 존재하지 않는다 고 밝혔다 이엠에프사이언티스트에 따르면 이 단체는 지난 2015년 5월 실제로 전세계 과학자 190명의 서명을 받아 과 유엔환경계획 에 국제 과학자 호소문 을 제출하기는 했다 당시 호소문에는 전세계 저명한 학술지에 게재된 2000개가 넘는 연구들을 근거로 비전리 전자기장 노출로부터 보호와 방지가 필요하다는 내용을 담았다 이 단체는 지속적으로 해당 내용에 동의하는 과학자들의 서명을 받아 현재는 42개국 247명으로 늘어났다 실제 한국인 과학자들 15명도 이 호소문에 서명한 것으로 확인됐다 이엠에프사이언티스 관계자인 조엘 모스코위츠 미국 버클리 캘리포니아대 가정사회건강연구소 소장은 이메일 인터뷰에서 호소문에 서명한 과학자들은 저명한 학술지에 전자기장과 생물학 건강과 관련된 연구를 발표한 분들 이라며 하지만 호소문은 이번에 새로 제출된 내용이 아닌 2015년 5월 제출됐으며 특정 제품이나 제조사를 언급하고 있지 않다 고 말했다 이 호소문에 서명했다고 알려진 송기원 연세대 생화학과 교수는 명단이 올라간 것도 잘 몰랐다 며 최근 몇 년 동안 해당 주제에 관여하지 않았고 당시도 다른 교수가 서명하라 해 서명했다 고 말했다 또 다른 서명자인 한 지방국립대 교수는 대략 2년전 서명했던 기억이 난다 고 말했다 전자기장 자체 유해성 여부는 아직까지 논란이 있다 는 지난 30년간 2만5000개가 넘는 관련 연구들이 존재하지만 낮은 전자기장의 건강 유해성을 확인하지 못했다고 결론내렸다 이덕환 서강대 화학과 교수는 통신용 마이크로파가 인체에 영향을 미치는지 여부는 이미 여러 연구를 통해 문제가 없다고 확실히 검증됐다 며 이미 우리 주변에 수많은 통신용 마이크로파가 지나다니고 있는데 전화나 무선이어폰을 가까이 가져간다고 새삼 더 문제가 된다는 발상도 황당하다 고 밝혔다 고재원   1212 \n"
     ]
    }
   ],
   "source": [
    "patternList = getPatternList()\n",
    "for _ in [\"Korean\", \"Whitespace\", \"Punctuation\", \"ElimLongEng\", \"Email\", \"Domain\", \"ElimRecWord\"]: \n",
    "    for i in range(len(FileList)):\n",
    "        NewsContent[i] = patternList[_].sub(\" \", NewsContent[i]) \n",
    "print(NewsContent[0]) # 불용어 처리가 모두 끝난 뉴스기사 목록\n"
   ]
  },
  {
   "cell_type": "code",
   "execution_count": 60,
   "metadata": {},
   "outputs": [],
   "source": [
    "from nltk.tokenize import sent_tokenize, word_tokenize\n",
    "from konlpy.tag import Kkma\n",
    "ma = Kkma()\n",
    "\n",
    "# 단일 뉴스 기사를 토큰화해주는 함수\n",
    "def Tokenizer(NewsContent):\n",
    "    dictTerm = list()\n",
    "    dictPos = list()\n",
    "    dictNoun = list()\n",
    "    dictNgram = list()\n",
    "    th = 1 \n",
    "    \n",
    "    for sentence in sent_tokenize(NewsContent):\n",
    "        for token in word_tokenize(sentence):\n",
    "            if len(token) > th:\n",
    "                dictTerm.append(token)\n",
    "                # 아래서부터는 list이기때문에 extend를 사용해야 함. \n",
    "                dictPos.extend([morpheme for morpheme in ma.morphs(token) if len(morpheme) > th]) # 형태소 분석결과를 extend\n",
    "                dictNoun.extend([noun for noun in ma.nouns(token) if len(noun) > th]) # 명사 단위로 잘라 extend\n",
    "                dictNgram.extend(ngramUmjeol(token)) # 바이그램을 리턴\n",
    "                \n",
    "    # 빠른 속도 및 중복 데이터 처리를 위해 set사용 (유일한 단어만 남김)\n",
    "    dictTerm = list(set(dictTerm))\n",
    "    dictPos = list(set(dictPos))\n",
    "    dictNoun = list(set(dictNoun))\n",
    "    dictNgram = list(set(dictNgram))\n",
    "        \n",
    "    return dictTerm, dictPos, dictNoun, dictNgram"
   ]
  },
  {
   "cell_type": "code",
   "execution_count": 61,
   "metadata": {},
   "outputs": [],
   "source": [
    "# TokenizedNewsContent = list()\n",
    "# \n",
    "# for i in range(len(FileList)):\n",
    "#     TokenizedNewsContent.append(Tokenizer(NewsContent[i]))"
   ]
  },
  {
   "cell_type": "code",
   "execution_count": 62,
   "metadata": {},
   "outputs": [],
   "source": [
    "# # len(dictTerm), len(dictPos), len(dictNoun), len(dictNgram) of 0th txt file\n",
    "# print(len(TokenizedNewsContent[0][0]), len(TokenizedNewsContent[0][1]), len(TokenizedNewsContent[0][2]), len(TokenizedNewsContent[0][3]))\n",
    "# \n",
    "# # dictTerm, dictPos, dictNoun, dictNgram 테스트용\n",
    "# # for i in range(len(FileList)):\n",
    "# #     print(str(i) + \"th txt : \" + str(len(list(set(TokenizedNewsContent[i][0] + TokenizedNewsContent[i][1] + TokenizedNewsContent[i][2] + TokenizedNewsContent[i][3])))))"
   ]
  },
  {
   "cell_type": "code",
   "execution_count": 63,
   "metadata": {},
   "outputs": [],
   "source": [
    "# # 0 : dictTerm, 1 : dictPos, 2 : dictNoun, 3 : dictNgram\n",
    "# print(TokenizedNewsContent[0][0])"
   ]
  },
  {
   "cell_type": "markdown",
   "metadata": {},
   "source": [
    "## 2. TDF-ID 방식으로 검색 수행해보기\n",
    "WIP(2019-03-29 10:28 PM) \n",
    "\n"
   ]
  },
  {
   "cell_type": "code",
   "execution_count": 69,
   "metadata": {},
   "outputs": [
    {
     "name": "stdout",
     "output_type": "stream",
     "text": [
      "('C:/Users/brsta/ICT_AI_AdvanceClass_NLP/0314_DownloadedNewstxts//IT과학-0000003610.txt', '   오히려 단체측 무선이어폰 연구는 존재치도 않아 국내 참여 연구자도 어리둥절 이엠에프사이언티스에서 일부 언론 보도를 부정하며 직접 보내온 이메일 내용이다 이엠에프사이언티스트 관계자인 조엘 모스코위츠 미국 버클리 캘리포니아대 가정사회건강연구소 소장은 무선 이어폰의 건강 유해성에 대한 보도를 부정했다 고재원   1212 18일 오전 전세계 과학자들이 애플 에어팟과 같은 무선 이어폰이 암 발생 위험을 키울 수 있다는 호소문을 국제연합 과 세계보건기구 에 제출했다는 일부 국내외 언론의 보도가 나오면서 불안감이 확산되고 있다 하지만 실제 이 단체와 호소문에 이름을 올린 과학자들에게 확인한 결과 호소문은 4년전 제출됐던 것이며 또 특정 제품이나 제조사를 언급하지 않은 것으로 확인됐다 18일 데일리메일과   등 국내외 일부 언론에 따르면 전 세계 과학자 247명이 무선 이어폰의 비이온화 전자기장 이 암을 유발할 위험 우려가 있다며 과 에 호소문을 제출했다고 전했다 이들 매체들은 호소문에 애플 에어팟이 에 관한 법적 기준치를 준수하고 있지만 장시간 노출될 경우 건강에 좋지 않을 수 있다 는 내용이 포함됐다고 보도했다 이들 매체들은 이 호소문에는 전 세계 42개국 과학자 247명이 서명을 했다고 전했다 여기에는 한국의 연세대 한양대 가톨릭대 단국대 중앙대 경북대 한림대 소속 과학자 15명의 이름도 포함됐다 하지만 취재 결과 호소문 작성을 주도한 비영리단체 이엠에프사이언티스트 는 애플 에어팟과 같은 무선 이어폰에 대한 유해성을 주장하지 않은 것으로 확인됐다 동아사이언스가 이엠에프사이언티스트에 직접 이메일로 확인한 결과 일부 언론 보도가 호소문에 대한 부정확한 내용을 담고 있다 며 무선 블루투스의 자기장에 머리가 장시간 노출될 시의 안정성에 대한 연구는 존재하지 않는다 고 밝혔다 이엠에프사이언티스트에 따르면 이 단체는 지난 2015년 5월 실제로 전세계 과학자 190명의 서명을 받아 과 유엔환경계획 에 국제 과학자 호소문 을 제출하기는 했다 당시 호소문에는 전세계 저명한 학술지에 게재된 2000개가 넘는 연구들을 근거로 비전리 전자기장 노출로부터 보호와 방지가 필요하다는 내용을 담았다 이 단체는 지속적으로 해당 내용에 동의하는 과학자들의 서명을 받아 현재는 42개국 247명으로 늘어났다 실제 한국인 과학자들 15명도 이 호소문에 서명한 것으로 확인됐다 이엠에프사이언티스 관계자인 조엘 모스코위츠 미국 버클리 캘리포니아대 가정사회건강연구소 소장은 이메일 인터뷰에서 호소문에 서명한 과학자들은 저명한 학술지에 전자기장과 생물학 건강과 관련된 연구를 발표한 분들 이라며 하지만 호소문은 이번에 새로 제출된 내용이 아닌 2015년 5월 제출됐으며 특정 제품이나 제조사를 언급하고 있지 않다 고 말했다 이 호소문에 서명했다고 알려진 송기원 연세대 생화학과 교수는 명단이 올라간 것도 잘 몰랐다 며 최근 몇 년 동안 해당 주제에 관여하지 않았고 당시도 다른 교수가 서명하라 해 서명했다 고 말했다 또 다른 서명자인 한 지방국립대 교수는 대략 2년전 서명했던 기억이 난다 고 말했다 전자기장 자체 유해성 여부는 아직까지 논란이 있다 는 지난 30년간 2만5000개가 넘는 관련 연구들이 존재하지만 낮은 전자기장의 건강 유해성을 확인하지 못했다고 결론내렸다 이덕환 서강대 화학과 교수는 통신용 마이크로파가 인체에 영향을 미치는지 여부는 이미 여러 연구를 통해 문제가 없다고 확실히 검증됐다 며 이미 우리 주변에 수많은 통신용 마이크로파가 지나다니고 있는데 전화나 무선이어폰을 가까이 가져간다고 새삼 더 문제가 된다는 발상도 황당하다 고 밝혔다 고재원   1212 ')\n"
     ]
    }
   ],
   "source": [
    "collection = [] \n",
    "for i in range(len(NewsContent)):\n",
    "    collection.append((str(FileList[i]), NewsContent[i])) # (파일경로, 불용어 처리 완료된 기사) 튜플 구성 \n",
    "print(collection[0])\n",
    "\n",
    "# in-memory (Hash Key 값)\n",
    "# 전체 색인어 목록(Dictionary)\n",
    "# {단어1:포스팅위치, 단어2:포스팅위치, ...}\n",
    "queryPosting = dict()\n",
    "\n",
    "# 전체 문서 목록(Dictionary)\n",
    "# [0:문서1, 1:문서2, ...]\n",
    "globalDocument = list()\n",
    "\n",
    "# disk\n",
    "# 사전에 있는 색인어 중, 어느 문서에서, 몇 번 나타났는지\n",
    "# [(단어 idx, 문서 idx, 빈도, 다음주소), ...]\n",
    "# [0:Tuple(lexiconIdx, documentIdx, freq, 다음포스팅위치-fptr)]\n",
    "# 메모리 X, File OK\n",
    "globalPosting = list()"
   ]
  },
  {
   "cell_type": "code",
   "execution_count": 70,
   "metadata": {},
   "outputs": [],
   "source": [
    "for (docName, docContent) in collection:\n",
    "    # Pointer 대체용, Key, Document 이름은 절대로 겹치지 않는다는 가정\n",
    "    docIdx = len(globalDocument)\n",
    "    globalDocument.append(docName)\n",
    "    \n",
    "    # {단어idx:빈도, 단어idx:빈도, ...}\n",
    "    localPosting = dict()\n",
    "    \n",
    "    # Local 작업\n",
    "    for term in docContent.lower().split():\n",
    "        # Local에 대해서, 없으면 추가\n",
    "        if term not in localPosting.keys():\n",
    "            localPosting[term] = 1\n",
    "        # 있으면, 빈도 증가\n",
    "        else:\n",
    "            localPosting[term] += 1\n",
    "     \n",
    "    # Global Marge\n",
    "    # fp -> struct(단어, 빈도) (localPosting)\n",
    "    for indexTerm, termFreq in localPosting.items():\n",
    "        if indexTerm not in queryPosting.keys(): \n",
    "            lexiconIdx = len(queryPosting)\n",
    "            postingIdx = len(globalPosting) # fseek\n",
    "            postingData = (lexiconIdx, docIdx, termFreq, -1)\n",
    "            globalPosting.append(postingData)\n",
    "            queryPosting[indexTerm] = postingIdx # globalPosting 위치(ptr:idx)\n",
    "        else: # 기존 단어의 idx 가져오기\n",
    "            lexiconIdx = list(queryPosting.keys()).index(indexTerm)\n",
    "            postingIdx = len(globalPosting)\n",
    "            beforeIdx = queryPosting[indexTerm]\n",
    "            postingData = (lexiconIdx, docIdx, termFreq, beforeIdx)\n",
    "            globalPosting.append(postingData)\n",
    "            queryPosting[indexTerm] = postingIdx\n",
    "            \n",
    "#     print(localPosting)\n",
    "# print(globalDocument)\n",
    "\n",
    "#         if term not in globalLexicon.keys():\n",
    "#             lexiconIdx = len(globalLexicon) 0"
   ]
  },
  {
   "cell_type": "code",
   "execution_count": 72,
   "metadata": {},
   "outputs": [],
   "source": [
    "# queryPosting, globalDocument"
   ]
  },
  {
   "cell_type": "code",
   "execution_count": 74,
   "metadata": {},
   "outputs": [],
   "source": [
    "# globalPosting"
   ]
  },
  {
   "cell_type": "code",
   "execution_count": 76,
   "metadata": {},
   "outputs": [],
   "source": [
    "for indexTerm, postingIdx in queryPosting.items():\n",
    "    # indexTerm:단어: postingIdx:위치, ...\n",
    "    # print(indexTerm)\n",
    "    \n",
    "    while True: # Posting Next:-1\n",
    "        if postingIdx == -1:\n",
    "            break\n",
    "            \n",
    "        postingData = globalPosting[postingIdx]\n",
    "        # print('  DocName:{0} - TermFreq:{1} - Next:{2}'.format(globalDocument[postingData[1]], postingData[2], postingData[3]))\n",
    "        postingIdx = postingData[3]"
   ]
  },
  {
   "cell_type": "code",
   "execution_count": 77,
   "metadata": {},
   "outputs": [
    {
     "data": {
      "text/plain": [
       "(775, 20, 2, 4244)"
      ]
     },
     "execution_count": 77,
     "metadata": {},
     "output_type": "execute_result"
    }
   ],
   "source": [
    "globalPosting[queryPosting['이어폰']]"
   ]
  },
  {
   "cell_type": "code",
   "execution_count": 78,
   "metadata": {},
   "outputs": [
    {
     "data": {
      "text/plain": [
       "(775, 15, 2, 810)"
      ]
     },
     "execution_count": 78,
     "metadata": {},
     "output_type": "execute_result"
    }
   ],
   "source": [
    "globalPosting[globalPosting[queryPosting['이어폰']][3]]   # 다음 주소가 \"-1\" 일때 까지 반복해서 찾음"
   ]
  },
  {
   "cell_type": "markdown",
   "metadata": {},
   "source": [
    "## 3. TF-IDF 방식과 cosine simmilarity으로 검색해보기"
   ]
  },
  {
   "cell_type": "code",
   "execution_count": 95,
   "metadata": {},
   "outputs": [],
   "source": [
    "from math import log10\n",
    "\n",
    "# TF 구하기\n",
    "def binaryTF(freq):\n",
    "    if freq > 0:\n",
    "        return 1\n",
    "    else:\n",
    "        return 0\n",
    "\n",
    "def rawTF(freq):\n",
    "    return freq\n",
    "\n",
    "def basicTF(freq, totalFreq):\n",
    "    return freq/totalFreq\n",
    "\n",
    "def logTF(freq):\n",
    "    if freq > 0:\n",
    "        return 1+log10(freq)\n",
    "    else:\n",
    "        return 0\n",
    "\n",
    "def doubleNormalTF(K, freq, maxFreq): \n",
    "    return K + ((1-K) * (freq/maxFreq))"
   ]
  },
  {
   "cell_type": "code",
   "execution_count": 96,
   "metadata": {},
   "outputs": [],
   "source": [
    "# IDF(Inverse Document Frequency 구하기\n",
    "def unaryIDF():\n",
    "    return 1\n",
    "\n",
    "def basicIDF(N, df):\n",
    "    return log10(N/df)\n",
    "\n",
    "def smoothigIDF(N, df):\n",
    "    return log10((N+1)/df)\n",
    "\n",
    "def probabilityIDF(N, df):\n",
    "    return log10((N-df+1)/df)"
   ]
  },
  {
   "cell_type": "code",
   "execution_count": 97,
   "metadata": {},
   "outputs": [],
   "source": [
    "def innerProduct(x, y): # 내적 연산\n",
    "    return x * y"
   ]
  },
  {
   "cell_type": "code",
   "execution_count": 98,
   "metadata": {},
   "outputs": [],
   "source": [
    "globalLexicon = dict()\n",
    "globalDocument = list()\n",
    "globalPosting = list()\n",
    "\n",
    "for (docName, docContent) in collection:\n",
    "    docIdx = len(globalDocument)\n",
    "    globalDocument.append(docName)\n",
    "    \n",
    "    localPosting = dict()\n",
    "    \n",
    "    for term in docContent.lower().split():\n",
    "        if term not in localPosting.keys():\n",
    "            localPosting[term] = 1\n",
    "        else:\n",
    "            localPosting[term] += 1\n",
    "    \n",
    "    maxFreq = max(localPosting.values())\n",
    "    \n",
    "    for indexTerm, termFreq in localPosting.items():\n",
    "        if indexTerm not in globalLexicon.keys():\n",
    "            lexiconIdx = len(globalLexicon)\n",
    "            postingIdx = len(globalPosting)\n",
    "            postingData = [lexiconIdx, docIdx, doubleNormalTF(0, termFreq, maxFreq), -1]\n",
    "            globalPosting.append(postingData)\n",
    "            globalLexicon[indexTerm] = postingIdx\n",
    "        else:\n",
    "            lexiconIdx = list(globalLexicon.keys()).index(indexTerm)\n",
    "            postingIdx = len(globalPosting)\n",
    "            beforeIdx = globalLexicon[indexTerm]\n",
    "            postingData = [lexiconIdx, docIdx, doubleNormalTF(0, termFreq, maxFreq), beforeIdx]\n",
    "            globalPosting.append(postingData)\n",
    "            globalLexicon[indexTerm] = postingIdx"
   ]
  },
  {
   "cell_type": "code",
   "execution_count": 100,
   "metadata": {},
   "outputs": [],
   "source": [
    "# globalPosting"
   ]
  },
  {
   "cell_type": "code",
   "execution_count": 101,
   "metadata": {
    "collapsed": false
   },
   "outputs": [],
   "source": [
    "N = len(globalDocument)\n",
    "globalLexiconIDF = dict()\n",
    "globalDocumentLength = dict()\n",
    "\n",
    "for indexTerm, postingIdx in globalLexicon.items():\n",
    "    # indexTerm : 단어, postingIdx :위치(포인터역할), ...\n",
    "    df = 0\n",
    "    oldPostingIdx = postingIdx\n",
    "    \n",
    "    while True: # ptr Next: -1 \n",
    "        if postingIdx == -1:\n",
    "            break\n",
    "        \n",
    "        df += 1\n",
    "        postingData = globalPosting[postingIdx]\n",
    "        postingIdx = postingData[3]\n",
    "        \n",
    "    idf = smoothigIDF(N, df)\n",
    "    globalLexiconIDF[indexTerm] = idf # 나중에 단어가 나왔을때 idf를 불러올 수 있도록 하기 위함\n",
    "    postingIdx = oldPostingIdx\n",
    "    # print('단어 : {0} / IDF : {1}'.format(indexTerm, idf))\n",
    "    \n",
    "    while True:\n",
    "        if postingIdx == -1:\n",
    "            break\n",
    "        \n",
    "        postingData = globalPosting[postingIdx]\n",
    "        TF = postingData[2]\n",
    "        globalPosting[postingIdx][2] *= idf\n",
    "        # print('    Documents:{0} / TF:{1} / TF-IDF:{2}'.format(globalDocument[postingData[1]], \n",
    "        #                                                        TF, globalPosting[postingIdx][2]))\n",
    "        \n",
    "        postingIdx = postingData[3]\n",
    "        \n",
    "        # 색인하는 과정에서 사실상 검색까지 모두 한 셈이 되므로 색인 과정에만 시간이 들어 굉장히 빠른 연산속도를 보임. \n",
    "        # 키 에러 방지용(키값이 있다면 제곱해서 누적해주면 됨)\n",
    "        if postingData[1] not in globalDocumentLength.keys():\n",
    "            globalDocumentLength[postingData[1]] = globalPosting[postingIdx][2] ** 2\n",
    "        else:\n",
    "            globalDocumentLength[postingData[1]] += globalPosting[postingIdx][2] ** 2"
   ]
  },
  {
   "cell_type": "code",
   "execution_count": 102,
   "metadata": {},
   "outputs": [],
   "source": [
    "query = '이어폰 과 스마트폰' # Document\n",
    "\n",
    "queryPosting = dict()\n",
    "\n",
    "for term in query.lower().split():\n",
    "    if term not in queryPosting.keys():\n",
    "        queryPosting[term] = 1\n",
    "    else:\n",
    "        queryPosting[term] += 1\n",
    "        \n",
    "maxFreq = max(queryPosting.values())\n",
    "\n",
    "for indexTerm, termFreq in queryPosting.items():\n",
    "    queryPosting[indexTerm] = doubleNormalTF(0.5, termFreq, maxFreq)"
   ]
  },
  {
   "cell_type": "code",
   "execution_count": 103,
   "metadata": {},
   "outputs": [
    {
     "data": {
      "text/plain": [
       "{'이어폰': 1.0, '과': 1.0, '스마트폰': 1.0}"
      ]
     },
     "execution_count": 103,
     "metadata": {},
     "output_type": "execute_result"
    }
   ],
   "source": [
    "queryPosting"
   ]
  },
  {
   "cell_type": "code",
   "execution_count": 110,
   "metadata": {},
   "outputs": [],
   "source": [
    "candidateList = dict()\n",
    "\n",
    "for indexTerm, queryWeight in queryPosting.items(): # keys에 있는지 검사 후 query가 있을 경우에 한해 처리하기 위함\n",
    "    if indexTerm in globalLexicon.keys():\n",
    "        postingIdx = globalLexicon[indexTerm]\n",
    "        \n",
    "        while True: # ptr Next: -1\n",
    "            if postingIdx == -1:\n",
    "                break\n",
    "            \n",
    "            postingData = globalPosting[postingIdx]\n",
    "            postingIdx = postingData[3]\n",
    "            documentWeight = postingData[2]\n",
    "            \n",
    "            \n",
    "            # 키 에러 방지용\n",
    "            if postingData[1] not in candidateList.keys():\n",
    "                candidateList[postingData[1]] = innerProduct(queryWeight, documentWeight)\n",
    "            else:\n",
    "                candidateList[postingData[1]] += innerProduct(queryWeight, documentWeight)\n",
    "\n",
    "for documentIdx, sumProduct in candidateList.items():\n",
    "    candidateList[documentIdx] /= globalDocumentLength[documentIdx]"
   ]
  },
  {
   "cell_type": "code",
   "execution_count": 118,
   "metadata": {
    "collapsed": true
   },
   "outputs": [
    {
     "name": "stdout",
     "output_type": "stream",
     "text": [
      "query:  이어폰 과 스마트폰\n순위:1 / 문서:C:/Users/brsta/ICT_AI_AdvanceClass_NLP/0314_DownloadedNewstxts//IT과학-0000003610.txt / 유사도:0.2513430003394383\n   document:   오히려 단체측 무선이어폰 연구는 존재치도 않아 국내 참여 연구자도 어리둥절 이엠에프사이언티스에서 일부 언론 보도를 부정하며 직접 보내온 이메일 내용이다 이엠에프사이언티스트 관계자인 조엘 모스코위츠 미국 버클리 캘리포니아대 가정사회건강연구소 소장은 무선 이어폰의 건강 유해성에 대한 보도를 부정했다 고재원   1212 18일 오전 전세계 과학자들이 애플 에어팟과 같은 무선 이어폰이 암 발생 위험을 키울 수 있다는 호소문을 국제연합 과 세계보건기구 에 제출했다는 일부 국내외 언론의 보도가 나오면서 불안감이 확산되고 있다 하지만 실제 이 단체와 호소문에 이름을 올린 과학자들에게 확인한 결과 호소문은 4년전 제출됐던 것이며 또 특정 제품이나 제조사를 언급하지 않은 것으로 확인됐다 18일 데일리메일과   등 국내외 일부 언론에 따르면 전 세계 과학자 247명이 무선 이어폰의 비이온화 전자기장 이 암을 유발할 위험 우려가 있다며 과 에 호소문을 제출했다고 전했다 이들 매체들은 호소문에 애플 에어팟이 에 관한 법적 기준치를 준수하고 있지만 장시간 노출될 경우 건강에 좋지 않을 수 있다 는 내용이 포함됐다고 보도했다 이들 매체들은 이 호소문에는 전 세계 42개국 과학자 247명이 서명을 했다고 전했다 여기에는 한국의 연세대 한양대 가톨릭대 단국대 중앙대 경북대 한림대 소속 과학자 15명의 이름도 포함됐다 하지만 취재 결과 호소문 작성을 주도한 비영리단체 이엠에프사이언티스트 는 애플 에어팟과 같은 무선 이어폰에 대한 유해성을 주장하지 않은 것으로 확인됐다 동아사이언스가 이엠에프사이언티스트에 직접 이메일로 확인한 결과 일부 언론 보도가 호소문에 대한 부정확한 내용을 담고 있다 며 무선 블루투스의 자기장에 머리가 장시간 노출될 시의 안정성에 대한 연구는 존재하지 않는다 고 밝혔다 이엠에프사이언티스트에 따르면 이 단체는 지난 2015년 5월 실제로 전세계 과학자 190명의 서명을 받아 과 유엔환경계획 에 국제 과학자 호소문 을 제출하기는 했다 당시 호소문에는 전세계 저명한 학술지에 게재된 2000개가 넘는 연구들을 근거로 비전리 전자기장 노출로부터 보호와 방지가 필요하다는 내용을 담았다 이 단체는 지속적으로 해당 내용에 동의하는 과학자들의 서명을 받아 현재는 42개국 247명으로 늘어났다 실제 한국인 과학자들 15명도 이 호소문에 서명한 것으로 확인됐다 이엠에프사이언티스 관계자인 조엘 모스코위츠 미국 버클리 캘리포니아대 가정사회건강연구소 소장은 이메일 인터뷰에서 호소문에 서명한 과학자들은 저명한 학술지에 전자기장과 생물학 건강과 관련된 연구를 발표한 분들 이라며 하지만 호소문은 이번에 새로 제출된 내용이 아닌 2015년 5월 제출됐으며 특정 제품이나 제조사를 언급하고 있지 않다 고 말했다 이 호소문에 서명했다고 알려진 송기원 연세대 생화학과 교수는 명단이 올라간 것도 잘 몰랐다 며 최근 몇 년 동안 해당 주제에 관여하지 않았고 당시도 다른 교수가 서명하라 해 서명했다 고 말했다 또 다른 서명자인 한 지방국립대 교수는 대략 2년전 서명했던 기억이 난다 고 말했다 전자기장 자체 유해성 여부는 아직까지 논란이 있다 는 지난 30년간 2만5000개가 넘는 관련 연구들이 존재하지만 낮은 전자기장의 건강 유해성을 확인하지 못했다고 결론내렸다 이덕환 서강대 화학과 교수는 통신용 마이크로파가 인체에 영향을 미치는지 여부는 이미 여러 연구를 통해 문제가 없다고 확실히 검증됐다 며 이미 우리 주변에 수많은 통신용 마이크로파가 지나다니고 있는데 전화나 무선이어폰을 가까이 가져간다고 새삼 더 문제가 된다는 발상도 황당하다 고 밝혔다 고재원   1212 \n순위:2 / 문서:C:/Users/brsta/ICT_AI_AdvanceClass_NLP/0314_DownloadedNewstxts//IT과학-0004111168.txt / 유사도:0.1536476742537881\n   document:   애플 무선 이어폰 에어팟2 전격 공개기대했던 블랙 색상 추가되지 않아방수 무선급속충전 노이즈캔슬링도 없어24만9000원으로 1세대보다 3만원 이진욱   애플 에어팟2 애플이 무선 이어폰 에어팟2 를 전격 공개한 가운데 혁신없는 가격인상 이라는 지적이 나오고 있다 에어팟 2세대가 기대 이하의 평가를 받으면서 애플 충성 고객들조차 이탈할 조짐을 보이고 있다 애플은 20일 현지시간 1칩을 탑재한 에어팟 2세대를 공개했다 새 에어팟의 가장 큰 변화는 무선충전과 음성인식 기능을 탑재했다는 점이다 에어팟2는 무선충전 케이스를 선택해 구매 가능하며 음성으로 시리 를 불러 작동할 수 있다 이외에 변화는 배터리 지속 시간이 늘어난 정도다 배터리 완충시 음악 재생은 최대 5시간 통화는 최대 3시간까지 가능하다는 게 애플의 설명이다 그러나 에어팟2에는 정작 소비자들이 기대했던 기능들은 쏙 빠졌다 검정 색상을 적용하지 않은게 대표적이다 그간 에어팟2에 검정색을 추가해야 한다는 요구가 적지 않았다 선택지가 오로지 흰색 뿐이어서 소비자 기호를 고려하지 않는다는 시각도 있었다 하지만 애플은 여전히 흰색만을 고수했다 디자인도 같다 에어팟2는 무선 급속충전 기능도 추가되지 않아 빨라진 충전 속도도 경험할 수 없게 됐다 여기에 방수 기능 노이즈 캔슬링 등의 기능도 없다 또 심박수 체온 등 건강 체크 센서가 추가될 것이란 기대도 빗나갔다 가격은 올랐다 에어팟2 무선 충전 케이스 모델 가격은 24만9000원으로 에어팟 1세대 21만 9000원 보다 3만원 비싸졌다 다만 유선충전 모델은 19만9000원으로 책정되면서 1세대보다 2만원 더 낮아졌다 하지만 에어팟 1세대 사용자들이 무선충전 기능을 사용하려면 9만9000원짜리 케이스를 따로 구매해야 된다 이 때문에 애플의 상술이 지나치다는 불만도 제기된다 에어팟2가 공개되자마자 온라인을 중심으로 실망의 목소리가 커지고 있다 애플 제품만을 사용해온 한 충성고객은 결국 변한 건 배터리 지속 시간과 음성명령 뿐인데 가격은 올랐다 더 이상 애플에 혁신을 기대하지 않는다 며 이참에 더 싸고 기능이 좋은 갤럭시버즈나 명품 유선이어폰으로 갈아탈 생각 이라고 말했다 또 다른 사용자는 지금 에어팟 1세대를 사용중인데 무선충전 기능을 쓰려면 10만원에 달하는 돈을 내고 케이스를 사야한다 며 애플은 갈수록 수익에만 집착하고 있다 생각해보면 늘 그랬다 고 전했다 새 에어팟은 미국 등 1차 출시국에서는 다음 주부터 판매되며 국내 출시 일정은 아직 정해지지 않았다 이진욱       및                       및   금지 \n순위:3 / 문서:C:/Users/brsta/ICT_AI_AdvanceClass_NLP/0314_DownloadedNewstxts//IT과학-0010681725.txt / 유사도:0.10604152388428027\n   document:   샤오미가 삼성전자와 화웨이에 이어 폴더블폰을 곧 출시할 전망입니다 미국 정보기술 매체인 아레나 등은 샤오미가 올해 2분기 미 폴드 혹은 미 플렉스 라는 이름으로 폴더블폰을 내놓을 것으로 예상했습니다 샤오미 폴더블폰은 안으로 접는 삼성전자 갤럭시 폴드 바깥으로 한 번 접는 화웨이 메이트 와 달리 양쪽 끝을 바깥으로 접는 더블 폴딩 방식으로 비전옥스 의 패널을 탑재했을 것으로 예상됩니다 가격은 삼성전자 갤럭시 폴드 1천980달러 약 224만 원 화웨이 메이트 2천299유로 약 295만 원 의 약 절반인 미국 999달러 약 113만 원 유럽 999유로 약 128만 원 가 될 것으로 매체는 내다봤습니다 삼성전자 갤럭시 폴드는 다음 달 26일 글로벌 출시되고 화웨이 메이트 는 올해 중순 선보일 예정인 가운데 구글과 애플도 폴더블폰 관련 특허를 출원했다고 외신은 전했습니다 삼성전자는 손목에 시계처럼 찰 수 있는 형태의 스마트폰 특허를 냈으며 안으로 접는 인폴딩 방식 외 아웃폴딩 방식과 수직으로 접는 방식도 개발 중인 것으로 알려졌습니다 사진 출처 연합뉴스 홍화경   만세 지도 우리 동네 3 1운동 현장은 네이버 채널 뉴스 구독 시원하게 털어드립니다 보다 ㄹㅇ 당신의 진짜 뉴스 케이야 \n순위:4 / 문서:C:/Users/brsta/ICT_AI_AdvanceClass_NLP/0314_DownloadedNewstxts//IT과학-0003521272.txt / 유사도:0.09657694169495196\n   document:   애플 에어팟2세대 내놓으며 시장 점유율 1위 유지 전략삼성 갤럭시 버즈 출시로 추격 중구글 아마존 등 시장 경쟁 치열 서울경제 무선이어폰 시장이 급격하게 성장하는 가운데 애플 에어팟과 삼성전자 005930 갤럭시 버즈의 점유율 싸움이 본격화되고 있다 이미 무선이어폰 시장에서 1위에 오른 에어팟의 뒤를 최근 출시된 갤럭시 버즈가 뒤쫓는 모습이다 시장조사업체 카운터포인트리서치에 따르면 전세계 무선이어폰 시장 규모는 오는 2021년까지 270억 달러 약 30조 6 000억원 에 이를 것으로 전망된다 지난해 전세계에서 무선이어폰은 약 4 600만대가 판매됐으며 오는 2020년 3배 규모인 1억 2 900만대까지 확대될 것으로 보인다 이에 따라 시장 경쟁도 점차 치열해지고 있다 에어팟을 내놓으며 무선이어폰 시장을 연 애플은 오는 25일 현지시간 미국에서 에어팟 2세대를 공개할 전망이다 에어팟 2세대는 방수 기능과 무선충전 기능이 제공되고 인공지능 서비스인 시리가 연동될 것으로 예상된다 에어팟은 지난해 약 3 500만대가 판매되며 무선 이어폰 시장을 이끌었다 카운터포인트리서치는 올해도 애플의 무선이어폰 제품이 약 6 000만대 이상 판매될 것으로 전망하고 있다 삼성전자도 갤럭시 10 시리즈와 함께 무선이어폰 갤럭시 버즈 를 내놓으며 인기를 끌고 있다 이윤정 카운터포인트 애널리스트는 갤럭시 버즈가 무선 배터리 방수 색상 옵션 등으로 시장에서 긍정적인 반응을 이끌고 있다 라며 스마트폰 점유율 1위 브랜드 인지도와 제품 생태계 전략을 통해 무선 이어폰 시장에서 영향력을 확대해 나갈 수 있을 것 이라고 밝혔다 이밖에 구글과 아마존도 올해 무선이어폰 출시를 앞두고 있어 앞으로 더 많은 제품이 1위 자리를 두고 경쟁을 벌일 것으로 보인다 권경원  서울경제   텔레그램으로 서울경제 구독하기 투자의 프리미엄 길라잡이 네이버 메인에서 1 뉴스 서울경제를 만나보세요저작권자 서울경제 무단 전재 및   금지 \n순위:5 / 문서:C:/Users/brsta/ICT_AI_AdvanceClass_NLP/0314_DownloadedNewstxts//IT과학-0000391589.txt / 유사도:0.09183933727066207\n   document:   사진 로이터애플이 곧 에어파워를 출시할 것이라는 외신보도가 나왔다 20일 현지시간 월스트리트저널 과 폰아레나 등은 애플이 곧 무선충전 패드 에어파워를 출시할 예정이라고 보도했다 에어파워는 애플의 무선충전 패드로 아이폰 애플워치 에어팟 등을 한번에 충전할 수 있는 장치로 가격은 149달러 수준이 될 것이라는 설명도 함께 했다 외신은 애플이 20일 에어팟2에 무선충전 기능을 탑재하면서 에어파워의 출시가 임박했음을 알렸다 며 에어파워의 등장까지 오랜시간이 걸리지 않을 것 이라고 밝혔다 에어파워와 관련된 소문은 지난 1월부터 제기됐다 일부 중화권 매체는 에어팟 제조업체 럭스쉐어정밀과 페가트론이 에어파워 대량생산에 착수했다고 보도했다 일각에서는 애플이 최근 공개한 12 2 베타6버전에서 에어파워와 관련된 중요한 코드가 포착됐다 고 주장했다 박흥순     박학다식   저작권자   머니   및   금지 \n순위:6 / 문서:C:/Users/brsta/ICT_AI_AdvanceClass_NLP/0314_DownloadedNewstxts//경제-0004109484.txt / 유사도:0.05850637075888711\n   document:   추락하는 금융허브 경쟁력 국제금융센터지수 조사세계는 금융산업 육성 뛰는데 한국만 뒷걸음 공기업 지방이전 포퓰리즘 정책에 경쟁력 하락 강경민   서울의 국제금융허브 경쟁력 순위가 4년6개월 만에 세계 6위에서 36위로 추락했다 사진은 18일 서울 여의도 금융가 모습 신경훈   서울의 국제금융허브 경쟁력 순위가 4년6개월 만에 세계 주요 도시 중 6위에서 36위로 추락했다 아시아에서도 중국과 일본 주요 도시에 뒤져 10위권 밖으로 밀려났다 세계 각국이 금융산업 육성을 위해 뛰고 있지만 한국은 금융공기업 지방 이전이나 각종 포퓰리즘 정책 등 정치논리가 금융산업을 짓누르면서 경쟁력이 뒷걸음질치고 있는 것으로 분석됐다 영국 컨설팅그룹 지옌이 18일 공개한 국제금융센터지수 조사결과에 따르면 서울은 세계 112개 도시 중 36위를 차지했다 는 세계 금융산업 종사자를 대상으로 하는 온라인 설문조사와 세계은행 과 세계경제포럼 등 외부 기관이 평가하는 비즈니스 환경 인적 자원 인프라 금융산업 발전 일반 경쟁력 등 5개 분야의 지수를 종합해 산출한다 2007년 이후 매년 3월과 9월 두 차례 발표되는 는 세계 주요 도시의 금융허브 경쟁력을 측정하는 대표적인 지수로 꼽힌다 이번 조사에서 서울은 지난해 9월 조사 33위 보다 3계단 하락했다 조사가 시행된 이후 가장 높은 순위를 기록했던 2015년 9월 6위 과 비교해서는 30계단 떨어졌다 10년 전인 2009년 9월 35위 과 비슷한 수준이다 아시아 도시 중에서도 서울은 11위에 그쳤다 아시아 톱10 도시로는 홍콩 싱가포르 대만 타이베이를 비롯해 중국이 5곳 상하이 베이징 선전 광저우 칭다오 일본은 2곳 도쿄 오사카 이 포함됐다 서울과 함께 금융중심지 금융허브 로 지정된 부산은 46위로 작년 9월 44위 보다 두 계단 하락했다 최고 순위를 기록했던 2015년 3월 24위 과 비교해 22계단 떨어졌다 금융허브 쪼개기 로 서울만 경쟁력 뚝뚝 10위권 밖으로 밀려서울의 국제금융센터지수 순위가 2015년 9월 6위에서 올해 36위로 4년여 만에 30계단이 떨어진 것은 정부가 금융허브를 서울과 부산에서 동시 추진한 결과로 금융계는 분석하고 있다 금융인프라 집적을 통한 글로벌 금융회사 유치 대신 지방 균형발전을 명분으로 내세우면서 금융경쟁력이 약화됐다는 얘기다 이런 와중에 정치권에선 국책은행의 추가 지방 이전을 추진하고 있다 여기에 제3 금융허브 지정을 요구하는 목소리까지 나오고 있어 한국에선 금융허브가 요원하다는 지적이 나온다 서울은 아시아서도 10위권 밖영국 컨설팅그룹 지옌이 2015년 9월 공개한 금융허브경쟁력 순위에서 서울은 역대 최고치인 6위를 차지했다 당시 서울을 앞선 도시는 런던 뉴욕 홍콩 싱가포르 도쿄 등 5곳이 유일했다 당시 서울은 비즈니스 환경 인적 자원 인프라 금융산업 발전 일반 경쟁력 등 5개 분야 평가 중 인프라 항목에서 가장 높은 점수를 받았다 지옌이 18일 공개한 금융허브경쟁력 순위에서 세계 다른 주요 도시는 그대로 최상단을 유지했다 순위가 단기간 추락한 것은 서울이 유일하다 같은 기간 상하이는 21위에서 5위로 급상승했다 서울은 이번 조사에서 아시아 주요 도시 중 11위에 그쳤다 지옌은 서울의 금융허브경쟁력 순위가 급락한 이유에 대해선 언급하지 않았다 통상 10위까지만 코멘트를 내놓기 때문이다 전문가들은 서울과 부산으로 분산된 금융중심지 금융허브 전략이 이 같은 결과를 낳았다고 보고 있다 금융연구원장을 지낸 윤창현 서울시립대 경영학부 교수는 금융경쟁력을 강화하려면 집적된 인프라를 통해 글로벌 금융회사를 유치하는 전략이 필요하다 며 그러나 정부는 지금까지 금융허브를 금융경쟁력 강화가 아닌 균형발전으로 간주해 추진해왔다 고 지적했다 실제로 주택금융공사와 예탁결제원 캠코는 2014년 12월 부산으로 이전했고 국민연금공단도 이듬해 6월 전북혁신도시 전주시 완주군 로 이전했다 약 640조원의 자금을 굴리는 국민연금공단 기금운용본부는 이전 후 전체 인력의 20 가량이 퇴사하는 등 전문인력 유출도 심각한 상황이다 서울의 금융허브경쟁력 순위가 본격적으로 하락한 시점이 금융공공기관의 지방 이전이 본격화된 2015년부터라는 점도 이런 분석에 설득력을 더한다 전주도 제3금융허브 지정되나일부 금융공기업이 이전한 부산도 순위가 떨어진 건 마찬가지다 이번 조사에서 부산은 46위로 최고 순위를 기록했던 2015년 3월 24위 과 비교해 22계단 떨어졌다 상황이 이런데도 정치권에선 제3 금융허브 지정이 논의되고 있다 전북 전주시와 완주군 일대에 2016년 말 조성이 마무리된 전북혁신도시를 서울과 부산에 이은 제3의 금융도시로 육성하겠다는 문재인 대통령의 후보 시절 공약을 이행하기 위해서다 제3 금융허브 지정을 놓고 전북과 부산의 정치권 및 지역사회는 첨예한 갈등을 빚고 있다 전라북도는 문 대통령의 공약을 이행해야 한다고 요구하는 반면 부산시는 국책은행의 추가 이전을 통해 부산 문현금융단지의 경쟁력을 더욱 강화해야 한다고 맞서고 있다 정치권에서도 내년 4월 총선을 앞두고 산업은행과 수출입은행 및 기업은행 등 3대 국책은행의 지방 이전을 요구하는 법안 발의가 잇따르고 있다 해당 국책은행들은 거세게 반발하고 있다 산은 노조도 성명서를 통해 산은과 같은 핵심 금융 공공기관마저 지방 각지로 흩뿌리자는 것은 금융정책을 포기하고 금융산업을 버리자는 것 이라고 비판했다 은성수 수은 행장도 올초  간담회에서 외교부와 비슷한 역할을 맡고 있는 수은의 특수성을 감안할 때 서울에 있는 것이 유리하다 고 강조했다 윤 교수는 세계적 금융도시인 뉴욕과 런던 홍콩 등에 비춰볼 때 금융허브는 금융인프라가 집적된 곳을 중심으로 둬야 금융경쟁력이 강화될 수 있다 고 강조했다 강경민   1026                     및   금지 \n순위:7 / 문서:C:/Users/brsta/ICT_AI_AdvanceClass_NLP/0314_DownloadedNewstxts//사회-0010696591.txt / 유사도:0.05501747787739934\n   document:   경찰수사 무마 대가 금품 받은 혐의 오늘 구속 여부 결정 연합뉴스 제공 서울 연합뉴스 황재하   서울 강남 유명 클럽 버닝썬 과 경찰 사이 유착 고리로 지목된 전직 경찰관의 구속 여부가 15일 결정된다 전직 경찰관 강모씨는 이날 오전 10시께 구속 전 피의자심문 영장실질심사 이 열리는 서울중앙지법에 도착했다 강씨는 영장 심사를 30분가량 앞두고 출석했으며 취재진과 별도의 접촉 없이 법정을 향했다 구속영장 심사는 송경호 영장전담 부장판사 심리로 열릴 예정이며 구속 여부는 이날 오후나 늦어도 15일 새벽 결정될 것으로 보인다 경찰 등에 따르면 강씨는 지난해 버닝썬에 미성년자가 출입한 사건을 무마해주는 명목으로 이 클럽 측으로부터 금품을 받은 혐의 특정범죄가중처벌법상 알선수재 로 구속영장이 청구됐다 전직 서울 강남경찰서 경찰관이자 모 화장품 회사의 임원인 강씨는 클럽과 경찰 유착의 연결고리 역할을 했다는 의혹을 받는다 이 화장품 회사는 지난해 7월 말 버닝썬에서 홍보회사를 열었는데 행사를 앞두고 버닝썬에 미성년자 손님이 출입해 고액의 술을 마셨다는 신고가 경찰에 접수되자 강씨가 나서 사건을 무마했다는 것이 의혹의 내용이다 당시 강남경찰서는 미성년자 출입 사건을 증거 부족으로 수사 종결하고 불기소 의견으로 송치한 바 있다 이와 관련해 버닝썬의 이모 공동대표는 경찰 조사에서 강씨에게 2천만 원을 건넨 사실을 인정한 것으로 전해졌다 네이버 홈에서 연합뉴스   뭐 하고 놀까 흥 쇼미더뉴스 오늘 많이 본 뉴스영상 \n순위:8 / 문서:C:/Users/brsta/ICT_AI_AdvanceClass_NLP/0314_DownloadedNewstxts//IT과학-0002158229.txt / 유사도:0.05455943666388603\n   document:   삼성 다른 나라 기업도 연구 중지만 한국이 앞선 상황 지디넷코리아 김승민   플렉시블 유연한 유기발광다이오드 디스플레이의 핵심은 봉지 유기 소자를 불순물로부터 보호하는 공정 기술이다 봉지 기술력은 삼성디스플레이와 디스플레이가 세계 최고 수준이다 권정현 삼성디스플레이 책임연구원은 18일 서울 양재구 소재 센터에서 열린 2019년 미래형 디스플레이 구현을 위한 신소재 신기술 개발 및 고기능 필름 활용 기술 세미나 에서 이 같이 말했다 봉지 기술은 유기발광다이오드 디스플레이의 유기 소자를 대기 중 산소 수분으로부터 보호하는 기술이다 전류가 흐르면 자체 발광하는 유기 소자는 산소 수분과 만나면 산화막 수소 기포가 발생해 빛을 내지 못한다 디스플레이에 어두운 부분 암전 이 발생하는 원인이기도 하다 권정현 삼성디스플레이 책임연구원이 18일 열린 미래형 디스플레이 신소재 신기술 세미나에서 봉지막 기술에 대해 설명하고 있다 사진 지디넷코리아 전통적인 리지드 딱딱한 디스플레이는 딱딱한 유리 소재의 봉지 기술을 활용해왔다 그러나 플렉시블 디스플레이 시장이 점차 확대되고 봉지 소재도 유연성이 중요해지면서 굽힐 수 있는 얇은 필름 형태의 봉지막 기술이 부상하고 있다 문제는 외부 충격으로부터 유기 소자를 안전하게 보호하면서 접혔다가 다시 펴졌을 때 금 이 발생하지 않는 탄탄하면서도 유연한 봉지막을 개발하는 것이 쉽지 않다는 점이다 삼성디스플레이와 디스플레이는 각각 폴더블 패널 롤러블 패널을 공개하면서 세계 최고 수준의 봉지막 기술력을 증명했다고 권 책임연구원은 설명했다 삼성디스플레이의 폴더블 패널이 들어간 삼성전자의 폴더블 스마트폰 갤럭시 폴드 는 오는 4월 출시도 앞두고 있다 권 책임연구원은 폴더블 스마트폰이 출시될 정도로 삼성디스플레이의 봉지막 기술력은 확보됐으며 세계 최고 수준이다 중국 등 다른 나라 기업들도 봉지막 기술을 연구하고 있지만 한국이 앞선 상황 이라고 말했다 봉지막 기술은 스트레쳐블 웨어러블 전자기기 디스플레이로 이어지는 핵심 기반 기술이기도 하다 세계 관련 기업 학계는 잡아 늘리는 힘이나 심지어 세탁 드라이클리닝 등 충격에도 버틸 수 있는 봉지막 기술을 선점하기 위해 집중 연구 중이다 삼성디스플레이 역시 봉지막을 이루는 소재 종류와 소재별 두께 소재 적층 방법 적층 공정의 온도 등 여러 변수에 고려하며 봉지막 기술을 연구 개발 중이다 권 책임연구원은 산소 수분 외의 유기 소자 수명에 영향을 끼치는 자외선 과 열도 차단하는 필터도 개발 중이라고 밝혔다 권 책임연구원은 광학적 기능도 포함한 봉지막을 연구하다 필터를 개발했다 필터는 특정 파장대 빛을 반사할 수 있다 며 실험해본 결과 기존 봉지막보다 필터를 포함한 봉지막이 우수한 유기 소자의 산화 방지 특성을 보였다 물에 담가도 여전히 우수한 산화 방지 특성이 확인했다 고 강조했다 이어 업계에서는 차세대 봉지막 기술을 확보하기 위해 소재 연구도 활발하게 진행 중 이라며 유기 소자가 예민한 만큼 기술 개발 과정에서 제약이 많지만 봉지막 기술 고도화에 성공해야 차세대 플렉시블 디스플레이 기술도 확보할 수 있다 고 덧붙였다 김승민   지디넷코리아 홈페이지 지디넷코리아 이슈진단   지디넷코리아 를   \n순위:9 / 문서:C:/Users/brsta/ICT_AI_AdvanceClass_NLP/0314_DownloadedNewstxts//생활문화-0000749396.txt / 유사도:0.053689481501878356\n   document:   불과 몇 년 전 만해도 오십견은 말 뜻 그대로 50세 이상의 중 장년층 들에게서 주로 발생하는 질환이었다 하지만 요즘은 삼십견 사십견 이라는 신조어까지 생길 정도로 장시간 컴퓨터 및 스마트폰 사용 무리한 운동 스포츠 활동의 증가 등 생활 패턴의 변화로 30 40 대에서도 안심할 수 없는 질환이 되었다 주로 50세 전후에 나타나는 증상이라 하여 쉽게 말해 오십견 이라고도 명하지만 정확한 의학적 명칭은 유착성 관절낭염 또는 동결견 이라고 하며 어깨 관절을 감싸고 있는 관절낭에 유착이 발생하는 질환이다 오십견 초기에는 통증이 심하지 않아 방치하는 경우가 많은데 점차 통증이 심해지면 어깨 관절의 움직임에 제한이 발생하여 옷을 입거나 머리감기가 매우 불편하며 밤에 통증이 심해 잠을 자기 힘들 지경까지 이르게 된다 오십견은 주로 단계적 치료를 통해 완치가 가능한 질환으로 처음부터 수술을 진행하지 않는다 오십견은 수압팽창술 과 브리즈망 비관헐적 관절 수동술 을 통해 통증 없이 어깨를 바로 움직일 수 있다 수압팽창술은 섬유화가 진행되어 쪼그라든 관절주머니 안에 초음파를 이용하여 주사로 염증제거 약물을 투여함으로써 염증을 가라앉히고 생리식염수를 주입하여 관절주머니를팽창시킨 후 유착된 부분을 풀어주는 방법이다 환자의 상태에 따라 유착이 심한 경우에는 2 3 차례 점진적으로 시행할 수도 있다 브리즈망 관절수동술은 어깨로 가는 신경을 부분 마취한 후 숙련된 의사가 유착된 어깨관절에 염증치료제와 유착방지제를 주입해 굳어진 어깨관절과 근육을 체계적으로 풀어줘서움직임이 제한되었던 범위를 회복시켜주는 시술로 오랫동안 통증에 시달렸던 만성통증환자들에게 좋은 효과를 기대할 수 있는 시술이다 신경을 부분마취하기 때문에 시술시 통증은 거의 없으며 시술자체는 10분 내외로 소요되어 입원치료없이 당일 시행 가능하기 때문에 바쁜 직장인들에게도 부담이 적은 것이 장점이다 하지만 시술 후에는 마취가된 상태가 어느 정도 유지되기 때문에 시술 당일은 안정을 취하는 것이 좋다 서울선정형외과 박광선 원장은 브리즈망 관절 수동술의 경우 시술 후 다음날 팔을 바로올리고 통증도 완화시켜주는 간단하고 획기적인 치료 방법이다 하지만 두꺼워진 관절낭과 주위의 인대가 완전히 분리하지 못해 다시 구축 즉 굳어지는 반동 현상 을 막기 위해서는 시술 후 체외충격파 및 도수치료를 병행하는 것이 효과적이다 라고 조언했다 박 원장은 또한 평소 오십견과 같은 증상이 나타났을 때 초기에 방치하여 만성이 될 때까지 참지 말고 가까운 정형외과에 내원하여 조기 진단 및 치료를 받는 것이 우선되어야 한다 더불어 평소 바른 자세 습관을 유지하고 틈틈이 적당한 스트레칭으로 어깨 운동을 꾸준히 하는 것이 중요하다 라고 덧붙였다 네이버 홈에서     생방송보기 대한민국 재테크 총집결 증권 주식상담 부동산   무단 전재 및   금지 \n순위:10 / 문서:C:/Users/brsta/ICT_AI_AdvanceClass_NLP/0314_DownloadedNewstxts//IT과학-0000023785.txt / 유사도:0.04484634889719905\n   document:   애플이 에어팟 2세대 를 3월20일 현지시간 발표했다 에어팟 2세대는 전작과 큰 변화 없이 내부 성능을 개선하는 데 초점을 맞춘 제품이다 에어팟 2세대는 외관상 변화가 거의 없다 콩나물 디자인을 그대로 유지했다 달라진 점은 애플이 새롭게 설계한 1 칩이다 1 칩은 헤드폰과 이어폰 전용으로 개발됐다 이전에는 애플워치에 적용된 1 칩을 사용했다 1 칩은 고효율 성능과 더욱 빨라진 연결 시간 더 긴 통화 시간 시리 음성 호출 기능을 제공한다 또 에어팟 2세대는 블루투스 5 0을 지원한다 애플 1 칩은 에어팟 1세대에 탑재된 1 칩보다 최대 1시간 더 긴 통화 시간을 제공한다 애플은 50 통화 시간이 개선됐다고 밝혔다 에어팟 2세대는 한 번 충전으로 5시간의 음악 재생 시간 최대 3시간의 통화 시간을 제공한다 기기 연결 시간은 2배 빨라졌다 이를 통해 아이폰이나 애플워치 아이패드 등에서 음악을 듣는 중에도 끊김 없이 기기 간 전환을 할 수 있다 에어팟 1세대에서는 기기를 전환할 때 체감할 수 있는 지연 시간이 발생했다 게임 지연도 최대 30 줄었다 음성으로 인공지능 비서 시리 를 호출할 수 있는 시리야 기능도 추가됐다 이전 에어팟에서는 몸체를 두드리는 방식으로 시리를 호출할 수 있었다 에어팟 2세대는 아이폰이나 아이패드에 적용된 것처럼 시리야 라고 말하면 바로 시리가 등장한다 노래를 바꾸거나 전화를 걸고 음량을 조절하고 경로 정보를 확인할 수 있다 또 일반 충전 케이스 외에 무선 충전 케이스가 추가됐다 무선 충전 케이스는 호환 충전기를 통해 선 없이 충전할 수 있다 케이스 전면에 있는 표시등을 통해 충전 상태를 알 수 있다 유선 충전도 가능하다 두 케이스 모두 24시간 이상 사용 시간을 제공한다 에어팟 2세대 기본 충전 케이스 모델은 19만9천원 무선 충전 케이스 모델은 24만9천원이다 무선 충전 케이스 단품을 9만9천원에 구매할 수도 있다 한국에는 올봄 출시될 예정이다 한편 에어팟 무선 충전 케이스와 함께 공개될 것으로 점쳐졌던 무선 충전 패드 에어파워 의 행방은 아직 묘연하다 에어파워는 아이폰이나 애플워치 에어팟 등 무선 충전을 지원하는 기기 여러 대를 동시에 충전할 수 있는 무선 충전 패드다 2017년 아이폰 행사에서 발표됐지만 현재 행방불명 상태다 블룸버그 에 따르면 에어파워는 기기 여러 대를 동시에 충전하는 데서 발생하는 기술적 난제 때문에 출시가 지연되고 있다 월스트리트저널 은 3월20일 현지시간 애플이 에어파워 생산을 승인했으며 곧 출시할 것으로 내다봤지만 더버지 는 애플이 에어파워를 발표할 순간을 놓쳤다 라고 이번에도 제품이 발표되지 않은 점에 대해 비판했다 에어팟 2세대는 앞서 발표된 아이패드 에어 미니 아이맥 에 이어 별도 행사 없이 조용히 모습을 드러냈다 애플은 3월25일 현지시간 진행될 미디어 행사에서 새로운 스트리밍 서비스와 애플 뉴스 구독 서비스 발표에 집중할 것으로 보인다 이기범   저작권자 주 블로터앤미디어 저작권자를 명기하고 내용을 변경하지 않으며 비상업적으로 이용하는 조건아래   가능합니다 \n순위:11 / 문서:C:/Users/brsta/ICT_AI_AdvanceClass_NLP/0314_DownloadedNewstxts//IT과학-0002892231.txt / 유사도:0.04054869224915358\n   document:   애플 전세계 과학자들이 애플 에어팟 등 무선 이어폰이 암 발생 위험을 키울 수 있다는 호소문을 유럽연합 과 세계보건기구 에 제출했다 전세계 40여개국 생물 건강 분야 과학자 250여명은 최근 무선장치에서 발생하는 비이온화 전자기장 가 암 유발 가능성이 있다 며 심각한 우려 를 표명했다 는 전기장치 등에서 발생하는 극저주파 전자기장 와 블루투스 와이파이 안테나 기지국 등에서 나오는 고주파 방사선 을 말한다 과학자들은 애플 에어팟 등 무선 이어폰이 두뇌에 어떤 영향을 미치는지 아직 연구결과가 없다 면서도 을 동물들에게 노출한 결과 생식적 신경적 유전적 손상이 나타난 것을 발견했다 고 설명했다 에어팟은 에 관한 법적 기준치를 준수하고 있다 하지만 과학자들은 가 기준치보다 낮아도 암을 유발할 가능성은 있으며 낮은 수준의 노출이 장시간 이뤄질 경우 건강에 좋지 않은 영향을 미칠 수도 있음을 고려해야 한다고 주장한다 특히 에어팟은 귓구멍 안에 깊게 들어가 두뇌가 노출 위험에 더욱 취약하다는 게 전문가들의 지적이다 제리 필립스 콜로라도 대학 교수는 외신 미디엄과의 인터뷰에서 에어팟은 외이도 안에 들어가 있어 상대적으로 높은 수준의 이 머릿 속 피부 조직에 가까이 노출된다는 점이 걱정스럽다 고 설명했다 이들은 기준을 강화하고 예방책을 마련해야 한다 며 또 가 이용자들에게 에 대한 교육을 충분히 하도록 지도해야 한다 고 주장했다 정은혜   1   홈페이지 페이스북   네이버   신문     무단 전재 및   금지 \n순위:12 / 문서:C:/Users/brsta/ICT_AI_AdvanceClass_NLP/0314_DownloadedNewstxts//IT과학-0003521238.txt / 유사도:0.0358803563943603\n   document:   버라이즌 모토로라 모토 3 예판 시작 최초 5 업그레이드폰 타이틀다음달 11일 5 서비스 시작과 함께 출시미국 이동통신사 버라이즌에서 사전예약판매가 시작된 모토로라 모토 3 사진제공 버라이즌 서울경제 삼성전자 005930 의 갤럭시 10 5 모델이 아직 출시를 확정 짓지 못한 사이 모토로라의 모토 3 가 세계 최초 5 스마트폰 자리를 차지할 수 있다는 전망이 나온다 모토 3의 출시가 예정된 다음달 11일 전까지 갤럭시 10 5 가 나오지 않으면 최초 5 폰 상용화는 미국에 뺏기게 된다 미국 이동통신사 버라이즌은 모토로라 모토 3 예약판매를 14일 현지시간 부터 진행하고 있다 모토 3는 롱텀에볼루션 폰이지만 번들 모토 모드 를 끼우면 5 폰이 된다 모토 모드엔 5 를 지원하는 퀄컴 스냅드래곤 50 모뎀 칩이 탑재됐다 이에 따라 버라이즌은 모토 3를 세계 최초 5 로 업그레이드 할 수 있는 스마트폰 이라는 명칭으로 판매 중이다 모토 3의 가격은 480달러 약 54만 5 000원 다 모토 3에 부착하는 모토 모드는 원래 349 99달러 약 39만 7 000원 지만 초기 5 가입자 유치를 위해 현재 50달러 약 5만 7 000원 에 판매되고 있다 버라이즌은 다음 달 11일 시카고와 미니애폴리스에서 5 이동통신 서비스를 시작하며 동시에 모토 3를 출시할 계획이다 이에 따라 당초 이달 말에서 다음달 중으로 5 상용화를 미룬 국내 업체들의 발걸음도 바빠질 수밖에 없을 것으로 보인다 업계에선 갤럭시 10 5 모델이 다음달 첫 째주에서 둘째주 초반쯤에 나올 것이라고 예상하지만 아직 확정되지 않은 상황이다 이동통신사들은 갤럭시 10 모델 구매자들이 5 모델 출시 후 쓰던 기종을 반납하고 5 폰을 받을 수 있는 프로모션을 진행 중이다 갤럭시 10 5 모델의 출고가는 150만원대로 예상된다 통신사 관계자는 아직 삼성전자에서 5 폰 출시를 확정하지 않은 것으로 안다 면서도 일정이 나오는대로 곧바로 서비스를 시작할 수 있도록 준비돼있다 고 말했다 권경원  서울경제   텔레그램으로 서울경제 구독하기 투자의 프리미엄 길라잡이 네이버 메인에서 1 뉴스 서울경제를 만나보세요저작권자 서울경제 무단 전재 및   금지 \n순위:13 / 문서:C:/Users/brsta/ICT_AI_AdvanceClass_NLP/0314_DownloadedNewstxts//IT과학-0002158101.txt / 유사도:0.034027817572157844\n   document:   몰입감 극대화 폴더블 초기 시장 작지만 삼성이 주도 지디넷코리아 김승민   삼성전자가 올 상반기 야심차게 내놓은 갤럭시 10의 강력한 무기 중 하나는 디스플레이다 인피니티 로 불리는 갤럭시 10 디스플레이는 오른쪽 상단의 카메라 구멍을 제외한 전면을 차지하고 있다 영상 장면마다 여러 지점의 밝기 색상을 달리해 직접 보는 것처럼 생생하게 표현하는 다이나믹 톤 매핑 기술도 적용됐다 삼성전자는 몰입감과 색 재현성을 극대화하기 위해 갤럭시 시리즈의 디스플레이를 지속 발전시켜왔다고 강조했다 갤럭시 10 디스플레이는 이 같은 노력의 집약체로 해상도와 밝기 색 정확도 면에서 한계수준까지 끌어올렸다고 자평했다 10여년 전부터 베젤 줄이고 해상도 끌어올려삼성전자가 올 상반기 내놓은 플래그십 갤럭시 10 시리즈 인피니티 디스플레이가 오른쪽 상단의 카메라 구멍을 제외한 화면 전면을 차지하고 있다 사진 씨넷 삼성전자의 모바일 디스플레이 강화 발자취는 10여 년 전부터 본격 시작됐다 삼성디스플레이 당시 삼성 가 2007년 밝기 색상 패널 얇기 측면에서 꿈의 디스플레이로 불렸던 능동형 유기발광다이오드 양산을 세계 최초로 성공한 후 삼성전자는 자사 모바일 기기에 를 탑재해왔다 는 전기를 가하면 각각의 유기물 소자가 자체 발광해 액정표시장치 처럼 광원장치가 필요 없다 덕분에 패널을 얇게 만들 수 있는데다 자체 발광으로 밝기나 보는 각도에 따라 명암비도 달라지지 않는다 첫 탑재 모델은 2008년 말 출시된 애니콜 오리진폰이다 2010년부터 출시된 갤럭시 시리즈에도 가 적용됐다 갤럭시 디스플레이는 상하좌우 베젤이 뚜꺼운 4 0인치였다 해상도는 15대 9 비율의 800 480 였다 2011년 나온 갤럭시 2는 크기가 약간 커지면서 디스플레이도 4 3인치로 늘었지만 해상도는 그대로였다 같은 해 나온 갤럭시노트는 5 3인치에 16대 10 비율 1280 800 해상도로 대화면폰 추세를 이끌었다 2013년에 출시된 갤럭시 4는 해상도를 1920 1080 로 끌어올렸다 베젤이 시원하게 밀리면서 베젤리스 라는 말이 나온 것은 갤럭시 8부터다 물리 홈 버튼이 빠지고 인피니티 디스플레이라는 표현도 등장했다 디스플레이는 5 8인치 해상도는 18 5대 9 2960 1440로 뛰었다 갤럭시 10는 6 1인치와 19대 9 비율 3040 1440 해상도를 갖추게 됐다 갤럭시 10 인피니티 사용자에 새로운 경험 갤럭시 10은 한정된 스마트폰 크기에서 몰입감을 극대화하기 위해 스마트폰 중 세계 최초로 인피티니 펀치 홀 디스플레이를 구현했다 지난해 말 삼성전자가 내놓은 갤럭시 8 와 화웨이의 노바4 아너뷰20 하이센스의 30 등이 먼저 카메라 렌즈 구멍만 남겨둔 펀치 홀 디스플레이를 도입했지만 모두 스마트폰이다 양병덕 삼성전자 무선사업부 상무는 소비자들에게 확실한 변화와 흥미로운 경험을 줄 수 있는 방법을 고민한 후 나온 결과가 인피니티 디스플레이 라며 카메라와 다양한 센서가 디스플레이 안으로 들어오면서 디자인과 몰입감이 좋아졌다 고 지난 14일 열린 갤럭시 10 디스플레이 기술 브리핑에서 말했다 이어 패널에 구멍을 뚫으면 유기물이 충격을 받는다 투습 현상도 발생할 수 있다 며 회사 내부에서도 안정적으로 인피니티 를 구현할 수 있을지 고민이 많았지만 갤럭시 10주년 제품인 만큼 도전해 성공했다 며 기술력을 강조했다 갤럭시 10 디스플레이는 다이나믹 톤 매핑 기술로 세계 최초 10 인증도 받았다 10 은 한 장면에서 10개 이상 지점에 서로 다른 명암비를 제공해 본래 밝기와 색상을 표현하는 기술이다 이밖에 눈의 피로를 불러오는 블루라이트를 갤럭시 9 대비 42 줄이는 기술도 갤럭시 10에 들어갔다 양 상무는 10 는 굉장히 밝거나 어두운 공간에서도 볼 수 있는 인간의 비전 눈 시스템에 착안해 개발했다 다이나믹 톤 매핑은 어두운 색상들도 더 세밀하게 구분해 표현한다 고 설명했다 삼성전자 갤럭시 10 인도 출시 행사 사진 삼성전자 스마트폰업계에서도 갤럭시 10 디스플레이가 시장에서 호평 받아 판매 호조에 기여할 것으로 보고 있다 증권은 이달 말 출시 예정인 갤럭시 10 5 대기 수요까지 고려해 갤럭시 10시리즈의 연간 판매량으로 3천700만 4천만대를 예상했다 전작 대비 20 30 증가한 수준이다 시장조사업체 카운터포인트리서치 역시 4천만대 이상 판매될 것으로 내다봤다 삼성전자가 최근 몇 년간 부진을 겪고 있는 중국에서 지난해 대비 성과를 낼 것이란 기대도 나온다 이창민 투자증권 연구원은 갤럭시 10는 기존 스마트폰과 크기는 비슷하지만 디스플레이 면적은 더 커졌다는 점에서 의의가 있다 며 다른 사양면에서도 경쟁제품보다 우위에 있으며 출고가도 합리적이라 시장에 호응을 얻을 수 있을 것 이라고 말했다 이어 중국은 물론 영국 미국에서도 사전예약이나 초기 판매 반응이 굉장히 좋다 국내는 물론 해외에서도 갤럭시 10 판매 전망을 긍정적으로 보고 있다 고 덧붙였다 미래 갤럭시 전면 100 화면으로 간다삼성전자의 향후 갤럭시 시리즈는 디스플레이가 전면부를 모두 덮는 방향으로 개발될 전망이다 사진 삼성전자 삼성전자의 향후 갤럭시 시리즈는 디스플레이가 전면부를 모두 덮는 방향으로 개발될 전망이다 사용자들이 최대한 걸리는 것 없이 콘텐츠를 즐기도록 모든 센서가 디스플레이 안으로 들어가는 것이다 삼성전자는 경쟁사의 크리스탈 사운드 올레드 처럼 화면 자체에서 소리가 나오는 기술이나 해상도 향상 등 다양한 디스플레이 발전 방향도 검토 중이다 단 신기술이 적용됐을 때 스마트폰 배터리나 디자인 무게 등 기존 장점들이 저하될 수 있어 기술의 최적화 시기를 고려해 제품에 도입한다는 입장이다 양 상무는 여러 센서들이 화면 안으로 들어가 밖에서는 보이지 않는 것이 삼성전자의 궁극적인 모바일 디스플레이 개발 방향 이라며 이 과정에서 홍채인식이 디스플레이 내장형 초음파 지문인식 등으로 바뀌는 등 식의 기능 대체도 일어날 수 있다 고 말했다 업계에서도 전면을 모두 채우는 방향으로 스마트폰 디스플레이가 발전할 것으로 보고 있다 단 카메라 렌즈를 어떤 방식으로 스마트폰에 탑재하느냐에 대한 고민이 상당한 필요한 만큼 실제 전면 디스플레이 100 스마트폰이 나오는 시기는 예상하기 어렵다는 시각이다 이 연구원은 삼성전자의 인피티니 나 애플의 노치 모두 전면 전체를 디스플레이로 덮기 위한 과정이다 모바일 제조사들은 카메라 렌즈도 디스플레이에서 최대한 노출시키지 않는 방안을 연구하고 있는 것으로 알고 있다 며 워낙 다양한 방안이 나올 수 있는 만큼 제조사들이 어느 정도 방향을 잡은 후에야 완제품 공개시기를 추정할 수 있을 것 이라고 분석했다 폴더블폰 시장 작지만 삼성 폴더블 패널은 호조삼성전자의 폴더블 스마트폰 갤럭시 폴드 사진 삼성전자 유튜브 영상 캡처 삼성전자가 올해 내놓은 또 다른 갤럭시폴드도 혁신적인 디스플레이로 주목받고 있다 업계는 폴더블 스마트폰시장이 아직 열리지 않은 만큼 향후 2 3년간 판매량은 낮게 보고 있다 마킷은 올해 폴더블 스마트폰 출하량을 150만대로 예상했다 그러나 갤럭시 폴더에 적용된 폴더블 디스플레이는 올해부터 다양한 스마트폰 제조사들에 공급될 것이란 시각이다 삼성 기술력이 집약된 폴더블 디스플레이가 폴더블폰 시장을 여는 셈이다 이충훈 유비리서치 대표는 삼성전자 외의 화웨이 샤오미 등 중국기업들도 폴더블폰을 준비하고 있지만 현재 폴더블 패널을 양산할 수 있는 곳은 삼성디스플레이뿐 이라며 등 중국업체도 연구개발 차원에서 샘플을 내놓긴 하지만 양산은 전혀 다른 문제다 스마트폰시장에서 네임밸류를 높이고 싶은 기업들은 제품 출시 후 신뢰성 등을 고려해 삼성의 폴더플 패널을 선택할 것 이라고 말했다 이어 중국 패널 제조사들이 삼성디스플레이 기술력을 따라오려면 최소 5년은 걸릴 것으로 예상한다 며 그동안 삼성의 폴더블 패널이 시장을 선도하고 있을 것 이라고 덧붙였다 김승민   지디넷코리아 홈페이지 지디넷코리아 이슈진단   지디넷코리아 를   \n순위:14 / 문서:C:/Users/brsta/ICT_AI_AdvanceClass_NLP/0314_DownloadedNewstxts//IT과학-0001510642.txt / 유사도:0.03402365310103503\n   document:   보다 10달러 비싼 5 요금제 보다 가격 데이터 5 모듈 장착 모토 3 로 상용화 완전한 5 폰 아냐 논란도 지난 2월 스페인 바르셀로나에서 열린 19에 전시된 모토로라 모토 3와 모토 모드 모토로라는 세계 최초 5 로 업그레이드 가능한 폰 임을 내세우고 있다 사진 정윤희   헤럴드경제 정윤희   미국 최대 이동통신사 버라이즌이 내달 11일 5 스마트폰 서비스를 상용화하겠다고 나서면서 우리나라에도 발등의 불이 떨어졌다 그동안 정부 이통사 삼성전자 등이 수차례 세계 최초 5 스마트폰 상용화 를 공언해왔으나 이를 장담할 수 없게 됐다 지난 13일 현지시간 버라이즌은 내달 11일부터 미국 시카고 미니애폴리스에서 5 스마트폰 서비스를 시작한다고 밝혔다 연내 미국 내 30개 도시로 서비스를 확장할 예정이다 단말기는 모토로라의 모토 3를 이용한다 모토 3는 로 출시된 폰이지만 별도로 5 모뎀이 장착된 모듈 5 모토 모드 를 장착하면 5 서비스를 쓸 수 있는 폰이다 5 스마트폰인 삼성전자 갤럭시 10 5 전자 50씽큐의 출시일이 확정되지 않은 상황에서 선택한 차선책이다 모토로라는 19 등에서 모토 3를 세계 최초 5 로 업그레이드 가능한 폰 으로 소개하며 전시키도 했다 버라이즌은 14일 현지시간 부터 모토 3와 모토 모드의 예약 판매에 들어갔다 버라이즌이 공개한 5 요금제는 와 데이터 제공량 등은 같지만 가격은 10달러 약 1만1300원 비싸다 버라이즌은 기존 에서 월 75달러 약 8만5200원 의 고 언리미티드 월 85달러 약 9만6500원 비욘드 언리미티드 월 95달러 약 10만8000원 에 75 를 제공하는 어보브 언리미티드 를 운영해왔다 5 에서는 이보다 10만원 비싼 월 85달러 95달러 105달러 약 12만원 의 요금제를 제공하는 것이다 이는 앞서 텔레콤이 과기정통부에 제출했다가 반려 당한 5 요금제 월 7만원대 데이터 150 이후 무제한 보다 가격은 비싸고 데이터 제공량은 반토막 수준이다 고 언리미티드 는 별도 제공량 없이 낮은 속도로 무제한 비욘드 언리미티드 는 22 제공 후 무제한 어보브 언리미티드 는 75 이후 무제한이다 버라이즌이 통신망과 요금제 단말기를 갖춤으로써 일단 상용화 의 요건은 충족하게 됐다 당초 버라이즌은 오는 5월 중 5 스마트폰 서비스를 상용화 할 것이란 예상이 있었으나 한 달 가량 일정을 앞당긴 것이다 이에 따라 우리나라가 야심차게 추진하던 세계 최초 5 스마트폰 상용화 일정도 불투명해졌다 당초 과학기술정보통신부와 텔레콤 유플러스 등 이통3사 삼성전자는 이달 말 코리아 5 데이 행사를 열고 갤럭시 10 5 출시와 함께 세계 최초 5 폰 상용화를 알릴 계획이었으나 내달로 연기했다 갤럭시 10 5 의 제품 안정화 작업이 길어진데 따른 것이다 삼성전자는 아직까지 명확한 출시 일정을 정하지 못한 상황이다 텔레콤 역시 과기정통부에 5 요금제 인가를 신청했으나 고가 구간만 존재한다는 이유로 반려당한 이후로 아직까지 새로운 요금제를 제출하지 못하고 있다 다만 버라이즌이 상용화에 들어가는 모토 3가 완전한 5 스마트폰이 아닌 만큼 논란의 소지는 있다 별도의 모듈을 끼워서 5 가 가능토록 하는 서비스는 이미 국내서도 태블릿을 통해 구현한 적이 있다는 설명이다 과기정통부 고위 관계자는 5 스마트폰이 나오는 만큼 별도 5 동글을 장착하는 모델은 의미가 없다 고 말했다     놓치지말자 단 하루 원데이 타임딜 헤럴드 리얼라이프 헤럴드경제 사이트   헤럴드경제 무단 전재 및   금지 \n순위:15 / 문서:C:/Users/brsta/ICT_AI_AdvanceClass_NLP/0314_DownloadedNewstxts//정치-0010710423.txt / 유사도:0.024755986411050094\n   document:   유아인을 섭외한 도올 김용옥 서울 연합뉴스 류효림   도올 김용옥 왼쪽 과 배우 유아인이 3일 오후 서울 영등포구 타임스퀘어에서 열린 도올아인 오방간다 제작발표회에서 취재진 질문에 답하고 있다 2019 1 3 서울 연합뉴스 이정현   도올 김용옥 한신대 석좌교수가 방송을 통해 이승만 전 대통령에 대해 묘지에서 파내야 한다 라는 등 거세게 비판해 논란이 일고 있다 앞서 김 교수는 지난 16일 1 도올아인 오방간다 에서 김일성과 이승만은 소련과 미국이 한반도를 분할 통치하기 위해 데려온 자기들의 일종의 퍼핏 괴뢰 라며 이 전 대통령을 당연히 국립묘지에서 파내야 한다 라고 말했다 그는 이어 소련이야말로 한국을 분할 점령할 생각이 전혀 없었다 미국이 분할 점령을 제시한 것에 대해서 소련은 될 수 있는 대로 빨리 독립시키는 것이 좋다는 생각이었다 전 국민이 일치단결해 신탁통치에 찬성했으면 분단도 없었을 것 등의 발언을 했다 이에 보수 진영을 중심으로 김 교수의 정제되지 않은 발언을 공영방송인 가 여과 없이 내보낸 게 문제라는 지적이 일었다 보수 성향 소수 노조인 공영노동조합은 21일 성명을 내고 김용옥 씨가 이미 특정 이념과 정파성에 경도된 인물이라고 치더라도 그의 발언을 여과 없이 그대로 내보낸 가 공영방송이 맞느냐 라며 심의규정이나 제작 가이드라인에 게이트키핑이 작동하는 것인가 라고 비판했다 그러면서 당장 김 씨를 퇴출하고 프로그램 내용에 대한 책임을 져야 한다 라고 요구했다 는 이에 대해 이날 공식입장을 내고 김 교수의 발언이 거칠었을 수는 있지만 반론도 충실히 다뤘다고 반박했다 아울러 는 김 교수가 이 전 대통령 뿐만 아니라 김일성 역시 괴뢰 라고 비판한 점을 감안해야 한다 라고 설명했다 그러면서 방청객 질문 과정에서 4 19혁명으로 퇴진한 고 이 전 대통령이 세금으로 운영되는 국립묘지에 안장된 것이 적절하냐는 이야기가 나오자 김 교수가 부적절하다고 답변하면서 나온 말 이라며 이어 또 다른 진행자인 유아인은 굳이 묘를 이장할 필요가 있느냐 역사적 사실로 교훈으로 삼는 게 좋지 않겠느냐 고 의견을 제시했다 고 덧붙였다 는 이어 도올아인 오방간다 는 강연과 방청객 질의 답변 토론 형식으로 역사적 사실에 대한 다양한 의견을 논의하고 시청자에게 평가를 맡기는 형식으로 진행한다 라며 표현이 거칠 수 있지만 이번 경우에도 다양한 의견을 제시하는 과정으로 유아인의 반론도 소개했으므로 문제가 되지 않는다 라고 강조했다 네이버 홈에서 연합뉴스   뭐 하고 놀까 흥 쇼미더뉴스 오늘 많이 본 뉴스영상 \n순위:16 / 문서:C:/Users/brsta/ICT_AI_AdvanceClass_NLP/0314_DownloadedNewstxts//세계-0002447304.txt / 유사도:0.022888165391617258\n   document:   18일 극동 유럽에서 동시 52 비행훈련극동에선 괌에서 이륙해 캄차카반도까지 유럽에선 영국 이륙해 발트해 거쳐 지중해로 조약 파기 앞 러 견제 신냉전 도래 우려 미국이 러시아 견제를 위해 극동과 유럽 양쪽 방향에서 핵무기를 탑재할 수 있는 전략폭격기 52를 출격시켰다 미국이 냉전 시기 미 소 핵무기 경쟁의 상징인 52를 띄워 러시아를 압박한 것은 8월 중거리핵전력조약 파기 이후 도래할 신냉전 을 예고하는 의미심장한 움직임으로 해석된다 미군 유럽사령부와 인도 태평양사령부는 18일 현지시각 과 20일 각각  를 내어 미국 공군의 52 스트래토포트리스 가 유럽사령부와 인도 태평양사령부의 책임 영역에서 미국의 동맹과 동반자들에 대한 미국의 방어 공약을 분명하고 가시적으로 보여주기 위한 동시 훈련 비행을 실시하고 있다 고 밝혔다 유럽사령부는 구체적 훈련 내용을 언급하지 않았지만 인도 태평양사령부는 괌의 앤더슨 공군기지와 영국 페어퍼드 공군기지에서 출격한 52 가 인도 태평양과 유럽에서 동시에 전구 적응 훈련을 실시했다 고 밝혔다 미국이 핵심 전략자산인 52를 극동과 유럽 양쪽에 동시에 전개한 것은 지난달 28일 2차 북 미 정상회담 합의 무산 이후 북한을 염두에 뒀다기보다는 러시아를 견제하기 위한 것으로 보인다 도널드 트럼프 대통령은 정상회담 직후 하노이에서 한  회견에서 괌에서 전략자산을 한반도로 보내는 것은 너무 비싸다 며 당분간 그런 훈련을 할 뜻이 없음을 분명히 했다 미국의 전략 폭격기인 52 스트래토포트리스 이름 그대로 하늘을 나는 요새 로 불린다 러시아 견제라는 의도를 명확히 보여주는 것은 52의 비행경로다 인도 태평양사령부는  에 52 폭격기들이 18일 한국시각 19일 앤더슨 공군기지를 이륙해 북쪽으로 날아 러시아 영토인 캄차카반도 영역을 비행한 뒤 기지로 돌아왔다 고 적었다 한반도에 접근하지 않고 일본열도를 서쪽으로 바라보며 러시아 영토에 접근한 것이다 미국은 이달 4일과 13일에도 괌에서 52를 띄웠지만 당시 표적은 남중국해를 군사기지화하는 중국이었다 유럽 쪽 비행경로는 더 눈길을 끈다 미국 공군 전문지 에어포스 타임스 는 18일 영국 남부 페어퍼드에서 이륙한 52 4대가 노르웨이해 발트해 에스토니아 지중해 그리스를 비행했다 고 밝혔다 52는 그리스 상공에서 공중급유기인 135를 통해 급유를 받았고 에스토니아에선 항공기에 최종적 공격 명령을 내리는 북대서양조약기구 의 합동최종공격통제관 과 함께 훈련을 진행했다 미군은 비행이 이뤄진 시점을 18일이라고 했지만 발트해에는 이틀 전에도 이 폭격기가 출몰한 것으로 보인다 러시아 국방부는 16일 미국의 52가 15일 러시아 영토를 따라 발트해의 공해 지역을 비행했다 러시아 영토에 150 안쪽으로 접근하진 않았다 고 밝혔다 러시아는 미국 전략폭격기가 발트해에 모습을 드러내는 것은 드문 일 이라며 경계감을 보였다 미 러 관계는 냉전 해체 이후 최악이란 평가가 나올 정도로 악화된 상태다 미국은 지난달 2일 러시아가 중거리핵전력조약 위반 사항을 기한 내에 시정하지 않았다며 6개월 뒤 조약에서 탈퇴하겠다 고 선언했다 그러자 러시아는 초음속 탄도미사일 아방가르드 핵탄두를 탑재할 수 있고 사정거리가 1만 나 되는 장거리 어뢰 포세이돈 등을 공개하며 맞불을 놨다 미 소는 1987년 중거리핵전력조약을 통해 사거리 500 5500 인 지상 발사형 중 단거리 탄도 순항 미사일의 생산 실험 배치를 전면 금지하기로 합의했다 이를 통해 서유럽은 소련의 탄도미사일 위협에서 벗어났고 이러한 화해 분위기 속에 냉전이 해체됐다 러시아 외무부는 조약 파기는 세계 여러 지역에서 군비 경쟁을 촉발할 것 이라고 경고하고 있다 길윤형   네이버 메인에서 한겨레 받아보기 한겨레 정기구독 영상 그 이상 영상 한겨레신문   및   금지 \n순위:17 / 문서:C:/Users/brsta/ICT_AI_AdvanceClass_NLP/0314_DownloadedNewstxts//IT과학-0004195077.txt / 유사도:0.01935883621425762\n   document:   오는 6월 클레이튼 출시에 맞춰 암호화폐 지갑 업데이트될 듯이용자 선택에 따라 노출되는 옵트인 방식도 고려블록체인 기반 서비스 대중화 촉매 기대 국내에서만 4400만여명이 사용하는 국민 메신저 카카오톡에 암호화폐 지갑 기능이 탑재된다 카카오톡 이용자들이 모두 암호화폐 지갑을 보유하게 되고 카카오톡 메시지를 보내는 것처럼 간단하게 암호화폐를 주고 받을 수 있게 되는 것이다 삼성전자의 최신 스마트폰 갤럭시 10에 암호화폐 지갑을 관리하는 블록체인 키스토어 가 탑재된데 이어 전 국민이 사용하는 모바일 메신저에도 암호화폐 지갑이 탑재됨에 따라 암호화폐를 활용한 블록체인 서비스가 빠르게 일상 생활에 확산될 수 있는 기반이 마련될 것으로 기대된다 카카오톡 오는 6월이면 암호화폐 지갑 된다 18일 관련업계에 따르면 카카오는 블록체인 계열사 그라운드 가 개발중인 블록체인 네트워크 클레이튼 상용 서비스 시작과 함께 카카오톡에 암호화폐 지갑을 탑재할 예정이다 클레이튼 상용 서비스는 오는 6월말 시작을 예고하고 있다 카카오가 모바일 메신저 카카오톡 에 암호화폐 지갑을 탑재하는 것을 검토중이다 클레이튼 과 협력해 블록체인기반서비스 디앱 를 개발중인 복수의 클레이튼 협력사 관계자들은 카카오톡이 암호화폐 지갑으로 활용된다 고 말했다 기존 카카오톡 이용자들이 소프트웨어 업그레이드만으로 암호화폐 지갑 기능을 이용할 수 있게 되는 것이다 탑재 방식은 옵트인 방식도 고려되고 있다 이용자 선택 여부에 따라서 암호화폐 지갑 기능이 활성화되는 방식이다 이미 카카오는 카카오톡의 게임별 서비스를 옵트인 방식으로 제공하고 있다 이용자가 카카오톡 설정을 통해 게임별 탭을 활성화시킬 수 있는데 암호화폐 지갑 역시 같은 방식이 검토되고 있는 것으로 보인다 카톡보내 듯 쉽게 암호화폐 전송 가능해진다 업계 한 관계자는 카카오도 클레이튼에서 사용될 암호화폐 클레이를 손쉽게 주고 받을 수 있는 암호화폐 지갑이 반드시 필요하다 며 이미 전 국민이 사용하는 카카오톡은 암호화폐 지갑으로 활용하기에 가장 적합한 서비스 라고 설명했다 카카오톡에 암호화폐 지갑이 탑재되면 친구에게 메시지를 보내는 것처럼 암호화폐를 쉽게 보낼 수 있게 된다 이미 카카오톡은 간편한 송금 기능도 제공하고 있다 카카오의 암호화폐 클레이는 물론 클레이와 연결된 다양한 암호화폐도 전송할 수 있을 것으로 보인다 다만 카카오 측은 카카오톡의 암호화폐 지갑 탑재 여부에 대해 직접 확인해주기 어렵다고 밝혔다 카카오 관계자는 블록체인 기술 발전을 위한 다양한 방안을 고민 중이나 아직 확정적으로 확인해줄 수 있는 것은 없다 고 말을 아꼈다 허준   세상의 모든 골 때리는 이야기 파스 속보이는   스타 저작권자   무단 전재   금지 \n순위:18 / 문서:C:/Users/brsta/ICT_AI_AdvanceClass_NLP/0314_DownloadedNewstxts//IT과학-0004108104.txt / 유사도:0.018992563363576017\n   document:   가상화폐 사용성 접근성 대폭 강화지문인식 통해 몇초만에 가상화폐 송금 완료복잡한 절차 없이 블록체인 서비스 연동 가능 김산하   갤럭시 10에 탑재된 가상화폐 암호화폐 지갑 의 상황은 좀 별나다 삼성전자는 별다른 마케팅을 하지 않았지만 국내외에서 관심이 무척 높다 각종 소셜네트워크서비스 에는 리뷰어들이 앞다퉈 갤럭시 10의 암호화폐 지갑 앱 응용프로그램 삼성 블록체인 월렛 의 사용기를 올린 모습을 볼 수 있다 사실 암호화폐 지갑 그 자체는 아주 새로운 프로그램이 아니다 굳이 갤럭시 10이 아니어도 구글 플레이스토어 애플 앱스토어 등을 통해 어느 스마트폰에서든 이용할 수 있다 그럼에도 갤럭시 10 암호화폐 지갑에 대한 시장의 반응은 남다르다 전세계 스마트폰 시장점유율 1위 스마트폰에 기본 탑재 됐기 때문이다 한 마디로 손 안에 암호화폐 지갑이 들어와 일상에서 누구든 마음먹으면 암호화폐를 친숙하게 접하고 사용해볼 수 있다는 얘기다 실제로는 어떨까 다른 암호화폐 지갑들과의 차별점은 있을까 갤럭시 10에 탑재된 삼성 블록체인 월렛을 직접 써봤다 상단 영상 참조 삼성 블록체인 월렛을 만드는 절차 비밀번호와 지문을 등록하고 무작위로 생성된 12개의 영어 단어를 기억하면 된다 사진 김산하   우선 삼성 블록체인 키스토어 앱에서 지갑부터 만들어야 한다 새 암호화폐 지갑을 만들 수도 있지만 이전에 사용하던 외부 암호화폐 지갑을 가져오는 것도 가능했다 지갑 만들기는 어렵지 않았다 비밀번호와 지문을 등록하면 무작위 추출된 12개의 영어 단어가 나온다 일종의 무작위 통장 비밀번호 다 해당 단어를 안전한 곳에 적어놓으면 지갑 생성 절차가 완료된다 평소 이 단어들을 일일이 입력할 필요는 없다 지문인식만으로 손쉽게 지갑을 이용할 수 있다 만약 휴대폰을 잃어버리거나 외부에서 지갑에 접속할 필요가 있는 경우엔 적어놓은 영어 단어를 사용하면 된다 해당 단어를 입력해 암호화폐 지갑을 되찾을 수 있다 기존 은행계좌 개설 본인확인 절차와 비교하면 허술해 보일 정도로 간단했다 뒤집어 생각하면 그만큼 암호화폐 지갑의 보안성이 높기 때문에 이같은 절차만으로 사용할 수 있는 것이다 복원 문구를 잃어버리지만 않으면 해킹 당하거나 외부인이 접속할 가능성이 없다는 뜻이다 키스토어 설정을 마치고 나면 암호화폐 지갑을 사용할 수 있었다 처음 열자마자 삼성이 만든 자체 앱답다 고 느꼈다 기본 탑재 앱인 만큼 그동안  가 써본 모든 암호화폐 관련 지갑 앱을 통틀어 가장 빠른 동작 속도를 보였다 메뉴 구성 사용자 인터페이스 경험 이 최적화돼 편하게 쓸 수 있었다 시험 삼아 암호화폐 이더리움을 주고받아 봤다 이더리움을 선택해 받기 버튼을 누르고 상대방에게 코드를 보여주는 것으로 모든 절차가 마무리됐다 상대방이 내 코드를 찍고 이더리움을 전송하자 금세 지갑에 3000원 상당의 이더리움이 입금됐다 송금도 간단했다 상대방의 암호화폐 지갑 주소나 코드를 입력하고 보낼 금액과 수수료를 선택한 뒤 지문인식 절차를 거치면 끝이다 몇 초 안에 이더리움이 상대방 계좌로 빠져나갔다 갤럭시 10에서는 지문 인식 기능으로 수 초 이내 암호화폐 송금이 가능했다 사진 김산하   삼성 블록체인 월렛은 기본적으로 이더리움 기반 암호화폐 18종을 제공하며 커스텀 토큰 추가 기능을 통해 다양한 암호화폐를 추가할 수 있다 다른 암호화폐나 플랫폼 코인 지원 여부에 대해 삼성 관계자는 이더리움 외에도 모든 가능성을 열어놓고 생각하고 있다 필요한 부분들은 계속 지원해나갈 예정 이라고 말했다 지문인식을 활용한 간편송금 기능보다 더 주목할 삼성 블록체인 월렛의 핵심 기능은 댑스토어 였다 분산형 앱 을 뜻하는 댑은 블록체인 네트워크 위에서 돌아가게끔 만든 앱이라 생각하면 된다 모든 활동이 블록체인 위에서 동작돼 개인정보 유출 권리 침해 등을 사전에 방지하고 암호화폐와 연동해 다양한 서비스들을 선보일 수 있다 삼성 블록체인 월렛에서 기본 제공하는 4종의 초기 댑은 블록체인 기반 뷰티콘텐츠를 제공하는 코스미 게임간 아이템 공유 거래를 목표로 하는 엔진 디지털 고양이 수집게임 크립토키티 암호화폐 결제서비스 코인덕 등이다 이들 댑은 갤럭시 10 암호화폐 지갑과 즉시 연동이 가능했다 기존 댑의 경우 별도로 지갑 주소를 넣고 인증절차를 거쳐야 했는데 이러한 과정이 생략됐다 삼성 블록체인 키스토어와 연결 버튼을 누르고 지문인식을 완료하는 것만으로 댑들과 곧바로 연동됐다 일반 사용자들도 무리 없이 블록체인 서비스를 사용하는 데 확실히 도움 되는 기능이다 삼성 블록체인 월렛에서는 삼성 키스토어로 시작하기 버튼을 통해 별도의 가입 없이도 탈 중앙화 앱 들을 간편하게 이용할 수 있었다 사진 김산하   댑 탭에서 내역 버튼을 누르니 구매 내역 공간이 등장했다 이 공간에는 앞으로 유료 댑 등이 지원돼 다양한 댑들의 플랫폼 역할을 할 것으로 짐작됐다 삼성 블록체인 월렛이 앱스토어 플랫폼 같은 형태로 나아간다면 구글 플레이스토어 과 애플 앱스토어 이 독점한 앱 플랫폼 대항마가 될 수도 있어보였다 삼성 관계자는 암호화폐의 부정적 이미지에도 불구하고 블록체인 월렛을 만든 이유에 대해 신기술인 블록체인 분야의 발전가능성이 무궁무진한 만큼 선제적으로 생태계를 만들고 확장하기 위한 것 이라며 자체 모바일 보안플랫폼 녹스 의 뛰어난 보안성을 활용해 안전하게 서비스를 제공하겠다 고 설명했다 삼성 블록체인 월렛을 사용해본 느낌은 일상형 혁신 으로 요약 가능했다 기존 암호화폐 지갑과 기능상으로 많은 차이점이 있다고 하긴 어려웠지만 사용이 어렵고 불편했던 암호화폐 지갑을 일상으로 갖고 들어왔다는 점에서 그렇다 어쩌면 갤럭시 10의 이 기능은 우리가 생각하는 것보다 더 빨리 생활 속에서 암호화폐를 사용하게 만드는 촉매 가 되지 않을까 김산하       및                       및   금지 \n순위:19 / 문서:C:/Users/brsta/ICT_AI_AdvanceClass_NLP/0314_DownloadedNewstxts//세계-0003888259.txt / 유사도:0.01722386443549666\n   document:   루캉 중국 외교부 대변인 1 자료 사진 서울 뉴스1 박형기   한국이 미세먼지 원인 규명을 위해 미국 항공우주국 과 공동조사를 벌이겠다고 하자 중국 공산당의 입인 환구시보가 공동협상을 하자 며 꼬리를 내렸다 중국 당국의 속내를 대변하는 환구시보는 18일 한국 국립환경과학원이 와 제2차 한미 협력 국내 대기질 공동 조사 를 추진한다는 소식과 관련 꼭 이렇게까지 하며 중국에 책임을 씌워야 하겠느냐 는 글을 내놨다 앞서 한국 국립환경과학원은 17일 한반도의 미세먼지가 발생하는 원인을 객관적으로 규명하기 위해 와 공동조사를 준비 중이라고 밝혔다 환구시보는 뤼차오 랴오닝성 사회과학원 연구원의 말을 인용 스모그 원인을 부단히 쫓기보다는 동북아 지역 국가 간의 협력을 강화하는 것이 낫다 고 주장했다 뤼 연구원은 우리는 과학적 수단으로 미세먼지 근원을 찾는 건 반대하지 않지만 그렇게 문제를 풀기보다는 공동 협상으로 문제를 해결해야 할 것 이라고 말했다 한국에서 나오는 미세먼지 중국 책임론에 대해 과학적 근거를 갖고 말하라 고 일축했던 중국 당국이 공동 협상을 하자 며 태도를 돌변한 것 3월초 한국 정부가 중국발 미세먼지 책임론을 제기하며 중국에 공동조사를 요구하자 지난 6일 루캉 중국 외교부 대변인은 한국의 미세먼지가 중국에서 온 것인지에 대해 충분한 근거가 있는지 모르겠다 며 과학적 사실에 입각해 문제를 제기해 주기 바란다 고 밝혔다 그러자 강경화 외교부 장관은 7일 국회에서 미세먼지가 중국발 원인이 있는 것은 사실 이라고 다시 한번 강조했다 그러자 루캉 대변인은 강 장관을 발언을 두고 전문가 분석이 뒷받침된 것인가 라고 반문했다 이렇게 오리발을 내밀던 중국이 태도를 바꾼 것은 제3자인 미국의 개입으로 중국 책임론 이 국제적으로 확산될 것을 우려하기 때문으로 풀이된다 1 크립토허브 터닝포인트 2019 네이버 메인에서 뉴스1 구독하기 뉴스1코리아 1 무단 전재 및   금지 \n순위:20 / 문서:C:/Users/brsta/ICT_AI_AdvanceClass_NLP/0314_DownloadedNewstxts//정치-0000372172.txt / 유사도:0.017189975526722502\n   document:   한국당 지지율 상승 아이러니박근혜에 귀태 발언 논란땐 대통령 비판은 허용해야 주장민생입법 협조 구해야 할 상황에 제1 야당과 대치 득보다 실 나경원 자유한국당 원내대표가 14일 오전 국회에서 열린 최고위원회의에서 발언하고 있다 연합뉴스더불어민주당이 나경원 자유한국당 원내대표의 강성 연설을 문제 삼아 연일 한국당에 십자포화를 퍼붓고 있지만 한국당 지지율은 오히려 올라가고 있다 국회 윤리특위 제소 등 과도한 대응이 사태를 키웠고 내로남불 논란까지 겹치면서 결과적으로 득보다 실이 컸다는 관전평이 나온다 민주당의 한국당 비난 수위는 나 원내대표 발언 사흘째인 14일에도 수그러들지 않았다 조정식 정책위의장은 정책조정회의에서 나 원내대표의 연설로 탄핵 부정과 국정농단의 그늘에서 벗어나지 못하는 한국당 실체가 그대로 드러났다 며 가짜뉴스와 거짓선동으로 일관된 연설 이라고 비난했다 박경미 의원은 내부결집을 위해 바깥으로 독설을 쏟아내는 것은 일본의 아베 총리가 쓰는 수법 이라고 말했다 나 원내대표 연설의 문제점을 비교적 조목조목 지적한 것인데 문제는 초기 대응이 너무 감정적이었다는 점이다 특히 사태 첫날 도핑검사 시급 일베 방장 등의 격한 표현과 사시 공부할 때 헌법 공부를 안 하나 는 식의 비아냥과 조롱은 윤리특위 맞제소 상황까지 초래했다 집권여당답지 않은 대결 정치 가 역효과를 냈다는 건 한국당 지지율 상승세로 간접 확인된다 리얼미터가 의뢰로 나 원내대표 발언 전후인 11 13일 조사한 3월 2주차 주중집계에 따르면 한국당 지지율은 전주 대비 1 9 포인트 오른 32 3 로 4주 연속 상승했다 5 18 망언 논란으로 한달 전 25 2 까지 떨어졌던 지지율이 7 1 포인트나 올라 민주당 37 2 과 5 포인트 이내로 좁혀졌다 특히 한국당 지지율은 11일 30 8 를 기록했다가 나 원내대표의 교섭단체 연설 다음날 13일 에는 32 4 로 상승해 나 원내대표 강성 발언이 지지층 결집에 효과를 냈다는 해석이 나온다 이에 따라 민주당 일각에서도 과도한 대응이 사태를 키웠다는 자성의 목소리가 나오고 있다 민주당 핵심 관계자는 나 원내대표의 발언은 도저히 묵과할 수 없는 사안이지만 지도부의 우발적이고 감정적 대응으로 상대방 전략에 말려든 측면도 있다 고 말했다 더구나 야당 시절 박근혜 전 대통령을 겨냥한 귀태 태어나지 말아야 할 사람 발언 논란 때는 대통령 비판은 자유롭게 허용해야 한다고 주장했던 사실이 거론되면서 제기된 내로남불 논란도 부담이다 문제는 야당과의 대치가 민생입법에 책임이 있는 여당에게는 결코 이로울 게 없다는 점이다 제1야당의 협조 없이는 개혁입법의 처리도 어렵다 최창렬 용인대 교양학부 교수는 한국당이잘하는 게 별로 없고 퇴행적인 면까지 있지만 여론은 집권여당인 민주당의 잘잘못을 기준으로 형성되고 있다는 걸 명심해야 한다 고 말했다 신율 명지대 정치외교학과 교수도 민주당의 대응이 너무 나갔기 때문에 한국당을 협상 테이블로 다시 불러들일 명분이 없어 당분간 퇴로를 찾기도 쉽지 않아 보인다 고 밝혔다 강철원   이서희   한국일보 페이스북 카카오 친구맺기   한국일보를 구독하세요 \n순위:21 / 문서:C:/Users/brsta/ICT_AI_AdvanceClass_NLP/0314_DownloadedNewstxts//생활문화-0004107967.txt / 유사도:0.01422717849941016\n   document:   안전성 3등급 꼴찌 수준측면충돌 조수석 뒤 어린이 안전 점수 낮아혼다 녹 사태 와 연비 오차까지 박상재   혼다코리아가 6년 만에 선보인 중형 세단 신형 어코드 사진 혼다코리아 내구성과 안전 의 대명사로 꼽히는 일본 차 브랜드 혼다가 무너지고 있다 차량 안전도 평가인 한국형 충돌시험 에서 매우 저조한 성적표를 받아들었다 뿐만 아니라 녹 부식 연비 뻥튀기 등 소비자 신뢰를 잇달아 저버리고 있다는 지적이 나온다 15일 국토교통부 국토부 산하 교통안전공단 등에 따르면 혼다 신형 어코드는 에서 3등급 78 9점 을 받았다 같은 해 주요 차량 가운데 꼴찌 수준이다 특히 경쟁 차종인 도요타 신형 캠리 1등급 88 3점 와 확연하게 차이가 있었다 기아차의 준중형 세단 3 1등급 86 2점 보다도 낮았다 항목별로 보면 정면충돌은 만점인 16점이 나왔다 하지만 뒷좌석에 탄 어린이가 자칫 다칠 위험이 상대적으로 높았다 측면충돌 시 조수석 뒷자리 어린이 6세 기준 의 안전성은 8점 만점에 3점에 불과했다 무엇보다 흉부가 열등했다 신형 캠리는 같은 평가점수 만점을 기록했다 여기에 보행자와 충돌할 때 앞범퍼와 후드 윗부분이 열등 수준을 보였다 보행자를 들이받으면 상해를 입힐 가능성이 높다는 얘기다 이 밖에 사고를 사전에 막아주는 전방 충돌 경고 비상 제동 장치 등 사고 예방 항목에서 안전벨트 미착용 경고 0 5점 외 점수를 받지 못했다 당시 안전한 주행을 돕는 혼다 센싱 을 기본 적용하지 않았기 때문이다 혼다 신형 어코드의 한국형 충돌시험 평가점수 사진 교통안전공단 홈페이지혼다 스포츠유틸리티차량 인 역시 2017년 3등급 79 7점 으로 부진했다 기아차의 경차 모닝 3등급 77 1점 과 비슷한 결과였다 운전석 중심으로 차량 전면부의 40 만 들이받는 부분 정면충돌에서 운전석 뒷자리에 앉은 어린이 6세 기준 의 흉부 보호가 미흡한 것으로 나타났다 특히 미국 고속도로안전보험협회 의 차량 충돌시험과는 안전성이 딴판이다 신형 어코드와 는 로부터 같은 해 각각 톱 세이프티 픽 최고 등급인 톱 세이프티 픽 플러스 을 획득했다 혼다코리아 측은 국가별로 안전법규와 환경 평가 항목이 달라 차이가 있을 수 있다 며 미국 차량과 차이점은 전혀 없다 고 답변했다 은 국내 주요 차량의 안전도를 평가하는 것이다 정면충돌과 부분 정면충돌 측면충돌 기둥 측면 충돌 어린이 및 보행자 안전성 제동 측정 등을 한다 유럽자동차안전기준 유로앤캡 등과 비교하면 기준이 낮은 편에 속하지만 혼다는 국내에서 상위 등급을 다 충족하지 못했다 회사 관계자는 다시 시험받을 계획은 없다 고 밝혔다 소비자 신뢰도에도 금이 가고 있다 혼다는 2017년 판매한 등의 차량 대시보드 내에 녹이 슬어 있는 문제가 있었다 녹 부식 사태 는 늑장 대응 파문으로 번지면서 곤혹을 치렀다 이뿐 아니라 2017년형 사륜 구동 모델 는 국토부 자기 인증 적합 조사 결과 신고한 공인 복합 연비의 오차범위가 큰 것으로 드러났다 공인 복합연비는 당 12 2 에서 11 6 로 바뀌었다 이에 유류 대금 환급 등 경제적 보상이 진행 중이다 한 업계 관계자는 안전성 연비 등은 차량 구매 시 결정적 요인이 되는 사항 이라며 잡음이 생겨나면 브랜드 이미지에 타격을 받을 수 밖에 없다 고 말했다 혼다는 지난 한 해 내수 시장에서 7956대를 팔았다 전년 1만299대 보다 22 7 뒷걸음질 쳤다 일본 차 브랜드의 지난해 시장 점유율은 17 4 에 그쳤다 혼다 스포츠유틸리티차량 인 사진 혼다 홈페이지박상재                         및   금지 \n순위:22 / 문서:C:/Users/brsta/ICT_AI_AdvanceClass_NLP/0314_DownloadedNewstxts//생활문화-0004324344.txt / 유사도:0.013111727531435385\n   document:   8세대 첨단 스포티 세단 출시 국민차 이미지 내려놨다 디지털키 등 최신사양 결집현대차 디자인 철학 입혀사전계약 열흘만에 1만2천대올해 국내 판매 7만대 목표 21일 일산 킨텍스에서 열린 쏘나타 신차 발표회에서 이광국 현대차 국내영업본부장 부사장 과 이상엽 현대차 디자인센터장 최진우 총괄 담당 왼쪽부터 이 신형 쏘나타의 특징 등을 소개하며 박수를 치고 있다 김호영   쏘나타는 국민차 아빠차 대한민국 사람 모두가 경험하는 보통의 존재였다 그런 고정관념을 모두 내려놓고 쏘나타는 이제 도로 위를 누비는 세단 본연의 모습이기를 바란다 이상엽 현대자동차 디자인센터장 전무 은 경기도 일산 킨텍스에서 21일 열린 8세대 신형 쏘나타 출시 행사에서 이렇게 말했다 1985년 탄생해 서른네 살 된 현대차 대표 선수 쏘나타의 정체성을 다시 쓴다는 포부다 올해 국내 목표 판매량은 7만대다 현대차는 5년 만에 풀체인지 완전변경 한 신형 쏘나타를 신개념 모빌리티 디바이스 로 정의하며 위기의 회사를 살릴 구원투수로 21일 등판시켰다 신형 쏘나타는 현대차의 새 디자인 철학인 센슈어스 스포트니스 를 적용했고 회사가 갖춘 최신 기술을 모두 탑재해 첨단 스포티 세단 이미지를 강조했다 이광국 현대차 국내영업본부장 부사장 은 이날  들과 만나 신형 쏘나타는 브랜드 이미지를 제고하기 위해 택시 모델을 출시하지 않을 것 이라며 택시를 제외해도 올해 국내에서 7만대를 팔겠다는 목표를 세웠다 고 말했다 현대차에 따르면 신형 쏘나타는 지난 11일 사전계약을 시작한 지 열흘 만에 전국에서 1만2323대가 계약됐다 쏘나타에 처음 탑재된 신기술 중 우선 눈에 들어오는 것은 현대 디지털키 다 근거리무선통신 기술을 통해 키 스마트키 가 없어도 스마트폰 애플리케이션 앱 을 이용해 차 문을 열거나 시동을 걸 수 있다 디지털키는 최대 4명까지 공유할 수 있다 개인화 프로필은 센터페시아 화면에서 이름 이미지 블루투스 디지털키 등을 입력해 맞춤형 차를 설정할 수 있다 이 밖에 신형 쏘나타는 기어봉을 없애고 전자식변속버튼 을 설치했으며 빌트인캠도 장착했다 자율주행 성능도 대폭 향상됐다 현대차는 신형 쏘나타에 전방 충돌방지 보조 후방 교차충돌방지 보조 후측방 충돌방지 보조 차로 유지 이탈방지 보조 고속도로 주행 보조 안전 하차 보조 같은 각종 보조 자율주행 기능을 적용했다 이 밖에 원격 스마트주차 보조는 스마트키를 이용해 차량 전 후진 이동을 가능하게 함으로써 좁은 주차 공간 등 승 하차가 힘든 곳에서 운전자와 동승객에게 편의를 제공한다 카카오와 협업해 탑재한 음성인식 공조 제어도 스마트 모빌리티를 상징하는 쏘나타의 특징이다 카카오의 인공지능 플랫폼 카카오 아이 를 활용한 음성인식 비서 서비스 를 통해 구현한 기능으로 에어컨 켜줘 와 같은 간단한 명령뿐만 아니라 바람 세게 성에 제거해줘 같은 대화형 지시가 가능하다 또 스티어링휠에 위치한 음성인식 버튼을 누른 뒤 필요한 정보를 물으면 플랫폼이 최적의 답을 찾아줘 보다 안전하고 편리한 주행 환경을 제공한다 현대차는 신형 쏘나타의 모든 엔진을 현대 기아차의 차세대 엔진인 스마트스트림 으로 변경해 연비를 최고 13 3 까지 높였으며 가솔린 2 0 2 0 등 2개 모델을 운영한다 가솔린 모델 기준 최고출력은 160마력 최대토크 20 0 의 동력 성능이 가능하다 신형 쏘나타 가격은 개별소비세와 부가세를 적용해 가솔린 2 0 모델이 2346만 3289만원이며 2 0 모델은 2140만 3170만원이다 이종혁   매경 뉴스레터 매콤달콤 을 지금 구독하세요 뉴스 이상의 무궁무진한 프리미엄 읽을거리 매일경제   및   금지 \n순위:23 / 문서:C:/Users/brsta/ICT_AI_AdvanceClass_NLP/0314_DownloadedNewstxts//경제-0002891759.txt / 유사도:0.013091046006180085\n   document:   이광국 부사장 신차 전략 공개베스트셀링 브랜드 명예 되찾기차체 플랫폼 오디오 완전 교체 택시는 쏘나타 이미지 탈피 나서 그랜저웨이 아슬란웨이 갈림길에 선 신형 쏘나타 8세대 쏘나타 택시의 제왕 쏘나타가 차세대 모델을 법인택시 시장에 내놓지 않기로 했다 이와 더불어 완전히 새로운 차체를 최초로 적용하고 오디오 타이어까지 오직 수입 고급 브랜드만 사용하면서 베스트셀링카 탈환을 노린다 오는 21일 완전변경 모델을 선보이는 현대차 중형세단 쏘나타 프로젝트명 8쏘나타 는 무려 30년 연속 국내 외 시장에서 연간 최소 10만대씩 팔리는 모델이다 한때 대한민국 베스트셀링카였지만 중형세단 시장이 침체하면서 지난해 현대차 그랜저 싼타페 아반떼는 물론 기아차 카니발 쏘렌토보다도 덜 팔렸다 6위 6만6738대 2019년   올해의 차에서 현대차 팰리세이드가 대상을 받았다 박장희   대표가 이광국 현대차 부사장 오른쪽 에게 시상하고 있다 최승식   과거의 영광을 되찾기 위해 쏘나타가 택한 전략은 브랜드 차별화 다 이광국 현대자동차 국내영업본부장 부사장 은 신형 쏘나타는 택시 모델을 절대 출시하지 않겠다 고 못 박았다 한국서 택시는 곧 쏘나타 라는 인식이 자리할 정도로 쏘나타는 법인택시업계가 선호한다 지난해 현대차가 국내서 판매한 쏘나타의 절반가량이 택시였다 마케팅 측면에서 택시 모델로 팔리는 게 나쁜 건 아니다 매일 장시간 주행하는 택시의 특성상 택시업계는 내구성이 우수한 차종을 선호한다 즉 택시의 선택을 받은 모델은 어느 정도 내구성을 갖췄다고 해석할 여지가 있다 그런데도 쏘나타가 법인택시 시장을 스스로 포기한 건 국내 최장수 단일 자동차 브랜드인 쏘나타 브랜드를 살리기 위해서다 매일 수시로 도로를 주행하는 택시가 특정 차종이라면 소비자 입장에서는 해당 차종의 매력이나 신선함이 반감할 수 있다 결국 판매량에서 다소 손해를 보더라도 신형 쏘나타를 사는 소비자 만족도를 높이는 전략을 택했다 현대차가 판매 중인 2018년식 쏘나타 뉴라이즈 택시 모델 사진 현대차 7세대 쏘나타 쏘나타 도 2014년 3월 출시 당시에는 택시 모델이 없었지만 이후 전략을 바꿨다 중형세단을 선호하는 택시업계의 수요 때문이다 신형 쏘나타도 유사한 전철을 밟을 가능성에 대해서 묻자 이 부사장은 아예 택시 모델을 출시하지 않는다는 사실을 신차출시회장에서 공개적으로 발표하겠다 고 선언했다 대신 택시 수요는 쏘나타가 충당한다 쏘나타를 생산하는 아산공장은 쏘나타와 8쏘나타를 동시에 생산할 수 있는 설비를 갖췄다 그는 평소 8쏘나타를 생산하다가 법인택시 주문을 받으면 같은 라인에서 쏘나타의 제품 개선 모델을 생산하는 방식 이라고 설명했다 물론 택시 모델이 라인업에서 빠진다고 해도 길거리에 신형 쏘나타 택시가 등장할 가능성은 있다 개인택시 기사가 쏘나타 차량 쏘나타 을 산 뒤 이를 택시로 사용할 가능성이 있기 때문이다 차체 플랫폼부터 오디오 타이어까지 모두 바꿔 신형 쏘나타에 새롭게 적용하는 현대차의 3세대 플랫폼 사진 현대자동차 현대차가 쏘나타를 움직이는 스마트기기 로 정의하는 것도 역시 브랜드 차별화와 궤를 같이한다 움직이는 스마트기기는 최신 정보기술 을 적용한 스마트기기가 제공하는 모든 기능을 쏘나타가 제공한다는 의미다 예컨대 스마트폰 카메라처럼 자동차에 룸미러에 붙박이식 카메라를 설치했다 이 카메라가 녹화한 차량 전 후방 영상은 스마트폰에서 수시로 확인할 수 있다 또 미리 스마트폰에 애플리케이션을 깔아두면 열쇠가 없더라도 시동을 걸거나 차량에 출입할 수 있다 쏘나타가 최초로 적용한 이 기능은 최대 4개의 스마트폰에서 이용할 수 있다 부부 가족이 쏘나타 1대를 번갈아가며 이용하는 경우 유용하다 주차공간이 비좁은 경우엔 밖에서 스마트폰으로 차량을 앞뒤로 조작할 수 있는 자동주차기능도 갖췄다 오디오 보스 타이어 피렐리 미쉐린 굿이어 까지 해외 고급 제품을 선택했다 이를 이광국 부사장은 기존 지루한 이미지에서 쏘나타를 젊고 신선한 브랜드로 바꾸려는 전략 이라고 설명했다 8세대 신형 쏘나타 실내 사진 현대자동차 신형 쏘나타의 차별화 전략은 또 있다 서스펜션과 파워트레인 배치를 좌우하는 차량용 플랫폼을 바꿔버렸다 쏘나타가 이름만 같지 기존 모델과는 완전히 다른 차라는 뜻이다 현대차가 신규 개발한 3세대 플랫폼을 적용한 차량은 신형 쏘나타가 최초다 이 플랫폼 덕분에 신형 쏘나타는 7세대 모델 대비 공차중량이 55 가벼워지고 차체의 평균강도가 10 이상 강화됐다 또 엔진룸을 하향 배치하는 디자인 덕분에 전고가 3 낮아지면서 날렵한 디자인을 적용할 수 있었다고 한다 현대차 아산공장은 준대형세단 그랜저와 쏘나타를 혼류생산한다 과거 대형세단 아슬란을 생산하던 라인이다 동일한 공장에서 생산하던 그랜저는 지난해 베스트셀링카 자리에 올랐지만 반대로 판매가 부진하던 아슬란은 3년 만에 단종했다 현재 아산공장은 그랜저와 쏘나타를 1대 1 비율로 연간 30만대 생산할 수 있다 신형 그랜저 생산 비율을 줄이고 쏘나타 생산 비율을 확대할 여지가 있는지 묻자 그는 시장 상황에 따라 모든 준비를 하고 있다 고 말했다 신형 쏘나타에 새롭게 적용하는 현대차의 3세대 플랫폼 사진 현대자동차 신형 쏘나타가 택시 모델 포기부터 플랫폼 변경까지 강수 를 둔 건 같은 곳에서 생산하던 아슬란의 전철을 피하기 위해서다 하지만 시장 상황은 불리하다 스포츠유틸리티차량 과 준대형세단 시장이 확대하면서 중형세단 시장은 전체 승용차 판매량의 10 미만으로 쪼그라들었다 이광국 부사장은 쏘나타가 안 팔리면 중형세단 시장이 사라질 수 있다는 각오로 신차 판매를 준비 중 이라고 말했다 나아가 이 부사장은 쏘나타에 대한 몇 가지 궁금증도 추가로 해소했다 일단 쏘나타 고성능 모델은 연내 출시 계획이 없다 일단 21일에는 쏘나타 2 0 가솔린 차량과 쏘나타 만 선보인다 향후 이후 연내 1 6터보와 하이브리드 모델을 출시한다 특히 쏘나타 하이브리드 모델은 연비가 20 정도는 될 것이라는 예상이다 경쟁모델 5 하이브리드 17 2 18 0 보다 연비가 10 정도 좋아질 것으로 보인다 삼성 현대차 불화설 오해이자 억측 신형 쏘나타 보스 프리미엄 사운드 시스템 사진 현대차 화제를 모은 쏘나타의 오디오 시스템에 대해서도 언급했다 현대차가 하만계열의 오디오 브랜드 에서 보스로 오디오를 변경하자 자동차 부품업계는 삼성과 현대차의 불화설을 거론하고 있다 삼성전자가 2017년 3월 하만을 인수했기 때문이다 이에 대해 이 부사장은 현대차 30 은 여전히 오디오를 사용한다 며 약 5년 전 신차 개발을 시작한 쏘나타는 2년 전부터 오디오 브랜드를 선택했기 때문에 삼성과의 불화설은 오해 억측이다 라고 해명했다 8세대 쏘나타 한편 2019년 는 현대차의 대형 스포츠유틸리티차량 팰리세이드를 올해의차로 최종 선정했다 시상식에서 트로피를 받으면서 이광국 부사장은 11일까지 팰리세이드 5만5800대 계약을 완료했다 고 밝혔다 팰리세이드가 불과 3개월 만에 2017년 연간 국내 대형 총판매대수 5만4498대 를 넘어섰다는 뜻이다   11일 경제1면 문희철     홈페이지 페이스북   네이버   신문     무단 전재 및   금지 \n순위:24 / 문서:C:/Users/brsta/ICT_AI_AdvanceClass_NLP/0314_DownloadedNewstxts//세계-0010701376.txt / 유사도:0.013067137027517823\n   document:   지난 1월 15일 한반도 미세먼지 대기상황지난 1월 15일 오전 9시 한반도의 초미세먼지 대기상황 어스널스쿨 홈페이지 캡처 선양 연합뉴스 차병섭 특파원 한국이 미세먼지 원인 규명을 위해 미국 항공우주국 과 공동조사를 준비하는 것과 관련 중국 공산당 기관지인 인민일보 자매지 환구시보 가 날 선 반응을 내놨다 환구시보는 18일 한국이 와 미세먼지의 출처를 찾으려고 준비하고 있다 기어코 중국에 책임을 떠넘기려 하는가 라는 제목의 기사를 보도했다 앞서 한국 환경부 국립환경과학원은 와 2021년께 제2차 한 미 협력 국내 대기 질 공동조사 를 하는 방안을 추진 중이라고 밝혔다 국립환경과학원 측은 인공위성 관측 등을 거쳐 미국의 검증을 받으면 국외 중국 미세먼지의 한국 유입 논란이 다소 해소될 것으로 기대하고 있다 환구시보는 한국과 의 미세먼지 원인 공동조사는 처음이 아니다 면서 미국 공영라디오 을 인용해 한국이 계속 미세먼지의 원인으로 중국을 의심하고 있지만 당시 조사에서는 오히려 한국 국내 영향이 더 큰 것으로 나타났다 고 밝혔다 또 2016년 서울에서의 측정결과 미세먼지는 국내와 국외 요인이 각각 52 48 였으며 이 중 중국 요인은 예상보다 낮은 34 였다고 주장했다 환구시보는 한반도 문제 전문가인 뤼차오 랴오닝성 사회과학원 연구원이 한국이 항상 미세먼지의 원인을 강조하지만 사실 그 자체는 의미가 없다 고 말했다고 소개했다 뤼 연구원은 우리는 과학적인 방법으로 스모그 미세먼지의 원인을 찾는 데 반대하지 않는다 면서도 설사 그렇다 하더라도 공동 협상을 통한 해결을 중심으로 해야 한다 고 말했다 그는 미세먼지의 원인을 끊임없이 찾는 것보다 동북아 지역 국가들이 함께 협력을 강화하는 편이 낫다 고 밝히기도 했다 환구시보는 한중이 오래 전부터 환경보호 협력프로그램을 추진 중이라면서 한국 조명래 환경부 장관이 지난주 관련 행사에서 이 점을 거듭 밝혔다 조 장관은 또 양국이 앞으로 공기 질 예측기술 등에서 협력할 것이라고 말했다 고 덧붙였다 네이버 홈에서 연합뉴스   뭐 하고 놀까 흥 쇼미더뉴스 오늘 많이 본 뉴스영상 \n순위:25 / 문서:C:/Users/brsta/ICT_AI_AdvanceClass_NLP/0314_DownloadedNewstxts//세계-0000372983.txt / 유사도:0.01153480967720153\n   document:   청년 실업률 높고 근무시간 길고1인당 3만불 벌어도 행복 못 느껴미세먼지 한국에서 더 많이 배출어디서 날아왔는지만 따진다 반문지난 5일 시작해 15일 막을 내린 중국 최대 정치행사인 양회 전국인민대표대회와 전국인민정치협상회의 리커창 중국 총리가 업무보고를 위해 연단으로 나가고 있다 연합뉴스중국 관영언론이 연례 최대 정치행사인 양회가 끝나자 다시 시선을 외부로 돌려 한국을 향해 화살을 겨눌 조짐이다 1인당 국민소득 3만 달러를 넘어섰지만 높은 실업률 때문에 한국인들은 행복하지 않다 고 조롱하는 투의 논평을 내보내는가 하면 한미 양국이 한반도로 유입되는 미세먼지 이동경로를 조사하는 것에 대해서도 한국 내 배출량이 더 많다 며 시비를 걸고 있다 한국을 반면교사로 삼아 중국의 발전을 도모하려는 취지로 볼 수도 있지만 우리와 마찬가지로 청년취업과 환경개선을 중점 과제로 내세운 중국이 자칫 이중잣대를 들이대는 건 아닌지 우려된다 환구시보는 18일 한국은 지난해 미국 독일 일본 프랑스 영국 이탈리아에 이어 전세계 7번째로 5030 클럽 인구 5 000만명 1인당 3만 달러 이상 에 가입했지만 다른 선진국에 비해 취업 사회적 분배 등 삶의 질이 미흡해 한국인들은 스트레스가 많고 행복에 무감각하다 고 전했다 이어 다른 국가들이 5030 클럽에 가입할 때 연간 평균 근로시간이 1 713시간이었던 반면 한국은 2 024시간 이라고 지적했다 특히 주중대사로 내정된 장하성 전 청와대 청와대 정책실장의 저서를 인용 고용과 임금이 경제성장을 따라가지 못해 가계소득이 개선되기 어렵다 면서 9 5 에 달하는 높은 청년실업률과 포세대 저출산 고령화 등으로 한국의 미래전망은 별로 밝지 않다 고 진단했다 물론 중국 관영언론의 논평은 적반하장격이다 중국의 경제상황이 더 다급하기 때문이다 올해 성장 목표치가 역대 최저치 6 6 5 일 정도로 경제 활력이 급감하고 있고 2월 기준 전국 도시 실업률도 지난해 12월보다 0 4 포인트 급등한 5 3 로 집계됐다 리커창 총리가 양회 보고에서 처음으로 취업 우선정책을 거시정책에 올려놨다 며 올해 도시 일자리 1 100만개를 만들겠다 고 강조한 것도 무리가 아니다 근로시간도 주 40시간을 표방하고 있지만 공무원을 제외하면 최대 주 70 100시간에 달하는 것으로 알려져 있다 게다가 중국의 1인당 는 5 500달러 수준이다 중국은 미세먼지를 놓고도 못마땅한 기색이 역력하다 한반도의 스모그 발생원인을 규명하고자 환경부 산하 국립환경과학원이 2021년 미국 항공우주국 과 공동으로 조사에 나서기로 한 것과 관련 스모그의 근원을 계속 따지지 말고 대신 동북아 국가간 협력을 강화해야 한다 고 주장했다 또 한국의 스모그는 국내 요인이 더 많다 는 2016년 외신보도를 들먹이면서 한국의 의심과는 다른 결과 라고 소개했다 이어 환구시보는 뤼차오 랴오닝 성 사회과학원 연구원의 발언을 인용해 한국은 늘 스모그의 발생원인만 강조하지만 그 자체로는 의미가 없다 고 지적했다 그러면서 우리는 스모그의 경로를 과학적으로 조사하는 것에 반대하지 않지만 공동 협상으로 해결하는데 중점을 둬야 한다 고 강조했다 앞서 7일 루캉 중국 외교부 대변인은 미세먼지에 중국발 원인이 있는 건 사실 이라는 강경화 외교부 장관의 발언에 과학적 근거를 갖고 말하는 것인가 라고 도리어 따져 물은바 있다 하지만 한미가 공동보조를 취하자 슬그머니 꼬리를 내린 셈이다 베이징 김광수 특파원 한국일보 페이스북 카카오 친구맺기   한국일보를 구독하세요 \n순위:26 / 문서:C:/Users/brsta/ICT_AI_AdvanceClass_NLP/0314_DownloadedNewstxts//경제-0001510681.txt / 유사도:0.011529922644556358\n   document:   집값 뛴 마 용 성도 보유세 부담 6월1일 이전 증여냐 처분이냐 고심 매도보다는 부담부 증여 많을 듯 연합뉴스 헤럴드경제 양영경   올해 공동주택 공시가격 인상 폭이 상대적으로 큰 서울 고가 아파트를 중심으로 보유세 부담 더해질 것으로 전망된다 특히 조정지역 내 다주택자는 보유세 부담에 따라 다양한 대응 가능성을 모색할 것이라는 관측이 나온다 국민은행 스타자문단 원종훈 세무팀장이 분석한 자료 60세 미만 1주택자 가정 에 따르면 서울 강남구 수서동 강남 더샵포레스트 전용 241 는 올해 공시가격이 23억7600만원으로 지난해 19억2000만원보다 23 75 올랐다 이에 따른 보유세 재산세 종합부동산세 는 지난해 958만원보다 50 오른 1437만원으로 추산됐다 서울 서초구 반포동 반포자이 전용 132 의 올해 공시가격은 19억9200만원으로 지난해 16억원보다 24 5 뛰었다 보유세는 지난해 694만원에서 50 늘어난 1041만원이 부과될 전망이다 지난해 집값이 크게 뛴 마용성 마포 용산 성동구 에서도 보유세 부담이 늘어난 아파트가 많을 것으로 보인다 용산구 한강로2가 용산 푸르지오써밋 전용 189 의 공시가격은 지난해 14억9000만원에서 올해 19억2000만원으로 28 86 올랐다 보유세 부담은 이 기간 626만원에서 939만원으로 50 증가했다 청약조정지역 내 다주택자는 더 많은 세금을 내야할 것으로 보인다 2주택자는 세부담 상한이 전년도 납부세액의 200 3주택 이상자는 300 까지 늘어난다 예를 들어 강남구 수서동 강남 더샵포레스트 전용 241 과 송파구 장지동 위례중앙푸르지오2단지 전용 187 를 보유한 2주택자의 경우 공시가격 합계가 지난해 34억1600만원에서 올해 42억5600만원으로 뛰었다 보유세도 2688만원에서 5736만원으로 세부담 상한까지 늘었다 전문가들은 고가주택 보유자와 다주택자가 보유세 부담을 덜기 위해 다양한 가능성을 모색할 것이라고 내다봤다 박원갑 국민은행 스타자문단 수석부동산전문위원은 보유세 과세 기준일인 6월1일 이전에 증여나 처분을 놓고 고민이 깊어질 것이고 고가 1주택자는 부부 공동명의로 세부담 분산을 도모할 것 이라며 전반적으로 서울 강남 등지에서 양도세 부담에 따른 다주택자 매물 출회는 많지 않을 것으로 보이나 보유세 부담으로 매수세는 위축될 것 이라고 봤다 양지영 양지영 연구소 소장은 다주택자는 양도세 부담으로 팔기도 어려운 상황인 데다가 고가주택이 많은 곳은 그만큼 자산가들도 많다 며 결국 오른다는 학습효과로 인해 매도보다는 부담부 증여를 택하는 다주택자가 많을 것 이라고 내다봤다 급매와 관련해서는 높은 전세가율을 이용해 적은 자본으로 집을 산 갭투자자 를 주시해야 한다는 지적도 나왔다 양 소장은 보유세 부담과 입주물량 증가 기준금리 상승 등으로 갭투자자의 부담은 커질 수 밖에 없다 며 이들은 보유에 대한 부담으로 급매물을 내놓을 수 밖에 없을 것 이라고 봤다 2     놓치지말자 단 하루 원데이 타임딜 헤럴드 리얼라이프 헤럴드경제 사이트   헤럴드경제 무단 전재 및   금지 \n순위:27 / 문서:C:/Users/brsta/ICT_AI_AdvanceClass_NLP/0314_DownloadedNewstxts//경제-0009127615.txt / 유사도:0.010109837626122374\n   document:   코스피 의약품 지수 연초 이후 5 하락 코스피지수 12 셀트리온 삼성바이오로직스 각각 10 가량 하락세실적부진 원인 지난해 셀트리온 영업이익 33 삼성바이오로직스 16 제약 바이오 소형업체 유망할 것 대형주들은 부진 지속 서울 뉴시스 삼성바이오로직스 삼바 는 지난 2015년 11월 첫 글로벌 제조 승인을 획득한 이후 현재까지 두 달에 한 건씩 총 22건의 승인을 획득했다고 13일 밝혔다 2019 03 13 사진 삼성바이오로직스 제공 서울 뉴시스 하종민   삼성바이오로직스와 셀트리온 등 제약 바이오 대표 종목이 부진한 흐름을 보이자 제약 바이오 업종 지수가 하락세를 보이고 있다 다만 대형 종목을 제외한 다른 제약 바이오 종목은 꾸준히 상승세를 보이고 있어 투자 대안으로 각광받고 있다 22일 한국거래소에 따르면 전날 기준 유가증권시장 의약품 지수는 연초 이후 5 2 떨어져 1만1000선 초반으로 하락했다 같은 기간 코스피지수가 7 가량 상승한 것과 비교하면 12 포인트가량 상승률 격차가 난다 제약 바이오 업종 대장주인 셀트리온 068720 과 삼성바이오로직스 207940 가 연초 이후 각각 9 9 9 8 하락해 제약업종 지수를 끌어내렸다 셀트리온과 삼성바이오로직스의 시가총액 순위도 지난해 말 각각 3위와 4위에서 전날 기준 5위와 6위로 2계단씩 하락했다 셀트리온은 지난해 영업이익이 전년 동기 대비 33 3 감소한 3387억원이라고 밝혔다 당기순이익도 같은 기간 34 줄어든 2536억원을 기록하는 등 실적 부진으로 인해 주가의 하락세가 지속되고 있는 상황이다 삼성바이오로직스 역시 지난해 영업이익이 16 가량 감소한 557억원이라고 공시했다 당기순이익은 흑자 전환해 2241억원으로 집계됐다 또한 분식회계와 관련된 이슈가 아직 해소되지 못한 점도 삼성바이오로직스 주가의 발목을 잡고 있다 특히 국민연금 수탁자책임 전문위원회는 지난 20일 삼성바이오로직스의 재무제표승인의 건 사내이사 선임의 건 사외이사 선임의 건 이사보수한도 승인의 건 등에 모두 반대하기로 결정했다 아직 삼성바이오로직스의 분식회계와 관련된 검찰 조사가 진행되고 있는 데다 당시 회계처리 담당자를 사외이사에 선임하려고 해 반대 의견을 냈다 전문위원회는 기업가치 훼손 내지 주주권익 침해 이력에 해당한다 고 말했다 서울 뉴시스 김선웅   6일 오전 서울 서초구 삼성 서초사옥 앞에서 열린 삼성바이오로직스 분식회계 규탄  회견에서 참가자들이 피켓을 들고 있다 2018 12 06 전문가들은 제약 바이오에 속한 종목들이 차별화된 모습을 보일 것으로 내다봤다 셀트리온 삼성바이오로직스 등 대형주들은 부진한 반면 다른 소형 업체들은 실적이 개선돼 투자심리가 긍정적일 것으로 평가했다 이태영 증권 연구원은 셀트리온의 경우 1공장 가동에 따른 매출액은 증설 이전의 설비가 2월부터 본격적으로 가동을 재개함에 따라 2분기부터 다시 실적에 반영될 예정 이라며 추가된 설비는 10월부터 매출액에 기여할 것 이라고 분석했다 허혜민 키움증권 연구원은 삼성바이오로직스는 실적 눈높이가 또 한번 낮춰지며 조정이 있겠지만 이미 올해 실적에 대한 시장 기대치는 낮았기 때문에 주가는 조정 후 박스권을 형성할 것 이라고 예상했다 김재익 하이투자증권 연구원은 제약 바이오 상위 업체들의 밸류에이션 부담이 커지고 있다 며 제약 바이오 업종에 대한 투자심리는 점차 개선되고 있기 때문에 그동안 시장에서 소외됐던 저평가 업체에 대한 수요가 높아지고 있다 고 분석했다 실제 코스피 의약품 지수와 달리 소형주들이 몰려있는 코스닥 제약업종 지수는 연초 이후 10 이상 올랐다 그는 소형 업체들 가운데 여전히 저평가돼있고 주가 상승 이슈가 명확한 종목에 관심을 가져야 한다 며 상반기 중에는 보령제약 큐리언트가 유망할 것 이라고 덧붙였다   뉴시스   뉴시스 빅데이터 주가시세표   저작권자 공감언론 뉴시스통신사     금지 \n순위:28 / 문서:C:/Users/brsta/ICT_AI_AdvanceClass_NLP/0314_DownloadedNewstxts//사회-0002221192.txt / 유사도:0.009659425782950596\n   document:   아이들은 나의 스승 158 성폭력의 온상 예능에 길들여진 사회 오마이뉴스 서부원   가수 정준영과 승리가 14일 오전과 오후 각각 불법동영상 촬영 및 유포 혐의 와 성접대 의혹 과 관련 서울경찰청 광역수사대로 출석하고 있다 오마이뉴스 버닝썬 게이트 여성을 성적 대상화 하고 불법 촬영물을 로 공유하는 등 성폭력이 만연한 현실이 낱낱이 까발려졌다 해당 에 여성 연예인 이름이 회자되고 경찰 고위직이 뒷배를 봐주었다는 의혹까지 제기되면서 우리 사회의 모든 이슈를 집어삼키고 있다 승리와 정준영이라는 아이돌 스타의 몰락에 대해 시사적인 문제에 관심 많은 세 명의 고등학생들과 이야기를 나눴다 이번 사건을 아이들은 어떻게 보고 있는지 또 이런 일이 벌어지게 된 원인을 아이들은 어디에서 찾고 있는지 궁금했다 아이들의 이름은 모두 가명이다 솔직히 범죄의 내용이 입에 올리기 민망한 것들이라 선뜻 아이들 앞에서 말 꺼내기가 껄끄러웠다 하지만 빅뱅을 알고 있느냐는 질문에 아이들은 버닝 썬 으로 답하며 의외로 대화의 물꼬는 쉽게 트였다 어느새 버닝썬 은 아이들에게조차 한 시대를 평정했던 빅뱅보다 더 유명한 이름이 됐다 웬 호들갑 다들 이미 알고 있었잖아요 승리는 한 예능 프로그램에 출연해 약 운운하며 고백까지 했잖아요 출연진이든 시청자든 그 말에 다들 박장대소했고 정준영의 경우엔 몇 해 전 이번과 비슷한 일에 연루돼 수사까지 받았고요 찬석이는 연일 방송과 신문을 도배하다시피 하고 있는 이번 일을 호들갑 떤다 며 심드렁한 표정을 지었다 마치 이전엔 아무도 몰랐고 생각지도 못했던 일을 알게 됐다는 식의 어른들 반응이 황당하다는 것이다 연루된 아이돌 모두 재수 없게 걸렸다고 억울해 할 것이라며 고개를 가로저었다 정도의 차이는 있을지언정 그들에게 덧씌워진 혐의 에서 자유로운 연예인이 과연 몇이나 되겠냐며 반문하기도 했다 실제로 친구 중에는 두 아이돌을 앞으로 에서 볼 수 없게 돼 안타깝다고 말하며 언뜻 두둔하는 경우도 있었단다 늘 대중적 인기는 범죄를 가려주었다며 시청률에 목매단 방송사들이 머지않아 그들을 구원해줄 거라고 말했다 범죄를 저질러 물의를 일으켜도 언제 그랬냐는 듯 슬그머니 다시 무대에 서는 연예인들을 하도 많이 봐온 터라 새삼스럽지 않다는 거다 늘 그래왔듯 우리나라의 시청자들은 약간의 시간이 필요할 뿐 그들을 용서할 준비가 항상 되어 있지 않으냐고 되묻기도 했다 지금의 들끓는 여론도 역시 얼마 안 가서 사그라질 것이라고 장담했다 학교 축제는 쇼 프로그램 아이돌의 이미테이션여성에게도 일말의 책임이 있다는 위험한 이야기도 스스럼없이 나왔다 성훈이는 천편일률적인 학교 축제를 그 예로 들며 여학생들에게 화살을 돌렸다 무려 두 시간 넘게 펼쳐지는 공연 무대에 여학생들은 죄다 아이돌 그룹의 춤을 흉내내는 게 대세가 됐다는 거다 오래 전부터 학생회 내부에서 문제가 제기되어 난상토론이 벌어졌지만 대다수 아이들의 요구를 막을 수 없었다고 해요 아이들 모두가 학교 축제를 팍팍한 일상의 탈출구로 여기는 마당에 애초 의미 가 재미 를 이기기란 불가능하다고 봐요 결국 축제는 인정 욕구 분출의 장 으로 귀결된 거죠 성훈이는 중고등 학생마저 섹스어필에 목매다는 현실에서 여성의 성적 대상화는 어느덧 우리 사회의 불치병 이 됐다고 잘라 말했다 이것이 비록 남성 중심적 사회에서 비롯된 문제라고 해도 여성이 주체로 나서지 않으면 결코 극복될 수 없는 문제라고 덧붙였다 또래 여학생들의 맹목적인 아이돌 그룹 따라 하기가 안타깝게 여겨지는 이유란다 성훈이는 또래들 사이에서도 여학생들은 얼굴만 예쁘면 모든 게 용서된다 는 말을 스스럼없이 한다고 했다 명백한 성희롱 발언이지만 여학생들조차 이를 문제 삼기는커녕 되레 맞장구치는 경우를 여럿 봤단다 멀쩡한 교복을 줄여 미니스커트로 만들고 화장 고치는 데만 골몰하는 여학생들의 행태를 탓하기도 했다 내내 잠자코 듣고만 있던 준태는 성훈이의 말을 도중에 끊었다 자칫 피해자에게 책임을 묻는 것으로 비칠 수 있다며 동의하기 어렵다고 했다 무엇보다 자기도 모르게 남성 중심적 사회에 길들여진 여학생들과 돈과 문화 권력에 취해 스스럼없이 성폭력을 자행한 아이돌을 두루뭉수리 뒤섞어서는 안 된다고 수차례 강조했다 남의 사생활 들추고 키득거리는 게 취미가 된 세상 여성을 대상화하는 농담을 주고받는 예능 프로그램 2016 1 27 그는 예능 프로그램의 폐해를 우선 지목했다 종편 채널은 말할 것도 없고 세금으로 운영되는 공영방송조차 하루 종일 예능 프로그램을 틀어대고 있다며 대한민국을 예능에 길들여진 사회 라고 못박았다 잠시도 어색한 침묵을 못 견뎌 하고 노잼 재미없음 을 무슨 잘못인 양 치도곤 하는 분위기가 학교 아이들 사이에서도 뿌리내렸다는 것이다 즐거움엔 끝이 없다 는 한 종편의 카피를 예로 들며 시청자들에게 웃음을 주지 못하는 프로그램은 존재 이유가 없는 세상이 돼 버렸다고 말했다 교양과 예능 사이에 시나브로 벽이 허물어지더니 예능처럼 재미를 주지 못하는 교양은 하나둘씩 퇴출되는 지경에 이르렀다는 거다 그는 공정성과 정확성을 생명으로 하는 뉴스도 조만간 예능처럼 바뀌게 될 거라 예언했다 요즘 아이들은 예능을 통해 세상을 본다 는 준태의 말에 찬석이도 성훈이도 동의했다 또래들끼리의 대화 소재는 모두 예능에서 가져오고 예능에 대한 지식이 없으면 대화에서 소외된다고 말했다 예능감 이 있다는 말은 유머 감각이 풍부하고 센스가 있다는 뜻으로 아이들 사이에서 최고의 찬사라고 한다 그의 말마따나 즐거움이 진리 라는 맹목적인 분위기 속에 예능 프로그램은 더욱 자극적으로 변해갔다 방송사마다 시청률 강박증이 더해지며 의도적으로 선정적인 장면을 연출하거나 대놓고 타인의 약점을 조롱하면서 웃음을 유발하는 모습이다 그럴수록 시청자들의 시선을 잡아당겼을지는 몰라도 웃음의 품격은 곤두박질쳤다 예능에 길들여진 사회 에서는 옳고 그름을 따지는 순간 진지충 으로 내몰린다 불쾌한 성희롱 발언을 듣고도 못 들은 척해 온 건 감수성이 낮은 이유도 있겠지만 당장은 그 낙인이 두려워서다 문제를 삼았다간 그저 웃자고 하는 말에 죽자고 달려든다며 손가락질받게 될 테고 만약 학교에서라면 왕따 0순위 다 준태는 채널이 밑도 끝도 없는 재미 경쟁 을 벌이는 걸 보면 머지않아 외설에 가까운 예능까지 출현할지도 모른다며 우려했다 작년 일본으로 가족 여행을 갔을 때 무심코 켠 에서 낯 뜨거운 장면이 나와서 정말 민망했다며 우리 예능의 미래 모습처럼 여겨졌단다 재미만 추구하다 보니 삶이 천박해지고 죄의식마저 희박해지는 것 아니겠냐며 이런 바람을 덧붙였다 매일 연예 기사가 포털 메인에 뜨고 남의 사생활 들추고 키득거리는 게 모든 국민의 취미가 된 세상이 바로잡히지 않으면 승리와 정준영으로 끝나진 않을 것 같아요 예능 프로그램보다 교양 프로그램이 예능인보다 교양인이 우대받는 사회적 분위기가 필요해요 그러자면 우리 방송이 우리 사회가 싸구려 웃음에 놀아나지 말고 조금만 더 진지해졌으면 좋겠어요 저작권자 오마이뉴스 시민  무단 전재 및   금지 오마이뉴스에서는 여러분도  가 될 수 있어요   오마이뉴스 채널을 구독하세요 백기완이 풀어낸 우리 시대 민중서사 버선발 이야기 \n순위:29 / 문서:C:/Users/brsta/ICT_AI_AdvanceClass_NLP/0314_DownloadedNewstxts//정치-0002892355.txt / 유사도:0.008966702966286126\n   document:   문재인 대통령이 18일 논란이 확산되고 있는 버닝썬 클럽과 경찰과의 유착 의혹 사건과 김학의 전 법무부 차관의 별장 성접대 의혹 고 장자연 씨 관련 사건에 대한 진상조사를 지시했다 문재인 대통령이 18일 오후 청와대에서 박상기 법무부 장관과 김부겸 행정안전부 장관으로부터 장자연 김학의 버닝썬 사건 관련 보고를 받고 있다 청와대 제공 문 대통령은 이날 청와대에서 박상기 법무부 김부겸 행정안전부 장관으로부터 관련 보고를 받은 뒤 과거의 일이지만 진실을 밝히고 스스로의 치부를 드러내고 신뢰받는 사정기관으로 거듭나는 일은 검찰과 경찰의 현 지도부가 조직의 명운을 걸고 책임져야 할 일이라는 점을 명심해달라 고 말했다고 김의겸 청와대 대변인이 전했다 문 대통령은 해당 사건에 대해 수사 기관이 고의적인 부실수사를 하거나 더 나아가 적극적으로 진실규명을 가로막고 비호 은폐한 정황이 보인다 고 말했다 검찰과 경찰이 범죄에 적극적으로 가담했다는 점을 전제한 말이다 문 대통령은 그러면서 공통적인 특징은 사회 특권층에서 일어난 일 이라며 이를 권력형 비리로 규정했다 사실상의 수사 가이드라인 이다 김학의 전 법무부 차관이 인천지검 검사장 시절 다문화 가정 초청 법률 교육 및 범죄피해자지원센터와 다문화 가족지원센터 간의 업무 협약 체결식 행사에서 인사말을 하고 있다 중앙포토 문 대통령은 특히 각 사건이 발생한 시기에 대해 드러난 범죄 행위 시기와 유착관계 시기는 과거 정부 때의 일 이라고 이번 지시가 사실상 과거 정부 수사 기관에서 발생한 일에 대한 진상규명에 맞춰져 있음을 분명히 했다 그는 검찰과 경찰이 권력형 사건 앞에서 무력했던 과거에 대한 깊은 반성 위에서 과거에 있었던 고의적인 부실 비호 은폐 수사 의혹에 대해 주머니 속을 뒤집어 보이듯이 명명백백하게 밝혀내지 못한다면 사정기관으로서의 공정성과 공신력을 회복할 수 없을 것 이라고도 말했다 그러면서 공소시효가 끝난 일은 그대로 사실 여부를 가리고 공소시효가 남은 범죄 행위가 있다면 반드시 엄정한 사법처리를 해 달라 고 당부했다 문 대통령은 다만 동일한 행태가 지금 정부까지 이어졌을 개연성이 없지 않으므로 성역을 가리지 않는 철저한 수사와 조사가 필요하다 고 덧붙였다 별장 성접대 의혹을 받고 있는 김학의 전 법무부 차관이 대검 과거사 진상조사단 소환에 불응한 15일 오후 서울 송파구 문정동 서울동부지방검찰청에 취재진이 모여 있다 김 전 차관은 지난 2013년 건설업자 윤중천씨로부터 강원 원주의 한 별장에서 성접대를 받았다는 의혹을 받아왔다 뉴스1 문 대통령의 지시에 두 장관은 재수사 등 할 수 있는 모든 방법을 다 강구해 사실을 명명백백히 밝히겠다 고 답했다 박상기 장관은 김학의 전 차관 사건에 대해 강간과 불법 촬영 성접대 뇌물 혐의를 규명한 수사였는지 비판이 있고 동영상 속 남성이 김 전 차관인지 등 기본 사실관계도 밝히지 않았다 고 말했다 중앙포토 이날 문 대통령의 발언에 대해서 정치권에선 2차 북 미 정상회담 결렬과 경제 상황 악화 등으로 정부에 대한 지지율이 하락하는 가운데 과거 정부에 대한 수사를 통한 정국 돌파용 이라는 분석이 나온다 문 대통령은 2차 북 미회담 성공 김정은 국무위원장 답방 시나리오가 무너지면서 새로운 국정운영의 동력을 찾기 위해 고심해왔다 지난주 동남아 순방을 마친 문 대통령은 귀국 후 첫 일정이던 청와대 수석 보좌관 회의를 취소하는 대신 두 장관의 관련 보고를 직접 요청했다고 한다 이번 진상조사 지시를 계기로 여론의 흐름을 바꿔보겠다는 문 대통령의 의지를 읽을 수 있다 특히 김학의 재수사 는 야당 견제에도 활용될 수있다 실제로 여당인 더불어민주당은 김학의 전 차관의 직속상관이던 황교안 자유한국당 대표 당시 법무부 장관 와 인사 검증을 담당했던 곽상도 의원 당시 청와대 민정수석 은 부실 수사에 개입한 정황은 없는지 밝혀야한다 며 이들에 대한 수사를 요구하고 있다 박근혜 정부 때 청와대에서 열린 법무부 안전행정부 업무보고 좌로부터 임정혁 대검공안부장 채동욱 검찰총장 황교안 법무부장관 곽상도 민정수석비서관 허태열 비서실장 당시 직함 청와대사진 단 청와대 고위관계자는 이에 대해 개혁이 진행중이 사정기관이 국민적 불신을 받고 있는 상황에 대한 심각한 문제의식으로 나온 지시 라며 정치적 목적이나 검 경 수사권 조정 문제로 확대해석하지 말아달라 고 말했다 이 관계자는 장관들의 보고 전에 조국 민정수석의 사전 보고가 이뤄진 것과 관련해 민정수석 차원에서 필요한 보고가 있지 않았겠느냐 면서도 구체적 보고 내용에 대해서는 언급하지 않았다 해외 투자자 성접대 의혹을 받고 있는 가수 승리 본명 이승현 왼쪽 과 이성과의 성관계를 불법 촬영해 유포한 혐의를 받고 있는 가수 정준영 30 이 14일 서울 종로구 서울지방경찰청에 피의자 신분으로 출석했다 경찰은 이날 조사에서 승리의 성접대 혐의에 대한 사실관계를 확인하고 이날 함께 소환되는 유리홀딩스 대표 유모씨를 상대로 클럽 버닝썬 과 경찰의 유착관계를 집중적으로 캐물을 것으로 보인다 또 경찰은 다른 카카오톡 대화방에서 불법촬영 영상을 유포한 혐의를 받는 가수 정준영 30 도 오전 부터 피의자 신분으로 불러 조사하고 있다 2019 3 14 뉴스1 다만 역대 정부에서 정국 주도권을 쥐기 위한 사정 드라이브 가 당초 그림과는 다르게 엉뚱한 결과를 낳는 일이 많았다는 건 청와대의 부담이 될 수 있다 또 야당도 검찰 경찰의 수사가 정치적 목적이 있다고 판단되면 강력히 반발할께 뻔하다 한국당 관계자는 국정운영을 검 경 수사에 의존한다는 자체가 청와대가 위기라는 반증 이라고 주장했다 강태화     홈페이지 페이스북   네이버   신문     무단 전재 및   금지 \n순위:30 / 문서:C:/Users/brsta/ICT_AI_AdvanceClass_NLP/0314_DownloadedNewstxts//정치-0003204865.txt / 유사도:0.008078081241996653\n   document:   민갑룡 경찰청장 동영상 인물 김학의 육안 식별 가능 경찰이 기소 의견으로 검찰에 송치했으나 무혐의당시 법무부 장관은 황교안 김학의 고교 연수원 1년 선후배홍익표 의원 장관 어떤 영향력 행사했는지도 조사대상 노컷뉴스 이준규   이정주   황교안 자유한국당 대표와 김학의 전 법무부 차관 사진 자료사진 민갑룡 경찰청장은 김학의 전 법무차관 별장 성 접대 의혹 과 관련해 경찰이 입수한 선명한 동영상에 나오는 인물은 누가 봐도 김 전 차관이 명확했다고 말했다 민갑룡 경찰청장은 14일 국회 행정안전위원회 전체회의에 출석해 더불어민주당 김민기 의원의 질의에 이같이 밝혔다 그동안 동영상 속 인물이 누가 봐도 김학의 전 차관이라는 얘기는 많았지만 공신력있는 수사 기관의 장이 동영상 등장 인물이 김 전 차관임을 눈으로 봐도 알 수 있다고 말한 것은 이번이 처음이어서 파장이 예상된다 김 의원은 이날 오후 질의에서 경찰이 당시 화질이 깨끗한 동영상 원본과 흐릿한 영상을 모두 입수했는데 왜 흐릿한 영상만 국립과학수사연구원에 감정을 의뢰했느냐 고 질문했다 그러자 민 청장은 육안으로 봐도 식별이 가능했기 때문에 국과수 감정의뢰 없이 동일인이라는 의견으로 검찰에 송치했다 는 것이다 하지만 경찰이 성관계 동영상에 나오는 인물이 김 전 차관과 동일인이라는 의견과 함께 기소 의견으로 검찰에 사건을 송치했지만 검찰은 무혐의 처분을 내렸다 민 청장은 무혐의 처분이 났는데도 왜 가만히 있었냐 는 김 의원의 질문에 저희도 많이 문제제기를 했다 며 법적 절차에 따라 문제제기를 했는데 명확하게 해소가 안돼서 진상조사까지 이르게 된 것이라고 밝혔다 질의 듣는 김부겸 장관과 민갑룡 경찰청장 사진 연합뉴스 김학의 전 차관 문제는 한국당 황교안 대표에게로 불똥이 튈 것으로 보인다 황교안 대표와 김 전 차관은 2013년 3월 박근혜 출범 당시 이틀 차이로 장관과 차관에 임명됐다 두 사람은 경기고와 사법연수원 1년 선후배 사이여서 임명 당시에도 문제가 제기된 바 있다 김 전 차관은 별장 성접대 의혹 사건이 문제가 돼 낙마했고 경찰이 수사에 나섰다 경찰은 5개월여의 수사를 통해 동영상에 나오는 인물이 김 전 차관과 동일 인물이라는 의견과 함께 기소 의견으로 검찰에 송치했지만 검찰은 영상 속 남성이 김 전 차관이라는 점을 특정할 수 없다 며 무혐의 처분했다 그런데 당시 법무부 장관이 황교안 당 대표였다 지난 정권까지만해도 대형 사건이나 주요 인물에 대한 수사 결과는 대검과 법무부를 거쳐 청와대에 보고되는 게 관행이었다 이와 관련해 민주당 홍익표 의원은 이날 행안위 전체회의에서 장관에게 보고가 안 됐을 것 같은데 장관에게 보고 안 됐으면 이상한 거고 보고가 됐으면 당시 황교안 법무부 장관이 어떤 영향력을 행사했는지도 조사대상이 될 수밖에 없는 문제가 된다고 생각한다 고 말했다 확 달라진 노컷뉴스 노컷뉴스 구독 서비스 재미와 흥미가 있는 동영상 구경하기 저작권자 노컷뉴스   및   금지 \n순위:31 / 문서:C:/Users/brsta/ICT_AI_AdvanceClass_NLP/0314_DownloadedNewstxts//정치-0002220830.txt / 유사도:0.007915536118503706\n   document:   새노조 권력유착 발본색원 요구 정의당 한국당은 기생체 는 비리 숙주 오마이뉴스 곽우신   채용비리 의혹을 받고 있는 김성태 자유한국당 의원 서울 강서을 사진 왼쪽 과 황교안 한국당 대표 유성호 우리 애는 당당하게 실력으로 들어갔고 아무 문제 없다 김성태 자유한국당 의원 서울 강서구을 전 원내대표 3선 의 딸에서 시작된 채용비리 의혹이 정치권 전반으로 확산되는 모양새다 의혹의 대상으로 새롭게 지목된 황교안 한국당 대표는 18일 경남 통영 고성 재보궐 선거 지원 현장에서 관련 질문에 불쾌해 하며 이 같이 말했다 한겨레 는 18일자 지면에 인사 부문에서 10년 이상 일한 익명의 전직 임원과의 인터뷰를 실으면서 2009년 공채 당시 공채인원 300명 중 35명의 청탁이 있었다는 증언을 보도했다 또한 서울남부지검은 김성태 한국당 전 원내대표 딸 이외에도 6명의 유력 인사 자제들이 특혜 채용된 정황을 확보한 것으로 알려졌다 새노조가 이날 성명을 통해 특혜 채용 의 혜택을 받은 이들로 황교안 정갑윤 의원의 이름을 거론하자 황교안 대표는 수사를 아무 데다가 막 하는 게 아니다 그게 권한남용 이라면서 말도 안 되는 소리 라고 일축했다 이어지는  들의 질문에 황교안 대표는 비리 없다 됐나 라며 답변을 마무리했다 새노조 황교안 대표 정갑윤 의원 아들들 지목 새노조는 이날 긴급성명을 내고 해당 보도가 제기한 의혹에 대해 보다 구체적인 정황을 제시했다 황교안 자유한국당 대표가 법무부장관이던 시절 그의 아들은 법무실에서 근무했다 정갑윤 의원 아들은 대협실 소속으로 국회 담당이었다 라는 것이다 새노조는 이쯤 되면 이것은 정상적 기업이 아니라 그야말로 권력과 유착된 정경유착복합체라고 할 수밖에 없다 라면서 최고 경영진의 정치적 보호막 수단으로 전락한 의 채용비리의 결과 경영진은 본질적으로 힘써야 할 통신경영에 소홀했고 그 결과가 아현 화재로 인한 통신대란 이라고 지적했다 이들은 낙하산 경영진의 정치적 줄대기와 그 수단으로 전락한 채용비리 그리고 그 결과로서의 통신경영 소홀과 통신대란은 결코 별개의 문제가 아니다 라면서 우리는 이번 기회에 채용비리를 매개로 한 경영진의 귄력유착을 발본색원해야 함을 강조한다 라고 목소리를 높였다 아울러 검찰은 김성태 딸 특혜채용을 넘어 채용비리 전반에 대해 수사를 확대하라 국회는 4월 4일로 예정된 청문회를 확정하고 청문대상을 채용비리를 포함한 경영 전반으로 확대하라 이사회는 채용비리 자체조사를 즉각 실시하라 등 세 가지를 요구했다 정의당 자유한국당은 기생체 는 비리의 숙주 최석 정의당 대변인은 이날 논평을 내고 채용비리가 자유한국당 전체로 번지고 있다 라고 지적했다 최 대변인은 김성태 의원의 가족기업이라고 생각했던 가 사실은 한국당의 일자리 텃밭이었다 라면서 이 문제는 의원 개인의 문제가 아니라 한국당이 기생체로 는 비리의 숙주로 살아온 끔찍한 정경유착을 보여주는 좋은 예 라고 꼬집었다 그는 하나도 빠짐없이 모두 철저히 수사해야 한다 라고도 덧붙였다 최석 대변인은 이어 작년 겨울 아현지사에서 발생한 화재는 결국 이러한 부실기업의 단면을 여실히 드러낸 것 이라며 수년간 쌓인 비리에 국민의 통신시설까지 휘청하고 있다 라고 목소리를 높였다 그는 썩을 대로 썩어버린 기업의 배후에서 한국당이 어떤 역할을 했는지 그 의혹의 뿌리가 어디까지 뻗어 있는지 제대로 규명해야 한다 라면서 곧 있을 청문회에서는 화재사고뿐 아니라 채용비리와 불법정치자금 등 의 총체적 부실을 반드시 다뤄야 한다 라고 주장했다 한국당 끊이지 않는 음해 생산 부당한 영향력 행사 없어 한국당은 즉각 반발하고 나섰다 전희경 한국당 대변인은 18일 논평을 통해 황교안 한국당 대표에 대한 끊이지 않는 음해 생산이 계속되고 있다 라면서 떨어지는 지지율과 민심이반을 카더라 낭설 로 어찌해 보려는 것인지 이제는 아들의 정당한 근무까지 부당하게 문제 삼고 나섰다 라고 주장했다 전 대변인은 황교안 대표는 2011년 8월 공직에서 퇴임했다 아들이 에 입사한 것은 그 이후인 2012년 1월이다 사내 법무팀으로 이동한 것은 2013년 1월 이라면서 황교안 대표가 법무부장관으로 취임한 것은 2013년 3월이다 아들의 입사와 보직배정은 모두 황 대표가 사인으로 있을 때로 공직을 통한 어떠한 부당한 영향력 행사도 있을 수 없는 상황 이라고 반박했다 그는 더욱이 당시 황 대표의 아들은 를 포함 5개 대기업의 채용에 합격했고 이 중 를 선택해 입사한 것 이라며 법무부장관 국무총리 인사청문회 과정에서 이미 명명백백 사실이 밝혀진 사안이다 이것이 팩트다 라고 강조했다 정갑윤 의원 역시 이날  를 통해 차남은 2004년 에서 진행된 5급 신입사원 공채 에 지원해 일련의 채용과정을 통해 입사해 현재 15년째 근무 중 이라면서 2004년 당시는 노무현 정부가 집권한 상황에서 입사과정과 관련해 그 어느 누구에게도 채용부탁을 하거나 압력을 행사할 수도 없었고 그런 행사를 하지도 않았다 라고 해명했다 저작권자 오마이뉴스 시민  무단 전재 및   금지 오마이뉴스에서는 여러분도  가 될 수 있어요   오마이뉴스 채널을 구독하세요 백기완이 풀어낸 우리 시대 민중서사 버선발 이야기 \n순위:32 / 문서:C:/Users/brsta/ICT_AI_AdvanceClass_NLP/0314_DownloadedNewstxts//세계-0010696592.txt / 유사도:0.007861784078322411\n   document:   이륙 후 3분만에 비정상적 속도에서 다급히 회항 요청 보잉 737 맥스 공포 확산 각국 운항중단 잇달아 서울 연합뉴스 김상훈   브레이크 브레이크 회항을 요청한다 에티오피아항공 소속 보잉 737 여객기 추락 직전 기장은 이렇게 다급한 목소리로 관제사에게 공항으로 접근하던 2대의 다른 비행기를 우회시킬 것을 요청했다 추락사고로 전원 사망한 승객과 승무원 157명을 태운 에티오피아항공 소속 여객기가 지난 10일 이하 현지시간 에티오피아 아디스아바바의 볼레 국제공항을 이륙한 지 3분 만이었다 이어 기장은 더 절박한 목소리로 착륙을 위한 벡터 레이더 등을 이용한 항공기 유도 를 요청한다 고 했다 당시 관제사들도 막 이륙한 보잉사의 최신기종 737 맥스 8 이 수백 피트를 오르락내리락하는 상황을 지켜보면서 무언가 잘못됐다는 걸 알아챘다 하지만 조처를 할 틈도 없이 여객기는 이륙 5분 만에 관제실과 교신이 완전히 끊겼다는 게 사고기 기장과 관제사 간의 마지막 교신 내용을 검토한 인사의 전언이라고 뉴욕타임스 가 14일 보도했다 익명을 요구한 이 인사는 기장은 이륙 1분 이내에 조종상의 문제를 차분한 목소리로 보고했는데 레이더 정보를 보면 당시 항공기는 최저 안전 고도 아래에서 상승 중이었다 고 말했다 그는 이어 이륙 후 2분 이내에 사고기는 안전 고도에 진입했고 기장은 1만4천 피트까지 계속 고도를 올리겠다는 뜻을 밝혔지만 이후 관제사들은 비행기가 상승과 하락을 반복하는 상황을 목격했다고 덧붙였다 이 인사는 이어 이때 관제사들은 비행기의 움직임에 놀라 소리를 지르기 시작했다 고 전했다 놀란 관제사들은 안전을 위해 때마침 공항으로 접근 중이던 2대의 다른 항공기에 고도 유지 지시를 내렸으며 이후 사고기 기장이 공포에 질린 목소리로 회항을 요청했다 이는 문제의 항공기가 이륙한 지 불과 3분이 지난 시점이었는데 당시 사고기의 속도는 안전선을 훨씬 웃돌았다는 게 이 인사의 설명이다 관제사의 회항 승인 이후 사고기는 오른쪽으로 선회하며 고도를 높였고 잠시 후 일반인의 접근이 제한된 군사지역 상공에서 자취를 감췄다 에티오피아 추락 여객기 잔해 수색하는 구조대원들 아디스아바바 연합뉴스 에티오피아항공 소속 보잉 737 맥스8 여객기 추락 사고가 발생한 에티오피아 수도 아디스아바바 남동쪽 약 64 지점의 비쇼프투시 인근 현장에서 13일 현지시간 구조대원들이 비행기 잔해 수색작업을 하고 있다 지난 10일 발생한 이 여객기 추락 사고로 35개국 157명 탑승자 전원이 귀중한 생명을 잃었다 사고기의 속도가 과도하게 빨랐다는 것은 이미 조종사들 사이에서도 이미 논란이 되고 있는 사안이다 조종사들은 항공기 경로추적 사이트 등에서 제공하는 공개된 정보를 토대로 당시 사고기가 표준적인 비행 상황보다 훨씬 빠른 속도로 비행했다고 지적하고 왜 그런 상황이 벌어졌는지에 대한 의문을 제기해왔다 과거 737기종을 경험한 조종사이자 항공안전 컨설턴트인 존 콕스는 사고기에서 가장 비정상적이었던 것은 속도였다 너무 빨랐다 며 왜 그런 상황이 벌어졌는지가 의문 이라고 말했다 또 앞서 에티오피아항공 관계자들은 사고기 이륙 직후 승무원들이 조종 과 관련된 문제를 관제사에게 보고했다고 밝힌 바 있다 마지막 교신에서도 이륙 초기 조종사의 조종 문제 보고가 확인됐는데 이는 안 전선을 웃도는 항공기 속도와 함께 향후 추락원인 조사 과정에서 중요한 변수가 될 가능성이 크다 사고 직후 항공 업계에서는 이번 추락사고와 지난해 10월 인도네시아에서 발생한 동일 기종 추락사고의 연관돼 있다는 의혹이 일었고 결국 이런 의혹 속에 737 맥스 8 기종의 운항 금지 조처가 이어졌다 당국은 아직 조사가 초기 단계여서 아직 사고원인에 대한 섣부른 결론을 내리기 어렵다는 입장이다 이런 가운데 당국은 사고 현장에서 회수한 블랙박스를 프랑스로 보내 본격적인 추락원인 등 분석에 들어갔다 에티오피아 추락 항공기의 비행기록장치 파리 연합뉴스 14일 현지시간 프랑스 항공사고조사국 이 공개한 에티오피아 추락 항공기의 비행기록장치 는 이날 에티오피아 당국으로부터 사고기의 블랙박스인 디지털 비행기록장치 와 조종실음성녹음장치 를 넘겨받아 분석에 착수했다 네이버 홈에서 연합뉴스   뭐 하고 놀까 흥 쇼미더뉴스 오늘 많이 본 뉴스영상 \n순위:33 / 문서:C:/Users/brsta/ICT_AI_AdvanceClass_NLP/0314_DownloadedNewstxts//경제-0004189005.txt / 유사도:0.005772054843459175\n   document:     뉴욕 미국 이상배 특파원 이상배의 뉴욕브리핑 미국에 시진핑 국빈 초청 요구 미중 무역협상 타결 연기에 뉴욕증시 혼조 시진핑 중국 국가주석트럼프로도 모자라 이번엔 시진핑이다 시진핑 중국 국가주석의 고집이 세계 증시의 돌발 변수가 됐다 미중 무역협상 타결을 위한 정상회담을 놓고 시 주석이 미국에 국빈 초청 을 요구하고 있다고 한다 블룸버그통신은 14일 현지시간 한 소식통을 인용 중국이 무역협정을 체결하기 위해 낮은 자세를 취하기보다 공식적인 국빈방문이 되도록 미국 측을 압박하고 있다 고 보도했다 합의가 중요한 마당에 국빈 여부가 왜 중요할까 그럴만할 이유가 있다 정상의 외국 방문에는 3가지 등급이 있다 실무방문 과 공식방문 그리고 국빈방문 이다 실무방문은 말 그대로 실무적인 이유로 외국 정상과 상의할 일이 있는 경우 공식방문은 외국 정상과의 공식 행사가 있는 경우다 둘다 방문하는 쪽이 비용을 부담한다 그러나 국빈방문은 다르다 초청하는 쪽이 모든 비용을 부담한다 국가의 손님으로서 최고의 예우를 갖춘다 만약 도널드 트럼프 미국 대통령이 시 주석을 국빈으로 초청한다면 두 정상간 무역협상의 양상이 완전히 달라진다 실무방문이나 공식방문이라면 협상을 하다가 뜻이 맞지 않으면 그대로 덮을 수도 있다 결렬도 가능하다는 얘기다 하지만 국빈방문이라면 그렇지 않다 국빈으로 모셔놓고 빈손으로 돌아가게 할 순 없다 결국 국빈으로 초대할 경우 협상 타결은 기정사실이 되는 셈이다 실무선에서 협정문을 완성해놓고 정상은 만나서 서명만 하는 것이다 시 주석이 원하는 게 바로 이거다 문제는 트럼프 대통령은 시 주석과 달리 정상간 회담에서 마지막 담판을 짓고 싶어 한다는 점이다 지난달말 베트남 하노이에서도 그랬다 김정은 북한 국무위원장과 직접 담판을 시도했다가 잘 안 풀리자 그대로 협상장을 박차고 나간 트럼프 대통령이다 시 주석이 정상회담에 앞서 협정문을 완성하길 원하는 건 이런 사태를 막기 위함이다 사실상 미국과의 굴욕적 조약을 맺으러 가는 마당에 최소한 국빈 대접을 받는 모습이라도 국민들에게 보여주려는 마음 역시 이해못할 바 아니다 국빈 초청 문제 등이 변수로 작용하면서 결국 무역협상 타결을 위한 미중 정상회담은 다음달 이후로 넘어갔다 스티븐 므누신 미 재무장관은 이날 하원 세입위원회 청문회에서 무역 정상회담은 이달말 열리지 않을 것 이라고 말했다 통신에 따르면 미중 무역협상에 정통한 미국측 소식통은 미중 양국은 무역협상이 진전되고 있다고 주장하지만 트럼프 대통령의 개인 별장인 미국 플로리다주 마라러고 리조트에서 희망적인 정상회담이 개최되려면 4월말이나 돼야 할 것 이라고 말했다 트럼프 대통령의 경제참모인 래리 커들로 백악관 국가경제위원회 위원장도 최근 방송 인터뷰에서 미중 정상회담이 이달이 아닌 4월에 열릴 수도 있다고 밝힌 바 있다 당초 월스트리트저널 등 주요 현지 언론들은 미중 무역협상 타결을 위한 미중 정상회담이 시 주석의 3월 유럽순방 이후인 27 28일쯤 열릴 것으로 예상했었다 트럼프 대통령은 이날 백악관에서  들로부터 미중 무역협상에 대한 질문을 받고 최종 타결에 이를 것인지 여부에 대해 말하고 싶지 않다 며 우리에게 좋은 거래가 아니라면 성사시키지 않을 것 이라고 답했다 전날 트럼프 대통령은 중국과의 무역협상에 대해 나는 절대로 협상을 서두르지 않는다 협상이 바르게 진행되기를 바랄 뿐 이라며 타결 연기 가능성을 시사했다 그러면서 미중 무역협상 대상에 미국의 지식재산을 다루는 방식과 중국의 구조개혁 문제를 포함시키고자 한다고 밝혔다 글렌메드의 제이슨 프라이드 수석투자책임자는 미중 무역협상에 대한 낙관론이 점점 사그라들고 있다 며 시장은 타결이 임박한 것을 전제로 이를 주가에 반영해왔는데 단기적으론 그럴 가능성이 낮아졌다 고 말했다 미중 무역협상 관련 난기류에 이날 뉴욕증시는 혼조세로 마감했다 다우존스산업평균지수는 직전 거래일 대비 7 05포인트 0 03 오른 2만5709 94로 거래를 마쳤다 최근 항공기 추락 사고와 관련 주력 항공기 737맥스 기종의 인도를 중단한 보잉은 이날 1 하락했다 반면 스탠더드앤드푸어스 500지수는 2 44포인트 0 09 내린 2808 48을 기록했다 500 지수는 전날까지 3일 연속 상승하며 연중 최고 기록을 경신했었다 기술주 중심의 나스닥종합지수는 12 50포인트 0 16 떨어진 7630 91에 장을 마감했다 나스닥지수 역시 전날까지 사흘 연속 상승했었다 대형 기술주 그룹인 페이스북 아마존 애플 넷플릭스 알파벳 도 애플을 빼고 모두 하락했다 특히 페이스북은 미국 연방검찰이 가입자 정보 공유 문제로 수사 중이라는 뉴욕타임스 의 보도에 2 가까이 떨어졌다 파이낸셜의 제이 페스트리첼리 사장은 500 지수가 최근 잇따라 저항선에 부딪혔다 며 조정 가능성이 높아졌다 고 했다 그러나 미중 무역협상의 수혜주로 꼽히는 정보기술 주 만큼은 랠리를 이어갈 것이란 전망도 있다 뱅크프라이빗웰쓰의 제프 지퍼 상무는 기술주들이 지난해말 급격하게 떨어진 만큼 이제는 반등하는 것 이라며 현재 기술주는 가장 유망한 분야 가운데 하나 라고 말했다 뉴욕 미국 이상배 특파원 140 승리 정준영 몰카 동영상 파문 조 변호사의 가정상담소 머투가 봄맞이 선물 주나봄 저작권자       및   금지 \n순위:34 / 문서:C:/Users/brsta/ICT_AI_AdvanceClass_NLP/0314_DownloadedNewstxts//세계-0002446876.txt / 유사도:0.00540769789332645\n   document:   기술분석팀 실속방지 시스템 위험 평가에티오피아 항공기 추락사고 11일 전에 보고당국은 개선지침 요청받고도 안전 승인 독촉미 국토부 검찰 안전성 승인 과정 조사 착수 보잉737 맥스8 기종 여객기가 넉달여 만에 두 건의 추락 사고를 일으킨 가운데 미국 연방항공청 과 보잉이 이 기종에 처음 적용한 자동 실속 방지 시스템의 결함을 알면서도 이를 무시했던 것으로 밝혀지고 있다 더욱이 연방항공청은 이달 10일 에티오피아항공 추락 사고가 나기 11일 전에 기술분석팀으로부터 이 시스템에 대한 위험 평가를 보고받고도 안전성 승인을 독촉했다는 증언이 나왔다 보잉은 2015년 유럽의 경쟁사인 에어버스의 320네오 시리즈에 맞서 보잉737 맥스 시리즈를 개발해 2017년 5월부터 상업운항을 시작했다 이 기종에는 항공기가 양력 유지에 필요한 속도를 잃고 추락하는 것을 자동으로 막아주는 조종특성향상시스템 이 처음 장착됐다 그런데 연방항공청의 책임자급 관리들이 소속 엔지니어들에게 이 시스템의 안전성 평가를 보잉에 위임하고 승인을 서두르라고 압박했다고 미국 시애틀 타임스 가 17일 익명을 요구한 전현직 연방항공청 엔지니어들을 인용해 보도했다 이 신문이 입수해 공개한 당시 엔지니어팀의 시스템 안전 분석 보고서가 제기한 문제는 크게 세 가지로 요약된다 지난해 6월 인도의 한 항공사에 인도된 보잉737 맥스8 기종의 조종석 뭄바이 로이터 연합뉴스 첫째 실속 속도를 잃음 우려가 있을 경우 추락 방지를 위해 자동으로 작동하는 수평꼬리날개 승강타의 작동 범위가 최초 설계보다 4배 이상 크게 작동해 과도한 하강을 일으키는 문제를 과소평가했다 둘째 실속 방지 시스템이 기수를 낮추는 현상을 조종사가 통제하려 할 때 시스템의 반응에 대한 설명이 없다 셋째 기체의 상승각을 감지해 실속 방지 시스템에 정보를 전송하는 센서 한 개에만 의존하는 이 시스템의 안전성 평가는 최하등급인 재앙적 의 바로 위 단계인 위험 으로 안전성이 확보되기 전까지 사용을 금지해야 한다 당시 기술 분석과 승인 과정을 잘 알고 있는 이들은 보잉과 연방항공청이 최근 에티오피아항공 추락 사고가 나기 11일 전에 이같은 평가를 보고받았으나 무시했다고 입을 모은다 그러나 시애틀 타임스 의 문의에 대해 지난주 연방항공청은 표준 검증 절차를 따랐으며 지금은 바빠서 자세한 조사를 할 수 없다 고 밝혔다 보잉도 연방항공청이 737맥스 기종의 안전성 승인 기준을 적용해 검증한 뒤 모든 기준과 법규를 충족한다는 결론을 내렸다 고만 밝혔다 항공 기술 전문가들은 지난해 10월 인도네시아 라이언에어 여객기 추락은 이 기종의 실속 방지 시스템이 영향을 미친 게 분명하다며 이는 연방항공청이 항공기 안전 검증을 항공사에 너무 많이 위임하는 부적절한 관행을 보여주는 최근 사례일 뿐이라고 지적했다 에티오피아 교통장관도 17일  들과 만나 사고기의 블랙박스 데이터는 지난해 라이언에어 항공기 사고와 명백한 유사성이 있음을 보여준다 고 말했다 보잉737 맥스8 기종의 비행 모습 보잉사 누리집 갈무리 한편 미국 교통부와 연방검찰은 연방항공청이 보잉737 맥스 기종의 안전성을 승인한 과정을 면밀히 조사하고 있다고 월스트리트 저널 이 17일 소식통들을 인용해 보도했다 검찰은 에티오피아 항공기가 추락한 이튿날인 11일 최소 한 명의 737맥스 시스템 개발자에게 소환장을 발급했으며 항공기 안전 승인과 관련한 문서와 이메일 메시지 등을 이달 말까지 제출하라고 요구한 것으로 알려졌다 이 신문은 미국에서 연방검사가 상업용 항공기에 대한 연방 감독 부처의 설계 승인 과정을 수사하거나 연방항공청과 항공기 제조사 간의 부적절한 거래 의혹에 범죄 혐의를 적용하는 것은 극히 이례적 이라고 전했다 조일준   네이버 메인에서 한겨레 받아보기 한겨레 정기구독 영상 그 이상 영상 한겨레신문   및   금지 \n순위:35 / 문서:C:/Users/brsta/ICT_AI_AdvanceClass_NLP/0314_DownloadedNewstxts//경제-0000389333.txt / 유사도:0.004573639239589987\n   document:   서울시내 한 공인중개업소에 올라온 매물 사진 속 매물은 기사 내용과 무관함 사진 뉴시스 스마트폰앱 부동산거래가 보편화되면서 직방 다방 등 부동산앱 서비스도 변화하고 있다 최근 부동산앱 업체는 콘텐츠기업으로 다양한 변화를 시도 중이며 법무법인과 연계한 권리분석 등 부동산거래에서 중요한 정보서비스를 제공한다 하지만 부동산플랫폼 광고비 출혈 허위 과장 매물 도 해결할 과제다 손안에서 이뤄지는 미래 부동산플랫폼은 소비자에게 어떤 가치를 제시해줄까 편집자주 부동산거래 판도 바꾸는 플랫폼 하 허위 과장 매물 을 어찌할꼬 최근 주택시장에 허위 과장매물 이 넘친다 지속적인 단속에도 등록매물 사진을 조작하거나 가격정보를 허위로 제공하는 일이 빈번하다 집을 구하는 과정에서 허위매물 만큼 힘 빠지는 일도 없지만 여전히 시장에서 기승을 부린다 온라인 부동산중개서비스 플랫폼인 직방과 다방이 시장에서 인기를 누리며 대세로 자리잡은 만큼 이들에게 허위 과장매물은 반드시 풀어야할 숙제다 과연 이들은 어떤 해결책을 갖고 있을까 스테이션3의 집주인 검증 확인매물 제도 운영 광고 사진제공 스테이션3 매물 절반이 허위 과장 방금 나갔어요 빨리 오시지 다른 좋은 방도 많은데 보여 드릴게요 대학생 씨는 최근 황당한 경험을 했다 온라인 부동산중개서비스 플랫폼을 통해 매물을 확인하고 해당 공인중개업소에 방문했는데 방금 나갔다는 답변을 들었다 씨는 해당 매물이 뜬 스마트폰 화면을 보여주며 아직도 매물이 등록돼 있지 않냐 고 반문했지만 돌아오는 답변은 깜빡하고 못 내렸다 다른 좋은 방을 보여주겠다 였다고 말한다 최근 온라인 부동산중개서비스를 통해 방을 구하려 했던 이들은 씨와 같은 낚시 경험이 빈번하다 허위 과장매물이 판을 치고 있어서다 온라인 부동산중개사이트에 등록된 매물의 절반이 허위 또는 과장이라는 주장도 나왔다 이상식 한국소비자원 박사는 최근 국회 국토교통위원 소속인 박홍근 더불어민주당 의원과 한국인터넷광고재단이 주최한 온라인 부동산 허위매물 근절 입법 공청회 에서 이 같은 내용이 담긴 온라인 부동산 허위매물 실태조사 보고서를 발표했다 보고서에 따르면 온라인 부동산중개사이트 이용경험자 중 수도권 거주 500명에 대해 소비자인식조사를 실시한 결과 응답자의 58 8 294명 가 허위매물에 당한 경험이 있는 것으로 조사됐다 이 박사는 지난해 8 11월 온라인 부동산중개사이트 4곳의 매물광고 200건에 대해 사전 전화예약 후 방문하는 현장방문조사도 실시했는데 45 5 91건 가 허위 또는 과장매물로 드러났다고 설명했다 허위매물은 23 5 47건 로 방문 직전 거래가 완료됐다 고 둘러대고 다른 매물을 권유하는 것이 대표적이다 또 나머지 22 0 44건 의 과장매물은 가격 층수 옵션 주차 사진 등이 광고와 실제가 다른 것으로 조사됐다 허위 과장 매물은 매년 늘어나는 추세다 한국인터넷자율정책기구 부동산매물클린관리센터에 따르면 지난해 2078개소의 공인중개업소가 부동산 허위 과장매물에 따른 제재를 받았는데 이는 전년 대비 약 29 늘어난 수치다 2078개소의 중개업소는 4185건의 매물 등록 제한 페널티를 받았다 는 이에 대해 1개의 중개업소당 2건의 페널티를 중복으로 받았다는 것을 의미한다고 설명했다 페널티 건수 역시 1년 전 2627건 보다 59 증가한 것으로 나타나 허위 과장매물의 심각성을 나타냈다 제재는 한계 결국 자정해야직방과 다방에게도 허위 과장매물은 굉장한 골칫거리다 시장의 대세로 떠올라 이용자가 늘어난 만큼 허위 과장매물 역시 뿌리 깊게 박힌 탓이다 직방과 다방은 허위 과장매물을 잡기 위해 어떤 조치를 취하고 있을까 허위매물아웃프로젝트 를 시행 중인 직방은 사내 허위매물아웃연구소까지 설립했다 직방이 연구소를 설립한 이유는 허위 과장매물 사례를 분석하고 사례별 대응 방안을 연구해 허위 과장매물에 효율적으로 대응하기 위함이다 연구소 인력은 기존 허위 과장매물 정책을 만들고 집행했던 고객안심팀 매물검수파트와 일선 현장에서의 부동산 중개 경험이 있는 연구원으로 구성됐다 현장 상황이 충분히 반영돼 이용자와 중개사 모두 공감할 수 있는 현실성 있는 정책을 연구하려는 의도다 허위매물아웃연구소는 효율적인 허위 과장매물 검증을 위해 매물을 분석하고 검증절차를 기획 정책을 수립하는 역할을 맡았다 연구소는 기존의 허위 과장매물을 사례별로 분석해 진화하는 허위 과장매물 동향을 연구하고 이를 통해 피해 가능성을 최소한으로 줄일 계획이다 직방 관계자는 허위 과장매물을 올린 중개사에게 사후제재를 가하는 것을 넘어 관련 피해 발생을 최소화할 수 있도록 정책을 만들고 실행할 것 이라고 설명했다 다방을 운영하는 스테이션3는 전체 인력의 10 를 매물검수팀에 배치했다 이들은 일평균 약 1만 여건에 달하는 신규 등록 매물에 대해 검수 및 제재 조치를 취한다 먼저 자동 검수 시스템을 통해 허위매물로 의심되는 매물은 자동 필터링이 돼 추가 검수를 거친다 또 매물관리팀의 자체 모니터링을 통해 지역 평균 기준과 맞지 않는 매물을 세부적으로 검수해 허위매물 여부를 판단한다 여기에 매물 등록 시 부동산 실소유자의 검증 과정을 자동화 한 방주인 매물 검증 자동화 솔루션 도 구축했다 실소유자의 검증 과정을 거쳤기 때문에 해당 매물이 현재 거래 중인 매물임이 분명하고 가격 및 상세정보 면에서도 일반 매물에 비해 신뢰도가 높다는 게 스테이션3의 판단 스테이션3 관계자는 허위매물로 확인되면 해당 공인중개업소에는 경고 징계 및 누적에 따라 전체 매물 비공개 이용정지 3일 7일 등의 징계가 이어지며 경고 4회 누적 시 해당 업소는 계약 해지 및 퇴출 조치를 받는다 며 이 같은 조치로 전월세 시장 성수기인 올 1 2월만 봐도 전년 대비 허위매물 신고 건수가 15 감소했다 고 설명했다 반면 공인중개업소의 자성이 문제 해결의 근본이라는 지적도 있다 영등포구의 공인중개업소 관계자는 일부에 불과한 허위 과장매물 때문에 전체 공인중개업자가 욕먹는다 며 억울한 면도 있지만 결국 스스로의 자정 노력이 뒷받침 돼야 한다 고 지적했다 사진제공 직방 본 기사는 머니 제583호 2019년 3월12 18일 에 실린 기사입니다 김창성     박학다식   저작권자   머니   및   금지 \n순위:36 / 문서:C:/Users/brsta/ICT_AI_AdvanceClass_NLP/0314_DownloadedNewstxts//IT과학-0000023756.txt / 유사도:0.004534217431262051\n   document:   지난 3월11일 유플러스는 한양대학교 에이스 랩 과 공동 개발한 자율주행차를 공개했습니다 유플러스는  를 통해 세계 최초 5 기반의 자율주행차가 일반 차량들과 서울 도심 도로를 달린다 라고 표현했습니다 어딘가 익숙한데요 2017년 평창동계올림픽 기간 동안 는 강릉 평창 등지에서 5 협력 자율주행 버스를 선보였습니다 이때 의 자율주행 버스에도 세계 최초 타이틀이 붙었습니다 텔레콤은 지난해 세계 최초로 복수의 자율주행차가 5 기반 협력 자율주행에 성공했다고 발표했고요 12월1일 텔레콤은 5 전파를 송출하면서 경기도 화성의 자율주행 테스트베드 시티 와 시흥 일반도로에서 5 자율주행차 테스트 운행에 나섰다고  를 통해 밝히기도 했습니다 이 때문에 유플러스  간담회 말미  들의 질문이 쏟아졌습니다 세계 최초가 확실하냐는 거였죠 유플러스는 세계 최초가 맞다 고 확언했습니다 이통사들은 불편한 심기를 내비쳤습니다 텔레콤 관계자는 이미 5 로 자율주행을 한 사례가 있는데 유플러스가 도심에서 자율주행을 했다고 해서 세계 최초 5 자율주행이라 표현하는 건 무리가 있다 라고 지적했습니다 관계자는 남의 집 잔치에 굳이 끼어들고 싶지는 않다 라고 언급을 피했지만 우리도 5 자율주행을 했는데 환경과 범위를 한정하고 좁혀서 세계 최초라고 말하면 그걸 아니라고 할 수는 없다 라는 입장을 밝혔습니다 탐나는 수식어 세계 최초 그래서 누가 세계 최초 5 자율주행을 한 거냐고요 기준에 따라 다릅니다 예를 들어 텔레콤이 지난해 세계 최초라고 했던 건 5 자율주행차가 서로의 운행 경로를 공유하면서 협력 운행에 성공한 것은 이번이 세계 처음 이라던 거였는데요 유플러스의 자율주행은 5 상용 기지국과 연결된 상태로 도심도로에서 자율주행한 세계 최초의 사례라는 겁니다 강종오 유플러스 부문 미래기술담당은 5 통신기술을 상용화해 실제 도심에서 자율주행에 이용한 것은 이번이 세계 최초 라며 유플러스는 통신사 중 5 를 가장 빠르고 촘촘하게 준비하고 있다 라고 말했습니다 참고기사 차 2대로 세계 첫 5 자율주행 우리가 먼저 2018   유플러스에 따르면 는 5 비표준으로 자율주행을 했고요 텔레콤의 5 자율주행은 변수가 통제된 시티에서 이뤄져 한계가 있었다는 겁니다 텔레콤이 시흥 일반도로에서도 5 자율주행차를 운행했다고  를 통해 배포했지만 시흥에서의 자율주행은 제대로 된 5 가 아니었던 것으로 안다 라며 진정한 5 망 에서 자율주행차를 운행한 것은 처음이 맞다 라고 말했습니다 잠깐 자율주행으로 돌아가보자면요 일반도로에서의 자율주행 경험 은 상당히 중요합니다 이건 사람도 마찬가지입니다 아무도 없는 도로 정해진 구간에서 혼자 운전연습을 하던 초보 운전자를 갑자기 홍대나 종로 여의도에 똑 떨어뜨리면 어떻게 될까요 멘붕 을 겪을 겁니다 자율주행차도 마찬가지입니다 일반도로는 도처에 수많은 변수가 있습니다 모든 운전자가 교통법규를 잘 지키는 것도 아니고 도로 상황도 시시각각 달라지는 데다가 예기치 못한 사고와도 맞닥뜨릴 수 있습니다 자율주행기술을 연구하는 기업들이 국토교통부에 자율주행 면허를 받고 운전하러 다니는 것도 이런 이유입니다 웨이모 우버 등 자율주행기술을 선도하는 기업들이 자율주행 택시를 시범적으로 운영하고 있는 것도 마찬가지고요 5 가 자율주행차에 접목되면 어떻게 될까요 5 는 초연결 초고속 초저지연이 특징입니다 그 특징을 살리려면 이번처럼 도로를 운전하는 차량 한 대에 적용해 달리는 것보다는 여러 대의 차량이 통신과 연결돼 동시에 주행하고 도시 제반시설 역시 5 와 연결돼 있어야 합니다 그렇게 되면 차량이 서로 정보를 교환하며 달리고 앞차가 서면 뒤에 오던 차가 정보를 받아 미리 속도를 늦추게 됩니다 이날 유플러스는 통신 정밀측위 관제 다이내믹 지도 인포테인먼트에 주안점을 두고 자율주행 기술을 개발하고 있다고 말했습니다 에이원의 자율주행 시연에는 5 망을 통한 차량 관제 기술이 적용됐습니다 관제센터에서 5 망을 통해 목적지 주변의 사고 정보를 에이원에게 전달하자 에이원은 다른 경로로 이동하겠다고 안내했습니다 당초 진입하려던 서울숲 북측 입구 대신 동쪽 입구로 주행 경로를 변경했죠 하지만 정해진 구간을 이동하는 동안은 에이원 자체의 자율주행 기술이 뛰어나 문제가 없었고요 동쪽 입구로 주행 경로를 변경한 데서 5 가 역할을 했지만 예정된 시나리오대로 진행된 거라 자율주행차에서 5 의 조력자 역할이 그다지 드러나지 않기도 했고요 계명대 김수연 조교수는 5 자율주행차는 예기치 않은 시나리오대로 흘러가도 잘 동작하는 것이 핵심이다 이번에는 초보적인 단계에서 시험한 거라 볼 수 있다 라며 당장 5 자율주행 시대가 열릴 것처럼 기대하는 데는 무리가 있지만 지금의 5 환경에 한계가 있는데 그 정도 동작한 것만 해도 출발점으로는 의미가 있다 라고 평가했습니다 사실 이통사들이 너도나도 세계 최초 를 남발하는 통에 단어가 가지는 무게감이 많이 줄어 들었습니다 블로터 앞에는 장충동 족발 골목이 있는데요 모든 가게가 간판에 원조 를 달고 있습니다 가장 오래 있던 터줏대감이라 원조 족발로 제일 유명한 곳이라 또 원조 불족발을 가장 먼저 내놔서 원조 또는 그냥 다 원조니까 나도 원조 모두가 원조라 주장하면 더 이상 원조 라는 말에는 의미가 없더라고요 그래서 저는 가는 집만 갑니다 그 집 족발이 제일 맛있거든요 김인경   저작권자 주 블로터앤미디어 저작권자를 명기하고 내용을 변경하지 않으며 비상업적으로 이용하는 조건아래   가능합니다 \n순위:37 / 문서:C:/Users/brsta/ICT_AI_AdvanceClass_NLP/0314_DownloadedNewstxts//정치-0010701726.txt / 유사도:0.004219219482943289\n   document:   법무 행안장관 보고받고 공소시효 남은 범죄 엄정 사법처리 진실규명 못하면 정의로운 사회 말할 수 없어 은폐 특혜 의혹이 핵심 검경 지도부 책임지고 성역없이 조사하고 의혹 낱낱이 규명해야 문 대통령 장자연 김학의 버닝썬 사건 의혹 낱낱이 서울 연합뉴스 문재인 대통령이 18일 오후 청와대에서 박상기 법무부 장관과 김부겸 행정안전부 장관으로부터 장자연 김학의 버닝썬 사건 관련 보고를 받고 지시 사항을 전달하고 있다 문 대통령은 법무부 장관과 행안부 장관이 함께 책임을 지고 사건의 실체와 제기되는 여러 의혹은 낱낱이 규명해 주기 바란다 고 밝혔다 청와대 제공 서울 연합뉴스 이상헌 임형섭 박경준   문재인 대통령은 18일 클럽 버닝썬 과 경찰의 유착 의혹을 비롯해 김학의 전 법무부 차관의 별장 성접대 의혹 및 고 장자연씨 사건에 대한 철저한 수사를 지시했다 문 대통령은 이날 오후 청와대에서 박상기 법무 김부겸 행정안전부 장관으로부터 세 사건과 관련해 보고받고 법무부 장관과 행안부 장관이 함께 책임지고 사건의 실체와 제기되는 여러 의혹을 낱낱이 규명해 주기 바란다 고 말했다고 김의겸 청와대 대변인이 브리핑에서 밝혔다 문 대통령은 공소시효가 끝난 일은 그대로 사실 여부를 가리고 공소시효가 남은 범죄 행위가 있다면 반드시 엄정한 사법처리를 해 주기 바란다 고 지시했다 이에 따라 경찰은 현재 수사 중인 버닝썬 유착 의혹 사건을 수사팀을 대폭 확대하는 등 전방위적인 수사에 착수할 것으로 보인다 아울러 김학의 장자연 사건을 다루고 있는 대검찰청 진상조사단도 이달로 종료되는 활동기한을 연장해 원점에서 대대적인 수사에 들어갈 가능성이 제기된다 문 대통령은 특히 이 사건들에 검 경이 유착됐다는 의혹이 제기된 것에 대해 진실을 밝히고 스스로 치부를 드러내고 신뢰받는 사정기관으로 거듭나는 일은 검찰과 경찰의 현 지도부가 조직의 명운을 걸고 책임져야 할 일 이라고 강조했다 문 대통령은 국민이 보기에 대단히 강한 의혹이 있는데도 오랜 세월 진실이 밝혀지지 않았거나 심지어 은폐된 사건들이 있다 며 공통 특징은 사회 특권층에서 일어난 일이고 검 경 등 수사기관이 고의로 부실 수사하거나 나아가 적극적으로 진실 규명을 가로막고 비호 은폐한 정황들이 보인다는 것 이라고 지적했다 그러면서 국민은 진실규명 요구와 함께 과거 수사과정에서 도대체 무슨 일이 있었고 그 이유는 무엇인가 에 대해 강한 의혹과 분노를 표출하고 있다 고 했다 이어 문 대통령은 사회 특권층에서 일어난 이들 사건의 진실을 규명해 내지 못하면 우리는 정의로운 사회를 말할 수 없을 것 이라고 언급했다 문 대통령은 사건의 실체적 진실과 함께 검찰 경찰 국세청 등의 고의적 부실수사와 조직적 비호 은폐 특혜 의혹 등이 핵심 이라며 힘 있고 빽 있는 사람들에겐 온갖 불법과 악행에도 진실을 숨겨 면죄부를 주고 힘없는 국민은 억울한 피해자가 돼도 법의 보호를 받지 못하고 두려움에 떨어야 했다는 것 이라고 짚었다 문 대통령은 검찰 경찰이 권력형 사건 앞에서 무력했던 과거에 대한 깊은 반성 위에서 과거에 있었던 고의적 부실 비호 은폐 수사 의혹에 대해 주머니 속을 뒤집어 보이듯이 명명백백하게 밝혀내지 못한다면 사정기관으로서의 공정성과 공신력을 회복할 수 없을 것 이라고 역설했다 이어 다시 강조하지만 이를 바로 잡지 못하면 결코 정의로운 사회라고 말할 수 없다 며 철저한 조사를 거듭 지시했다 문 대통령 장자연 김학의 버닝썬 사건 등 보고 의혹 규명하라 서울 연합뉴스 배재만   청와대 김의겸 대변인이 18일 오후 춘추관 대브리핑룸에서 브리핑을 통해 문재인 대통령이 오늘 오후 2시부터 1시간 동안 청와대에서 박상기 법무부장관과 김부겸 행정안전부 장관으로부터 장자연 김학의 버닝썬 사건 관련 보고를 받고 사건의 실체와 제기되는 여러 의혹들은 낱낱이 규명해 주기 바란다 고 지시했다고 밝히고 있다 문 대통령은 이 가운데 버닝썬 사건과 관련 연예인 등 일부 새로운 특권층의 마약류 사용과 성폭력 등이 포함된 불법적 영업과 범죄 행위에 대해 관할 경찰과 국세청 등 일부 권력기관이 유착해 묵인 방조 특혜를 줬다는 의혹이 짙은 사건 이라며 의혹이 사실이라면 큰 충격이 아닐 수 없다 고 밝혔다 이어 이들의 드러난 범죄 행위 시기와 유착관계 시기는 과거 정부 때의 일이지만 동일한 행태가 지금 정부까지 이어졌을 개연성이 없지 않기에 성역을 가리지 않는 철저한 수사 조사가 필요하다 고 강조했다 문 대통령은 유사한 불법 영업과 범죄 행위 권력기관의 유착행위가 다른 유사한 유흥업소에서도 있을 수 있으므로 그 부분에 대해서도 집중적인 수사 조사가 있어야 할 것 이라고 주문했다 검경의 명운을 걸라 는 문 대통령의 언급이 검경수사권 조정과 연관 지을 수 있느냐는 물음에 김 대변인은 오늘 보고에서 검경수사권이나 공수처 등에 대해 나온 얘기는 없었다 고 답했다 다만 대통령의 언급은 국민이 이 사건과 관련해 검찰 경찰에 따가운 시선을 보내고 있는 데다 국민 신뢰가 무너지면 두 조직도 바로 서기 어려운 현실을 지적하면서 한 점의 의혹도 없이 철저하게 하라는 의미 라고 설명했다 김 대변인은 세 사건은 다른 트랙을 갖고 있다 며 버닝썬 사건은 현재 경찰 수사 중이며 장자연 사건은 과거사진상조사단이 이달까지 조사해 결과를 발표하고 검찰에 권고하면 그때부터 검찰이 어떻게 처리할지 결정할 수 있다 고 말했다 또 김학의 사건은 진상조사단이 어떻게 할지 지금도 회의하는 것으로 안다 며 진상조사단이 조사 기간을 한 차례 더 연장해달라고 요청한 것으로 아는데 어떻게 결정되느냐에 따라 검찰 수사 여부가 결정될 것 이라고 밝혔다 그는 장자연 사건의 공소시효가 끝났다는 지적에 일괄적으로 모든 경우에 다 해당하지 않는 것으로 안다 며 구체적인 내용은 진상조사단 결과를 봐야겠지만 그중 일부는 여전히 공소시효가 남아있는 부분이 있다 고 언급했다 그러면서 공소시효 걸리는 부분과 남은 부분을 진상조사단이 나름 판단해 검찰에 권고할 것으로 본다 고 부연했다 그는 이달 말로 예정된 대검찰청 진상조사단의 활동기한 연장 여부에 대해 대통령은 그와 관련한 특별한 말씀이 없었다 며 법무부 과거사위와 진상조사단의 오늘 회의에서 합의가 이뤄질 것 이라고 말했다 김 대변인은 세 사건의 대통령 보고 배경과 관련해선 가장 큰 현안으로 대두했고 오늘 오전 민정수석이 보고 필요성을 보고한 것으로 안다 고 말했다 네이버 홈에서 연합뉴스   뭐 하고 놀까 흥 쇼미더뉴스 오늘 많이 본 뉴스영상 \n순위:38 / 문서:C:/Users/brsta/ICT_AI_AdvanceClass_NLP/0314_DownloadedNewstxts//세계-0000373962.txt / 유사도:0.0035743478155115115\n   document:   지난해 9월 러시아 블라디보스토크 루스키섬에서 열리는 2018 동방경제포럼 을 앞두고 수호이 35 전투기가 루스키섬 상공에서 시험 비행을 하고 있다 인도네시아는 현재 35 11대 도입을 추진 중이며 협상 막바지 단계에 놓여있다 블라디보스토크 타스 연합뉴스세계에서 한국산 무기를 가장 많이 사는 나라는 어딜까 스웨덴 싱크탱크 스톡홀름국제평화연구소 에 따르면 정답은 인도네시아다 2014년 2018년 한국이 수출한 무기의 17 가 인도네시아로 향했다 국방력 세계 15위 비동맹 내세운 동남아 강국아직도 많은 이들이 인도네시아를 동남아시아국가연합 아세안 의 한 나라 정도로 알고 있지만 인도네시아는 이 지역의 패권국가 즉 맹주다 인구는 2억7 000만명에 육박해 세계 4위 미국 글로벌파이어파워 가 발표한 2019년 국방력은 세계 15위로 동남아에서 가장 높다 그래서 능동적이고 자주적인 비동맹 중립외교 를 표방한다 특정 패권질서에 들어가는 대신 미국 중국과 각각 양자적 유대관계를 적극 추구한다는 것이다 낭만적인 소리 같지만 아예 불가능한 것도 아니다 주변에 공공연한 적성국이 없어 외침 우려가 적다 호주 시드니대학 미국연구센터의 인도네시아 자립을 위한 미중 균형외교 보고서가 이 나라의 외부 안보 상황을 대체로 온화하다 고 묘사한 것도 이 때문이다 게다가 미국과 중국도 동남아에서 맹주적 지위를 인정 인도네시아를 존중한다 물론 미중 패권 경쟁에 따른 역내 안보 질서 변동 남중국해 분쟁 지정학적 위치상 호주 말레이시아 싱가포르 등과 잠재적인 긴장 관계는 주요 안보 변수이다 인도네시아에 수출된 한국 해군의 장보고급 잠수함 한국일보 자료사진외부 위협은 크지 않지만 해양국가인 만큼 인도네시아는 육군보다는 최근 해 공군 현대화에 박차를 가하고 있다 그리고 군 현대화의 핵심은 러시아제 신형 다목적 전투기 수호이 35와 한국 대우조선해양의 장보고급 잠수함이다 방산 전문매체 제인스360에 따르면 인도네시아 해군은 8년 전 3척을 도입한 데 이어 최근에도 209급 장보고함을 개량한 1 400톤급 잠수함 3척의 추가 도입을 위한 최종 협상을 벌이고 있다 미국의 견제에도 불구 35 11대 도입을 위한 인도네시아와 러시아간 협상도 막바지 단계다 이 같은 움직임에 대해 시드니대 보고서는 인도네시아 지도자들은 미중 패권 다툼에 따른 세계질서 변동이 인도네시아가 대국 으로 성장할 기회를 줄 것으로 보고 있다 고 설명했다 최근의 군비 확충이 동남아 역내 패권 유지뿐만 아니라 글로벌 파워로서의 도약을 위한 준비라는 것이다 군 현대화로 입지 다지고 글로벌 해상 강국 꿈꿔 조코 위도도 조코위 현 인도네시아 대통령이 2014년 7월 대선에서 승리한 직후 당선인 신분으로 통합된 인도네시아 를 뜻하는 세 손가락 사인을 들어 보이며 지지자들을 반기고 있다 연합뉴스 자료사진실제로 조코 위도도 조코위 현 대통령은 2014년 대선 캠페인에서 글로벌 해양 강국 을 새로운 국가 비전으로 발표했다 인도네시아는 1만8 000여개에 달하는 크고 작은 섬들로 이루어진 세계 최대의 도서국가 다 동자바섬 일대에서 수세기 전 해상왕국의 위용을 떨쳤던 마자파히트 왕국에서 영감을 받은 조코위 대통령은 국내 발전과 역내 안정을 위해 해양 국가 의 정체성 확립을 내세우며 전임인 군 장성 출신 수실로 밤방 유도요노 전 대통령에 이어 군비 지출을 계속 늘리고 있다 2000년대 초반 2조원 내외였던 국방비는 현재 9조원을 넘고 있다 현대의 대표적인 전술수송기 록히드 마틴사가 130 이후 내놓은 후계기종 130 슈퍼 허큘리스 코리아타임스 자료사진앞서 언급한 것처럼 35 11대 영해 방어 치안 유지를 위해 장보고급함을 비롯한 잠수함 12대 도입에 군비의 상당수가 투입 중이다 2008년 2017년 무기 수입액 53억9 000만달러 중 39 와 31 3 가 항공기와 함정 구입에 각각 사용됐다 제인스360에 따르면 미국제 130 허큘리스 수송기의 60년대 노후화된 모델 20기를 130 슈퍼 허큘리스로 교체하는 방안도 검토 중이다 인도네시아의 군 현대화 작업은 한국 방산분야에 훈풍으로 작용해 왔다 이미 우리나라로부터 한국항공우주산업 의 50 고등훈련기 대우조선해양의 장보고함을 개량한 1 400톤급 잠수함 등을 수입했다 협력 수준이 예전 같지는 않지만 와 사업비를 공동 부담 20 1조7 000억원 해 2026년까지 차세대 전투기를 개발하는 사업의 당사자이기도 하다 일대일로 인도태평양 편 안 들것 올해 2월 열린 동남아 최대 다자간 군사훈련 코브라골드 2019 에서 미군이 상륙 돌격 훈련을 하고 있다 인도네시아는 주요 7개국 중 하나로 참여했다 코브라골드 훈련의 규모가 날로 커지면서 대중 포위망 구축의 일환이라는 분석도 나오는 가운데 중국과 인도는 인도적 민사 활동 부분에서만 참여했다 촌부리 연합뉴스인도네시아의 군사력 증강은 미중 사이에서 중립적 위치를 확보하고 독립 자주적 외교 방침을 유지하려는 노력의 일환이다 지난해 사우스차이나모닝포스트 기고에서 루훗 빈사르 판자이탄 해양조정장관은 미들 파워 중견국 로서 인도네시아는 중재자 역할을 할 것 이라면서 어느 한쪽 편을 드는 것은 양쪽의 레버리지를 모두 없앨 것 이라고 밝혔다 레트노 마르수디 외무장관도 올 1월 외교연설에서 인도양과 태평양이 천연자원을 놓고 다투거나 해양패권을 차지하는 데 이용돼서는 안 된다 고 발언했다 다만 전술적으로 특정 사안에 대해서는 미국과 중국 사이에서 명확한 입장을 밝힐 수는 있다 남중국해 분쟁은 특히 그렇다 지난해 12월 인도네시아는 중국과의 어업권 분쟁이 불거졌던 남중국해 나투나 제도에 1 000명 이상이 주둔 가능한 새 군사기지를 설치해 운영에 들어갔다 해당 해역은 인도네시아의 배타적경제수역 이지만 일부 지역이 중국이 자국령으로 주장하는 남해 9단선 과 겹쳐 양국 간 분쟁 대상이 되고 있다 지난해 10월22일 중국 아세안 합동군사훈련이 최초로 열린 가운데 중국 광동성 잔장에서 중국인민해방군 소속 군과 해군들이 개막식에서 중국 국기를 들고 행진하고 있다 잔장 로이터 연합뉴스지난해 7월에는 일본과 이틀간 합동훈련을 했으며 올 2월 미국과 태국이 주최한 동남아 최대 다자간 군사훈련인 코브라 골드 에서는 한국 일본 등과 함께 주요 7개국 중 하나로 참여했다 지난해 10월 사상 처음으로 진행됐던 아세안 중국 합동 해상훈련에 군함을 보내지 않고 관측병만 파견한 것과는 대비된다 하지만 다른 분야에서는 중국과 경제 군사 측면에서 우호적인 관계를 유지하기 위해 노력하고 있다 미국의 외교안보전문매체 더 디플러맷 에 따르면 인도네시아와 중국은 2011년 방위산업협력을 추진하기로 합의한 데 이어 정기적으로 방산협력회의를 열고 있다 1955년 당시 미국과 소련 양 진영에 속하지 않았던 아시아 아프리카 국가들이 모임인 반둥회의 를 주도 비동맹 중립 외교의 역사를 이어오고 있는 인도네시아로서는 양쪽 채널을 모두 열어 놓으려는 욕심이 있는 것이다 루훗 해양조정장관은 기고글에서 인도네시아에 대한 중국의 위협은 없다 면서 다만 경제력 군사력에 있어 중국의 책임 있는 자세를 보고자 할 뿐 이라며 중국과의 정면충돌 피했다 중국을 외면하지 못하는 가장 큰 이유는 경제다 20일 자카르타포스트 등 현지 언론 따르면 루훗 장관은 인도네시아가 중국의 일대일로에 동참할 것이며 130조원 상당의 인프라 건설 사업 28개 프로젝트를 중국 투자자들에게 곧 제안할 것이라고 밝혔다 그간 조코위 대통령은 경제발전의 기반을 마련하기 위해 도로와 항만 전력 등 핵심 인프라 구축 사업 추진했으나 국제 원자재 가격 하락이 장기화되는 등의 이유로 재원 마련에 어려움 겪어왔다 이에 중국에 적극적으로 손을 내밀어 성장 기회를 모색하려는 것이다 인도네시아는 앞으로도 미들 파워 의 군사력을 바탕으로 비동맹 노선을 견지하면서 미국과는 군사 협력을 맺는 한편 중국의 일대일로 사업에 동참해 대국 으로 성장할 기회를 모색할 것으로 보인다 최나실   한국일보 페이스북 카카오 친구맺기   한국일보를 구독하세요 \n순위:39 / 문서:C:/Users/brsta/ICT_AI_AdvanceClass_NLP/0314_DownloadedNewstxts//사회-0010681732.txt / 유사도:0.00260009528447847\n   document:   40 종 넘는 가습기살균제 1천만 개 팔렸어 이중 극소수만 사법처리 정부 판정 기준 너무 협소하고 엄격해 피해신고자 6천여 명 중 10 만 피해 인정 소아암 치료 중 외래진료할 정도로 경과 좋아졌다가 애경 가습기메이트 사용후 사망 신경모세포종 으로 치료받던 16세 아들 갑자기 사망한 원인은 전혀 관계없는 폐출혈 옥시 뒤에 숨어있던 애경 과 케미칼 거의 대부분 어떠한 처벌이나 피해배상도 없어 유해성 몰랐다 던 국정조사 증언 거짓말로 드러나 과실치사 살인죄에 대한 수사 필요 정부가 허가한 유명회사 제품 사용한 게 무슨 죄 인과관계를 피해자가 밝혀야 하나 잠재적 피해자 50만명쯤 될 것 피해사례 밝히고 기업이 반증 하는 방식으로 전환해야 프로그램명 오태훈의 시사본부 코너명 시사본부 이슈 방송시간 3월 18일 월요일 12 20 14 00 1라디오 출연자 최예용 부위원장 사회적참사 특조위 김정백 피해 유가족 오태훈 가습기살균제 사건 피해 보상이 지금 아직도 끝나지 않고 있습니다 최근에 케미칼이 제품의 유해성을 인지하고도 살균제 제조업체에게 원료를 공급해왔다는 사실이 드러나기도 했는데요 여기에 대해서 좀 자세하게 살펴보도록 하겠습니다 사회적참사 특별조사위의 최예용 부위원장 연결해서 말씀 나누겠습니다 나와 계시죠 최예용 네 안녕하세요 오태훈 먼저 이 가습기살균제 하면 옥시라는 업체가 많이 떠오르는데요 그때 옥시 전 대표가 형이 확정됐다고도 들었고 어느 정도 마무리가 됐다고 생각하시는 분들도 계실 것 같은데 아닌가봐요 최예용 네 아닙니다 가습기살균제 사건은 모두 40개가 넘는 그런 제품에 거의 1천만 개 팔린 그런 사건인데 지난 2016년 사회자께서 말씀하시는 2016년에 검찰수사는 그중에 아주 일부만 6개 제품에 대해서만 법적인 사법 처리가 이루어졌습니다 물론 거기에 옥시가 포함이 되어 있고 옥시가 이 사건에서 가장 많이 참여했고 또 피해자도 많기 때문에 대표적인 그런 제품과 문제 기업으로 지목이 되고 있습니다만 여기에서 빠진 그러니까 2016년도 검찰 수사에서 빠진 제품과 기업들도 상당수가 많고 그중에 애경 가습기메이트 이런 제품이 있고 또 케미칼의 책임 문제라든지 또 대형할인마트에서 판매되었던 이마트라든지 이런 곳의 절반 이상이 사실 그때 수사에서 빠졌습니다 오태훈 그랬군요 그러면 앞선 수사에서 옥시 관련돼서는 사용자들 피해 보상 같은 것들은 어떻게 이루어진 건가요 그러면 최예용 아주 일부만 이루어지고 있습니다 정부의 판정 기준이 너무나 협소하고 엄격해서 전체 피해 신고자의 한 10 만이 인정이 되고 나머지 90 는 인정을 못 받고 있는 상태고요 그러다 보니까 옥시 측에서는 정부가 인정한 피해자에 대해서만 또 배보상을 해요 그러니까 전체 피해자가 지금 6천 명이 넘는데 피해 청구자가 5천 명 넘는 사람들이 여전히 피해자로 인정도 못 받고 배보상도 못 받고 그분들의 신체적인 정신적인 고통은 이루 말할 수가 없는 상태입니다 오태훈 참 시간이 상당히 흘렀음에도 불구하고 현재까지도 지금 이게 해결이 되고 있지 않다는 게 황당할 따름인데 그러면 여기서 지금 앞서 말씀해 주셨던 애경의 가습기메이트로 인해서 아들을 잃은 피해자 한 분 먼저 연결해보고 계속해서 최예용 부위원장과 말씀 나누겠습니다 피해자 나와 계시죠 김정백 예 여보세요 오태훈 예 안녕하십니까 먼저 아드님이 가습기메이트 사용으로 인해서 사망했다고 제가 들었습니다 정확히 언제부터 사용했고 어떤 증상들이 나타났는지요 김정백 2010년도에 1월부터 11월까지 소아암으로 치료 중에 있다가 11월에 주치의가 경과가 좋아서 외래진료를 해도 되겠다하는 시점에 11월에 애경 가습기메이트를 구입해서 한 한 달 채 사용을 안 했는데 사망을 했습니다 일반인들한테도 이게 나쁜데 암치료 중에 있는 환자한테는 아무리 뭐 외래치료를 받을 정도로 경과가 좋았다 하지만 몸이 허약할 대로 허약한데 더욱 치명적이거든요 그런데 병명은 11월까지 한 암명은 신경모세포종이라고 소아들만 17세까지 걸리는 걸로 알고 있는데 이 사망 사인이 암하고 전혀 관계없는 폐출혈입니다 폐출혈 오태훈 아 암이 아니었고 김정백 예 그런데도 아직까지 정부에서 어떻게 바늘구멍 같은 행정 시스템을 통과를 못해서 아무 보상도 못 받고 있습니다 오태훈 현재까지 아무런 보상도 없어요 업체건 정부건 어느 곳에서도요 김정백 예 옥시는 당시에 구속도 되고 이랬는데 상대적으로 나 애경은 옥시 뒤에 숨어서 저는 애경이나 를 국내에서 살인 1위 기업이라고 생각하거든요 환경단체나 이런 데서 낸 자료를 보면 국내 살인 1위입니다 1위 그런데 옥시 뒤에 숨어서 어떤 비호 세력이 있는지 여태까지 진척이 없어요 오태훈 최근에 와서야 케미칼이라든가 애경 쪽의 임원진들 구속되거나 지금 기소돼서 재판되고 또 지금 수사도 진행되고 있는 상황입니다 아직도 가해자들 처벌이 이루어지고 있지 않다는 점에서 좀 안타깝고 답답한 마음이 크시겠어요 김정백 수사도 늦어지고 어떤 이유에서 그러는지 모르겠지만 당시에 옥시는 구속도 되고 이랬는데 애경과 는 하여튼 무슨 어떤 이유인지 궁금증을 유발시키는데 지금이라도 철저하게 이게 만천하에 공개가 돼서 처리가 됐으면 하는 생각입니다 오태훈 함께 활동하셨던 애경 제품 사용하고 피해 입으신 분들 현재 지금 뭐라고 말씀하시나요 김정백 마찬가지입니다 애경은 자료를 검토해 보셨는지 모르겠지만 자료를 보시면 옥시 피해자들은 그래도 10 정도 아마 피해 구제가 된 모양인데 애경이나 는 1 도 안 돼요 영점몇 프로도 보상이 안 돼서 상대적으로 박탈감을 느끼고 있고 최근에 뉴스 보니까 부사장 하나 구속시켜놓고 이러는데 지금이라도 시작하는 건 좋은데 그 선에서 그치지 말고 이참에 철저히 밝혀서 피해를 입은 국민들이 억울함이 없이 좀 많이 깨끗하게 파헤쳐주셨으면 좋겠습니다 오태훈 알겠습니다 여기까지 말씀 듣겠습니다 고맙습니다 김정백 예 감사합니다 오태훈 아들을 잃은 피해자 한 분 연결해서 말씀을 나눠봤는데요 최예용 부위원장님 말씀 듣다 보니까 오히려 다국적 기업이라고 하는 옥시보다 지금 케미칼이라든가 애경 쪽이 계신 분들은 전혀 진척 상황이 없네요 최예용 네 2016년도 검찰 수사 때는 이 제품을 사용해서 정부로부터 피해자로 인정받는 사람이 없었고 또 정부의 동물실험에서도 당시에 가장 중요한 피해 내용인 폐 섬유화 폐가 딱딱해지는 어떤 증상이 확인되지 않았다 이렇게 해서 수사 대상이 아니었습니다 하지만 그 사이에 피해자들이 10명이나 지금 사망자를 포함해서 정부로부터 피해자로 인정받았고 또 환경부가 동물 실험한 내용에 보면 쥐라든지 이런 동물 실험에서 폐사하거나 다양한 형태의 건강 피해가 확인됐다고 해서 작년에 환경부 차관이 국정감사 때 검찰에 이러한 자료를 제출하겠다 에게도 책임이 있다고 본다 이런 식의 의견이 제시되면서 새롭게 수사를 할 수 있는 계기가 됐죠 오태훈 그동안 케미칼 측은 가습기살균제 문제에 책임이 없었다 이런 입장을 계속 견지해왔었는데 왜 갑자기 또 부사장이 구속된 건가요 최예용 금방 말씀드린 대로 그런 와 애경 가습기메이트 제품에 대한 피해 내용들이 확인이 됐고요 그 과정에서 피해자들의 추가적인 고발이 있었습니다 그러니까 검찰이 압수수색으로 조사를 했는데 보니까 2016년도에 애경 책임자가 국정조사에서 우리는 몰랐다 그리고 처음 개발을 할 때도 그런 조사한 보고서가 현재 없다 이런 식으로 얘기를 한 거가 거짓말임이 드러났어요 그러면서 그 보고서를 은폐하고 폐기하는 그런 내용들이 압수수색 과정에서 확인이 돼서 그 사람들은 그래서 증거인멸 우려가 있다고 해서 구속이 된 것이고요 그런데 정작 이 제품의 유해성 때문에 수많은 피해자들이 죽고 다쳤다고 하는 이 사건의 본류 그러니까 과실치사나 살인죄에 대한 그런 수사가 남아 있는 것입니다 오태훈 피해자들이 그동안 겪었을 고초가 어마어마했을 것 같은데 피해 보상도 전혀 안 이루어진 상황 아니겠습니까 현재까지 최예용 아주 일부만 이루어지고 있는 것이에요 아까도 반복해서 말씀드리지만 신고자의 한 10 정도만 정부가 피해자로 인정하고 그리고 기업기금이 일부 있어서 그걸로 일부 지원을 하는데 전체적으로 보면 굉장히 미진한 상태여서 이런 상태로 아니 이분들은 죄가 전혀 없거든요 아무런 잘못이 없어요 정부에서 허가하고 또 유명한 회사들이 광고한 그런 제품을 사서 쓴 것밖에 없는데 인과관계나 과학적인 그런 의학적인 한계가 큰 인과관계로 왜 이 피해자들이 모두 뒤집어 써야 하는가 그런 점에서 이번을 계기로 기업들이 아주 전향적으로 잘못과 책임을 인정하고 전향적으로 내놓는 그렇게 해서 사회적으로 해결하는 그런 과정이어야 되는 것이지 이것을 또 법정으로 가져가서 하나하나 따져가면서 공방하고 그것이 3심까지 대법원까지 가면 시간이 얼마나 걸릴지는 모릅니다 기업과 정부의 책임이 명백하게 드러난 사건인 만큼 분명하게 빨리 해결책이 나와야 된다고 보죠 오태훈 앞서 말씀하신 내용 중에서 피해자 중에 10명 중에 1명 정도만 인정을 받는다고 하셨잖아요 그러면 아홉 분은 왜 인정을 못 받는 겁니까 최예용 그게요 그러니까 이 사건이 1994년부터 제품을 판매했고 2011년에 문제가 돼서 판매 금지됐습니다 지금부터 따지자면 7 8년 또는 한 20년 전에 일어났던 사건이죠 그러면 그 제품을 사용한 당시에 사망한 사람은 사망했고 또 여러 가지 질환이 나타나고 해서 병원에 다녔는데 그러한 질환들이 과연 이 제품 때문에 그러냐라는 것을 엄격한 인과관계의 잣대를 요구하는 거예요 그런데 피해자로서는 내가 이 제품을 썼고 그뒤에 죽고 다쳤다는 것을 말할 수밖에 없잖아요 그것에 대한 아주 명확한 인과관계 폐가 딱딱해지는 이 증상이 과연 가습기살균제에 어떤 성분이 들어가서 이것을 일으켰느냐는 그런 과정에 대한 과학적인 엄밀성을 피해자에게 요구하니 피해자들로서는 답답할 노릇이고 또 거꾸로 이렇게 엄밀한 인과관계를 요구하는 것은 가해 기업 그러니까 이런 제품을 만든 기업들에게 90 의 면죄부를 주는 결과를 낳는다는 것입니다 그런 점에서 지금까지 정부가 해온 방법이 100 틀렸다고 할 수는 없지만 굉장한 한계를 가지니 지금까지 방식보다는 완전히 새로운 방식 어떻게 보면 기업들이 우리 제품 써서 저런 질환이 나타날 리 없다고 반증해보라 이거예요 반증을 하지 못하면 이분들은 당신네들 제품 때문에 그랬다고 우리는 볼 수밖에 없다는 그런 식의 총괄적인 사회적인 어떤 해결 방식이 필요한 상황이죠 오태훈 사회적참사 특조위에서 피해 과정에 대한 실태조사도 했다고 들었습니다 지금 피해자분들 어떤 상황이신가요 최예용 저희가 작년에 특별법에 의해서 발족하면서 정부는 질환별로 조사를 하거든요 조금 전에 말씀드린 대로 하지만 피해자들은 이 제품을 가정 단위로 사용하지 않습니까 그래서 어떤 사람은 피해자로 신청하고 어떤 사람은 경증으로 신청 안 했지만 사실은 온 가족이 모두 다 피해를 보고 있는 상황이어서 피해 가정 단위로 조사를 했더니 정부가 인정하는 질환보다 훨씬 다양한 전신 질환이 진행 중이고 호소를 하고 있고 또 정신 건강이 굉장히 심각한 것으로 그렇게 나와요 우울증 불안장애 자살 위험 또 자살 시도 전체 조사 대상자 10명 중에 7명이 만성적인 울분 상태다 이런 조사 결과도 있고요 그리고 경제적인 피해도 엄청납니다 사망자의 경우 한 400억 이상의 그런 경제적인 피해가 있다고 조사가 된 그런 상황인데 그런데 정부로부터 피해자로 인정받아도 평균 한 1 500만 원밖에 못 받으니 이게 해결책이 아닌 거죠 사실은 오태훈 참 확인된 피해자가 6천 명이 넘고 이중에 약 1 400여 명이 목숨을 잃은 사건인데 이게 이렇게까지 미진하게 됐다는 게 화도 나는데 앞으로 재판도 있겠습니다만 사회적참사 특조위에서는 앞으로 어떻게 대응할 생각이신가요 최예용 저희가 이렇게 피해자들의 실태가 이렇다는 것을 제대로 조사해서 드러내고요 이렇게 어려운 상황이라는 것을요 그렇게 하고 또 그렇다면 지금까지 아까 말씀드린 대로 정부의 대책이 이런 의미는 있었지만 이런 데에 한계가 있으니 과학적인 엄밀성을 왜 피해자들에게만 묻느냐 가해자들에게도 그런 책임을 분명히 묻고 그렇게 해서 범사회적인 어떤 해결책이 필요하다 그리고 또 하나 중요한 것은 지금 6천 명 넘게 피해 신고되어 있다고 하지만 정부 추산에 의하면 한 50만 명이 피해자로 그렇게 예상이 돼요 오태훈 50만 명이요 최예용 예 이 제품이 1천만 개가 넘게 팔렸거든요 18년 동안에 그러니까 모르는 거예요 상당수의 피해자들은 자기가 이 제품을 썼는지 기억도 못하고 그 제품 때문에 우리 가족이 죽고 다쳤는데 그 사실 자체를 모르거나 우리 집에 그런 일이 있었다고 전혀 생각하지 못하는 거죠 그래서 진상규명이라고 하는 것은 신고된 피해자들에 대한 어떤 건강 피해와 피해 대책도 물론이지만 지금 드러나지 않은 피해자들을 최대한 확인해내는 과정도 진상규명에 중요한 과정이라고 그렇게 봅니다 오태훈 알겠습니다 우선 오늘은 여기까지만 말씀 듣고요 다음에 또 한번 저희가 기회될 때 연결을 해서 자세한 얘기들 진행 상황들 좀 살펴보도록 하겠습니다 오늘 말씀 고맙습니다 최예용 감사합니다 오태훈 사회적참사 특별조사위의 최예용 부위원장 또 피해자 연결해서 말씀 나눠봤습니다 만세 지도 우리 동네 3 1운동 현장은 네이버 채널 뉴스 구독 시원하게 털어드립니다 보다 ㄹㅇ 당신의 진짜 뉴스 케이야 \n"
     ]
    }
   ],
   "source": [
    "# 정렬 (reversed = False는 작은값부터 큰 값 순서)\n",
    "resultList = sorted(candidateList.items(), key=lambda x:x[1], reverse=True)\n",
    "\n",
    "print('query: ', query)\n",
    "\n",
    "for i, (documentIdx, distance) in enumerate(resultList):\n",
    "    print('순위:{0} / 문서:{1} / 유사도:{2}'.format((i+1), globalDocument[documentIdx], distance))\n",
    "    print('   document:{0}'.format(collection[documentIdx][1]))"
   ]
  },
  {
   "cell_type": "markdown",
   "metadata": {},
   "source": [
    "## TDM-DTM-TWM"
   ]
  },
  {
   "cell_type": "code",
   "execution_count": 119,
   "metadata": {},
   "outputs": [],
   "source": [
    "from konlpy.corpus import kobill\n",
    "from collections import defaultdict\n",
    "from konlpy.tag import Kkma\n",
    "\n",
    "ma = Kkma().morphs"
   ]
  },
  {
   "cell_type": "code",
   "execution_count": 122,
   "metadata": {},
   "outputs": [],
   "source": [
    "def getDocReprByDefaultDict():\n",
    "    docRepr = defaultdict(lambda: defaultdict(int))\n",
    "    \n",
    "    # collection\n",
    "    for docName in collection:\n",
    "        for token in str(collection).split(): \n",
    "            for morpheme in ma(token):\n",
    "                docRepr[docName][morpheme] += 1\n",
    "    \n",
    "    return docRepr"
   ]
  },
  {
   "cell_type": "code",
   "execution_count": 123,
   "metadata": {},
   "outputs": [],
   "source": [
    "DTM = getDocReprByDefaultDict()"
   ]
  },
  {
   "cell_type": "code",
   "execution_count": null,
   "metadata": {},
   "outputs": [],
   "source": []
  },
  {
   "cell_type": "code",
   "execution_count": null,
   "metadata": {},
   "outputs": [],
   "source": []
  },
  {
   "cell_type": "code",
   "execution_count": null,
   "metadata": {},
   "outputs": [],
   "source": []
  },
  {
   "cell_type": "code",
   "execution_count": null,
   "metadata": {},
   "outputs": [],
   "source": []
  },
  {
   "cell_type": "code",
   "execution_count": null,
   "metadata": {},
   "outputs": [],
   "source": []
  },
  {
   "cell_type": "code",
   "execution_count": null,
   "metadata": {},
   "outputs": [],
   "source": []
  },
  {
   "cell_type": "code",
   "execution_count": null,
   "metadata": {},
   "outputs": [],
   "source": []
  }
 ],
 "metadata": {
  "kernelspec": {
   "display_name": "Python 2",
   "language": "python",
   "name": "python2"
  },
  "language_info": {
   "codemirror_mode": {
    "name": "ipython",
    "version": 2
   },
   "file_extension": ".py",
   "mimetype": "text/x-python",
   "name": "python",
   "nbconvert_exporter": "python",
   "pygments_lexer": "ipython2",
   "version": "2.7.6"
  }
 },
 "nbformat": 4,
 "nbformat_minor": 0
}
