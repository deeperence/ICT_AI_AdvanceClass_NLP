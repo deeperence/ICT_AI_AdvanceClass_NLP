{
 "cells": [
  {
   "cell_type": "code",
   "execution_count": 95,
   "metadata": {},
   "outputs": [],
   "source": [
    "import numpy as np\n",
    "\n",
    "# row:문서, column : 단어인 DTM이라고 가정\n",
    "X = np.array([[1, 1, 0, 0, 0],\n",
    "              [0, 1, 0, 0, 0],\n",
    "              [0, 0, 1, 0, 0],\n",
    "              [0, 0, 0, 1, 0]])"
   ]
  },
  {
   "cell_type": "code",
   "execution_count": 96,
   "metadata": {},
   "outputs": [
    {
     "data": {
      "text/plain": [
       "(2, (4, 5))"
      ]
     },
     "execution_count": 96,
     "metadata": {},
     "output_type": "execute_result"
    }
   ],
   "source": [
    "X.ndim, X.shape"
   ]
  },
  {
   "cell_type": "code",
   "execution_count": 97,
   "metadata": {},
   "outputs": [
    {
     "data": {
      "text/plain": [
       "array([1, 1, 0, 0, 0])"
      ]
     },
     "execution_count": 97,
     "metadata": {},
     "output_type": "execute_result"
    }
   ],
   "source": [
    "X[0] # 0번째 문서에 대한 단어의 존재 유무 확인 가능"
   ]
  },
  {
   "cell_type": "code",
   "execution_count": 98,
   "metadata": {},
   "outputs": [
    {
     "data": {
      "text/plain": [
       "array([1, 0, 0, 0])"
      ]
     },
     "execution_count": 98,
     "metadata": {},
     "output_type": "execute_result"
    }
   ],
   "source": [
    "X[:,0] "
   ]
  },
  {
   "cell_type": "code",
   "execution_count": 99,
   "metadata": {},
   "outputs": [
    {
     "data": {
      "text/plain": [
       "(array([1, 1, 0, 0, 0]), array([0, 1, 0, 0, 0]))"
      ]
     },
     "execution_count": 99,
     "metadata": {},
     "output_type": "execute_result"
    }
   ],
   "source": [
    "# 각 문서들 간의 내적을 수행한 후 문서의 길이로 정규화(cosine)\n",
    "X[0], X[1]\n",
    "# X[0].dot(X[1]) / (norm(X[0])*X[1]) 을 하고 싶으나 인덱스를 안써야 하는 상황"
   ]
  },
  {
   "cell_type": "code",
   "execution_count": 100,
   "metadata": {},
   "outputs": [
    {
     "data": {
      "text/plain": [
       "array([[1, 1, 0, 0, 0],\n",
       "       [0, 1, 0, 0, 0],\n",
       "       [0, 0, 1, 0, 0],\n",
       "       [0, 0, 0, 1, 0]])"
      ]
     },
     "execution_count": 100,
     "metadata": {},
     "output_type": "execute_result"
    }
   ],
   "source": [
    "X"
   ]
  },
  {
   "cell_type": "code",
   "execution_count": 101,
   "metadata": {},
   "outputs": [
    {
     "data": {
      "text/plain": [
       "array([[1, 0, 0, 0],\n",
       "       [1, 1, 0, 0],\n",
       "       [0, 0, 1, 0],\n",
       "       [0, 0, 0, 1],\n",
       "       [0, 0, 0, 0]])"
      ]
     },
     "execution_count": 101,
     "metadata": {},
     "output_type": "execute_result"
    }
   ],
   "source": [
    "X.T"
   ]
  },
  {
   "cell_type": "code",
   "execution_count": 102,
   "metadata": {},
   "outputs": [
    {
     "data": {
      "text/plain": [
       "(array([1, 1, 0, 0, 0]), array([1, 1, 0, 0, 0]))"
      ]
     },
     "execution_count": 102,
     "metadata": {},
     "output_type": "execute_result"
    }
   ],
   "source": [
    "X[0], X.T[:, 0] # T를 했으므로 column에 대해 0으로 호출되어야 함. "
   ]
  },
  {
   "cell_type": "code",
   "execution_count": 103,
   "metadata": {},
   "outputs": [
    {
     "data": {
      "text/plain": [
       "((4, 5), (5, 4))"
      ]
     },
     "execution_count": 103,
     "metadata": {},
     "output_type": "execute_result"
    }
   ],
   "source": [
    "X.shape, X.T.shape"
   ]
  },
  {
   "cell_type": "code",
   "execution_count": 104,
   "metadata": {},
   "outputs": [],
   "source": [
    "_X = X.dot(X.T) # TDM이나 DTM할때는 innerproduct라는 변수에 저장했었음. "
   ]
  },
  {
   "cell_type": "code",
   "execution_count": 105,
   "metadata": {},
   "outputs": [
    {
     "data": {
      "text/plain": [
       "array([1.41421356, 1.        , 1.        , 1.        ])"
      ]
     },
     "execution_count": 105,
     "metadata": {},
     "output_type": "execute_result"
    }
   ],
   "source": [
    "# _X / X row마다 normalize해주고, X.T column마다 normalize해줘야 함. \n",
    "np.linalg.norm(X, axis=1) # linear algebra에 있는 norm함수 사용. 열에 대해서 수행하므로 axis=1"
   ]
  },
  {
   "cell_type": "code",
   "execution_count": 106,
   "metadata": {},
   "outputs": [
    {
     "data": {
      "text/plain": [
       "1.4142135623730951"
      ]
     },
     "execution_count": 106,
     "metadata": {},
     "output_type": "execute_result"
    }
   ],
   "source": [
    "from math import sqrt\n",
    "sqrt(1+1) # 위의 norm이 잘 되었음을 확인할 수 있음."
   ]
  },
  {
   "cell_type": "code",
   "execution_count": 107,
   "metadata": {},
   "outputs": [
    {
     "name": "stdout",
     "output_type": "stream",
     "text": [
      "(4,)\n"
     ]
    }
   ],
   "source": [
    "print(np.linalg.norm(X, axis=1).shape)\n",
    "length = np.linalg.norm(X, axis=1)"
   ]
  },
  {
   "cell_type": "code",
   "execution_count": 108,
   "metadata": {},
   "outputs": [
    {
     "data": {
      "text/plain": [
       "array([2., 1., 1., 1.])"
      ]
     },
     "execution_count": 108,
     "metadata": {},
     "output_type": "execute_result"
    }
   ],
   "source": [
    "length * length.T"
   ]
  },
  {
   "cell_type": "code",
   "execution_count": 109,
   "metadata": {},
   "outputs": [
    {
     "data": {
      "text/plain": [
       "((4,), (1, 4))"
      ]
     },
     "execution_count": 109,
     "metadata": {},
     "output_type": "execute_result"
    }
   ],
   "source": [
    "length.shape, length.T.reshape(1,4).shape"
   ]
  },
  {
   "cell_type": "code",
   "execution_count": 110,
   "metadata": {},
   "outputs": [
    {
     "data": {
      "text/plain": [
       "array([[2.        , 1.41421356, 1.41421356, 1.41421356],\n",
       "       [1.41421356, 1.        , 1.        , 1.        ],\n",
       "       [1.41421356, 1.        , 1.        , 1.        ],\n",
       "       [1.41421356, 1.        , 1.        , 1.        ]])"
      ]
     },
     "execution_count": 110,
     "metadata": {},
     "output_type": "execute_result"
    }
   ],
   "source": [
    "length.reshape(4,1) * length.T.reshape(1,4) # 0번째가 아닌 문서들은 길이가 1이라 1이 출력됨."
   ]
  },
  {
   "cell_type": "code",
   "execution_count": 111,
   "metadata": {},
   "outputs": [
    {
     "data": {
      "text/plain": [
       "array([[1.        , 0.70710678, 0.        , 0.        ],\n",
       "       [0.70710678, 1.        , 0.        , 0.        ],\n",
       "       [0.        , 0.        , 1.        , 0.        ],\n",
       "       [0.        , 0.        , 0.        , 1.        ]])"
      ]
     },
     "execution_count": 111,
     "metadata": {},
     "output_type": "execute_result"
    }
   ],
   "source": [
    "_X / (length.reshape(4,1) * length.T.reshape(1,4)) # cosine simmilarity"
   ]
  },
  {
   "cell_type": "code",
   "execution_count": 112,
   "metadata": {},
   "outputs": [],
   "source": [
    "C = np.array([[1, 0, 1, 0, 0, 0],\n",
    "              [0, 1, 0, 0, 0, 0],\n",
    "              [1, 1, 0, 0, 0, 0],\n",
    "              [1, 0, 0, 1, 1, 0],\n",
    "              [0, 0, 0, 1, 0, 1]])"
   ]
  },
  {
   "cell_type": "code",
   "execution_count": 113,
   "metadata": {},
   "outputs": [
    {
     "data": {
      "text/html": [
       "<div>\n",
       "<style scoped>\n",
       "    .dataframe tbody tr th:only-of-type {\n",
       "        vertical-align: middle;\n",
       "    }\n",
       "\n",
       "    .dataframe tbody tr th {\n",
       "        vertical-align: top;\n",
       "    }\n",
       "\n",
       "    .dataframe thead th {\n",
       "        text-align: right;\n",
       "    }\n",
       "</style>\n",
       "<table border=\"1\" class=\"dataframe\">\n",
       "  <thead>\n",
       "    <tr style=\"text-align: right;\">\n",
       "      <th></th>\n",
       "      <th>0</th>\n",
       "      <th>1</th>\n",
       "      <th>2</th>\n",
       "      <th>3</th>\n",
       "      <th>4</th>\n",
       "      <th>5</th>\n",
       "    </tr>\n",
       "  </thead>\n",
       "  <tbody>\n",
       "    <tr>\n",
       "      <th>ship</th>\n",
       "      <td>1</td>\n",
       "      <td>0</td>\n",
       "      <td>1</td>\n",
       "      <td>0</td>\n",
       "      <td>0</td>\n",
       "      <td>0</td>\n",
       "    </tr>\n",
       "    <tr>\n",
       "      <th>boat</th>\n",
       "      <td>0</td>\n",
       "      <td>1</td>\n",
       "      <td>0</td>\n",
       "      <td>0</td>\n",
       "      <td>0</td>\n",
       "      <td>0</td>\n",
       "    </tr>\n",
       "    <tr>\n",
       "      <th>ocean</th>\n",
       "      <td>1</td>\n",
       "      <td>1</td>\n",
       "      <td>0</td>\n",
       "      <td>0</td>\n",
       "      <td>0</td>\n",
       "      <td>0</td>\n",
       "    </tr>\n",
       "    <tr>\n",
       "      <th>wood</th>\n",
       "      <td>1</td>\n",
       "      <td>0</td>\n",
       "      <td>0</td>\n",
       "      <td>1</td>\n",
       "      <td>1</td>\n",
       "      <td>0</td>\n",
       "    </tr>\n",
       "    <tr>\n",
       "      <th>tree</th>\n",
       "      <td>0</td>\n",
       "      <td>0</td>\n",
       "      <td>0</td>\n",
       "      <td>1</td>\n",
       "      <td>0</td>\n",
       "      <td>1</td>\n",
       "    </tr>\n",
       "  </tbody>\n",
       "</table>\n",
       "</div>"
      ],
      "text/plain": [
       "       0  1  2  3  4  5\n",
       "ship   1  0  1  0  0  0\n",
       "boat   0  1  0  0  0  0\n",
       "ocean  1  1  0  0  0  0\n",
       "wood   1  0  0  1  1  0\n",
       "tree   0  0  0  1  0  1"
      ]
     },
     "execution_count": 113,
     "metadata": {},
     "output_type": "execute_result"
    }
   ],
   "source": [
    "import pandas as pd\n",
    "\n",
    "V = ['ship', 'boat', 'ocean', 'wood', 'tree']\n",
    "_C = pd.DataFrame(C, index=V)\n",
    "_C"
   ]
  },
  {
   "cell_type": "code",
   "execution_count": 114,
   "metadata": {},
   "outputs": [],
   "source": [
    "U, sigma, V = np.linalg.svd(C) # singular vector decomposition (U, sigma, V 세 개의 행렬로 쪼개져서 나오므로 리턴값은 3개)"
   ]
  },
  {
   "cell_type": "code",
   "execution_count": 115,
   "metadata": {},
   "outputs": [
    {
     "data": {
      "text/plain": [
       "((5, 5), (5,), (6, 6))"
      ]
     },
     "execution_count": 115,
     "metadata": {},
     "output_type": "execute_result"
    }
   ],
   "source": [
    "U.shape, sigma.shape, V.shape "
   ]
  },
  {
   "cell_type": "code",
   "execution_count": 116,
   "metadata": {},
   "outputs": [
    {
     "data": {
      "text/html": [
       "<div>\n",
       "<style scoped>\n",
       "    .dataframe tbody tr th:only-of-type {\n",
       "        vertical-align: middle;\n",
       "    }\n",
       "\n",
       "    .dataframe tbody tr th {\n",
       "        vertical-align: top;\n",
       "    }\n",
       "\n",
       "    .dataframe thead th {\n",
       "        text-align: right;\n",
       "    }\n",
       "</style>\n",
       "<table border=\"1\" class=\"dataframe\">\n",
       "  <thead>\n",
       "    <tr style=\"text-align: right;\">\n",
       "      <th></th>\n",
       "      <th>0</th>\n",
       "      <th>1</th>\n",
       "      <th>2</th>\n",
       "      <th>3</th>\n",
       "      <th>4</th>\n",
       "      <th>5</th>\n",
       "    </tr>\n",
       "  </thead>\n",
       "  <tbody>\n",
       "    <tr>\n",
       "      <th>0</th>\n",
       "      <td>7.486230e-01</td>\n",
       "      <td>2.797116e-01</td>\n",
       "      <td>2.036288e-01</td>\n",
       "      <td>4.465631e-01</td>\n",
       "      <td>0.325096</td>\n",
       "      <td>0.121467</td>\n",
       "    </tr>\n",
       "    <tr>\n",
       "      <th>1</th>\n",
       "      <td>-2.864540e-01</td>\n",
       "      <td>-5.284591e-01</td>\n",
       "      <td>-1.857612e-01</td>\n",
       "      <td>6.255207e-01</td>\n",
       "      <td>0.219880</td>\n",
       "      <td>0.405641</td>\n",
       "    </tr>\n",
       "    <tr>\n",
       "      <th>2</th>\n",
       "      <td>-2.797116e-01</td>\n",
       "      <td>7.486230e-01</td>\n",
       "      <td>-4.465631e-01</td>\n",
       "      <td>2.036288e-01</td>\n",
       "      <td>-0.121467</td>\n",
       "      <td>0.325096</td>\n",
       "    </tr>\n",
       "    <tr>\n",
       "      <th>3</th>\n",
       "      <td>-3.885781e-16</td>\n",
       "      <td>-1.110223e-16</td>\n",
       "      <td>5.773503e-01</td>\n",
       "      <td>4.996004e-16</td>\n",
       "      <td>-0.577350</td>\n",
       "      <td>0.577350</td>\n",
       "    </tr>\n",
       "    <tr>\n",
       "      <th>4</th>\n",
       "      <td>5.284591e-01</td>\n",
       "      <td>-2.864540e-01</td>\n",
       "      <td>-6.255207e-01</td>\n",
       "      <td>-1.857612e-01</td>\n",
       "      <td>-0.405641</td>\n",
       "      <td>0.219880</td>\n",
       "    </tr>\n",
       "    <tr>\n",
       "      <th>5</th>\n",
       "      <td>-1.956847e-17</td>\n",
       "      <td>1.205047e-16</td>\n",
       "      <td>1.956847e-17</td>\n",
       "      <td>-5.773503e-01</td>\n",
       "      <td>0.577350</td>\n",
       "      <td>0.577350</td>\n",
       "    </tr>\n",
       "  </tbody>\n",
       "</table>\n",
       "</div>"
      ],
      "text/plain": [
       "              0             1             2             3         4         5\n",
       "0  7.486230e-01  2.797116e-01  2.036288e-01  4.465631e-01  0.325096  0.121467\n",
       "1 -2.864540e-01 -5.284591e-01 -1.857612e-01  6.255207e-01  0.219880  0.405641\n",
       "2 -2.797116e-01  7.486230e-01 -4.465631e-01  2.036288e-01 -0.121467  0.325096\n",
       "3 -3.885781e-16 -1.110223e-16  5.773503e-01  4.996004e-16 -0.577350  0.577350\n",
       "4  5.284591e-01 -2.864540e-01 -6.255207e-01 -1.857612e-01 -0.405641  0.219880\n",
       "5 -1.956847e-17  1.205047e-16  1.956847e-17 -5.773503e-01  0.577350  0.577350"
      ]
     },
     "execution_count": 116,
     "metadata": {},
     "output_type": "execute_result"
    }
   ],
   "source": [
    "pd.DataFrame(V) # V.shape가 (6,6)으로 나오는 이유는 np.linalg.svd의 인자에서 full_matrices가 True이기 때문. "
   ]
  },
  {
   "cell_type": "code",
   "execution_count": 117,
   "metadata": {},
   "outputs": [],
   "source": [
    "U, sigma, V = np.linalg.svd(C, full_matrices=False) "
   ]
  },
  {
   "cell_type": "code",
   "execution_count": 118,
   "metadata": {},
   "outputs": [
    {
     "data": {
      "text/plain": [
       "((5, 5), (5,), (5, 6))"
      ]
     },
     "execution_count": 118,
     "metadata": {},
     "output_type": "execute_result"
    }
   ],
   "source": [
    "U.shape, sigma.shape, V.shape # sigma.shape는 중요한 차원을 나열한 것. "
   ]
  },
  {
   "cell_type": "code",
   "execution_count": 119,
   "metadata": {},
   "outputs": [
    {
     "data": {
      "text/html": [
       "<div>\n",
       "<style scoped>\n",
       "    .dataframe tbody tr th:only-of-type {\n",
       "        vertical-align: middle;\n",
       "    }\n",
       "\n",
       "    .dataframe tbody tr th {\n",
       "        vertical-align: top;\n",
       "    }\n",
       "\n",
       "    .dataframe thead th {\n",
       "        text-align: right;\n",
       "    }\n",
       "</style>\n",
       "<table border=\"1\" class=\"dataframe\">\n",
       "  <thead>\n",
       "    <tr style=\"text-align: right;\">\n",
       "      <th></th>\n",
       "      <th>0</th>\n",
       "      <th>1</th>\n",
       "      <th>2</th>\n",
       "      <th>3</th>\n",
       "      <th>4</th>\n",
       "      <th>5</th>\n",
       "    </tr>\n",
       "  </thead>\n",
       "  <tbody>\n",
       "    <tr>\n",
       "      <th>0</th>\n",
       "      <td>7.486230e-01</td>\n",
       "      <td>2.797116e-01</td>\n",
       "      <td>0.203629</td>\n",
       "      <td>4.465631e-01</td>\n",
       "      <td>0.325096</td>\n",
       "      <td>0.121467</td>\n",
       "    </tr>\n",
       "    <tr>\n",
       "      <th>1</th>\n",
       "      <td>-2.864540e-01</td>\n",
       "      <td>-5.284591e-01</td>\n",
       "      <td>-0.185761</td>\n",
       "      <td>6.255207e-01</td>\n",
       "      <td>0.219880</td>\n",
       "      <td>0.405641</td>\n",
       "    </tr>\n",
       "    <tr>\n",
       "      <th>2</th>\n",
       "      <td>-2.797116e-01</td>\n",
       "      <td>7.486230e-01</td>\n",
       "      <td>-0.446563</td>\n",
       "      <td>2.036288e-01</td>\n",
       "      <td>-0.121467</td>\n",
       "      <td>0.325096</td>\n",
       "    </tr>\n",
       "    <tr>\n",
       "      <th>3</th>\n",
       "      <td>-3.885781e-16</td>\n",
       "      <td>-1.110223e-16</td>\n",
       "      <td>0.577350</td>\n",
       "      <td>4.996004e-16</td>\n",
       "      <td>-0.577350</td>\n",
       "      <td>0.577350</td>\n",
       "    </tr>\n",
       "    <tr>\n",
       "      <th>4</th>\n",
       "      <td>5.284591e-01</td>\n",
       "      <td>-2.864540e-01</td>\n",
       "      <td>-0.625521</td>\n",
       "      <td>-1.857612e-01</td>\n",
       "      <td>-0.405641</td>\n",
       "      <td>0.219880</td>\n",
       "    </tr>\n",
       "  </tbody>\n",
       "</table>\n",
       "</div>"
      ],
      "text/plain": [
       "              0             1         2             3         4         5\n",
       "0  7.486230e-01  2.797116e-01  0.203629  4.465631e-01  0.325096  0.121467\n",
       "1 -2.864540e-01 -5.284591e-01 -0.185761  6.255207e-01  0.219880  0.405641\n",
       "2 -2.797116e-01  7.486230e-01 -0.446563  2.036288e-01 -0.121467  0.325096\n",
       "3 -3.885781e-16 -1.110223e-16  0.577350  4.996004e-16 -0.577350  0.577350\n",
       "4  5.284591e-01 -2.864540e-01 -0.625521 -1.857612e-01 -0.405641  0.219880"
      ]
     },
     "execution_count": 119,
     "metadata": {},
     "output_type": "execute_result"
    }
   ],
   "source": [
    "pd.DataFrame(V)"
   ]
  },
  {
   "cell_type": "code",
   "execution_count": 120,
   "metadata": {},
   "outputs": [
    {
     "data": {
      "text/plain": [
       "array([2.16250096, 1.59438237, 1.27529025, 1.        , 0.39391525])"
      ]
     },
     "execution_count": 120,
     "metadata": {},
     "output_type": "execute_result"
    }
   ],
   "source": [
    "sigma # digonal한 값들을 일렬로 쭉 늘어놓은 형태"
   ]
  },
  {
   "cell_type": "code",
   "execution_count": 121,
   "metadata": {},
   "outputs": [
    {
     "data": {
      "text/plain": [
       "(5, 5)"
      ]
     },
     "execution_count": 121,
     "metadata": {},
     "output_type": "execute_result"
    }
   ],
   "source": [
    "np.diag(sigma).shape"
   ]
  },
  {
   "cell_type": "code",
   "execution_count": 122,
   "metadata": {},
   "outputs": [
    {
     "data": {
      "text/plain": [
       "(2, 2)"
      ]
     },
     "execution_count": 122,
     "metadata": {},
     "output_type": "execute_result"
    }
   ],
   "source": [
    "np.diag(sigma[:2]).shape # 중요한 차원 2개만 쓰기"
   ]
  },
  {
   "cell_type": "code",
   "execution_count": 123,
   "metadata": {},
   "outputs": [
    {
     "data": {
      "text/plain": [
       "((5, 2), (2, 6))"
      ]
     },
     "execution_count": 123,
     "metadata": {},
     "output_type": "execute_result"
    }
   ],
   "source": [
    "U[:,:2].shape, V[:2].shape"
   ]
  },
  {
   "cell_type": "code",
   "execution_count": 133,
   "metadata": {},
   "outputs": [
    {
     "data": {
      "text/html": [
       "<div>\n",
       "<style scoped>\n",
       "    .dataframe tbody tr th:only-of-type {\n",
       "        vertical-align: middle;\n",
       "    }\n",
       "\n",
       "    .dataframe tbody tr th {\n",
       "        vertical-align: top;\n",
       "    }\n",
       "\n",
       "    .dataframe thead th {\n",
       "        text-align: right;\n",
       "    }\n",
       "</style>\n",
       "<table border=\"1\" class=\"dataframe\">\n",
       "  <thead>\n",
       "    <tr style=\"text-align: right;\">\n",
       "      <th></th>\n",
       "      <th>0</th>\n",
       "      <th>1</th>\n",
       "      <th>2</th>\n",
       "      <th>3</th>\n",
       "      <th>4</th>\n",
       "      <th>5</th>\n",
       "    </tr>\n",
       "  </thead>\n",
       "  <tbody>\n",
       "    <tr>\n",
       "      <th>0</th>\n",
       "      <td>1.000000e+00</td>\n",
       "      <td>8.331675e-16</td>\n",
       "      <td>1.000000e+00</td>\n",
       "      <td>1.013949e-16</td>\n",
       "      <td>1.986953e-16</td>\n",
       "      <td>-5.219754e-17</td>\n",
       "    </tr>\n",
       "    <tr>\n",
       "      <th>1</th>\n",
       "      <td>1.403886e-16</td>\n",
       "      <td>1.000000e+00</td>\n",
       "      <td>2.813274e-16</td>\n",
       "      <td>2.442866e-16</td>\n",
       "      <td>2.242090e-16</td>\n",
       "      <td>-2.297226e-16</td>\n",
       "    </tr>\n",
       "    <tr>\n",
       "      <th>2</th>\n",
       "      <td>1.000000e+00</td>\n",
       "      <td>1.000000e+00</td>\n",
       "      <td>-7.621517e-17</td>\n",
       "      <td>5.290940e-16</td>\n",
       "      <td>2.444524e-16</td>\n",
       "      <td>3.484147e-17</td>\n",
       "    </tr>\n",
       "    <tr>\n",
       "      <th>3</th>\n",
       "      <td>1.000000e+00</td>\n",
       "      <td>4.893808e-16</td>\n",
       "      <td>-8.673407e-16</td>\n",
       "      <td>1.000000e+00</td>\n",
       "      <td>1.000000e+00</td>\n",
       "      <td>4.119034e-16</td>\n",
       "    </tr>\n",
       "    <tr>\n",
       "      <th>4</th>\n",
       "      <td>2.859311e-16</td>\n",
       "      <td>-1.943834e-16</td>\n",
       "      <td>-9.074739e-17</td>\n",
       "      <td>1.000000e+00</td>\n",
       "      <td>5.329511e-16</td>\n",
       "      <td>1.000000e+00</td>\n",
       "    </tr>\n",
       "  </tbody>\n",
       "</table>\n",
       "</div>"
      ],
      "text/plain": [
       "              0             1             2             3             4  \\\n",
       "0  1.000000e+00  8.331675e-16  1.000000e+00  1.013949e-16  1.986953e-16   \n",
       "1  1.403886e-16  1.000000e+00  2.813274e-16  2.442866e-16  2.242090e-16   \n",
       "2  1.000000e+00  1.000000e+00 -7.621517e-17  5.290940e-16  2.444524e-16   \n",
       "3  1.000000e+00  4.893808e-16 -8.673407e-16  1.000000e+00  1.000000e+00   \n",
       "4  2.859311e-16 -1.943834e-16 -9.074739e-17  1.000000e+00  5.329511e-16   \n",
       "\n",
       "              5  \n",
       "0 -5.219754e-17  \n",
       "1 -2.297226e-16  \n",
       "2  3.484147e-17  \n",
       "3  4.119034e-16  \n",
       "4  1.000000e+00  "
      ]
     },
     "execution_count": 133,
     "metadata": {},
     "output_type": "execute_result"
    }
   ],
   "source": [
    "pd.DataFrame(U.dot(np.diag(sigma)).dot(V)) # 매트릭스를 분해했다가 합쳤음에도 아래 C와 근사한 값이 나온다. "
   ]
  },
  {
   "cell_type": "code",
   "execution_count": 131,
   "metadata": {},
   "outputs": [
    {
     "data": {
      "text/html": [
       "<div>\n",
       "<style scoped>\n",
       "    .dataframe tbody tr th:only-of-type {\n",
       "        vertical-align: middle;\n",
       "    }\n",
       "\n",
       "    .dataframe tbody tr th {\n",
       "        vertical-align: top;\n",
       "    }\n",
       "\n",
       "    .dataframe thead th {\n",
       "        text-align: right;\n",
       "    }\n",
       "</style>\n",
       "<table border=\"1\" class=\"dataframe\">\n",
       "  <thead>\n",
       "    <tr style=\"text-align: right;\">\n",
       "      <th></th>\n",
       "      <th>0</th>\n",
       "      <th>1</th>\n",
       "      <th>2</th>\n",
       "      <th>3</th>\n",
       "      <th>4</th>\n",
       "      <th>5</th>\n",
       "    </tr>\n",
       "  </thead>\n",
       "  <tbody>\n",
       "    <tr>\n",
       "      <th>0</th>\n",
       "      <td>0.848146</td>\n",
       "      <td>0.515902</td>\n",
       "      <td>0.281625</td>\n",
       "      <td>0.129860</td>\n",
       "      <td>0.205743</td>\n",
       "      <td>-0.075882</td>\n",
       "    </tr>\n",
       "    <tr>\n",
       "      <th>1</th>\n",
       "      <td>0.360778</td>\n",
       "      <td>0.357508</td>\n",
       "      <td>0.155125</td>\n",
       "      <td>-0.205653</td>\n",
       "      <td>-0.025264</td>\n",
       "      <td>-0.180389</td>\n",
       "    </tr>\n",
       "    <tr>\n",
       "      <th>2</th>\n",
       "      <td>1.003270</td>\n",
       "      <td>0.718285</td>\n",
       "      <td>0.360778</td>\n",
       "      <td>-0.050529</td>\n",
       "      <td>0.155125</td>\n",
       "      <td>-0.205653</td>\n",
       "    </tr>\n",
       "    <tr>\n",
       "      <th>3</th>\n",
       "      <td>0.978006</td>\n",
       "      <td>0.129860</td>\n",
       "      <td>0.205743</td>\n",
       "      <td>1.028534</td>\n",
       "      <td>0.617139</td>\n",
       "      <td>0.411396</td>\n",
       "    </tr>\n",
       "    <tr>\n",
       "      <th>4</th>\n",
       "      <td>0.129860</td>\n",
       "      <td>-0.386042</td>\n",
       "      <td>-0.075882</td>\n",
       "      <td>0.898674</td>\n",
       "      <td>0.411396</td>\n",
       "      <td>0.487278</td>\n",
       "    </tr>\n",
       "  </tbody>\n",
       "</table>\n",
       "</div>"
      ],
      "text/plain": [
       "          0         1         2         3         4         5\n",
       "0  0.848146  0.515902  0.281625  0.129860  0.205743 -0.075882\n",
       "1  0.360778  0.357508  0.155125 -0.205653 -0.025264 -0.180389\n",
       "2  1.003270  0.718285  0.360778 -0.050529  0.155125 -0.205653\n",
       "3  0.978006  0.129860  0.205743  1.028534  0.617139  0.411396\n",
       "4  0.129860 -0.386042 -0.075882  0.898674  0.411396  0.487278"
      ]
     },
     "execution_count": 131,
     "metadata": {},
     "output_type": "execute_result"
    }
   ],
   "source": [
    "pd.DataFrame((U[:,:2].dot(np.diag(sigma[:2])).dot(V[:2]))) # 바로 윗 셀보다 차원을 더 줄인 결과\n",
    "# 차원을 줄인(decomposition) 결과 필요없는 아웃라이어가 제거되고 중요한 값만 부각된다. "
   ]
  },
  {
   "cell_type": "code",
   "execution_count": 132,
   "metadata": {
    "scrolled": true
   },
   "outputs": [
    {
     "data": {
      "text/html": [
       "<div>\n",
       "<style scoped>\n",
       "    .dataframe tbody tr th:only-of-type {\n",
       "        vertical-align: middle;\n",
       "    }\n",
       "\n",
       "    .dataframe tbody tr th {\n",
       "        vertical-align: top;\n",
       "    }\n",
       "\n",
       "    .dataframe thead th {\n",
       "        text-align: right;\n",
       "    }\n",
       "</style>\n",
       "<table border=\"1\" class=\"dataframe\">\n",
       "  <thead>\n",
       "    <tr style=\"text-align: right;\">\n",
       "      <th></th>\n",
       "      <th>0</th>\n",
       "      <th>1</th>\n",
       "      <th>2</th>\n",
       "      <th>3</th>\n",
       "      <th>4</th>\n",
       "      <th>5</th>\n",
       "    </tr>\n",
       "  </thead>\n",
       "  <tbody>\n",
       "    <tr>\n",
       "      <th>ship</th>\n",
       "      <td>1</td>\n",
       "      <td>0</td>\n",
       "      <td>1</td>\n",
       "      <td>0</td>\n",
       "      <td>0</td>\n",
       "      <td>0</td>\n",
       "    </tr>\n",
       "    <tr>\n",
       "      <th>boat</th>\n",
       "      <td>0</td>\n",
       "      <td>1</td>\n",
       "      <td>0</td>\n",
       "      <td>0</td>\n",
       "      <td>0</td>\n",
       "      <td>0</td>\n",
       "    </tr>\n",
       "    <tr>\n",
       "      <th>ocean</th>\n",
       "      <td>1</td>\n",
       "      <td>1</td>\n",
       "      <td>0</td>\n",
       "      <td>0</td>\n",
       "      <td>0</td>\n",
       "      <td>0</td>\n",
       "    </tr>\n",
       "    <tr>\n",
       "      <th>wood</th>\n",
       "      <td>1</td>\n",
       "      <td>0</td>\n",
       "      <td>0</td>\n",
       "      <td>1</td>\n",
       "      <td>1</td>\n",
       "      <td>0</td>\n",
       "    </tr>\n",
       "    <tr>\n",
       "      <th>tree</th>\n",
       "      <td>0</td>\n",
       "      <td>0</td>\n",
       "      <td>0</td>\n",
       "      <td>1</td>\n",
       "      <td>0</td>\n",
       "      <td>1</td>\n",
       "    </tr>\n",
       "  </tbody>\n",
       "</table>\n",
       "</div>"
      ],
      "text/plain": [
       "       0  1  2  3  4  5\n",
       "ship   1  0  1  0  0  0\n",
       "boat   0  1  0  0  0  0\n",
       "ocean  1  1  0  0  0  0\n",
       "wood   1  0  0  1  1  0\n",
       "tree   0  0  0  1  0  1"
      ]
     },
     "execution_count": 132,
     "metadata": {},
     "output_type": "execute_result"
    }
   ],
   "source": [
    "_C # 원본 행렬 C"
   ]
  },
  {
   "cell_type": "code",
   "execution_count": 136,
   "metadata": {},
   "outputs": [
    {
     "name": "stdout",
     "output_type": "stream",
     "text": [
      "[[1.         0.40824829 0.57735027 0.40824829 0.57735027 0.        ]\n",
      " [0.40824829 1.         0.         0.         0.         0.        ]\n",
      " [0.57735027 0.         1.         0.         0.         0.        ]\n",
      " [0.40824829 0.         0.         1.         0.70710678 0.70710678]\n",
      " [0.57735027 0.         0.         0.70710678 1.         0.        ]\n",
      " [0.         0.         0.         0.70710678 0.         1.        ]]\n"
     ]
    }
   ],
   "source": [
    "Ct = C.T # 원본\n",
    "print(Ct.dot(Ct.T) / (np.linalg.norm(Ct, axis=1).reshape(Ct.shape[0], 1) * np.linalg.norm(Ct, axis=1).T))"
   ]
  },
  {
   "cell_type": "code",
   "execution_count": 140,
   "metadata": {},
   "outputs": [
    {
     "name": "stdout",
     "output_type": "stream",
     "text": [
      "[[ 0.8481456   0.51590232  0.28162515  0.12986018  0.20574267 -0.07588249]\n",
      " [ 0.36077778  0.35750764  0.15512454 -0.20565325 -0.02526436 -0.18038889]\n",
      " [ 1.00327014  0.71828543  0.36077778 -0.05052871  0.15512454 -0.20565325]\n",
      " [ 0.97800578  0.12986018  0.20574267  1.0285345   0.61713858  0.41139591]\n",
      " [ 0.12986018 -0.38604214 -0.07588249  0.89867432  0.41139591  0.4872784 ]]\n"
     ]
    }
   ],
   "source": [
    "CC = U[:,:2].dot(np.diag(sigma[:2])).dot(V[:2]) # 차원축소\n",
    "print(CC)"
   ]
  },
  {
   "cell_type": "code",
   "execution_count": 141,
   "metadata": {},
   "outputs": [
    {
     "data": {
      "text/plain": [
       "array([[3, 1, 1, 1, 1, 0],\n",
       "       [1, 2, 0, 0, 0, 0],\n",
       "       [1, 0, 1, 0, 0, 0],\n",
       "       [1, 0, 0, 2, 1, 1],\n",
       "       [1, 0, 0, 1, 1, 0],\n",
       "       [0, 0, 0, 1, 0, 1]])"
      ]
     },
     "execution_count": 141,
     "metadata": {},
     "output_type": "execute_result"
    }
   ],
   "source": [
    "C.T.dot(C)"
   ]
  },
  {
   "cell_type": "code",
   "execution_count": 143,
   "metadata": {},
   "outputs": [
    {
     "name": "stdout",
     "output_type": "stream",
     "text": [
      "[[ 1.          0.78183738  0.9501362   0.47443204  0.74011848  0.11059579]\n",
      " [ 0.78183738  1.          0.93727576 -0.17791796  0.15937503 -0.53318971]\n",
      " [ 0.9501362   0.93727576  1.          0.17626898  0.49351152 -0.20484118]\n",
      " [ 0.47443204 -0.17791796  0.17626898  1.          0.94311169  0.92736214]\n",
      " [ 0.74011848  0.15937503  0.49351152  0.94311169  1.          0.75020516]\n",
      " [ 0.11059579 -0.53318971 -0.20484118  0.92736214  0.75020516  1.        ]]\n"
     ]
    }
   ],
   "source": [
    "CCt = CC.T\n",
    "print(CCt.dot(CCt.T) / (np.linalg.norm(CCt, axis=1).reshape(CCt.shape[0], 1) * np.linalg.norm(CCt, axis=1).T))"
   ]
  },
  {
   "cell_type": "code",
   "execution_count": 146,
   "metadata": {},
   "outputs": [
    {
     "data": {
      "text/html": [
       "<div>\n",
       "<style scoped>\n",
       "    .dataframe tbody tr th:only-of-type {\n",
       "        vertical-align: middle;\n",
       "    }\n",
       "\n",
       "    .dataframe tbody tr th {\n",
       "        vertical-align: top;\n",
       "    }\n",
       "\n",
       "    .dataframe thead th {\n",
       "        text-align: right;\n",
       "    }\n",
       "</style>\n",
       "<table border=\"1\" class=\"dataframe\">\n",
       "  <thead>\n",
       "    <tr style=\"text-align: right;\">\n",
       "      <th></th>\n",
       "      <th>0</th>\n",
       "      <th>1</th>\n",
       "    </tr>\n",
       "  </thead>\n",
       "  <tbody>\n",
       "    <tr>\n",
       "      <th>ship</th>\n",
       "      <td>0.952252</td>\n",
       "      <td>-0.472215</td>\n",
       "    </tr>\n",
       "    <tr>\n",
       "      <th>boat</th>\n",
       "      <td>0.279712</td>\n",
       "      <td>-0.528459</td>\n",
       "    </tr>\n",
       "    <tr>\n",
       "      <th>ocean</th>\n",
       "      <td>1.028335</td>\n",
       "      <td>-0.814913</td>\n",
       "    </tr>\n",
       "    <tr>\n",
       "      <th>wood</th>\n",
       "      <td>1.520282</td>\n",
       "      <td>0.558946</td>\n",
       "    </tr>\n",
       "    <tr>\n",
       "      <th>tree</th>\n",
       "      <td>0.568030</td>\n",
       "      <td>1.031162</td>\n",
       "    </tr>\n",
       "  </tbody>\n",
       "</table>\n",
       "</div>"
      ],
      "text/plain": [
       "              0         1\n",
       "ship   0.952252 -0.472215\n",
       "boat   0.279712 -0.528459\n",
       "ocean  1.028335 -0.814913\n",
       "wood   1.520282  0.558946\n",
       "tree   0.568030  1.031162"
      ]
     },
     "execution_count": 146,
     "metadata": {},
     "output_type": "execute_result"
    }
   ],
   "source": [
    "# 각 열은 hidden variable인 잠재의미(클러스터)를 나타내고, 그때의 각 행(단어)은 해당 잠재의미에서의 중요도를 나타냄. \n",
    "pd.DataFrame(U[:,:2].dot(np.diag(sigma[:2])), index = ['ship', 'boat', 'ocean', 'wood', 'tree'])"
   ]
  },
  {
   "cell_type": "code",
   "execution_count": 147,
   "metadata": {},
   "outputs": [],
   "source": [
    "data = pd.DataFrame(U[:,:2].dot(np.diag(sigma[:2])), index = ['ship', 'boat', 'ocean', 'wood', 'tree'])"
   ]
  },
  {
   "cell_type": "code",
   "execution_count": 152,
   "metadata": {},
   "outputs": [
    {
     "data": {
      "text/plain": [
       "{'wood': 1.520282114638552,\n",
       " 'ocean': 1.0283346514510263,\n",
       " 'ship': 0.9522518499797589,\n",
       " 'tree': 0.5680302646587932,\n",
       " 'boat': 0.2797116034997002}"
      ]
     },
     "execution_count": 152,
     "metadata": {},
     "output_type": "execute_result"
    }
   ],
   "source": [
    "# value를 갖고 sort하되 [0]번째를 기준으로 내림차순 정렬 수행. 이후 dict에 넣어 word_cloud에 넣기 좋은 형태로 반환\n",
    "data.sort_values(by=[0], ascending=False)[0].to_dict() "
   ]
  },
  {
   "cell_type": "code",
   "execution_count": 153,
   "metadata": {},
   "outputs": [
    {
     "data": {
      "text/plain": [
       "{'tree': 1.031161645026428, 'wood': 0.5589464674814452}"
      ]
     },
     "execution_count": 153,
     "metadata": {},
     "output_type": "execute_result"
    }
   ],
   "source": [
    "cluster1 = data.sort_values(by=[1], ascending = False)\n",
    "cluster1[cluster1[1] > 0][1].to_dict() # 1번째 latent semantic vector에서 두 단어가 관계가 있음을 확인할 수 있다. "
   ]
  },
  {
   "cell_type": "code",
   "execution_count": 154,
   "metadata": {},
   "outputs": [],
   "source": [
    "# 문서 레벨에서 확인해보기\n",
    "data = pd.DataFrame(np.diag(sigma[:3]).dot(V[:3]))"
   ]
  },
  {
   "cell_type": "code",
   "execution_count": 157,
   "metadata": {},
   "outputs": [
    {
     "data": {
      "text/html": [
       "<div>\n",
       "<style scoped>\n",
       "    .dataframe tbody tr th:only-of-type {\n",
       "        vertical-align: middle;\n",
       "    }\n",
       "\n",
       "    .dataframe tbody tr th {\n",
       "        vertical-align: top;\n",
       "    }\n",
       "\n",
       "    .dataframe thead th {\n",
       "        text-align: right;\n",
       "    }\n",
       "</style>\n",
       "<table border=\"1\" class=\"dataframe\">\n",
       "  <thead>\n",
       "    <tr style=\"text-align: right;\">\n",
       "      <th></th>\n",
       "      <th>0</th>\n",
       "      <th>1</th>\n",
       "      <th>2</th>\n",
       "      <th>3</th>\n",
       "      <th>4</th>\n",
       "      <th>5</th>\n",
       "    </tr>\n",
       "  </thead>\n",
       "  <tbody>\n",
       "    <tr>\n",
       "      <th>0</th>\n",
       "      <td>1.618898</td>\n",
       "      <td>0.604877</td>\n",
       "      <td>0.440347</td>\n",
       "      <td>0.965693</td>\n",
       "      <td>0.703020</td>\n",
       "      <td>0.262673</td>\n",
       "    </tr>\n",
       "    <tr>\n",
       "      <th>1</th>\n",
       "      <td>-0.456717</td>\n",
       "      <td>-0.842566</td>\n",
       "      <td>-0.296174</td>\n",
       "      <td>0.997319</td>\n",
       "      <td>0.350572</td>\n",
       "      <td>0.646747</td>\n",
       "    </tr>\n",
       "    <tr>\n",
       "      <th>2</th>\n",
       "      <td>-0.356713</td>\n",
       "      <td>0.954712</td>\n",
       "      <td>-0.569498</td>\n",
       "      <td>0.259686</td>\n",
       "      <td>-0.154906</td>\n",
       "      <td>0.414592</td>\n",
       "    </tr>\n",
       "  </tbody>\n",
       "</table>\n",
       "</div>"
      ],
      "text/plain": [
       "          0         1         2         3         4         5\n",
       "0  1.618898  0.604877  0.440347  0.965693  0.703020  0.262673\n",
       "1 -0.456717 -0.842566 -0.296174  0.997319  0.350572  0.646747\n",
       "2 -0.356713  0.954712 -0.569498  0.259686 -0.154906  0.414592"
      ]
     },
     "execution_count": 157,
     "metadata": {},
     "output_type": "execute_result"
    }
   ],
   "source": [
    "data # 이것을 시각화하면 K-means와는 또 다른 방식으로 클러스터링을 수행해 볼 수 있음. "
   ]
  },
  {
   "cell_type": "code",
   "execution_count": 205,
   "metadata": {},
   "outputs": [],
   "source": [
    "clusterData = np.diag(sigma[:3]).dot(V[:3]) # 바로 윗 셀보다 차원을 더 줄인 결과\n",
    "# 차원을 줄인(decomposition) 결과 필요없는 아웃라이어가 제거되고 중요한 값만 부각된다. "
   ]
  },
  {
   "cell_type": "code",
   "execution_count": 159,
   "metadata": {},
   "outputs": [
    {
     "name": "stdout",
     "output_type": "stream",
     "text": [
      "[[ 1.          0.42223483  0.78542247  0.41805317  0.75047307 -0.01291529]\n",
      " [ 0.42223483  1.         -0.02533697 -0.00414719 -0.01597348  0.00853927]\n",
      " [ 0.78542247 -0.02533697  1.         -0.01640023  0.47162423 -0.49365825]\n",
      " [ 0.41805317 -0.00414719 -0.01640023  1.          0.87394629  0.87763513]\n",
      " [ 0.75047307 -0.01597348  0.47162423  0.87394629  1.          0.53404114]\n",
      " [-0.01291529  0.00853927 -0.49365825  0.87763513  0.53404114  1.        ]]\n"
     ]
    }
   ],
   "source": [
    "CCt = clusterData.T\n",
    "print(CCt.dot(CCt.T) / (np.linalg.norm(CCt, axis=1).reshape(CCt.shape[0], 1) * np.linalg.norm(CCt, axis=1).T))"
   ]
  },
  {
   "cell_type": "markdown",
   "metadata": {},
   "source": [
    "## 다른 예제\n",
    "\n",
    "1. SVD => U, sigma, Vt (M,N) / (N, M), N개의 문서와 M개의 단어\n",
    "2. U.sigma, U[:, :K].sigma[:K] => Latent Semantic 차원에서 어느 문서가 중요한지 찾기\n",
    "3. sigma.Vt, sigma[:K].Vt[:K, :] => Latent Semantic 차원에서 어느 단어가 중요한지\n",
    "4. 2번으로부터 각 문서가 어느 문서와 유사한지 Latent Semantic Dimensions에서 찾기(내적을 통해 cosine구하기)\n",
    "5. 3번으로부터 각 단어가 어느 단어와 유사한지 Latent Semantic Dimensions에서 찾기(내적을 통해 cosine구하기)"
   ]
  },
  {
   "cell_type": "code",
   "execution_count": 189,
   "metadata": {},
   "outputs": [],
   "source": [
    "# DTM 구조로 되어 있음. \n",
    "NewC = np.array([[1, 1, 0, 0, 0, 0, 0],\n",
    "                 [0, 0, 1, 1, 1, 0, 0],\n",
    "                 [0, 1, 0, 0, 0, 1, 0],\n",
    "                 [0, 0, 1, 0, 0, 0, 1],\n",
    "                 [0, 0, 0, 1, 1, 0, 1],\n",
    "                 [1, 0, 1, 0, 1, 1, 1]])"
   ]
  },
  {
   "cell_type": "code",
   "execution_count": 190,
   "metadata": {},
   "outputs": [
    {
     "data": {
      "text/html": [
       "<div>\n",
       "<style scoped>\n",
       "    .dataframe tbody tr th:only-of-type {\n",
       "        vertical-align: middle;\n",
       "    }\n",
       "\n",
       "    .dataframe tbody tr th {\n",
       "        vertical-align: top;\n",
       "    }\n",
       "\n",
       "    .dataframe thead th {\n",
       "        text-align: right;\n",
       "    }\n",
       "</style>\n",
       "<table border=\"1\" class=\"dataframe\">\n",
       "  <thead>\n",
       "    <tr style=\"text-align: right;\">\n",
       "      <th></th>\n",
       "      <th>cute</th>\n",
       "      <th>kitty</th>\n",
       "      <th>eat</th>\n",
       "      <th>rice</th>\n",
       "      <th>cake</th>\n",
       "      <th>hamster</th>\n",
       "      <th>brad</th>\n",
       "    </tr>\n",
       "  </thead>\n",
       "  <tbody>\n",
       "    <tr>\n",
       "      <th>A</th>\n",
       "      <td>1</td>\n",
       "      <td>1</td>\n",
       "      <td>0</td>\n",
       "      <td>0</td>\n",
       "      <td>0</td>\n",
       "      <td>0</td>\n",
       "      <td>0</td>\n",
       "    </tr>\n",
       "    <tr>\n",
       "      <th>B</th>\n",
       "      <td>0</td>\n",
       "      <td>0</td>\n",
       "      <td>1</td>\n",
       "      <td>1</td>\n",
       "      <td>1</td>\n",
       "      <td>0</td>\n",
       "      <td>0</td>\n",
       "    </tr>\n",
       "    <tr>\n",
       "      <th>C</th>\n",
       "      <td>0</td>\n",
       "      <td>1</td>\n",
       "      <td>0</td>\n",
       "      <td>0</td>\n",
       "      <td>0</td>\n",
       "      <td>1</td>\n",
       "      <td>0</td>\n",
       "    </tr>\n",
       "    <tr>\n",
       "      <th>D</th>\n",
       "      <td>0</td>\n",
       "      <td>0</td>\n",
       "      <td>1</td>\n",
       "      <td>0</td>\n",
       "      <td>0</td>\n",
       "      <td>0</td>\n",
       "      <td>1</td>\n",
       "    </tr>\n",
       "    <tr>\n",
       "      <th>E</th>\n",
       "      <td>0</td>\n",
       "      <td>0</td>\n",
       "      <td>0</td>\n",
       "      <td>1</td>\n",
       "      <td>1</td>\n",
       "      <td>0</td>\n",
       "      <td>1</td>\n",
       "    </tr>\n",
       "    <tr>\n",
       "      <th>F</th>\n",
       "      <td>1</td>\n",
       "      <td>0</td>\n",
       "      <td>1</td>\n",
       "      <td>0</td>\n",
       "      <td>1</td>\n",
       "      <td>1</td>\n",
       "      <td>1</td>\n",
       "    </tr>\n",
       "  </tbody>\n",
       "</table>\n",
       "</div>"
      ],
      "text/plain": [
       "   cute  kitty  eat  rice  cake  hamster  brad\n",
       "A     1      1    0     0     0        0     0\n",
       "B     0      0    1     1     1        0     0\n",
       "C     0      1    0     0     0        1     0\n",
       "D     0      0    1     0     0        0     1\n",
       "E     0      0    0     1     1        0     1\n",
       "F     1      0    1     0     1        1     1"
      ]
     },
     "execution_count": 190,
     "metadata": {},
     "output_type": "execute_result"
    }
   ],
   "source": [
    "RowName = ['A', 'B', 'C', 'D', 'E', 'F']\n",
    "ColumnName = ['cute', 'kitty', 'eat', 'rice', 'cake', 'hamster', 'brad']\n",
    "_NewC = pd.DataFrame(NewC, index=RowName, columns=ColumnName)\n",
    "_NewC"
   ]
  },
  {
   "cell_type": "code",
   "execution_count": 191,
   "metadata": {},
   "outputs": [],
   "source": [
    "# 1번과정 수행하기\n",
    "U, sigma, V = np.linalg.svd(_NewC) # singular vector decomposition (U, sigma, V 세 개의 행렬로 쪼개져서 나오므로 리턴값은 3개)"
   ]
  },
  {
   "cell_type": "code",
   "execution_count": 192,
   "metadata": {},
   "outputs": [
    {
     "data": {
      "text/plain": [
       "((6, 6), (6,), (7, 7))"
      ]
     },
     "execution_count": 192,
     "metadata": {},
     "output_type": "execute_result"
    }
   ],
   "source": [
    "U.shape, sigma.shape, V.shape"
   ]
  },
  {
   "cell_type": "code",
   "execution_count": 193,
   "metadata": {},
   "outputs": [
    {
     "data": {
      "text/html": [
       "<div>\n",
       "<style scoped>\n",
       "    .dataframe tbody tr th:only-of-type {\n",
       "        vertical-align: middle;\n",
       "    }\n",
       "\n",
       "    .dataframe tbody tr th {\n",
       "        vertical-align: top;\n",
       "    }\n",
       "\n",
       "    .dataframe thead th {\n",
       "        text-align: right;\n",
       "    }\n",
       "</style>\n",
       "<table border=\"1\" class=\"dataframe\">\n",
       "  <thead>\n",
       "    <tr style=\"text-align: right;\">\n",
       "      <th></th>\n",
       "      <th>0</th>\n",
       "      <th>1</th>\n",
       "      <th>2</th>\n",
       "      <th>3</th>\n",
       "      <th>4</th>\n",
       "      <th>5</th>\n",
       "      <th>6</th>\n",
       "    </tr>\n",
       "  </thead>\n",
       "  <tbody>\n",
       "    <tr>\n",
       "      <th>0</th>\n",
       "      <td>2.706786e-01</td>\n",
       "      <td>7.887421e-02</td>\n",
       "      <td>4.901791e-01</td>\n",
       "      <td>2.966641e-01</td>\n",
       "      <td>5.279056e-01</td>\n",
       "      <td>2.706786e-01</td>\n",
       "      <td>4.901791e-01</td>\n",
       "    </tr>\n",
       "    <tr>\n",
       "      <th>1</th>\n",
       "      <td>4.630926e-01</td>\n",
       "      <td>6.060210e-01</td>\n",
       "      <td>-7.022424e-02</td>\n",
       "      <td>-3.810003e-01</td>\n",
       "      <td>-2.209182e-01</td>\n",
       "      <td>4.630926e-01</td>\n",
       "      <td>-7.022424e-02</td>\n",
       "    </tr>\n",
       "    <tr>\n",
       "      <th>2</th>\n",
       "      <td>3.630407e-02</td>\n",
       "      <td>-4.713829e-01</td>\n",
       "      <td>3.826723e-01</td>\n",
       "      <td>-6.078533e-01</td>\n",
       "      <td>-3.358578e-01</td>\n",
       "      <td>3.630407e-02</td>\n",
       "      <td>3.826723e-01</td>\n",
       "    </tr>\n",
       "    <tr>\n",
       "      <th>3</th>\n",
       "      <td>-4.710277e-16</td>\n",
       "      <td>4.710277e-16</td>\n",
       "      <td>7.071068e-01</td>\n",
       "      <td>2.498002e-16</td>\n",
       "      <td>-1.368031e-16</td>\n",
       "      <td>-2.380610e-17</td>\n",
       "      <td>-7.071068e-01</td>\n",
       "    </tr>\n",
       "    <tr>\n",
       "      <th>4</th>\n",
       "      <td>-7.071068e-01</td>\n",
       "      <td>7.771561e-16</td>\n",
       "      <td>0.000000e+00</td>\n",
       "      <td>4.440892e-16</td>\n",
       "      <td>-1.110223e-16</td>\n",
       "      <td>7.071068e-01</td>\n",
       "      <td>5.551115e-16</td>\n",
       "    </tr>\n",
       "    <tr>\n",
       "      <th>5</th>\n",
       "      <td>3.464841e-01</td>\n",
       "      <td>-5.598272e-01</td>\n",
       "      <td>-3.291731e-01</td>\n",
       "      <td>-1.835952e-01</td>\n",
       "      <td>4.428025e-01</td>\n",
       "      <td>3.464841e-01</td>\n",
       "      <td>-3.291731e-01</td>\n",
       "    </tr>\n",
       "    <tr>\n",
       "      <th>6</th>\n",
       "      <td>3.015113e-01</td>\n",
       "      <td>-3.015113e-01</td>\n",
       "      <td>-2.220446e-16</td>\n",
       "      <td>6.030227e-01</td>\n",
       "      <td>-6.030227e-01</td>\n",
       "      <td>3.015113e-01</td>\n",
       "      <td>5.551115e-17</td>\n",
       "    </tr>\n",
       "  </tbody>\n",
       "</table>\n",
       "</div>"
      ],
      "text/plain": [
       "              0             1             2             3             4  \\\n",
       "0  2.706786e-01  7.887421e-02  4.901791e-01  2.966641e-01  5.279056e-01   \n",
       "1  4.630926e-01  6.060210e-01 -7.022424e-02 -3.810003e-01 -2.209182e-01   \n",
       "2  3.630407e-02 -4.713829e-01  3.826723e-01 -6.078533e-01 -3.358578e-01   \n",
       "3 -4.710277e-16  4.710277e-16  7.071068e-01  2.498002e-16 -1.368031e-16   \n",
       "4 -7.071068e-01  7.771561e-16  0.000000e+00  4.440892e-16 -1.110223e-16   \n",
       "5  3.464841e-01 -5.598272e-01 -3.291731e-01 -1.835952e-01  4.428025e-01   \n",
       "6  3.015113e-01 -3.015113e-01 -2.220446e-16  6.030227e-01 -6.030227e-01   \n",
       "\n",
       "              5             6  \n",
       "0  2.706786e-01  4.901791e-01  \n",
       "1  4.630926e-01 -7.022424e-02  \n",
       "2  3.630407e-02  3.826723e-01  \n",
       "3 -2.380610e-17 -7.071068e-01  \n",
       "4  7.071068e-01  5.551115e-16  \n",
       "5  3.464841e-01 -3.291731e-01  \n",
       "6  3.015113e-01  5.551115e-17  "
      ]
     },
     "execution_count": 193,
     "metadata": {},
     "output_type": "execute_result"
    }
   ],
   "source": [
    "pd.DataFrame(V) # V.shape가 (6,6)으로 나오는 이유는 np.linalg.svd의 인자에서 full_matrices가 True이기 때문. "
   ]
  },
  {
   "cell_type": "code",
   "execution_count": 194,
   "metadata": {},
   "outputs": [
    {
     "data": {
      "text/plain": [
       "array([2.9771718 , 1.87837842, 1.35866397, 1.        , 1.        ,\n",
       "       0.87302623])"
      ]
     },
     "execution_count": 194,
     "metadata": {},
     "output_type": "execute_result"
    }
   ],
   "source": [
    "sigma # digonal한 값들을 일렬로 쭉 늘어놓은 형태"
   ]
  },
  {
   "cell_type": "code",
   "execution_count": 195,
   "metadata": {},
   "outputs": [
    {
     "data": {
      "text/plain": [
       "(6, 6)"
      ]
     },
     "execution_count": 195,
     "metadata": {},
     "output_type": "execute_result"
    }
   ],
   "source": [
    "np.diag(sigma).shape"
   ]
  },
  {
   "cell_type": "code",
   "execution_count": 196,
   "metadata": {},
   "outputs": [
    {
     "data": {
      "text/plain": [
       "(3, 3)"
      ]
     },
     "execution_count": 196,
     "metadata": {},
     "output_type": "execute_result"
    }
   ],
   "source": [
    "np.diag(sigma[:3]).shape # 중요한 차원 2개만 쓰기"
   ]
  },
  {
   "cell_type": "code",
   "execution_count": 203,
   "metadata": {},
   "outputs": [
    {
     "name": "stdout",
     "output_type": "stream",
     "text": [
      "(6, 3) (2, 7)\n"
     ]
    },
    {
     "data": {
      "text/plain": [
       "((6, 3), (3, 7))"
      ]
     },
     "execution_count": 203,
     "metadata": {},
     "output_type": "execute_result"
    }
   ],
   "source": [
    "print(U[:,:3].shape, V[:2].shape)\n",
    "\n",
    "# 2번과정 수행해보기\n",
    "U[:,:3].shape, V[:3].shape"
   ]
  },
  {
   "cell_type": "code",
   "execution_count": 204,
   "metadata": {},
   "outputs": [
    {
     "data": {
      "text/html": [
       "<div>\n",
       "<style scoped>\n",
       "    .dataframe tbody tr th:only-of-type {\n",
       "        vertical-align: middle;\n",
       "    }\n",
       "\n",
       "    .dataframe tbody tr th {\n",
       "        vertical-align: top;\n",
       "    }\n",
       "\n",
       "    .dataframe thead th {\n",
       "        text-align: right;\n",
       "    }\n",
       "</style>\n",
       "<table border=\"1\" class=\"dataframe\">\n",
       "  <thead>\n",
       "    <tr style=\"text-align: right;\">\n",
       "      <th></th>\n",
       "      <th>0</th>\n",
       "      <th>1</th>\n",
       "      <th>2</th>\n",
       "      <th>3</th>\n",
       "      <th>4</th>\n",
       "      <th>5</th>\n",
       "      <th>6</th>\n",
       "    </tr>\n",
       "  </thead>\n",
       "  <tbody>\n",
       "    <tr>\n",
       "      <th>0</th>\n",
       "      <td>0.573920</td>\n",
       "      <td>0.880565</td>\n",
       "      <td>-0.070227</td>\n",
       "      <td>-0.039169</td>\n",
       "      <td>0.094469</td>\n",
       "      <td>0.573920</td>\n",
       "      <td>-0.070227</td>\n",
       "    </tr>\n",
       "    <tr>\n",
       "      <th>1</th>\n",
       "      <td>0.024242</td>\n",
       "      <td>-0.039169</td>\n",
       "      <td>0.476969</td>\n",
       "      <td>0.987155</td>\n",
       "      <td>1.030981</td>\n",
       "      <td>0.024242</td>\n",
       "      <td>0.476969</td>\n",
       "    </tr>\n",
       "    <tr>\n",
       "      <th>2</th>\n",
       "      <td>0.573920</td>\n",
       "      <td>0.880565</td>\n",
       "      <td>-0.070227</td>\n",
       "      <td>-0.039169</td>\n",
       "      <td>0.094469</td>\n",
       "      <td>0.573920</td>\n",
       "      <td>-0.070227</td>\n",
       "    </tr>\n",
       "    <tr>\n",
       "      <th>3</th>\n",
       "      <td>0.228106</td>\n",
       "      <td>-0.368560</td>\n",
       "      <td>0.783290</td>\n",
       "      <td>-0.120869</td>\n",
       "      <td>0.291517</td>\n",
       "      <td>0.228106</td>\n",
       "      <td>0.783290</td>\n",
       "    </tr>\n",
       "    <tr>\n",
       "      <th>4</th>\n",
       "      <td>0.024242</td>\n",
       "      <td>-0.039169</td>\n",
       "      <td>0.476969</td>\n",
       "      <td>0.987155</td>\n",
       "      <td>1.030981</td>\n",
       "      <td>0.024242</td>\n",
       "      <td>0.476969</td>\n",
       "    </tr>\n",
       "    <tr>\n",
       "      <th>5</th>\n",
       "      <td>0.834580</td>\n",
       "      <td>0.267275</td>\n",
       "      <td>1.157155</td>\n",
       "      <td>0.087653</td>\n",
       "      <td>0.788595</td>\n",
       "      <td>0.834580</td>\n",
       "      <td>1.157155</td>\n",
       "    </tr>\n",
       "  </tbody>\n",
       "</table>\n",
       "</div>"
      ],
      "text/plain": [
       "          0         1         2         3         4         5         6\n",
       "0  0.573920  0.880565 -0.070227 -0.039169  0.094469  0.573920 -0.070227\n",
       "1  0.024242 -0.039169  0.476969  0.987155  1.030981  0.024242  0.476969\n",
       "2  0.573920  0.880565 -0.070227 -0.039169  0.094469  0.573920 -0.070227\n",
       "3  0.228106 -0.368560  0.783290 -0.120869  0.291517  0.228106  0.783290\n",
       "4  0.024242 -0.039169  0.476969  0.987155  1.030981  0.024242  0.476969\n",
       "5  0.834580  0.267275  1.157155  0.087653  0.788595  0.834580  1.157155"
      ]
     },
     "execution_count": 204,
     "metadata": {},
     "output_type": "execute_result"
    }
   ],
   "source": [
    "pd.DataFrame((U[:,:3].dot(np.diag(sigma[:2])).dot(V[:3])))"
   ]
  },
  {
   "cell_type": "code",
   "execution_count": 198,
   "metadata": {},
   "outputs": [
    {
     "ename": "ValueError",
     "evalue": "shapes (6,6) and (7,7) not aligned: 6 (dim 1) != 7 (dim 0)",
     "output_type": "error",
     "traceback": [
      "\u001b[1;31m---------------------------------------------------------------------------\u001b[0m",
      "\u001b[1;31mValueError\u001b[0m                                Traceback (most recent call last)",
      "\u001b[1;32m<ipython-input-198-1540a676360f>\u001b[0m in \u001b[0;36m<module>\u001b[1;34m\u001b[0m\n\u001b[1;32m----> 1\u001b[1;33m \u001b[0mpd\u001b[0m\u001b[1;33m.\u001b[0m\u001b[0mDataFrame\u001b[0m\u001b[1;33m(\u001b[0m\u001b[0mU\u001b[0m\u001b[1;33m.\u001b[0m\u001b[0mdot\u001b[0m\u001b[1;33m(\u001b[0m\u001b[0mnp\u001b[0m\u001b[1;33m.\u001b[0m\u001b[0mdiag\u001b[0m\u001b[1;33m(\u001b[0m\u001b[0msigma\u001b[0m\u001b[1;33m)\u001b[0m\u001b[1;33m)\u001b[0m\u001b[1;33m.\u001b[0m\u001b[0mdot\u001b[0m\u001b[1;33m(\u001b[0m\u001b[0mV\u001b[0m\u001b[1;33m)\u001b[0m\u001b[1;33m)\u001b[0m \u001b[1;31m# 매트릭스를 분해했다가 합쳤음에도 아래 C와 근사한 값이 나온다.\u001b[0m\u001b[1;33m\u001b[0m\u001b[1;33m\u001b[0m\u001b[0m\n\u001b[0m",
      "\u001b[1;31mValueError\u001b[0m: shapes (6,6) and (7,7) not aligned: 6 (dim 1) != 7 (dim 0)"
     ]
    }
   ],
   "source": [
    "pd.DataFrame(U.dot(np.diag(sigma)).dot(V)) # 매트릭스를 분해했다가 합쳤음에도 아래 C와 근사한 값이 나온다. "
   ]
  },
  {
   "cell_type": "code",
   "execution_count": 199,
   "metadata": {},
   "outputs": [],
   "source": [
    "clusterData = np.diag(sigma[:3]).dot(V[:3])"
   ]
  },
  {
   "cell_type": "code",
   "execution_count": 200,
   "metadata": {},
   "outputs": [
    {
     "name": "stdout",
     "output_type": "stream",
     "text": [
      "[[ 1.          0.72879819  0.58904298  0.02907457  0.44070595  1.\n",
      "   0.58904298]\n",
      " [ 0.72879819  1.         -0.06807093 -0.04201136  0.08432534  0.72879819\n",
      "  -0.06807093]\n",
      " [ 0.58904298 -0.06807093  1.          0.43665367  0.80420547  0.58904298\n",
      "   1.        ]\n",
      " [ 0.02907457 -0.04201136  0.43665367  1.          0.86917695  0.02907457\n",
      "   0.43665367]\n",
      " [ 0.44070595  0.08432534  0.80420547  0.86917695  1.          0.44070595\n",
      "   0.80420547]\n",
      " [ 1.          0.72879819  0.58904298  0.02907457  0.44070595  1.\n",
      "   0.58904298]\n",
      " [ 0.58904298 -0.06807093  1.          0.43665367  0.80420547  0.58904298\n",
      "   1.        ]]\n"
     ]
    }
   ],
   "source": [
    "CCt = clusterData.T\n",
    "print(CCt.dot(CCt.T) / (np.linalg.norm(CCt, axis=1).reshape(CCt.shape[0], 1) * np.linalg.norm(CCt, axis=1).T))"
   ]
  },
  {
   "cell_type": "code",
   "execution_count": null,
   "metadata": {},
   "outputs": [],
   "source": []
  }
 ],
 "metadata": {
  "kernelspec": {
   "display_name": "Python 3",
   "language": "python",
   "name": "python3"
  },
  "language_info": {
   "codemirror_mode": {
    "name": "ipython",
    "version": 3
   },
   "file_extension": ".py",
   "mimetype": "text/x-python",
   "name": "python",
   "nbconvert_exporter": "python",
   "pygments_lexer": "ipython3",
   "version": "3.7.1"
  }
 },
 "nbformat": 4,
 "nbformat_minor": 2
}
