{
 "cells": [
  {
   "cell_type": "markdown",
   "metadata": {
    "collapsed": true
   },
   "source": [
    "* 색인 & 가중치 => 학습\n",
    "1. 수집한 문서 목록 가져오기\n",
    "2. 각 문서에서 색인어 목록 추출 전처리 -> 어절 -> 형태소+명사+바이그램\n",
    "3. 가중치 계산(TF-IDF) -> TDM -> TWM(with DocumentVectorLength)\n",
    "\n",
    "* 질의 -> 색인과정의 2 to 3\n",
    "4. 질의에서 색인어 추출\n",
    "5. 가중치 계산\n",
    "6. 유사도 계산(코싸인)\n",
    "7. 유사도 순 정렬(거리-오름차순, 각도-내림차순)\n",
    "8. 검색 결과 출력"
   ]
  },
  {
   "cell_type": "code",
   "execution_count": 1,
   "metadata": {},
   "outputs": [],
   "source": [
    "def getFileList(base = \"./\", ext = \"txt\"): # 아무것도 안했다면 base는 현재 경로\n",
    "    fileList = list()\n",
    "    for file in listdir(base):\n",
    "        if file.split(\".\")[-1] == ext: # .을 기준으로 split한 것이 txt인지 검사\n",
    "            fileList.append(\"{0}/{1}\".format(base, file))\n",
    "            \n",
    "    return fileList\n",
    "\n",
    "# txt 컨텐츠를 편하게 읽어오기 위한 함수\n",
    "def getContent(file): \n",
    "    with open(file, encoding=\"UTF-8\") as f:\n",
    "        content = f.read()\n",
    "    return content"
   ]
  },
  {
   "cell_type": "code",
   "execution_count": 2,
   "metadata": {},
   "outputs": [],
   "source": [
    "def ngramEojeol(sentence, n=2): # sentence를 받아 어절 단위로 분리해주는 함수\n",
    "    '''\n",
    "    입력:     단어1,   단어2,   단어3,  단어4 : 4\n",
    "    출력(2) : 단어12,  단어23,  단어34 :        3 - n + 1\n",
    "    출력(3) : 단어123, 단어234         :        2 - n + 1\n",
    "    '''\n",
    "    tokens = sentence.split()\n",
    "    ngram = []\n",
    "    \n",
    "    for i in range(len(tokens) - n + 1):\n",
    "        ngram.append(' '.join(tokens[i:i + n]))    \n",
    "        \n",
    "    return ngram"
   ]
  },
  {
   "cell_type": "code",
   "execution_count": 3,
   "metadata": {},
   "outputs": [],
   "source": [
    "def ngramUmjeol(term, n = 2): # 음절 단위로 구분하는 함수. sentence를 받아 2개(n=2)씩 쪼갠다.\n",
    "\n",
    "    ngram = []\n",
    "    \n",
    "    for i in range(len(term) - n + 1):\n",
    "        # ngram.append(tokens_ngram[i:i+n]) # 방법1\n",
    "        # ngram.append(tuple(tokens_ngram[i:i+n])) # 방법2 (튜플로 반환 시 키값을 쓸 수 있음)\n",
    "        ngram.append(''.join(term[i:i + n])) # 방법3\n",
    "        \n",
    "    return ngram"
   ]
  },
  {
   "cell_type": "code",
   "execution_count": 4,
   "metadata": {},
   "outputs": [],
   "source": [
    "import re\n",
    "from string import punctuation\n",
    "\n",
    "\n",
    "def getPatternList():\n",
    "    patternList = dict()\n",
    "    pattern = re.compile(r\"[%s]{1,}\" % re.escape(punctuation)) # punctuation 안의 특수문자가 두번이상 반복되는 모든 문자에 대해 패턴 정의\n",
    "    patternList[\"Punctuation\"] = pattern\n",
    "    pattern2 = re.compile(r\"([A-Za-z0-9\\-\\_\\.]{3,}@[A-Za-z0-9\\-\\_]{3,}(.[A-Za-z]{2,})+)\") #이메일주소제거패턴\n",
    "    patternList[\"Email\"] = pattern2\n",
    "    pattern3 = re.compile(r\"([A-Za-z0-9\\-\\_]{1,}(.[A-Za-z]{2,})+)\") # 신문사도메인패턴\n",
    "    patternList[\"Domain\"] = pattern3\n",
    "    pattern4 = re.compile(r\"\\s{2,}\") # 공백제거\n",
    "    patternList[\"Whitespace\"] = pattern4\n",
    "    pattern5 = re.compile(r\"([^ㄱ-ㅎㅏ-ㅣ가-힣0-9]+)\") # 한글이 아닌 영어 기호 제거\n",
    "    patternList[\"Korean\"] = pattern5\n",
    "    pattern6 = re.compile(r'[A-Za-z-_]{8,}') # 영어 (대소문자) +\\-\\_ 제거 (8글자 이상)\n",
    "    patternList[\"ElimLongEng\"] = pattern6\n",
    "    pattern7 = re.compile(r\"를 2019 및 금지|네이버 채널에서|저작권자 주 블로터앤미디어 저작권자를 명기하고 내용을 변경하지 않으며 비상업적으로 이용하는 조건아래 가능합니다|\"\n",
    "                          r\"디지털 마케팅의 미래 아이포럼|무단전재|오류를 우회하기 위한 함수 추가|재배포|기자|아이뉴스24|구독해주세요|\"\n",
    "                          r\"고수들의 재테크 비법|이건희칼럼|성공을 꿈꾸는 사람들의 경제 뉴스|머니 및 금지|및 금지|\"\n",
    "                          r\"네이버 모바일에서|네이버에서 헤럴드경제|채널 구독하기|헤럴드 리얼라이프 헤럴드경제 사이트 바로가기 헤럴드경제 무단 전재 및 금지|\"\n",
    "                          r\"전자신문|바로가기|전자신문인터넷|인터넷 및 금지|중앙일보|친구추가|구독 1위|\"\n",
    "                          r\"한국경제|재배포|기사제보|보도자료|한경닷컴|네이버에서|자세히보기|자세히 보기|모바일한경|구독신청|\"\n",
    "                          r\"머니투데이|돈이 보이는 리얼타임 뉴스|연예뉴스|파이낸셜뉴스|무단 전재 금지\") # 높은 가중치를 갖는 단어를 하드코딩 데이터로 제거\n",
    "    patternList[\"ElimRecWord\"] = pattern7\n",
    "    \n",
    "    return patternList"
   ]
  },
  {
   "cell_type": "code",
   "execution_count": 5,
   "metadata": {},
   "outputs": [],
   "source": [
    "from os import listdir\n",
    "\n",
    "FileList = getFileList(\"C:/Users/brsta/ICT_AI_AdvanceClass_NLP/0314_DownloadedNewstxts/\")\n",
    "NewsContent = list() \n",
    "\n",
    "for i in range(len(FileList)):\n",
    "    NewsContent.append(getContent(FileList[i])) # len(NewsContent) = 180\n"
   ]
  },
  {
   "cell_type": "code",
   "execution_count": 6,
   "metadata": {},
   "outputs": [
    {
     "name": "stdout",
     "output_type": "stream",
     "text": [
      "   오히려 단체측 무선이어폰 연구는 존재치도 않아 국내 참여 연구자도 어리둥절 이엠에프사이언티스에서 일부 언론 보도를 부정하며 직접 보내온 이메일 내용이다 이엠에프사이언티스트 관계자인 조엘 모스코위츠 미국 버클리 캘리포니아대 가정사회건강연구소 소장은 무선 이어폰의 건강 유해성에 대한 보도를 부정했다 고재원   1212 18일 오전 전세계 과학자들이 애플 에어팟과 같은 무선 이어폰이 암 발생 위험을 키울 수 있다는 호소문을 국제연합 과 세계보건기구 에 제출했다는 일부 국내외 언론의 보도가 나오면서 불안감이 확산되고 있다 하지만 실제 이 단체와 호소문에 이름을 올린 과학자들에게 확인한 결과 호소문은 4년전 제출됐던 것이며 또 특정 제품이나 제조사를 언급하지 않은 것으로 확인됐다 18일 데일리메일과   등 국내외 일부 언론에 따르면 전 세계 과학자 247명이 무선 이어폰의 비이온화 전자기장 이 암을 유발할 위험 우려가 있다며 과 에 호소문을 제출했다고 전했다 이들 매체들은 호소문에 애플 에어팟이 에 관한 법적 기준치를 준수하고 있지만 장시간 노출될 경우 건강에 좋지 않을 수 있다 는 내용이 포함됐다고 보도했다 이들 매체들은 이 호소문에는 전 세계 42개국 과학자 247명이 서명을 했다고 전했다 여기에는 한국의 연세대 한양대 가톨릭대 단국대 중앙대 경북대 한림대 소속 과학자 15명의 이름도 포함됐다 하지만 취재 결과 호소문 작성을 주도한 비영리단체 이엠에프사이언티스트 는 애플 에어팟과 같은 무선 이어폰에 대한 유해성을 주장하지 않은 것으로 확인됐다 동아사이언스가 이엠에프사이언티스트에 직접 이메일로 확인한 결과 일부 언론 보도가 호소문에 대한 부정확한 내용을 담고 있다 며 무선 블루투스의 자기장에 머리가 장시간 노출될 시의 안정성에 대한 연구는 존재하지 않는다 고 밝혔다 이엠에프사이언티스트에 따르면 이 단체는 지난 2015년 5월 실제로 전세계 과학자 190명의 서명을 받아 과 유엔환경계획 에 국제 과학자 호소문 을 제출하기는 했다 당시 호소문에는 전세계 저명한 학술지에 게재된 2000개가 넘는 연구들을 근거로 비전리 전자기장 노출로부터 보호와 방지가 필요하다는 내용을 담았다 이 단체는 지속적으로 해당 내용에 동의하는 과학자들의 서명을 받아 현재는 42개국 247명으로 늘어났다 실제 한국인 과학자들 15명도 이 호소문에 서명한 것으로 확인됐다 이엠에프사이언티스 관계자인 조엘 모스코위츠 미국 버클리 캘리포니아대 가정사회건강연구소 소장은 이메일 인터뷰에서 호소문에 서명한 과학자들은 저명한 학술지에 전자기장과 생물학 건강과 관련된 연구를 발표한 분들 이라며 하지만 호소문은 이번에 새로 제출된 내용이 아닌 2015년 5월 제출됐으며 특정 제품이나 제조사를 언급하고 있지 않다 고 말했다 이 호소문에 서명했다고 알려진 송기원 연세대 생화학과 교수는 명단이 올라간 것도 잘 몰랐다 며 최근 몇 년 동안 해당 주제에 관여하지 않았고 당시도 다른 교수가 서명하라 해 서명했다 고 말했다 또 다른 서명자인 한 지방국립대 교수는 대략 2년전 서명했던 기억이 난다 고 말했다 전자기장 자체 유해성 여부는 아직까지 논란이 있다 는 지난 30년간 2만5000개가 넘는 관련 연구들이 존재하지만 낮은 전자기장의 건강 유해성을 확인하지 못했다고 결론내렸다 이덕환 서강대 화학과 교수는 통신용 마이크로파가 인체에 영향을 미치는지 여부는 이미 여러 연구를 통해 문제가 없다고 확실히 검증됐다 며 이미 우리 주변에 수많은 통신용 마이크로파가 지나다니고 있는데 전화나 무선이어폰을 가까이 가져간다고 새삼 더 문제가 된다는 발상도 황당하다 고 밝혔다 고재원   1212 \n"
     ]
    }
   ],
   "source": [
    "patternList = getPatternList()\n",
    "for _ in [\"Korean\", \"Whitespace\", \"Punctuation\", \"ElimLongEng\", \"Email\", \"Domain\", \"ElimRecWord\"]: \n",
    "    for i in range(len(FileList)):\n",
    "        NewsContent[i] = patternList[_].sub(\" \", NewsContent[i]) \n",
    "print(NewsContent[0])\n"
   ]
  },
  {
   "cell_type": "code",
   "execution_count": 7,
   "metadata": {},
   "outputs": [],
   "source": [
    "from nltk.tokenize import sent_tokenize, word_tokenize\n",
    "from konlpy.tag import Kkma\n",
    "ma = Kkma()\n",
    "# len(sent_tokenize(NewsContent[0])) # 구두점이 사라져서 토큰화 못함.\n",
    "\n",
    "dictTerm = list()\n",
    "dictPos = list()\n",
    "dictNoun = list()\n",
    "dictNgram = list()\n",
    "th=1\n",
    "\n",
    "for sentence in sent_tokenize(NewsContent[0]):\n",
    "    for token in word_tokenize(sentence):\n",
    "        if len(token) > th:\n",
    "            dictTerm.append(token)\n",
    "            # 아래서부터는 list이기때문에 extend를 사용해야 함. \n",
    "            dictPos.extend([morpheme for morpheme in ma.morphs(token) if len(morpheme) > th]) # 형태소 분석결과를 extend\n",
    "            dictNoun.extend([noun for noun in ma.nouns(token) if len(noun) > th]) # 명사 단위로 잘라 extend\n",
    "            dictNgram.extend(ngramUmjeol(token)) # 바이그램을 리턴\n",
    "            \n",
    "# 빠른 속도 및 중복 데이터 처리를 위해 set사용\n",
    "dictTerm = list(set(dictTerm))\n",
    "dictPos = list(set(dictPos))\n",
    "dictNoun = list(set(dictNoun))\n",
    "dictNgram = list(set(dictNgram))"
   ]
  },
  {
   "cell_type": "code",
   "execution_count": 8,
   "metadata": {},
   "outputs": [
    {
     "data": {
      "text/plain": [
       "(276, 214, 181, 484)"
      ]
     },
     "execution_count": 8,
     "metadata": {},
     "output_type": "execute_result"
    }
   ],
   "source": [
    "len(dictTerm), len(dictPos), len(dictNoun), len(dictNgram)\n"
   ]
  },
  {
   "cell_type": "code",
   "execution_count": 9,
   "metadata": {},
   "outputs": [
    {
     "data": {
      "text/plain": [
       "754"
      ]
     },
     "execution_count": 9,
     "metadata": {},
     "output_type": "execute_result"
    }
   ],
   "source": [
    "\n",
    "len(list(set(dictTerm + dictPos + dictNoun + dictNgram)))\n"
   ]
  },
  {
   "cell_type": "code",
   "execution_count": 10,
   "metadata": {},
   "outputs": [
    {
     "name": "stdout",
     "output_type": "stream",
     "text": [
      "<class 'str'>\n"
     ]
    }
   ],
   "source": [
    "collection = []\n",
    "# print(type(FileList[0]))\n",
    "\n",
    "for i in range(len(NewsContent)):\n",
    "    collection.append((str(FileList[i]), NewsContent[i]))\n",
    "print(type(collection[10][1]))"
   ]
  },
  {
   "cell_type": "code",
   "execution_count": 11,
   "metadata": {},
   "outputs": [],
   "source": [
    "# in-memory (Hash Key 값)\n",
    "# 전체 색인어 목록(Dictionary)\n",
    "# {단어1:포스팅위치, 단어2:포스팅위치, ...}\n",
    "globalLexicon = dict()\n",
    "queryPosting = dict()\n",
    "# 전체 문서 목록(Dictionary)\n",
    "# [0:문서1, 1:문서2, ...]\n",
    "globalDocument = list()\n",
    "\n",
    "# disk\n",
    "# 사전에 있는 색인어 중, 어느 문서에서, 몇 번 나타났는지\n",
    "# [(단어 idx, 문서 idx, 빈도, 다음주소), ...]\n",
    "# [0:Tuple(lexiconIdx, documentIdx, freq, 다음포스팅위치-fptr)]\n",
    "# 메모리 X, File OK\n",
    "globalPosting = list()\n"
   ]
  },
  {
   "cell_type": "code",
   "execution_count": 12,
   "metadata": {},
   "outputs": [],
   "source": [
    "for (docName, docContent) in collection:\n",
    "    # Pointer 대체용, Key, Document 이름은 절대로 겹치지 않는다는 가정\n",
    "    docIdx = len(globalDocument)\n",
    "    globalDocument.append(docName)\n",
    "    \n",
    "    # {단어idx:빈도, 단어idx:빈도, ...}\n",
    "    localPosting = dict()\n",
    "    \n",
    "    # Local 작업\n",
    "    for term in docContent.lower().split():\n",
    "        # Local에 대해서, 없으면 추가\n",
    "        if term not in localPosting.keys():\n",
    "            localPosting[term] = 1\n",
    "        # 있으면, 빈도 증가\n",
    "        else:\n",
    "            localPosting[term] += 1\n",
    "     \n",
    "    # Global Marge\n",
    "    # fp -> struct(단어, 빈도) (localPosting)\n",
    "    for indexTerm, termFreq in localPosting.items():\n",
    "        if indexTerm not in queryPosting.keys(): \n",
    "            lexiconIdx = len(queryPosting)\n",
    "            postingIdx = len(globalPosting) # fseek\n",
    "            postingData = (lexiconIdx, docIdx, termFreq, -1)\n",
    "            globalPosting.append(postingData)\n",
    "            queryPosting[indexTerm] = postingIdx # globalPosting 위치(ptr:idx)\n",
    "        else: # 기존 단어의 idx 가져오기\n",
    "            lexiconIdx = list(queryPosting.keys()).index(indexTerm)\n",
    "            postingIdx = len(globalPosting)\n",
    "            beforeIdx = queryPosting[indexTerm]\n",
    "            postingData = (lexiconIdx, docIdx, termFreq, beforeIdx)\n",
    "            globalPosting.append(postingData)\n",
    "            queryPosting[indexTerm] = postingIdx\n",
    "            \n",
    "#     print(localPosting)\n",
    "# print(globalDocument)\n",
    "\n",
    "#         if term not in globalLexicon.keys():\n",
    "#             lexiconIdx = len(globalLexicon) 0"
   ]
  },
  {
   "cell_type": "code",
   "execution_count": 13,
   "metadata": {
    "collapsed": true
   },
   "outputs": [
    {
     "data": {
      "text/plain": [
       "({'오히려': 55545,\n  '단체측': 1,\n  '무선이어폰': 4158,\n  '연구는': 3,\n  '존재치도': 4,\n  '않아': 54721,\n  '국내': 51733,\n  '참여': 47736,\n  '연구자도': 8,\n  '어리둥절': 9,\n  '이엠에프사이언티스에서': 10,\n  '일부': 55278,\n  '언론': 52586,\n  '보도를': 46078,\n  '부정하며': 14,\n  '직접': 50631,\n  '보내온': 18923,\n  '이메일': 41130,\n  '내용이다': 26251,\n  '이엠에프사이언티스트': 19,\n  '관계자인': 20,\n  '조엘': 21,\n  '모스코위츠': 22,\n  '미국': 56588,\n  '버클리': 24,\n  '캘리포니아대': 25,\n  '가정사회건강연구소': 26,\n  '소장은': 9693,\n  '무선': 6864,\n  '이어폰의': 29,\n  '건강': 41897,\n  '유해성에': 31,\n  '대한': 56647,\n  '부정했다': 33,\n  '고재원': 34,\n  '1212': 35,\n  '18일': 55005,\n  '오전': 55460,\n  '전세계': 38093,\n  '과학자들이': 3259,\n  '애플': 14865,\n  '에어팟과': 4163,\n  '같은': 54209,\n  '이어폰이': 3263,\n  '암': 3448,\n  '발생': 43133,\n  '위험을': 44176,\n  '키울': 3267,\n  '수': 56570,\n  '있다는': 56733,\n  '호소문을': 3270,\n  '국제연합': 51,\n  '과': 56270,\n  '세계보건기구': 32961,\n  '에': 55185,\n  '제출했다는': 55,\n  '국내외': 22092,\n  '언론의': 57,\n  '보도가': 47902,\n  '나오면서': 39516,\n  '불안감이': 60,\n  '확산되고': 49008,\n  '있다': 56540,\n  '하지만': 56769,\n  '실제': 53478,\n  '이': 56326,\n  '단체와': 16486,\n  '호소문에': 67,\n  '이름을': 53580,\n  '올린': 52494,\n  '과학자들에게': 70,\n  '확인한': 22636,\n  '결과': 47942,\n  '호소문은': 73,\n  '4년전': 74,\n  '제출됐던': 75,\n  '것이며': 51371,\n  '또': 56458,\n  '특정': 56389,\n  '제품이나': 29153,\n  '제조사를': 80,\n  '언급하지': 49424,\n  '않은': 56370,\n  '것으로': 55950,\n  '확인됐다': 28090,\n  '데일리메일과': 85,\n  '등': 56728,\n  '언론에': 48814,\n  '따르면': 54429,\n  '전': 56523,\n  '세계': 44806,\n  '과학자': 3280,\n  '247명이': 92,\n  '비이온화': 3285,\n  '전자기장': 3286,\n  '암을': 3339,\n  '유발할': 28767,\n  '위험': 40831,\n  '우려가': 45570,\n  '있다며': 19975,\n  '제출했다고': 31102,\n  '전했다': 56032,\n  '이들': 55191,\n  '매체들은': 43272,\n  '에어팟이': 104,\n  '관한': 49608,\n  '법적': 54257,\n  '기준치를': 3334,\n  '준수하고': 3335,\n  '있지만': 56422,\n  '장시간': 37733,\n  '노출될': 111,\n  '경우': 54765,\n  '건강에': 28423,\n  '좋지': 56471,\n  '않을': 56575,\n  '는': 56610,\n  '내용이': 36005,\n  '포함됐다고': 118,\n  '보도했다': 47849,\n  '호소문에는': 120,\n  '42개국': 121,\n  '서명을': 20337,\n  '했다고': 56031,\n  '여기에는': 124,\n  '한국의': 43997,\n  '연세대': 56064,\n  '한양대': 127,\n  '가톨릭대': 128,\n  '단국대': 129,\n  '중앙대': 6613,\n  '경북대': 13956,\n  '한림대': 132,\n  '소속': 55807,\n  '15명의': 134,\n  '이름도': 135,\n  '포함됐다': 22591,\n  '취재': 52490,\n  '호소문': 138,\n  '작성을': 139,\n  '주도한': 15198,\n  '비영리단체': 141,\n  '이어폰에': 142,\n  '유해성을': 24195,\n  '주장하지': 144,\n  '동아사이언스가': 145,\n  '이엠에프사이언티스트에': 146,\n  '이메일로': 147,\n  '부정확한': 148,\n  '내용을': 54763,\n  '담고': 29951,\n  '며': 56581,\n  '블루투스의': 152,\n  '자기장에': 153,\n  '머리가': 21475,\n  '시의': 14026,\n  '안정성에': 35814,\n  '존재하지': 29882,\n  '않는다': 56498,\n  '고': 56555,\n  '밝혔다': 56556,\n  '단체는': 161,\n  '지난': 56674,\n  '2015년': 52367,\n  '5월': 47138,\n  '실제로': 55966,\n  '190명의': 166,\n  '받아': 56128,\n  '유엔환경계획': 168,\n  '국제': 41681,\n  '을': 53798,\n  '제출하기는': 171,\n  '했다': 56363,\n  '당시': 55927,\n  '저명한': 174,\n  '학술지에': 175,\n  '게재된': 176,\n  '2000개가': 177,\n  '넘는': 45887,\n  '연구들을': 179,\n  '근거로': 49688,\n  '비전리': 181,\n  '노출로부터': 182,\n  '보호와': 28026,\n  '방지가': 17927,\n  '필요하다는': 49583,\n  '담았다': 186,\n  '지속적으로': 23003,\n  '해당': 54941,\n  '내용에': 56411,\n  '동의하는': 190,\n  '과학자들의': 191,\n  '현재는': 22199,\n  '247명으로': 193,\n  '늘어났다': 194,\n  '한국인': 40387,\n  '과학자들': 196,\n  '15명도': 197,\n  '서명한': 198,\n  '이엠에프사이언티스': 199,\n  '인터뷰에서': 51842,\n  '과학자들은': 3310,\n  '전자기장과': 202,\n  '생물학': 203,\n  '건강과': 204,\n  '관련된': 52605,\n  '연구를': 4735,\n  '발표한': 43158,\n  '분들': 36085,\n  '이라며': 56457,\n  '이번에': 56023,\n  '새로': 27513,\n  '제출된': 212,\n  '아닌': 53964,\n  '제출됐으며': 214,\n  '언급하고': 215,\n  '있지': 52375,\n  '않다': 52376,\n  '말했다': 56583,\n  '서명했다고': 219,\n  '알려진': 43230,\n  '송기원': 221,\n  '생화학과': 222,\n  '교수는': 56308,\n  '명단이': 224,\n  '올라간': 225,\n  '것도': 50260,\n  '잘': 56720,\n  '몰랐다': 48793,\n  '최근': 56585,\n  '몇': 42359,\n  '년': 56109,\n  '동안': 55272,\n  '주제에': 40249,\n  '관여하지': 234,\n  '않았고': 29652,\n  '당시도': 236,\n  '다른': 56459,\n  '교수가': 56428,\n  '서명하라': 239,\n  '해': 55079,\n  '서명했다': 241,\n  '서명자인': 242,\n  '한': 56010,\n  '지방국립대': 244,\n  '대략': 42577,\n  '2년전': 246,\n  '서명했던': 247,\n  '기억이': 56144,\n  '난다': 56145,\n  '자체': 36803,\n  '유해성': 24127,\n  '여부는': 54571,\n  '아직까지': 53244,\n  '논란이': 56304,\n  '30년간': 255,\n  '2만5000개가': 256,\n  '관련': 56801,\n  '연구들이': 258,\n  '존재하지만': 259,\n  '낮은': 48987,\n  '전자기장의': 261,\n  '확인하지': 32879,\n  '못했다고': 263,\n  '결론내렸다': 264,\n  '이덕환': 265,\n  '서강대': 266,\n  '화학과': 267,\n  '통신용': 268,\n  '마이크로파가': 269,\n  '인체에': 32697,\n  '영향을': 41075,\n  '미치는지': 3314,\n  '이미': 56388,\n  '여러': 56139,\n  '통해': 56627,\n  '문제가': 56496,\n  '없다고': 54846,\n  '확실히': 56631,\n  '검증됐다': 279,\n  '우리': 56629,\n  '주변에': 42094,\n  '수많은': 33136,\n  '지나다니고': 283,\n  '있는데': 52345,\n  '전화나': 285,\n  '무선이어폰을': 286,\n  '가까이': 17529,\n  '가져간다고': 288,\n  '새삼': 289,\n  '더': 56579,\n  '된다는': 50187,\n  '발상도': 292,\n  '황당하다': 293,\n  '3월11일': 295,\n  '유플러스는': 296,\n  '한양대학교': 297,\n  '에이스': 298,\n  '랩': 299,\n  '공동': 50107,\n  '개발한': 11491,\n  '자율주행차를': 303,\n  '공개했습니다': 304,\n  '를': 54189,\n  '최초': 43312,\n  '5': 47610,\n  '기반의': 3217,\n  '자율주행차가': 311,\n  '일반': 33266,\n  '차량들과': 313,\n  '서울': 56790,\n  '도심': 315,\n  '도로를': 11285,\n  '달린다': 317,\n  '라고': 56330,\n  '표현했습니다': 319,\n  '어딘가': 320,\n  '익숙한데요': 321,\n  '2017년': 56683,\n  '평창동계올림픽': 323,\n  '기간': 56054,\n  '강릉': 327,\n  '평창': 328,\n  '등지에서': 19127,\n  '협력': 46765,\n  '자율주행': 34660,\n  '버스를': 23941,\n  '선보였습니다': 333,\n  '이때': 46475,\n  '의': 53081,\n  '버스에도': 336,\n  '타이틀이': 337,\n  '붙었습니다': 338,\n  '텔레콤은': 6803,\n  '지난해': 56633,\n  '최초로': 43599,\n  '복수의': 51674,\n  '기반': 16692,\n  '자율주행에': 344,\n  '성공했다고': 345,\n  '발표했고요': 346,\n  '12월1일': 347,\n  '전파를': 19084,\n  '송출하면서': 349,\n  '경기도': 52019,\n  '화성의': 351,\n  '테스트베드': 352,\n  '시티': 353,\n  '와': 55749,\n  '시흥': 355,\n  '일반도로에서': 356,\n  '자율주행차': 45020,\n  '테스트': 358,\n  '운행에': 359,\n  '나섰다고': 360,\n  '밝히기도': 46882,\n  '했습니다': 47622,\n  '때문에': 56649,\n  '유플러스': 10293,\n  '간담회': 366,\n  '말미': 367,\n  '들의': 47891,\n  '질문이': 55978,\n  '쏟아졌습니다': 370,\n  '최초가': 371,\n  '확실하냐는': 372,\n  '거였죠': 373,\n  '맞다': 29677,\n  '확언했습니다': 376,\n  '이통사들은': 377,\n  '불편한': 42259,\n  '심기를': 379,\n  '내비쳤습니다': 380,\n  '텔레콤': 10240,\n  '관계자는': 54412,\n  '로': 55735,\n  '자율주행을': 385,\n  '사례가': 37880,\n  '유플러스가': 389,\n  '도심에서': 390,\n  '해서': 56546,\n  '자율주행이라': 393,\n  '표현하는': 30033,\n  '건': 53590,\n  '무리가': 38205,\n  '지적했습니다': 39506,\n  '남의': 37515,\n  '집': 33446,\n  '잔치에': 401,\n  '굳이': 56462,\n  '끼어들고': 403,\n  '싶지는': 404,\n  '언급을': 27916,\n  '피했지만': 407,\n  '우리도': 45141,\n  '했는데': 50942,\n  '환경과': 410,\n  '범위를': 30869,\n  '한정하고': 412,\n  '좁혀서': 413,\n  '최초라고': 414,\n  '말하면': 10710,\n  '그걸': 55689,\n  '아니라고': 27641,\n  '할': 56773,\n  '수는': 56421,\n  '없다': 56711,\n  '라는': 56300,\n  '입장을': 56802,\n  '밝혔습니다': 39539,\n  '탐나는': 424,\n  '수식어': 425,\n  '그래서': 52638,\n  '누가': 50846,\n  '거냐고요': 428,\n  '기준에': 3158,\n  '따라': 56564,\n  '다릅니다': 431,\n  '예를': 50349,\n  '들어': 51137,\n  '텔레콤이': 6797,\n  '했던': 32280,\n  '서로의': 436,\n  '운행': 6387,\n  '경로를': 38282,\n  '공유하면서': 439,\n  '성공한': 2268,\n  '것은': 56713,\n  '이번이': 56095,\n  '처음': 42372,\n  '이라던': 444,\n  '거였는데요': 445,\n  '유플러스의': 446,\n  '자율주행은': 447,\n  '상용': 6193,\n  '기지국과': 449,\n  '연결된': 6284,\n  '상태로': 54374,\n  '도심도로에서': 452,\n  '자율주행한': 453,\n  '최초의': 6918,\n  '사례라는': 455,\n  '겁니다': 10774,\n  '강종오': 457,\n  '부문': 15360,\n  '미래기술담당은': 459,\n  '통신기술을': 460,\n  '상용화해': 461,\n  '이용한': 46387,\n  '라며': 56325,\n  '통신사': 6756,\n  '중': 56519,\n  '가장': 55457,\n  '빠르고': 468,\n  '촘촘하게': 469,\n  '준비하고': 46746,\n  '말했습니다': 39493,\n  '참고기사': 472,\n  '차': 52410,\n  '2대로': 474,\n  '첫': 52024,\n  '우리가': 53828,\n  '먼저': 52649,\n  '2018': 38336,\n  '유플러스에': 479,\n  '비표준으로': 481,\n  '했고요': 482,\n  '텔레콤의': 483,\n  '변수가': 46628,\n  '통제된': 485,\n  '시티에서': 486,\n  '이뤄져': 487,\n  '한계가': 24755,\n  '있었다는': 47847,\n  '일반도로에서도': 490,\n  '운행했다고': 491,\n  '배포했지만': 492,\n  '시흥에서의': 493,\n  '제대로': 56750,\n  '된': 56667,\n  '가': 56372,\n  '아니었던': 497,\n  '안다': 55404,\n  '진정한': 20993,\n  '망': 501,\n  '에서': 56311,\n  '운행한': 503,\n  '처음이': 46795,\n  '잠깐': 30415,\n  '자율주행으로': 506,\n  '돌아가보자면요': 507,\n  '일반도로에서의': 508,\n  '경험': 36436,\n  '은': 52352,\n  '상당히': 56687,\n  '중요합니다': 512,\n  '이건': 30258,\n  '사람도': 46153,\n  '마찬가지입니다': 24539,\n  '아무도': 48770,\n  '없는': 54544,\n  '도로': 34522,\n  '정해진': 33154,\n  '구간에서': 520,\n  '혼자': 33126,\n  '운전연습을': 522,\n  '하던': 45929,\n  '초보': 524,\n  '운전자를': 525,\n  '갑자기': 50263,\n  '홍대나': 527,\n  '종로': 32132,\n  '여의도에': 529,\n  '똑': 36531,\n  '떨어뜨리면': 531,\n  '어떻게': 55691,\n  '될까요': 30299,\n  '멘붕': 534,\n  '겪을': 536,\n  '자율주행차도': 537,\n  '일반도로는': 538,\n  '도처에': 45028,\n  '있습니다': 47533,\n  '모든': 55419,\n  '운전자가': 10973,\n  '교통법규를': 544,\n  '지키는': 37908,\n  '아니고': 52696,\n  '상황도': 549,\n  '시시각각': 550,\n  '달라지는': 551,\n  '데다가': 47876,\n  '예기치': 553,\n  '못한': 51447,\n  '사고와도': 555,\n  '맞닥뜨릴': 556,\n  '자율주행기술을': 558,\n  '연구하는': 559,\n  '기업들이': 43451,\n  '국토교통부에': 561,\n  '면허를': 562,\n  '받고': 55016,\n  '운전하러': 564,\n  '다니는': 42077,\n  '이런': 56656,\n  '이유입니다': 567,\n  '웨이모': 568,\n  '우버': 569,\n  '선도하는': 571,\n  '택시를': 34592,\n  '시범적으로': 573,\n  '운영하고': 23878,\n  '있는': 56347,\n  '마찬가지고요': 576,\n  '자율주행차에': 577,\n  '접목되면': 578,\n  '초연결': 579,\n  '초고속': 580,\n  '초저지연이': 581,\n  '특징입니다': 582,\n  '그': 56016,\n  '특징을': 3593,\n  '살리려면': 585,\n  '이번처럼': 8129,\n  '운전하는': 587,\n  '차량': 52207,\n  '대에': 31524,\n  '적용해': 41058,\n  '달리는': 591,\n  '것보다는': 592,\n  '대의': 13532,\n  '차량이': 52647,\n  '통신과': 596,\n  '연결돼': 597,\n  '동시에': 53195,\n  '주행하고': 599,\n  '도시': 47582,\n  '제반시설': 601,\n  '역시': 56433,\n  '있어야': 55334,\n  '합니다': 47679,\n  '그렇게': 55678,\n  '되면': 54482,\n  '서로': 56623,\n  '정보를': 46445,\n  '교환하며': 609,\n  '달리고': 610,\n  '앞차가': 611,\n  '서면': 54603,\n  '뒤에': 52616,\n  '오던': 614,\n  '차가': 615,\n  '미리': 52555,\n  '속도를': 45024,\n  '늦추게': 619,\n  '됩니다': 36912,\n  '이날': 56559,\n  '통신': 43585,\n  '정밀측위': 623,\n  '관제': 624,\n  '다이내믹': 625,\n  '지도': 54951,\n  '인포테인먼트에': 627,\n  '주안점을': 628,\n  '두고': 56114,\n  '기술을': 35321,\n  '개발하고': 631,\n  '있다고': 56722,\n  '에이원의': 633,\n  '시연에는': 634,\n  '망을': 635,\n  '통한': 54159,\n  '기술이': 35579,\n  '적용됐습니다': 638,\n  '관제센터에서': 639,\n  '목적지': 640,\n  '주변의': 40472,\n  '사고': 48812,\n  '에이원에게': 643,\n  '전달하자': 644,\n  '에이원은': 645,\n  '경로로': 647,\n  '이동하겠다고': 648,\n  '안내했습니다': 649,\n  '당초': 49484,\n  '진입하려던': 651,\n  '서울숲': 652,\n  '북측': 653,\n  '입구': 654,\n  '대신': 52341,\n  '동쪽': 656,\n  '입구로': 657,\n  '주행': 34971,\n  '변경했죠': 659,\n  '구간을': 661,\n  '이동하는': 41965,\n  '동안은': 53761,\n  '에이원': 664,\n  '자체의': 665,\n  '뛰어나': 666,\n  '없었고요': 668,\n  '변경한': 669,\n  '데서': 24487,\n  '역할을': 48066,\n  '했지만': 51248,\n  '예정된': 55442,\n  '시나리오대로': 674,\n  '진행된': 48172,\n  '거라': 46247,\n  '자율주행차에서': 677,\n  '조력자': 678,\n  '역할이': 679,\n  '그다지': 680,\n  '드러나지': 25052,\n  '않기도': 682,\n  '계명대': 683,\n  '김수연': 684,\n  '조교수는': 685,\n  '자율주행차는': 686,\n  '흘러가도': 688,\n  '동작하는': 689,\n  '것이': 56552,\n  '핵심이다': 691,\n  '이번에는': 692,\n  '초보적인': 693,\n  '단계에서': 694,\n  '시험한': 695,\n  '볼': 53166,\n  '당장': 56407,\n  '시대가': 698,\n  '열릴': 26192,\n  '것처럼': 45711,\n  '기대하는': 40524,\n  '데는': 702,\n  '지금의': 30505,\n  '환경에': 705,\n  '정도': 50625,\n  '동작한': 707,\n  '것만': 29865,\n  '해도': 42324,\n  '출발점으로는': 710,\n  '의미가': 53199,\n  '평가했습니다': 712,\n  '사실': 55071,\n  '이통사들이': 714,\n  '너도나도': 715,\n  '남발하는': 716,\n  '통에': 717,\n  '단어가': 4969,\n  '가지는': 39110,\n  '무게감이': 720,\n  '많이': 56884,\n  '줄어': 722,\n  '들었습니다': 40020,\n  '블로터': 724,\n  '앞에는': 52640,\n  '장충동': 726,\n  '족발': 727,\n  '골목이': 728,\n  '있는데요': 36544,\n  '가게가': 730,\n  '간판에': 731,\n  '원조': 732,\n  '달고': 733,\n  '오래': 46885,\n  '있던': 53431,\n  '터줏대감이라': 736,\n  '족발로': 737,\n  '제일': 53767,\n  '유명한': 39115,\n  '곳이라': 740,\n  '불족발을': 742,\n  '내놔서': 743,\n  '또는': 53545,\n  '그냥': 42609,\n  '다': 56565,\n  '원조니까': 747,\n  '나도': 54243,\n  '모두가': 40081,\n  '원조라': 750,\n  '주장하면': 751,\n  '이상': 54744,\n  '말에는': 754,\n  '없더라고요': 755,\n  '저는': 56213,\n  '가는': 52613,\n  '집만': 758,\n  '갑니다': 759,\n  '족발이': 760,\n  '맛있거든요': 761,\n  '김인경': 762,\n  '저작권자': 54689,\n  '주': 56872,\n  '블로터앤미디어': 1036,\n  '저작권자를': 1037,\n  '명기하고': 1038,\n  '변경하지': 1040,\n  '않으며': 1041,\n  '비상업적으로': 1042,\n  '이용하는': 41959,\n  '조건아래': 1044,\n  '가능합니다': 36427,\n  '애플이': 5700,\n  '에어팟': 35740,\n  '2세대': 777,\n  '3월20일': 779,\n  '현지시간': 46974,\n  '발표했다': 42798,\n  '2세대는': 4228,\n  '전작과': 783,\n  '큰': 55298,\n  '변화': 35101,\n  '없이': 56374,\n  '내부': 25962,\n  '성능을': 6058,\n  '개선하는': 43637,\n  '데': 56661,\n  '초점을': 22203,\n  '맞춘': 792,\n  '제품이다': 793,\n  '외관상': 794,\n  '변화가': 55973,\n  '거의': 34908,\n  '콩나물': 798,\n  '디자인을': 11512,\n  '그대로': 56396,\n  '유지했다': 13177,\n  '달라진': 51043,\n  '점은': 45248,\n  '새롭게': 47808,\n  '설계한': 805,\n  '1': 56286,\n  '칩이다': 807,\n  '칩은': 808,\n  '헤드폰과': 809,\n  '이어폰': 5686,\n  '전용으로': 811,\n  '개발됐다': 812,\n  '이전에는': 813,\n  '애플워치에': 814,\n  '적용된': 35031,\n  '칩을': 816,\n  '사용했다': 35951,\n  '고효율': 818,\n  '성능과': 819,\n  '더욱': 45341,\n  '빨라진': 5806,\n  '연결': 5212,\n  '시간': 54267,\n  '긴': 36411,\n  '통화': 826,\n  '시리': 5745,\n  '음성': 828,\n  '호출': 829,\n  '기능을': 34679,\n  '제공한다': 35274,\n  '블루투스': 34648,\n  '0을': 835,\n  '지원한다': 23108,\n  '1세대에': 838,\n  '탑재된': 34613,\n  '칩보다': 840,\n  '최대': 47696,\n  '1시간': 55271,\n  '시간을': 44244,\n  '애플은': 5721,\n  '50': 38723,\n  '시간이': 46276,\n  '개선됐다고': 847,\n  '번': 56140,\n  '충전으로': 851,\n  '5시간의': 852,\n  '음악': 18637,\n  '재생': 854,\n  '3시간의': 855,\n  '기기': 856,\n  '시간은': 857,\n  '2배': 858,\n  '빨라졌다': 859,\n  '이를': 55254,\n  '아이폰이나': 862,\n  '애플워치': 1217,\n  '아이패드': 864,\n  '등에서': 46902,\n  '음악을': 866,\n  '듣는': 50951,\n  '중에도': 868,\n  '끊김': 869,\n  '간': 56659,\n  '전환을': 871,\n  '1세대에서는': 875,\n  '기기를': 876,\n  '전환할': 877,\n  '때': 55872,\n  '체감할': 879,\n  '지연': 881,\n  '발생했다': 32856,\n  '게임': 3085,\n  '지연도': 884,\n  '30': 49438,\n  '줄었다': 55573,\n  '음성으로': 5744,\n  '인공지능': 45017,\n  '비서': 34718,\n  '호출할': 890,\n  '시리야': 891,\n  '기능도': 6279,\n  '추가됐다': 893,\n  '이전': 54396,\n  '에어팟에서는': 895,\n  '몸체를': 896,\n  '두드리는': 897,\n  '방식으로': 40755,\n  '시리를': 899,\n  '있었다': 51983,\n  '아이패드에': 901,\n  '바로': 55255,\n  '시리가': 4236,\n  '등장한다': 18645,\n  '노래를': 39381,\n  '바꾸거나': 36081,\n  '전화를': 46137,\n  '걸고': 55132,\n  '음량을': 912,\n  '조절하고': 913,\n  '경로': 914,\n  '확인할': 52350,\n  '충전': 5807,\n  '케이스': 5832,\n  '외에': 22898,\n  '케이스가': 922,\n  '케이스는': 923,\n  '호환': 924,\n  '충전기를': 925,\n  '선': 46737,\n  '충전할': 1073,\n  '전면에': 45851,\n  '표시등을': 929,\n  '상태를': 51567,\n  '알': 52988,\n  '유선': 932,\n  '충전도': 933,\n  '가능하다': 52957,\n  '두': 56077,\n  '모두': 56200,\n  '24시간': 52628,\n  '사용': 44919,\n  '기본': 49270,\n  '모델은': 45101,\n  '19만9천원': 942,\n  '24만9천원이다': 943,\n  '단품을': 944,\n  '9만9천원에': 945,\n  '구매할': 36861,\n  '수도': 52626,\n  '한국에는': 948,\n  '올봄': 949,\n  '출시될': 35046,\n  '예정이다': 54327,\n  '한편': 54886,\n  '케이스와': 953,\n  '함께': 55861,\n  '공개될': 955,\n  '점쳐졌던': 957,\n  '패드': 1062,\n  '에어파워': 1112,\n  '행방은': 961,\n  '아직': 55841,\n  '묘연하다': 963,\n  '에어파워는': 1065,\n  '충전을': 966,\n  '지원하는': 52339,\n  '대를': 48395,\n  '패드다': 971,\n  '아이폰': 1068,\n  '행사에서': 49128,\n  '발표됐지만': 975,\n  '현재': 55083,\n  '행방불명': 52963,\n  '상태다': 50067,\n  '블룸버그': 979,\n  '충전하는': 982,\n  '발생하는': 43931,\n  '기술적': 43423,\n  '난제': 986,\n  '출시가': 7089,\n  '지연되고': 989,\n  '월스트리트저널': 14721,\n  '생산을': 13519,\n  '승인했으며': 993,\n  '곧': 48074,\n  '출시할': 7322,\n  '내다봤지만': 996,\n  '더버지': 997,\n  '에어파워를': 1049,\n  '발표할': 56182,\n  '순간을': 1001,\n  '놓쳤다': 1002,\n  '이번에도': 1003,\n  '제품이': 24293,\n  '발표되지': 1005,\n  '점에': 55635,\n  '대해': 56296,\n  '비판했다': 56405,\n  '앞서': 56306,\n  '발표된': 53278,\n  '에어': 1012,\n  '미니': 13784,\n  '아이맥': 1014,\n  '이어': 56703,\n  '별도': 52081,\n  '행사': 48091,\n  '조용히': 1018,\n  '모습을': 54355,\n  '드러냈다': 42526,\n  '3월25일': 1021,\n  '진행될': 1022,\n  '미디어': 54251,\n  '새로운': 55279,\n  '스트리밍': 1025,\n  '서비스와': 1026,\n  '뉴스': 55952,\n  '구독': 54960,\n  '서비스': 51045,\n  '발표에': 56172,\n  '집중할': 1031,\n  '보인다': 55095,\n  '이기범': 1033,\n  '사진': 54589,\n  '로이터애플이': 1047,\n  '것이라는': 56576,\n  '외신보도가': 1052,\n  '나왔다': 55979,\n  '20일': 54772,\n  '폰아레나': 1058,\n  '등은': 43397,\n  '무선충전': 6867,\n  '예정이라고': 51872,\n  '애플의': 5764,\n  '패드로': 1067,\n  '등을': 56810,\n  '한번에': 1072,\n  '장치로': 1076,\n  '가격은': 34780,\n  '149달러': 1078,\n  '수준이': 38728,\n  '될': 56754,\n  '설명도': 1081,\n  '외신은': 7397,\n  '에어팟2에': 5780,\n  '탑재하면서': 1087,\n  '에어파워의': 1088,\n  '임박했음을': 46998,\n  '알렸다': 39844,\n  '등장까지': 1093,\n  '오랜시간이': 1094,\n  '걸리지': 1095,\n  '것': 56651,\n  '이라고': 56668,\n  '에어파워와': 1100,\n  ...},\n ['C:/Users/brsta/ICT_AI_AdvanceClass_NLP/0314_DownloadedNewstxts//IT과학-0000003610.txt',\n  'C:/Users/brsta/ICT_AI_AdvanceClass_NLP/0314_DownloadedNewstxts//IT과학-0000023756.txt',\n  'C:/Users/brsta/ICT_AI_AdvanceClass_NLP/0314_DownloadedNewstxts//IT과학-0000023785.txt',\n  'C:/Users/brsta/ICT_AI_AdvanceClass_NLP/0314_DownloadedNewstxts//IT과학-0000391589.txt',\n  'C:/Users/brsta/ICT_AI_AdvanceClass_NLP/0314_DownloadedNewstxts//IT과학-0000484957.txt',\n  'C:/Users/brsta/ICT_AI_AdvanceClass_NLP/0314_DownloadedNewstxts//IT과학-0000485754.txt',\n  'C:/Users/brsta/ICT_AI_AdvanceClass_NLP/0314_DownloadedNewstxts//IT과학-0001510642.txt',\n  'C:/Users/brsta/ICT_AI_AdvanceClass_NLP/0314_DownloadedNewstxts//IT과학-0002158095.txt',\n  'C:/Users/brsta/ICT_AI_AdvanceClass_NLP/0314_DownloadedNewstxts//IT과학-0002158101.txt',\n  'C:/Users/brsta/ICT_AI_AdvanceClass_NLP/0314_DownloadedNewstxts//IT과학-0002158229.txt',\n  'C:/Users/brsta/ICT_AI_AdvanceClass_NLP/0314_DownloadedNewstxts//IT과학-0002794564.txt',\n  'C:/Users/brsta/ICT_AI_AdvanceClass_NLP/0314_DownloadedNewstxts//IT과학-0002892231.txt',\n  'C:/Users/brsta/ICT_AI_AdvanceClass_NLP/0314_DownloadedNewstxts//IT과학-0002893302.txt',\n  'C:/Users/brsta/ICT_AI_AdvanceClass_NLP/0314_DownloadedNewstxts//IT과학-0002985192.txt',\n  'C:/Users/brsta/ICT_AI_AdvanceClass_NLP/0314_DownloadedNewstxts//IT과학-0003521238.txt',\n  'C:/Users/brsta/ICT_AI_AdvanceClass_NLP/0314_DownloadedNewstxts//IT과학-0003521272.txt',\n  'C:/Users/brsta/ICT_AI_AdvanceClass_NLP/0314_DownloadedNewstxts//IT과학-0003522670.txt',\n  'C:/Users/brsta/ICT_AI_AdvanceClass_NLP/0314_DownloadedNewstxts//IT과학-0003894956.txt',\n  'C:/Users/brsta/ICT_AI_AdvanceClass_NLP/0314_DownloadedNewstxts//IT과학-0004108104.txt',\n  'C:/Users/brsta/ICT_AI_AdvanceClass_NLP/0314_DownloadedNewstxts//IT과학-0004109529.txt',\n  'C:/Users/brsta/ICT_AI_AdvanceClass_NLP/0314_DownloadedNewstxts//IT과학-0004111168.txt',\n  'C:/Users/brsta/ICT_AI_AdvanceClass_NLP/0314_DownloadedNewstxts//IT과학-0004190340.txt',\n  'C:/Users/brsta/ICT_AI_AdvanceClass_NLP/0314_DownloadedNewstxts//IT과학-0004195077.txt',\n  'C:/Users/brsta/ICT_AI_AdvanceClass_NLP/0314_DownloadedNewstxts//IT과학-0004333148.txt',\n  'C:/Users/brsta/ICT_AI_AdvanceClass_NLP/0314_DownloadedNewstxts//IT과학-0004335873.txt',\n  'C:/Users/brsta/ICT_AI_AdvanceClass_NLP/0314_DownloadedNewstxts//IT과학-0004430372.txt',\n  'C:/Users/brsta/ICT_AI_AdvanceClass_NLP/0314_DownloadedNewstxts//IT과학-0010680671.txt',\n  'C:/Users/brsta/ICT_AI_AdvanceClass_NLP/0314_DownloadedNewstxts//IT과학-0010681725.txt',\n  'C:/Users/brsta/ICT_AI_AdvanceClass_NLP/0314_DownloadedNewstxts//IT과학-0010683100.txt',\n  'C:/Users/brsta/ICT_AI_AdvanceClass_NLP/0314_DownloadedNewstxts//IT과학-0010701751.txt',\n  'C:/Users/brsta/ICT_AI_AdvanceClass_NLP/0314_DownloadedNewstxts//경제-0000168149.txt',\n  'C:/Users/brsta/ICT_AI_AdvanceClass_NLP/0314_DownloadedNewstxts//경제-0000205610.txt',\n  'C:/Users/brsta/ICT_AI_AdvanceClass_NLP/0314_DownloadedNewstxts//경제-0000389333.txt',\n  'C:/Users/brsta/ICT_AI_AdvanceClass_NLP/0314_DownloadedNewstxts//경제-0000391651.txt',\n  'C:/Users/brsta/ICT_AI_AdvanceClass_NLP/0314_DownloadedNewstxts//경제-0000934132.txt',\n  'C:/Users/brsta/ICT_AI_AdvanceClass_NLP/0314_DownloadedNewstxts//경제-0001267098.txt',\n  'C:/Users/brsta/ICT_AI_AdvanceClass_NLP/0314_DownloadedNewstxts//경제-0001510681.txt',\n  'C:/Users/brsta/ICT_AI_AdvanceClass_NLP/0314_DownloadedNewstxts//경제-0002221228.txt',\n  'C:/Users/brsta/ICT_AI_AdvanceClass_NLP/0314_DownloadedNewstxts//경제-0002515767.txt',\n  'C:/Users/brsta/ICT_AI_AdvanceClass_NLP/0314_DownloadedNewstxts//경제-0002515783.txt',\n  'C:/Users/brsta/ICT_AI_AdvanceClass_NLP/0314_DownloadedNewstxts//경제-0002891740.txt',\n  'C:/Users/brsta/ICT_AI_AdvanceClass_NLP/0314_DownloadedNewstxts//경제-0002891759.txt',\n  'C:/Users/brsta/ICT_AI_AdvanceClass_NLP/0314_DownloadedNewstxts//경제-0002892361.txt',\n  'C:/Users/brsta/ICT_AI_AdvanceClass_NLP/0314_DownloadedNewstxts//경제-0003524868.txt',\n  'C:/Users/brsta/ICT_AI_AdvanceClass_NLP/0314_DownloadedNewstxts//경제-0003883312.txt',\n  'C:/Users/brsta/ICT_AI_AdvanceClass_NLP/0314_DownloadedNewstxts//경제-0003888260.txt',\n  'C:/Users/brsta/ICT_AI_AdvanceClass_NLP/0314_DownloadedNewstxts//경제-0004109484.txt',\n  'C:/Users/brsta/ICT_AI_AdvanceClass_NLP/0314_DownloadedNewstxts//경제-0004109512.txt',\n  'C:/Users/brsta/ICT_AI_AdvanceClass_NLP/0314_DownloadedNewstxts//경제-0004109517.txt',\n  'C:/Users/brsta/ICT_AI_AdvanceClass_NLP/0314_DownloadedNewstxts//경제-0004111558.txt',\n  'C:/Users/brsta/ICT_AI_AdvanceClass_NLP/0314_DownloadedNewstxts//경제-0004189005.txt',\n  'C:/Users/brsta/ICT_AI_AdvanceClass_NLP/0314_DownloadedNewstxts//경제-0004189062.txt',\n  'C:/Users/brsta/ICT_AI_AdvanceClass_NLP/0314_DownloadedNewstxts//경제-0004190221.txt',\n  'C:/Users/brsta/ICT_AI_AdvanceClass_NLP/0314_DownloadedNewstxts//경제-0004195144.txt',\n  'C:/Users/brsta/ICT_AI_AdvanceClass_NLP/0314_DownloadedNewstxts//경제-0004195316.txt',\n  'C:/Users/brsta/ICT_AI_AdvanceClass_NLP/0314_DownloadedNewstxts//경제-0004320497.txt',\n  'C:/Users/brsta/ICT_AI_AdvanceClass_NLP/0314_DownloadedNewstxts//경제-0009115019.txt',\n  'C:/Users/brsta/ICT_AI_AdvanceClass_NLP/0314_DownloadedNewstxts//경제-0009127615.txt',\n  'C:/Users/brsta/ICT_AI_AdvanceClass_NLP/0314_DownloadedNewstxts//경제-0010696316.txt',\n  'C:/Users/brsta/ICT_AI_AdvanceClass_NLP/0314_DownloadedNewstxts//경제-0010701924.txt',\n  'C:/Users/brsta/ICT_AI_AdvanceClass_NLP/0314_DownloadedNewstxts//사회-0000373989.txt',\n  'C:/Users/brsta/ICT_AI_AdvanceClass_NLP/0314_DownloadedNewstxts//사회-0001181426.txt',\n  'C:/Users/brsta/ICT_AI_AdvanceClass_NLP/0314_DownloadedNewstxts//사회-0001181453.txt',\n  'C:/Users/brsta/ICT_AI_AdvanceClass_NLP/0314_DownloadedNewstxts//사회-0002221189.txt',\n  'C:/Users/brsta/ICT_AI_AdvanceClass_NLP/0314_DownloadedNewstxts//사회-0002221192.txt',\n  'C:/Users/brsta/ICT_AI_AdvanceClass_NLP/0314_DownloadedNewstxts//사회-0002891751.txt',\n  'C:/Users/brsta/ICT_AI_AdvanceClass_NLP/0314_DownloadedNewstxts//사회-0003432942.txt',\n  'C:/Users/brsta/ICT_AI_AdvanceClass_NLP/0314_DownloadedNewstxts//사회-0003883260.txt',\n  'C:/Users/brsta/ICT_AI_AdvanceClass_NLP/0314_DownloadedNewstxts//사회-0003895109.txt',\n  'C:/Users/brsta/ICT_AI_AdvanceClass_NLP/0314_DownloadedNewstxts//사회-0003895110.txt',\n  'C:/Users/brsta/ICT_AI_AdvanceClass_NLP/0314_DownloadedNewstxts//사회-0004109457.txt',\n  'C:/Users/brsta/ICT_AI_AdvanceClass_NLP/0314_DownloadedNewstxts//사회-0004111555.txt',\n  'C:/Users/brsta/ICT_AI_AdvanceClass_NLP/0314_DownloadedNewstxts//사회-0004111734.txt',\n  'C:/Users/brsta/ICT_AI_AdvanceClass_NLP/0314_DownloadedNewstxts//사회-0004335931.txt',\n  'C:/Users/brsta/ICT_AI_AdvanceClass_NLP/0314_DownloadedNewstxts//사회-0004430410.txt',\n  'C:/Users/brsta/ICT_AI_AdvanceClass_NLP/0314_DownloadedNewstxts//사회-0009119982.txt',\n  'C:/Users/brsta/ICT_AI_AdvanceClass_NLP/0314_DownloadedNewstxts//사회-0009126950.txt',\n  'C:/Users/brsta/ICT_AI_AdvanceClass_NLP/0314_DownloadedNewstxts//사회-0009127147.txt',\n  'C:/Users/brsta/ICT_AI_AdvanceClass_NLP/0314_DownloadedNewstxts//사회-0010681732.txt',\n  'C:/Users/brsta/ICT_AI_AdvanceClass_NLP/0314_DownloadedNewstxts//사회-0010696321.txt',\n  'C:/Users/brsta/ICT_AI_AdvanceClass_NLP/0314_DownloadedNewstxts//사회-0010696360.txt',\n  'C:/Users/brsta/ICT_AI_AdvanceClass_NLP/0314_DownloadedNewstxts//사회-0010696476.txt',\n  'C:/Users/brsta/ICT_AI_AdvanceClass_NLP/0314_DownloadedNewstxts//사회-0010696591.txt',\n  'C:/Users/brsta/ICT_AI_AdvanceClass_NLP/0314_DownloadedNewstxts//사회-0010700343.txt',\n  'C:/Users/brsta/ICT_AI_AdvanceClass_NLP/0314_DownloadedNewstxts//사회-0010701327.txt',\n  'C:/Users/brsta/ICT_AI_AdvanceClass_NLP/0314_DownloadedNewstxts//사회-0010701688.txt',\n  'C:/Users/brsta/ICT_AI_AdvanceClass_NLP/0314_DownloadedNewstxts//사회-0010701750.txt',\n  'C:/Users/brsta/ICT_AI_AdvanceClass_NLP/0314_DownloadedNewstxts//사회-0010701951.txt',\n  'C:/Users/brsta/ICT_AI_AdvanceClass_NLP/0314_DownloadedNewstxts//사회-0010702002.txt',\n  'C:/Users/brsta/ICT_AI_AdvanceClass_NLP/0314_DownloadedNewstxts//사회-0010702028.txt',\n  'C:/Users/brsta/ICT_AI_AdvanceClass_NLP/0314_DownloadedNewstxts//생활문화-0000025134.txt',\n  'C:/Users/brsta/ICT_AI_AdvanceClass_NLP/0314_DownloadedNewstxts//생활문화-0000025139.txt',\n  'C:/Users/brsta/ICT_AI_AdvanceClass_NLP/0314_DownloadedNewstxts//생활문화-0000025142.txt',\n  'C:/Users/brsta/ICT_AI_AdvanceClass_NLP/0314_DownloadedNewstxts//생활문화-0000025147.txt',\n  'C:/Users/brsta/ICT_AI_AdvanceClass_NLP/0314_DownloadedNewstxts//생활문화-0000365581.txt',\n  'C:/Users/brsta/ICT_AI_AdvanceClass_NLP/0314_DownloadedNewstxts//생활문화-0000366055.txt',\n  'C:/Users/brsta/ICT_AI_AdvanceClass_NLP/0314_DownloadedNewstxts//생활문화-0000372741.txt',\n  'C:/Users/brsta/ICT_AI_AdvanceClass_NLP/0314_DownloadedNewstxts//생활문화-0000718687.txt',\n  'C:/Users/brsta/ICT_AI_AdvanceClass_NLP/0314_DownloadedNewstxts//생활문화-0000718752.txt',\n  'C:/Users/brsta/ICT_AI_AdvanceClass_NLP/0314_DownloadedNewstxts//생활문화-0000749396.txt',\n  'C:/Users/brsta/ICT_AI_AdvanceClass_NLP/0314_DownloadedNewstxts//생활문화-0001510623.txt',\n  'C:/Users/brsta/ICT_AI_AdvanceClass_NLP/0314_DownloadedNewstxts//생활문화-0002220787.txt',\n  'C:/Users/brsta/ICT_AI_AdvanceClass_NLP/0314_DownloadedNewstxts//생활문화-0002447368.txt',\n  'C:/Users/brsta/ICT_AI_AdvanceClass_NLP/0314_DownloadedNewstxts//생활문화-0002793521.txt',\n  'C:/Users/brsta/ICT_AI_AdvanceClass_NLP/0314_DownloadedNewstxts//생활문화-0002793581.txt',\n  'C:/Users/brsta/ICT_AI_AdvanceClass_NLP/0314_DownloadedNewstxts//생활문화-0002893331.txt',\n  'C:/Users/brsta/ICT_AI_AdvanceClass_NLP/0314_DownloadedNewstxts//생활문화-0003205724.txt',\n  'C:/Users/brsta/ICT_AI_AdvanceClass_NLP/0314_DownloadedNewstxts//생활문화-0003521184.txt',\n  'C:/Users/brsta/ICT_AI_AdvanceClass_NLP/0314_DownloadedNewstxts//생활문화-0004107967.txt',\n  'C:/Users/brsta/ICT_AI_AdvanceClass_NLP/0314_DownloadedNewstxts//생활문화-0004108123.txt',\n  'C:/Users/brsta/ICT_AI_AdvanceClass_NLP/0314_DownloadedNewstxts//생활문화-0004195196.txt',\n  'C:/Users/brsta/ICT_AI_AdvanceClass_NLP/0314_DownloadedNewstxts//생활문화-0004324344.txt',\n  'C:/Users/brsta/ICT_AI_AdvanceClass_NLP/0314_DownloadedNewstxts//생활문화-0004333127.txt',\n  'C:/Users/brsta/ICT_AI_AdvanceClass_NLP/0314_DownloadedNewstxts//생활문화-0004434766.txt',\n  'C:/Users/brsta/ICT_AI_AdvanceClass_NLP/0314_DownloadedNewstxts//생활문화-0009127613.txt',\n  'C:/Users/brsta/ICT_AI_AdvanceClass_NLP/0314_DownloadedNewstxts//생활문화-0009127744.txt',\n  'C:/Users/brsta/ICT_AI_AdvanceClass_NLP/0314_DownloadedNewstxts//생활문화-0010680772.txt',\n  'C:/Users/brsta/ICT_AI_AdvanceClass_NLP/0314_DownloadedNewstxts//생활문화-0010681530.txt',\n  'C:/Users/brsta/ICT_AI_AdvanceClass_NLP/0314_DownloadedNewstxts//생활문화-0010683125.txt',\n  'C:/Users/brsta/ICT_AI_AdvanceClass_NLP/0314_DownloadedNewstxts//생활문화-0010710276.txt',\n  'C:/Users/brsta/ICT_AI_AdvanceClass_NLP/0314_DownloadedNewstxts//세계-0000366638.txt',\n  'C:/Users/brsta/ICT_AI_AdvanceClass_NLP/0314_DownloadedNewstxts//세계-0000372166.txt',\n  'C:/Users/brsta/ICT_AI_AdvanceClass_NLP/0314_DownloadedNewstxts//세계-0000372983.txt',\n  'C:/Users/brsta/ICT_AI_AdvanceClass_NLP/0314_DownloadedNewstxts//세계-0000373962.txt',\n  'C:/Users/brsta/ICT_AI_AdvanceClass_NLP/0314_DownloadedNewstxts//세계-0000717175.txt',\n  'C:/Users/brsta/ICT_AI_AdvanceClass_NLP/0314_DownloadedNewstxts//세계-0000717869.txt',\n  'C:/Users/brsta/ICT_AI_AdvanceClass_NLP/0314_DownloadedNewstxts//세계-0000718707.txt',\n  'C:/Users/brsta/ICT_AI_AdvanceClass_NLP/0314_DownloadedNewstxts//세계-0001268636.txt',\n  'C:/Users/brsta/ICT_AI_AdvanceClass_NLP/0314_DownloadedNewstxts//세계-0002220514.txt',\n  'C:/Users/brsta/ICT_AI_AdvanceClass_NLP/0314_DownloadedNewstxts//세계-0002446876.txt',\n  'C:/Users/brsta/ICT_AI_AdvanceClass_NLP/0314_DownloadedNewstxts//세계-0002447304.txt',\n  'C:/Users/brsta/ICT_AI_AdvanceClass_NLP/0314_DownloadedNewstxts//세계-0002893315.txt',\n  'C:/Users/brsta/ICT_AI_AdvanceClass_NLP/0314_DownloadedNewstxts//세계-0002984361.txt',\n  'C:/Users/brsta/ICT_AI_AdvanceClass_NLP/0314_DownloadedNewstxts//세계-0002984376.txt',\n  'C:/Users/brsta/ICT_AI_AdvanceClass_NLP/0314_DownloadedNewstxts//세계-0002985260.txt',\n  'C:/Users/brsta/ICT_AI_AdvanceClass_NLP/0314_DownloadedNewstxts//세계-0003204465.txt',\n  'C:/Users/brsta/ICT_AI_AdvanceClass_NLP/0314_DownloadedNewstxts//세계-0003522754.txt',\n  'C:/Users/brsta/ICT_AI_AdvanceClass_NLP/0314_DownloadedNewstxts//세계-0003883559.txt',\n  'C:/Users/brsta/ICT_AI_AdvanceClass_NLP/0314_DownloadedNewstxts//세계-0003888259.txt',\n  'C:/Users/brsta/ICT_AI_AdvanceClass_NLP/0314_DownloadedNewstxts//세계-0004109429.txt',\n  'C:/Users/brsta/ICT_AI_AdvanceClass_NLP/0314_DownloadedNewstxts//세계-0004188948.txt',\n  'C:/Users/brsta/ICT_AI_AdvanceClass_NLP/0314_DownloadedNewstxts//세계-0004192327.txt',\n  'C:/Users/brsta/ICT_AI_AdvanceClass_NLP/0314_DownloadedNewstxts//세계-0004331102.txt',\n  'C:/Users/brsta/ICT_AI_AdvanceClass_NLP/0314_DownloadedNewstxts//세계-0009115239.txt',\n  'C:/Users/brsta/ICT_AI_AdvanceClass_NLP/0314_DownloadedNewstxts//세계-0009120125.txt',\n  'C:/Users/brsta/ICT_AI_AdvanceClass_NLP/0314_DownloadedNewstxts//세계-0010683121.txt',\n  'C:/Users/brsta/ICT_AI_AdvanceClass_NLP/0314_DownloadedNewstxts//세계-0010696233.txt',\n  'C:/Users/brsta/ICT_AI_AdvanceClass_NLP/0314_DownloadedNewstxts//세계-0010696592.txt',\n  'C:/Users/brsta/ICT_AI_AdvanceClass_NLP/0314_DownloadedNewstxts//세계-0010701376.txt',\n  'C:/Users/brsta/ICT_AI_AdvanceClass_NLP/0314_DownloadedNewstxts//세계-0010710389.txt',\n  'C:/Users/brsta/ICT_AI_AdvanceClass_NLP/0314_DownloadedNewstxts//정치-0000372172.txt',\n  'C:/Users/brsta/ICT_AI_AdvanceClass_NLP/0314_DownloadedNewstxts//정치-0000718780.txt',\n  'C:/Users/brsta/ICT_AI_AdvanceClass_NLP/0314_DownloadedNewstxts//정치-0002220830.txt',\n  'C:/Users/brsta/ICT_AI_AdvanceClass_NLP/0314_DownloadedNewstxts//정치-0002891787.txt',\n  'C:/Users/brsta/ICT_AI_AdvanceClass_NLP/0314_DownloadedNewstxts//정치-0002892343.txt',\n  'C:/Users/brsta/ICT_AI_AdvanceClass_NLP/0314_DownloadedNewstxts//정치-0002892346.txt',\n  'C:/Users/brsta/ICT_AI_AdvanceClass_NLP/0314_DownloadedNewstxts//정치-0002892355.txt',\n  'C:/Users/brsta/ICT_AI_AdvanceClass_NLP/0314_DownloadedNewstxts//정치-0002893284.txt',\n  'C:/Users/brsta/ICT_AI_AdvanceClass_NLP/0314_DownloadedNewstxts//정치-0002893321.txt',\n  'C:/Users/brsta/ICT_AI_AdvanceClass_NLP/0314_DownloadedNewstxts//정치-0003204554.txt',\n  'C:/Users/brsta/ICT_AI_AdvanceClass_NLP/0314_DownloadedNewstxts//정치-0003204848.txt',\n  'C:/Users/brsta/ICT_AI_AdvanceClass_NLP/0314_DownloadedNewstxts//정치-0003204865.txt',\n  'C:/Users/brsta/ICT_AI_AdvanceClass_NLP/0314_DownloadedNewstxts//정치-0003346997.txt',\n  'C:/Users/brsta/ICT_AI_AdvanceClass_NLP/0314_DownloadedNewstxts//정치-0003432978.txt',\n  'C:/Users/brsta/ICT_AI_AdvanceClass_NLP/0314_DownloadedNewstxts//정치-0003433578.txt',\n  'C:/Users/brsta/ICT_AI_AdvanceClass_NLP/0314_DownloadedNewstxts//정치-0003434385.txt',\n  'C:/Users/brsta/ICT_AI_AdvanceClass_NLP/0314_DownloadedNewstxts//정치-0003434391.txt',\n  'C:/Users/brsta/ICT_AI_AdvanceClass_NLP/0314_DownloadedNewstxts//정치-0003883454.txt',\n  'C:/Users/brsta/ICT_AI_AdvanceClass_NLP/0314_DownloadedNewstxts//정치-0003888178.txt',\n  'C:/Users/brsta/ICT_AI_AdvanceClass_NLP/0314_DownloadedNewstxts//정치-0004189012.txt',\n  'C:/Users/brsta/ICT_AI_AdvanceClass_NLP/0314_DownloadedNewstxts//정치-0004190205.txt',\n  'C:/Users/brsta/ICT_AI_AdvanceClass_NLP/0314_DownloadedNewstxts//정치-0004333068.txt',\n  'C:/Users/brsta/ICT_AI_AdvanceClass_NLP/0314_DownloadedNewstxts//정치-0009115219.txt',\n  'C:/Users/brsta/ICT_AI_AdvanceClass_NLP/0314_DownloadedNewstxts//정치-0009120111.txt',\n  'C:/Users/brsta/ICT_AI_AdvanceClass_NLP/0314_DownloadedNewstxts//정치-0010683083.txt',\n  'C:/Users/brsta/ICT_AI_AdvanceClass_NLP/0314_DownloadedNewstxts//정치-0010701726.txt',\n  'C:/Users/brsta/ICT_AI_AdvanceClass_NLP/0314_DownloadedNewstxts//정치-0010710113.txt',\n  'C:/Users/brsta/ICT_AI_AdvanceClass_NLP/0314_DownloadedNewstxts//정치-0010710296.txt',\n  'C:/Users/brsta/ICT_AI_AdvanceClass_NLP/0314_DownloadedNewstxts//정치-0010710423.txt',\n  'C:/Users/brsta/ICT_AI_AdvanceClass_NLP/0314_DownloadedNewstxts//정치-0010710439.txt'])"
      ]
     },
     "execution_count": 13,
     "metadata": {},
     "output_type": "execute_result"
    }
   ],
   "source": [
    "queryPosting, globalDocument"
   ]
  },
  {
   "cell_type": "code",
   "execution_count": 14,
   "metadata": {
    "collapsed": true
   },
   "outputs": [
    {
     "data": {
      "text/plain": [
       "[(0, 0, 1, -1),\n (1, 0, 1, -1),\n (2, 0, 1, -1),\n (3, 0, 2, -1),\n (4, 0, 1, -1),\n (5, 0, 1, -1),\n (6, 0, 1, -1),\n (7, 0, 1, -1),\n (8, 0, 1, -1),\n (9, 0, 1, -1),\n (10, 0, 1, -1),\n (11, 0, 4, -1),\n (12, 0, 2, -1),\n (13, 0, 2, -1),\n (14, 0, 1, -1),\n (15, 0, 2, -1),\n (16, 0, 1, -1),\n (17, 0, 2, -1),\n (18, 0, 1, -1),\n (19, 0, 2, -1),\n (20, 0, 2, -1),\n (21, 0, 2, -1),\n (22, 0, 2, -1),\n (23, 0, 2, -1),\n (24, 0, 2, -1),\n (25, 0, 2, -1),\n (26, 0, 2, -1),\n (27, 0, 2, -1),\n (28, 0, 5, -1),\n (29, 0, 2, -1),\n (30, 0, 2, -1),\n (31, 0, 1, -1),\n (32, 0, 4, -1),\n (33, 0, 1, -1),\n (34, 0, 2, -1),\n (35, 0, 2, -1),\n (36, 0, 2, -1),\n (37, 0, 1, -1),\n (38, 0, 3, -1),\n (39, 0, 1, -1),\n (40, 0, 3, -1),\n (41, 0, 2, -1),\n (42, 0, 2, -1),\n (43, 0, 1, -1),\n (44, 0, 1, -1),\n (45, 0, 1, -1),\n (46, 0, 1, -1),\n (47, 0, 1, -1),\n (48, 0, 2, -1),\n (49, 0, 1, -1),\n (50, 0, 2, -1),\n (51, 0, 1, -1),\n (52, 0, 3, -1),\n (53, 0, 1, -1),\n (54, 0, 4, -1),\n (55, 0, 1, -1),\n (56, 0, 2, -1),\n (57, 0, 1, -1),\n (58, 0, 2, -1),\n (59, 0, 1, -1),\n (60, 0, 1, -1),\n (61, 0, 1, -1),\n (62, 0, 4, -1),\n (63, 0, 3, -1),\n (64, 0, 2, -1),\n (65, 0, 7, -1),\n (66, 0, 1, -1),\n (67, 0, 6, -1),\n (68, 0, 1, -1),\n (69, 0, 1, -1),\n (70, 0, 1, -1),\n (71, 0, 2, -1),\n (72, 0, 3, -1),\n (73, 0, 2, -1),\n (74, 0, 1, -1),\n (75, 0, 1, -1),\n (76, 0, 1, -1),\n (77, 0, 2, -1),\n (78, 0, 2, -1),\n (79, 0, 2, -1),\n (80, 0, 2, -1),\n (81, 0, 1, -1),\n (82, 0, 2, -1),\n (83, 0, 3, -1),\n (84, 0, 3, -1),\n (85, 0, 1, -1),\n (86, 0, 1, -1),\n (87, 0, 1, -1),\n (88, 0, 2, -1),\n (89, 0, 2, -1),\n (90, 0, 2, -1),\n (91, 0, 5, -1),\n (92, 0, 2, -1),\n (93, 0, 1, -1),\n (94, 0, 3, -1),\n (95, 0, 1, -1),\n (96, 0, 1, -1),\n (97, 0, 1, -1),\n (98, 0, 1, -1),\n (99, 0, 1, -1),\n (100, 0, 1, -1),\n (101, 0, 2, -1),\n (102, 0, 2, -1),\n (103, 0, 2, -1),\n (104, 0, 1, -1),\n (105, 0, 1, -1),\n (106, 0, 1, -1),\n (107, 0, 1, -1),\n (108, 0, 1, -1),\n (109, 0, 1, -1),\n (110, 0, 2, -1),\n (111, 0, 2, -1),\n (112, 0, 1, -1),\n (113, 0, 1, -1),\n (114, 0, 1, -1),\n (115, 0, 1, -1),\n (116, 0, 3, -1),\n (117, 0, 2, -1),\n (118, 0, 1, -1),\n (119, 0, 1, -1),\n (120, 0, 2, -1),\n (121, 0, 2, -1),\n (122, 0, 3, -1),\n (123, 0, 1, -1),\n (124, 0, 1, -1),\n (125, 0, 1, -1),\n (126, 0, 2, -1),\n (127, 0, 1, -1),\n (128, 0, 1, -1),\n (129, 0, 1, -1),\n (130, 0, 1, -1),\n (131, 0, 1, -1),\n (132, 0, 1, -1),\n (133, 0, 1, -1),\n (134, 0, 1, -1),\n (135, 0, 1, -1),\n (136, 0, 1, -1),\n (137, 0, 1, -1),\n (138, 0, 2, -1),\n (139, 0, 1, -1),\n (140, 0, 1, -1),\n (141, 0, 1, -1),\n (142, 0, 1, -1),\n (143, 0, 2, -1),\n (144, 0, 1, -1),\n (145, 0, 1, -1),\n (146, 0, 2, -1),\n (147, 0, 1, -1),\n (148, 0, 1, -1),\n (149, 0, 2, -1),\n (150, 0, 1, -1),\n (151, 0, 3, -1),\n (152, 0, 1, -1),\n (153, 0, 1, -1),\n (154, 0, 1, -1),\n (155, 0, 1, -1),\n (156, 0, 1, -1),\n (157, 0, 1, -1),\n (158, 0, 1, -1),\n (159, 0, 5, -1),\n (160, 0, 2, -1),\n (161, 0, 2, -1),\n (162, 0, 2, -1),\n (163, 0, 2, -1),\n (164, 0, 2, -1),\n (165, 0, 1, -1),\n (166, 0, 1, -1),\n (167, 0, 2, -1),\n (168, 0, 1, -1),\n (169, 0, 1, -1),\n (170, 0, 1, -1),\n (171, 0, 1, -1),\n (172, 0, 1, -1),\n (173, 0, 1, -1),\n (174, 0, 2, -1),\n (175, 0, 2, -1),\n (176, 0, 1, -1),\n (177, 0, 1, -1),\n (178, 0, 2, -1),\n (179, 0, 1, -1),\n (180, 0, 1, -1),\n (181, 0, 1, -1),\n (182, 0, 1, -1),\n (183, 0, 1, -1),\n (184, 0, 1, -1),\n (185, 0, 1, -1),\n (186, 0, 1, -1),\n (187, 0, 1, -1),\n (188, 0, 2, -1),\n (189, 0, 1, -1),\n (190, 0, 1, -1),\n (191, 0, 1, -1),\n (192, 0, 1, -1),\n (193, 0, 1, -1),\n (194, 0, 1, -1),\n (195, 0, 1, -1),\n (196, 0, 1, -1),\n (197, 0, 1, -1),\n (198, 0, 2, -1),\n (199, 0, 1, -1),\n (200, 0, 1, -1),\n (201, 0, 1, -1),\n (202, 0, 1, -1),\n (203, 0, 1, -1),\n (204, 0, 1, -1),\n (205, 0, 1, -1),\n (206, 0, 2, -1),\n (207, 0, 1, -1),\n (208, 0, 1, -1),\n (209, 0, 1, -1),\n (210, 0, 1, -1),\n (211, 0, 1, -1),\n (212, 0, 1, -1),\n (213, 0, 1, -1),\n (214, 0, 1, -1),\n (215, 0, 1, -1),\n (216, 0, 1, -1),\n (217, 0, 1, -1),\n (218, 0, 3, -1),\n (219, 0, 1, -1),\n (220, 0, 1, -1),\n (221, 0, 1, -1),\n (222, 0, 1, -1),\n (223, 0, 3, -1),\n (224, 0, 1, -1),\n (225, 0, 1, -1),\n (226, 0, 1, -1),\n (227, 0, 1, -1),\n (228, 0, 1, -1),\n (229, 0, 1, -1),\n (230, 0, 1, -1),\n (231, 0, 1, -1),\n (232, 0, 1, -1),\n (233, 0, 1, -1),\n (234, 0, 1, -1),\n (235, 0, 1, -1),\n (236, 0, 1, -1),\n (237, 0, 2, -1),\n (238, 0, 1, -1),\n (239, 0, 1, -1),\n (240, 0, 1, -1),\n (241, 0, 1, -1),\n (242, 0, 1, -1),\n (243, 0, 1, -1),\n (244, 0, 1, -1),\n (245, 0, 1, -1),\n (246, 0, 1, -1),\n (247, 0, 1, -1),\n (248, 0, 1, -1),\n (249, 0, 1, -1),\n (250, 0, 1, -1),\n (251, 0, 1, -1),\n (252, 0, 2, -1),\n (253, 0, 1, -1),\n (254, 0, 1, -1),\n (255, 0, 1, -1),\n (256, 0, 1, -1),\n (257, 0, 1, -1),\n (258, 0, 1, -1),\n (259, 0, 1, -1),\n (260, 0, 1, -1),\n (261, 0, 1, -1),\n (262, 0, 1, -1),\n (263, 0, 1, -1),\n (264, 0, 1, -1),\n (265, 0, 1, -1),\n (266, 0, 1, -1),\n (267, 0, 1, -1),\n (268, 0, 2, -1),\n (269, 0, 2, -1),\n (270, 0, 1, -1),\n (271, 0, 1, -1),\n (272, 0, 1, -1),\n (273, 0, 2, -1),\n (274, 0, 1, -1),\n (275, 0, 1, -1),\n (276, 0, 2, -1),\n (277, 0, 1, -1),\n (278, 0, 1, -1),\n (279, 0, 1, -1),\n (280, 0, 1, -1),\n (281, 0, 1, -1),\n (282, 0, 1, -1),\n (283, 0, 1, -1),\n (284, 0, 1, -1),\n (285, 0, 1, -1),\n (286, 0, 1, -1),\n (287, 0, 1, -1),\n (288, 0, 1, -1),\n (289, 0, 1, -1),\n (290, 0, 1, -1),\n (291, 0, 1, -1),\n (292, 0, 1, -1),\n (293, 0, 1, -1),\n (162, 1, 1, 162),\n (294, 1, 1, -1),\n (295, 1, 5, -1),\n (296, 1, 1, -1),\n (297, 1, 1, -1),\n (298, 1, 1, -1),\n (52, 1, 1, 52),\n (299, 1, 1, -1),\n (300, 1, 1, -1),\n (301, 1, 3, -1),\n (302, 1, 1, -1),\n (303, 1, 6, -1),\n (275, 1, 4, 275),\n (90, 1, 15, 90),\n (304, 1, 7, -1),\n (305, 1, 29, -1),\n (306, 1, 1, -1),\n (307, 1, 3, -1),\n (308, 1, 1, -1),\n (309, 1, 1, -1),\n (310, 1, 1, -1),\n (311, 1, 1, -1),\n (312, 1, 2, -1),\n (313, 1, 1, -1),\n (314, 1, 6, -1),\n (315, 1, 1, -1),\n (316, 1, 1, -1),\n (317, 1, 1, -1),\n (318, 1, 1, -1),\n (319, 1, 1, -1),\n (320, 1, 1, -1),\n (232, 1, 1, 232),\n (116, 1, 3, 116),\n (321, 1, 1, -1),\n (322, 1, 1, -1),\n (323, 1, 1, -1),\n (324, 1, 3, -1),\n (325, 1, 11, -1),\n (326, 1, 1, -1),\n (327, 1, 1, -1),\n (328, 1, 1, -1),\n (329, 1, 2, -1),\n (330, 1, 1, -1),\n (331, 1, 1, -1),\n (332, 1, 1, -1),\n (333, 1, 2, -1),\n (334, 1, 2, -1),\n (335, 1, 1, -1),\n (336, 1, 1, -1),\n (337, 1, 1, -1),\n (338, 1, 2, -1),\n (339, 1, 1, -1),\n (340, 1, 1, -1),\n (341, 1, 1, -1),\n (342, 1, 1, -1),\n (343, 1, 1, -1),\n (344, 1, 1, -1),\n (345, 1, 1, -1),\n (346, 1, 1, -1),\n (347, 1, 1, -1),\n (348, 1, 2, -1),\n (349, 1, 2, -1),\n (350, 1, 1, -1),\n (351, 1, 1, -1),\n (352, 1, 1, -1),\n (353, 1, 2, -1),\n (354, 1, 1, -1),\n (355, 1, 1, -1),\n (356, 1, 1, -1),\n (65, 1, 1, 65),\n (357, 1, 1, -1),\n (358, 1, 2, -1),\n (359, 1, 1, -1),\n (360, 1, 1, -1),\n (361, 1, 1, -1),\n (362, 1, 1, -1),\n (363, 1, 1, -1),\n (364, 1, 2, -1),\n (365, 1, 1, -1),\n (366, 1, 1, -1),\n (367, 1, 2, -1),\n (159, 1, 1, 159),\n (368, 1, 1, -1),\n (369, 1, 1, -1),\n (370, 1, 1, -1),\n (371, 1, 1, -1),\n (372, 1, 1, -1),\n (373, 1, 1, -1),\n (374, 1, 2, -1),\n (273, 1, 1, 273),\n (375, 1, 1, -1),\n (376, 1, 5, -1),\n (243, 1, 3, 243),\n (377, 1, 1, -1),\n (284, 1, 2, 284),\n (378, 1, 1, -1),\n (379, 1, 2, -1),\n (123, 1, 1, 123),\n (380, 1, 1, -1),\n (381, 1, 1, -1),\n (382, 1, 1, -1),\n (383, 1, 2, -1),\n (384, 1, 2, -1),\n (62, 1, 4, 62),\n (385, 1, 1, -1),\n (386, 1, 1, -1),\n (387, 1, 2, -1),\n (388, 1, 1, -1),\n (389, 1, 1, -1),\n (390, 1, 1, -1),\n (391, 1, 1, -1),\n (217, 1, 1, 217),\n (392, 1, 1, -1),\n (393, 1, 1, -1),\n (394, 1, 1, -1),\n (395, 1, 1, -1),\n (396, 1, 1, -1),\n (397, 1, 1, -1),\n (398, 1, 1, -1),\n (399, 1, 1, -1),\n (400, 1, 2, -1),\n (401, 1, 1, -1),\n (402, 1, 1, -1),\n (403, 1, 1, -1),\n (404, 1, 1, -1),\n (405, 1, 1, -1),\n (406, 1, 1, -1),\n (407, 1, 2, -1),\n (408, 1, 1, -1),\n (409, 1, 1, -1),\n (410, 1, 1, -1),\n (411, 1, 1, -1),\n (412, 1, 2, -1),\n (413, 1, 1, -1),\n (414, 1, 1, -1),\n (415, 1, 1, -1),\n (416, 1, 1, -1),\n (417, 1, 1, -1),\n (418, 1, 1, -1),\n (419, 1, 1, -1),\n (420, 1, 2, -1),\n (421, 1, 1, -1),\n (422, 1, 1, -1),\n (423, 1, 1, -1),\n (424, 1, 3, -1),\n (425, 1, 1, -1),\n (426, 1, 1, -1),\n (427, 1, 3, -1),\n (428, 1, 2, -1),\n (429, 1, 1, -1),\n (430, 1, 1, -1),\n (431, 1, 1, -1),\n (432, 1, 1, -1),\n (433, 1, 3, -1),\n (434, 1, 1, -1),\n (435, 1, 1, -1),\n (436, 1, 1, -1),\n (437, 1, 1, -1),\n (438, 1, 1, -1),\n (439, 1, 1, -1),\n (440, 1, 1, -1),\n (441, 1, 1, -1),\n (442, 1, 3, -1),\n (443, 1, 1, -1),\n (444, 1, 1, -1),\n (445, 1, 1, -1),\n (446, 1, 1, -1),\n (447, 1, 1, -1),\n (64, 1, 1, 64),\n (448, 1, 1, -1),\n (449, 1, 3, -1),\n (450, 1, 1, -1),\n (451, 1, 1, -1),\n (452, 1, 3, -1),\n (453, 1, 1, -1),\n (454, 1, 1, -1),\n (455, 1, 1, -1),\n (456, 1, 3, -1),\n (457, 1, 1, -1),\n (458, 1, 1, -1),\n (459, 1, 1, -1),\n (460, 1, 1, -1),\n (461, 1, 1, -1),\n (462, 1, 2, -1),\n (463, 1, 1, -1),\n (464, 1, 1, -1),\n (88, 1, 1, 88),\n (465, 1, 1, -1),\n (466, 1, 2, -1),\n (467, 1, 1, -1),\n (468, 1, 2, -1),\n (469, 1, 1, -1),\n (470, 1, 1, -1),\n (471, 1, 1, -1),\n (472, 1, 2, -1),\n (473, 1, 1, -1),\n (474, 1, 1, -1),\n (475, 1, 1, -1),\n (476, 1, 1, -1),\n (477, 1, 1, -1),\n (478, 1, 1, -1),\n (479, 1, 1, -1),\n (480, 1, 3, -1),\n (481, 1, 1, -1),\n (83, 1, 1, 83),\n (482, 1, 1, -1),\n (483, 1, 1, -1),\n (484, 1, 1, -1),\n (485, 1, 1, -1),\n (486, 1, 1, -1),\n (487, 1, 1, -1),\n (488, 1, 1, -1),\n (489, 1, 1, -1),\n (490, 1, 1, -1),\n (491, 1, 1, -1),\n (492, 1, 1, -1),\n (493, 1, 1, -1),\n (494, 1, 1, -1),\n (495, 1, 1, -1),\n (496, 1, 1, -1),\n (497, 1, 1, -1),\n (498, 1, 2, -1),\n (499, 1, 1, -1),\n (500, 1, 1, -1),\n (501, 1, 2, -1),\n (502, 1, 2, -1),\n (503, 1, 1, -1),\n (504, 1, 1, -1),\n (505, 1, 1, -1),\n (506, 1, 1, -1),\n (507, 1, 1, -1),\n (508, 1, 1, -1),\n (509, 1, 1, -1),\n (510, 1, 1, -1),\n (511, 1, 1, -1),\n (512, 1, 1, -1),\n (513, 1, 1, -1),\n (514, 1, 1, -1),\n (515, 1, 2, -1),\n (516, 1, 2, -1),\n (517, 1, 1, -1),\n (170, 1, 1, 170),\n (518, 1, 1, -1),\n (519, 1, 1, -1),\n (520, 1, 1, -1),\n (521, 1, 1, -1),\n (282, 1, 1, 282),\n (522, 1, 3, -1),\n (523, 1, 2, -1),\n (524, 1, 1, -1),\n (525, 1, 1, -1),\n (227, 1, 2, 227),\n (526, 1, 1, -1),\n (226, 1, 3, 226),\n (527, 1, 1, -1),\n (528, 1, 1, -1),\n (529, 1, 1, -1),\n (530, 1, 1, -1),\n (531, 1, 1, -1),\n (532, 1, 2, -1),\n (533, 1, 1, -1),\n (534, 1, 1, -1),\n (535, 1, 1, -1),\n (48, 1, 2, 48),\n (536, 1, 2, -1),\n (537, 1, 1, -1),\n (538, 1, 2, -1),\n (539, 1, 1, -1),\n (540, 1, 1, -1),\n (541, 1, 1, -1),\n (542, 1, 1, -1),\n (543, 1, 1, -1),\n (544, 1, 1, -1),\n (545, 1, 1, -1),\n (546, 1, 1, -1),\n (547, 1, 1, -1),\n (86, 1, 1, 86),\n (548, 1, 1, -1),\n (549, 1, 1, -1),\n (550, 1, 1, -1),\n (551, 1, 1, -1),\n (552, 1, 1, -1),\n (553, 1, 1, -1),\n (554, 1, 1, -1),\n (555, 1, 1, -1),\n (556, 1, 1, -1),\n (557, 1, 1, -1),\n (558, 1, 1, -1),\n (559, 1, 1, -1),\n (560, 1, 3, -1),\n (561, 1, 1, -1),\n (562, 1, 1, -1),\n (563, 1, 1, -1),\n (564, 1, 1, -1),\n (565, 1, 2, -1),\n (566, 1, 1, -1),\n (567, 1, 1, -1),\n (568, 1, 1, -1),\n (569, 1, 1, -1),\n (274, 1, 1, 274),\n (570, 1, 1, -1),\n (571, 1, 2, -1),\n (572, 1, 1, -1),\n (573, 1, 2, -1),\n (574, 1, 1, -1),\n (575, 1, 1, -1),\n (576, 1, 1, -1),\n (577, 1, 1, -1),\n (578, 1, 1, -1),\n (579, 1, 1, -1),\n (580, 1, 1, -1),\n (581, 1, 1, -1),\n (582, 1, 1, -1),\n (583, 1, 1, -1),\n (584, 1, 3, -1),\n (585, 1, 1, -1),\n (586, 1, 1, -1),\n (587, 1, 1, -1),\n (588, 1, 1, -1),\n (589, 1, 1, -1),\n (590, 1, 1, -1),\n (591, 1, 1, -1),\n (167, 1, 1, 167),\n (592, 1, 1, -1),\n (593, 1, 1, -1),\n (594, 1, 1, -1),\n (595, 1, 1, -1),\n (596, 1, 1, -1),\n (597, 1, 1, -1),\n (598, 1, 1, -1),\n (599, 1, 2, -1),\n (600, 1, 1, -1),\n (601, 1, 1, -1),\n (602, 1, 1, -1),\n (603, 1, 1, -1),\n (604, 1, 1, -1),\n (605, 1, 1, -1),\n (606, 1, 1, -1),\n (607, 1, 1, -1),\n (608, 1, 1, -1),\n (609, 1, 1, -1),\n (610, 1, 2, -1),\n (611, 1, 1, -1),\n (612, 1, 2, -1),\n (613, 1, 1, -1),\n (614, 1, 1, -1),\n (615, 1, 1, -1),\n (616, 1, 1, -1),\n (617, 1, 1, -1),\n (618, 1, 1, -1),\n (619, 1, 1, -1),\n (620, 1, 1, -1),\n (237, 1, 1, 237),\n (621, 1, 1, -1),\n (622, 1, 1, -1),\n (623, 1, 1, -1),\n (624, 1, 1, -1),\n (625, 1, 1, -1),\n (626, 1, 1, -1),\n (627, 1, 1, -1),\n (628, 1, 1, -1),\n (629, 1, 1, -1),\n (630, 1, 2, -1),\n (631, 1, 2, -1),\n (632, 1, 2, -1),\n (633, 1, 1, -1),\n (63, 1, 1, 63),\n (634, 1, 1, -1),\n (635, 1, 1, -1),\n (636, 1, 1, -1),\n (637, 1, 1, -1),\n (638, 1, 1, -1),\n (639, 1, 1, -1),\n (276, 1, 1, 276),\n (640, 1, 1, -1),\n (641, 1, 1, -1),\n (642, 1, 1, -1),\n (643, 1, 1, -1),\n (644, 1, 1, -1),\n (645, 1, 1, -1),\n (646, 1, 2, -1),\n (647, 1, 1, -1),\n (648, 1, 2, -1),\n (649, 1, 1, -1),\n (650, 1, 1, -1),\n (651, 1, 1, -1),\n (652, 1, 1, -1),\n (653, 1, 1, -1),\n (654, 1, 1, -1),\n (655, 1, 1, -1),\n (656, 1, 1, -1),\n (657, 1, 1, -1),\n (658, 1, 1, -1),\n (82, 1, 1, 82),\n (659, 1, 1, -1),\n (660, 1, 1, -1),\n (661, 1, 1, -1),\n (662, 1, 1, -1),\n (663, 1, 1, -1),\n (664, 1, 1, -1),\n (665, 1, 1, -1),\n (666, 1, 1, -1),\n (667, 1, 1, -1),\n (668, 1, 1, -1),\n (669, 1, 1, -1),\n (670, 1, 1, -1),\n (671, 1, 1, -1),\n (672, 1, 1, -1),\n (673, 1, 1, -1),\n (109, 1, 1, 109),\n (674, 1, 1, -1),\n (675, 1, 1, -1),\n (676, 1, 1, -1),\n (677, 1, 1, -1),\n (678, 1, 1, -1),\n (679, 1, 1, -1),\n (680, 1, 1, -1),\n (681, 1, 2, -1),\n (682, 1, 1, -1),\n (683, 1, 1, -1),\n (684, 1, 1, -1),\n (685, 1, 1, -1),\n (686, 1, 1, -1),\n (687, 1, 1, -1),\n (688, 1, 1, -1),\n (689, 1, 1, -1),\n (690, 1, 1, -1),\n (691, 1, 1, -1),\n (692, 1, 1, -1),\n (693, 1, 1, -1),\n (694, 1, 1, -1),\n (695, 1, 1, -1),\n (696, 1, 1, -1),\n (697, 1, 1, -1),\n (698, 1, 1, -1),\n (699, 1, 1, -1),\n (700, 1, 1, -1),\n (701, 1, 1, -1),\n (702, 1, 6, -1),\n (703, 1, 1, -1),\n (704, 1, 1, -1),\n (705, 1, 1, -1),\n (706, 1, 1, -1),\n (707, 1, 1, -1),\n (708, 1, 2, -1),\n (709, 1, 1, -1),\n (710, 1, 1, -1),\n (77, 1, 1, 77),\n (711, 1, 1, -1),\n (712, 1, 1, -1),\n (713, 1, 1, -1),\n (714, 1, 1, -1),\n (715, 1, 1, -1),\n (716, 1, 1, -1),\n (717, 1, 1, -1),\n (718, 1, 1, -1),\n (719, 1, 1, -1),\n (720, 1, 1, -1),\n (290, 1, 1, 290),\n (721, 1, 1, -1),\n (722, 1, 1, -1),\n (723, 1, 1, -1),\n (724, 1, 1, -1),\n (725, 1, 1, -1),\n (726, 1, 1, -1),\n (727, 1, 1, -1),\n (728, 1, 1, -1),\n (729, 1, 1, -1),\n (730, 1, 1, -1),\n (731, 1, 1, -1),\n (732, 1, 1, -1),\n (733, 1, 1, -1),\n (734, 1, 1, -1),\n (735, 1, 1, -1),\n (149, 1, 1, 149),\n (736, 1, 1, -1),\n (737, 1, 1, -1),\n (738, 1, 1, -1),\n (739, 1, 1, -1),\n (740, 1, 1, -1),\n (741, 1, 1, -1),\n (742, 2, 4, -1),\n (743, 2, 12, -1),\n (744, 2, 2, -1),\n (303, 2, 2, 305),\n (745, 2, 2, -1),\n (746, 2, 3, -1),\n (747, 2, 1, -1),\n (748, 2, 6, -1),\n (749, 2, 1, -1),\n (750, 2, 1, -1),\n (751, 2, 1, -1),\n (752, 2, 4, -1),\n (753, 2, 1, -1),\n (754, 2, 1, -1),\n (755, 2, 1, -1),\n (756, 2, 1, -1),\n (757, 2, 1, -1),\n (758, 2, 1, -1),\n (759, 2, 1, -1),\n (760, 2, 1, -1),\n (761, 2, 1, -1),\n (762, 2, 1, -1),\n (406, 2, 1, 420),\n (763, 2, 1, -1),\n (764, 2, 1, -1),\n (765, 2, 1, -1),\n (766, 2, 1, -1),\n (767, 2, 1, -1),\n (768, 2, 1, -1),\n (769, 2, 1, -1),\n (770, 2, 1, -1),\n (771, 2, 6, -1),\n (772, 2, 1, -1),\n (773, 2, 3, -1),\n (774, 2, 1, -1),\n (775, 2, 1, -1),\n (776, 2, 1, -1),\n (777, 2, 1, -1),\n (778, 2, 1, -1),\n (779, 2, 1, -1),\n (780, 2, 2, -1),\n (781, 2, 1, -1),\n (782, 2, 1, -1),\n (783, 2, 1, -1),\n (784, 2, 1, -1),\n (785, 2, 1, -1),\n (786, 2, 1, -1),\n (787, 2, 2, -1),\n (788, 2, 3, -1),\n (290, 2, 2, 752),\n (789, 2, 2, -1),\n (790, 2, 4, -1),\n (791, 2, 2, -1),\n (792, 2, 1, -1),\n (793, 2, 1, -1),\n (794, 2, 1, -1),\n (795, 2, 4, -1),\n (77, 2, 2, 741),\n (796, 2, 1, -1),\n (305, 2, 1, 309),\n (797, 2, 1, -1),\n (798, 2, 1, -1),\n (40, 2, 2, 40),\n (799, 2, 1, -1),\n (800, 2, 1, -1),\n (801, 2, 1, -1),\n (802, 2, 3, -1),\n (803, 2, 1, -1),\n (804, 2, 3, -1),\n (805, 2, 2, -1),\n (806, 2, 1, -1),\n (807, 2, 2, -1),\n (808, 2, 1, -1),\n (160, 2, 1, 160),\n (243, 2, 1, 386),\n (809, 2, 1, -1),\n (810, 2, 1, -1),\n (811, 2, 1, -1),\n (812, 2, 1, -1),\n (813, 2, 1, -1),\n (814, 2, 1, -1),\n (815, 2, 4, -1),\n (816, 2, 1, -1),\n (817, 2, 1, -1),\n (818, 2, 1, -1),\n (819, 2, 1, -1),\n (275, 2, 3, 306),\n (820, 2, 3, -1),\n (821, 2, 2, -1),\n (822, 2, 2, -1),\n (823, 2, 1, -1),\n (824, 2, 1, -1),\n (825, 2, 1, -1),\n (826, 2, 1, -1),\n (827, 2, 1, -1),\n (828, 2, 1, -1),\n (829, 2, 1, -1),\n (404, 2, 1, 418),\n (48, 2, 8, 557),\n (62, 2, 6, 397),\n (830, 2, 1, -1),\n (831, 2, 1, -1),\n (832, 2, 1, -1),\n (833, 2, 1, -1),\n (834, 2, 1, -1),\n (552, 2, 4, 575),\n (835, 2, 1, -1),\n (836, 2, 1, -1),\n (837, 2, 1, -1),\n (838, 2, 1, -1),\n (839, 2, 1, -1),\n (840, 2, 1, -1),\n (841, 2, 1, -1),\n (842, 2, 1, -1),\n (843, 2, 1, -1),\n (844, 2, 2, -1),\n (845, 2, 2, -1),\n (846, 2, 1, -1),\n (847, 2, 2, -1),\n (848, 2, 1, -1),\n (849, 2, 1, -1),\n (850, 2, 1, -1),\n (851, 2, 1, -1),\n (852, 2, 1, -1),\n (853, 2, 1, -1),\n (854, 2, 1, -1),\n (855, 2, 1, -1),\n (671, 2, 1, 700),\n (314, 2, 2, 318),\n (401, 2, 1, 415),\n (856, 2, 1, -1),\n (857, 2, 1, -1),\n (858, 2, 1, -1),\n (859, 2, 1, -1),\n (860, 2, 1, -1),\n (861, 2, 1, -1),\n (862, 2, 1, -1),\n (863, 2, 1, -1),\n (864, 2, 1, -1),\n (865, 2, 1, -1),\n (584, 2, 1, 608),\n (866, 2, 1, -1),\n (308, 2, 1, 312),\n (867, 2, 10, -1),\n (868, 2, 6, -1),\n (869, 2, 1, -1),\n (28, 2, 8, 28),\n (870, 2, 1, -1),\n (871, 2, 1, -1),\n (872, 2, 1, -1),\n (873, 2, 1, -1),\n (874, 2, 1, -1),\n (875, 2, 2, -1),\n (876, 2, 1, -1),\n (877, 2, 1, -1),\n (878, 2, 1, -1),\n (879, 2, 1, -1),\n (880, 2, 1, -1),\n (881, 2, 1, -1),\n (882, 2, 1, -1),\n (883, 2, 1, -1),\n (884, 2, 1, -1),\n (885, 2, 1, -1),\n (721, 2, 1, 753),\n (886, 2, 1, -1),\n (887, 2, 1, -1),\n (888, 2, 2, -1),\n (889, 2, 1, -1),\n (890, 2, 1, -1),\n (891, 2, 1, -1),\n (892, 2, 1, -1),\n (893, 2, 1, -1),\n (894, 2, 1, -1),\n (895, 2, 1, -1),\n (896, 2, 1, -1),\n (897, 2, 1, -1),\n (898, 2, 1, -1),\n (899, 2, 1, -1),\n (900, 2, 1, -1),\n (901, 2, 1, -1),\n (902, 2, 1, -1),\n (83, 2, 3, 498),\n (903, 2, 1, -1),\n (904, 2, 1, -1),\n (905, 2, 2, -1),\n (329, 2, 1, 335),\n (906, 2, 1, -1),\n (907, 2, 1, -1),\n (908, 2, 1, -1),\n (909, 2, 2, -1),\n (86, 2, 1, 570),\n (910, 2, 1, -1),\n (911, 2, 1, -1),\n (274, 2, 2, 593),\n (912, 2, 2, -1),\n (574, 2, 2, 598),\n (913, 2, 1, -1),\n (318, 2, 1, 322),\n (914, 2, 1, -1),\n (915, 2, 2, -1),\n (916, 2, 1, -1),\n (917, 2, 1, -1),\n (918, 2, 1, -1),\n (919, 2, 1, -1),\n (920, 2, 1, -1),\n (54, 2, 2, 54),\n (88, 2, 1, 480),\n (921, 2, 1, -1),\n (642, 2, 1, 670),\n (922, 2, 1, -1),\n (923, 2, 1, -1),\n (924, 2, 1, -1),\n (357, 2, 1, 364),\n (925, 2, 1, -1),\n (926, 2, 1, -1),\n (927, 2, 1, -1),\n (493, 2, 1, 510),\n (928, 2, 1, -1),\n (929, 2, 1, -1),\n (930, 2, 1, -1),\n (931, 2, 1, -1),\n (932, 2, 1, -1),\n (933, 2, 1, -1),\n (116, 2, 1, 326),\n (934, 2, 1, -1),\n ...]"
      ]
     },
     "execution_count": 14,
     "metadata": {},
     "output_type": "execute_result"
    }
   ],
   "source": [
    "globalPosting"
   ]
  },
  {
   "cell_type": "code",
   "execution_count": 63,
   "metadata": {},
   "outputs": [],
   "source": [
    "# 확인용\n",
    "for indexTerm, postingIdx in globalLexicon.items():\n",
    "    # indexTerm:단어: postingIdx:위치, ...\n",
    "    # print(indexTerm)\n",
    "    \n",
    "    while True: # Posting Next:-1\n",
    "        if postingIdx == -1:\n",
    "            break\n",
    "            \n",
    "        postingData = globalPosting[postingIdx]\n",
    "        # print('  DocName:{0} - TermFreq:{1} - Next:{2}'.format(globalDocument[postingData[1]], postingData[2], postingData[3]))\n",
    "        postingIdx = postingData[3]"
   ]
  },
  {
   "cell_type": "code",
   "execution_count": 15,
   "metadata": {},
   "outputs": [
    {
     "data": {
      "text/plain": [
       "(0, 176, 1, 54063)"
      ]
     },
     "execution_count": 15,
     "metadata": {},
     "output_type": "execute_result"
    }
   ],
   "source": [
    "globalPosting[queryPosting['오히려']]"
   ]
  },
  {
   "cell_type": "code",
   "execution_count": 16,
   "metadata": {},
   "outputs": [
    {
     "data": {
      "text/plain": [
       "(0, 170, 1, 50284)"
      ]
     },
     "execution_count": 16,
     "metadata": {},
     "output_type": "execute_result"
    }
   ],
   "source": [
    "globalPosting[globalPosting[queryPosting['오히려']][3]] # 다음 주소가 \"-1\" 일때 까지 반복해서 찾음"
   ]
  },
  {
   "cell_type": "markdown",
   "metadata": {},
   "source": [
    "## TF"
   ]
  },
  {
   "cell_type": "code",
   "execution_count": 17,
   "metadata": {},
   "outputs": [],
   "source": [
    "from math import log10\n",
    "\n",
    "def binaryTF(freq):\n",
    "    if freq > 0:\n",
    "        return 1\n",
    "    else:\n",
    "        return 0\n",
    "\n",
    "def rawTF(freq):\n",
    "    return freq\n",
    "\n",
    "def basicTF(freq, totalFreq):\n",
    "    return freq/totalFreq\n",
    "\n",
    "def logTF(freq):\n",
    "    if freq > 0:\n",
    "        return 1+log10(freq)\n",
    "    else:\n",
    "        return 0\n",
    "\n",
    "def doubleNormalTF(K, freq, maxFreq): \n",
    "    return K + ((1-K) * (freq/maxFreq))"
   ]
  },
  {
   "cell_type": "code",
   "execution_count": 19,
   "metadata": {},
   "outputs": [],
   "source": [
    "def unaryIDF():\n",
    "    return 1\n",
    "\n",
    "def basicIDF(N, df):\n",
    "    return log10(N/df)\n",
    "\n",
    "def smoothigIDF(N, df):\n",
    "    return log10((N+1)/df)\n",
    "\n",
    "def probabilityIDF(N, df):\n",
    "    return log10((N-df+1)/df)"
   ]
  },
  {
   "cell_type": "code",
   "execution_count": 20,
   "metadata": {},
   "outputs": [],
   "source": [
    "globalLexicon = dict()\n",
    "globalDocument = list()\n",
    "globalPosting = list()\n",
    "\n",
    "for (docName, docContent) in collection:\n",
    "    docIdx = len(globalDocument)\n",
    "    globalDocument.append(docName)\n",
    "    \n",
    "    localPosting = dict()\n",
    "    \n",
    "    for term in docContent.lower().split():\n",
    "        if term not in localPosting.keys():\n",
    "            localPosting[term] = 1\n",
    "        else:\n",
    "            localPosting[term] += 1\n",
    "    \n",
    "    maxFreq = max(localPosting.values())\n",
    "    \n",
    "    for indexTerm, termFreq in localPosting.items():\n",
    "        if indexTerm not in globalLexicon.keys():\n",
    "            lexiconIdx = len(globalLexicon)\n",
    "            postingIdx = len(globalPosting)\n",
    "            postingData = [lexiconIdx, docIdx, doubleNormalTF(0, termFreq, maxFreq), -1]\n",
    "            globalPosting.append(postingData)\n",
    "            globalLexicon[indexTerm] = postingIdx\n",
    "        else:\n",
    "            lexiconIdx = list(globalLexicon.keys()).index(indexTerm)\n",
    "            postingIdx = len(globalPosting)\n",
    "            beforeIdx = globalLexicon[indexTerm]\n",
    "            postingData = [lexiconIdx, docIdx, doubleNormalTF(0, termFreq, maxFreq), beforeIdx]\n",
    "            globalPosting.append(postingData)\n",
    "            globalLexicon[indexTerm] = postingIdx"
   ]
  },
  {
   "cell_type": "code",
   "execution_count": 21,
   "metadata": {
    "collapsed": true
   },
   "outputs": [
    {
     "data": {
      "text/plain": [
       "[[0, 0, 0.14285714285714285, -1],\n [1, 0, 0.14285714285714285, -1],\n [2, 0, 0.14285714285714285, -1],\n [3, 0, 0.2857142857142857, -1],\n [4, 0, 0.14285714285714285, -1],\n [5, 0, 0.14285714285714285, -1],\n [6, 0, 0.14285714285714285, -1],\n [7, 0, 0.14285714285714285, -1],\n [8, 0, 0.14285714285714285, -1],\n [9, 0, 0.14285714285714285, -1],\n [10, 0, 0.14285714285714285, -1],\n [11, 0, 0.5714285714285714, -1],\n [12, 0, 0.2857142857142857, -1],\n [13, 0, 0.2857142857142857, -1],\n [14, 0, 0.14285714285714285, -1],\n [15, 0, 0.2857142857142857, -1],\n [16, 0, 0.14285714285714285, -1],\n [17, 0, 0.2857142857142857, -1],\n [18, 0, 0.14285714285714285, -1],\n [19, 0, 0.2857142857142857, -1],\n [20, 0, 0.2857142857142857, -1],\n [21, 0, 0.2857142857142857, -1],\n [22, 0, 0.2857142857142857, -1],\n [23, 0, 0.2857142857142857, -1],\n [24, 0, 0.2857142857142857, -1],\n [25, 0, 0.2857142857142857, -1],\n [26, 0, 0.2857142857142857, -1],\n [27, 0, 0.2857142857142857, -1],\n [28, 0, 0.7142857142857143, -1],\n [29, 0, 0.2857142857142857, -1],\n [30, 0, 0.2857142857142857, -1],\n [31, 0, 0.14285714285714285, -1],\n [32, 0, 0.5714285714285714, -1],\n [33, 0, 0.14285714285714285, -1],\n [34, 0, 0.2857142857142857, -1],\n [35, 0, 0.2857142857142857, -1],\n [36, 0, 0.2857142857142857, -1],\n [37, 0, 0.14285714285714285, -1],\n [38, 0, 0.42857142857142855, -1],\n [39, 0, 0.14285714285714285, -1],\n [40, 0, 0.42857142857142855, -1],\n [41, 0, 0.2857142857142857, -1],\n [42, 0, 0.2857142857142857, -1],\n [43, 0, 0.14285714285714285, -1],\n [44, 0, 0.14285714285714285, -1],\n [45, 0, 0.14285714285714285, -1],\n [46, 0, 0.14285714285714285, -1],\n [47, 0, 0.14285714285714285, -1],\n [48, 0, 0.2857142857142857, -1],\n [49, 0, 0.14285714285714285, -1],\n [50, 0, 0.2857142857142857, -1],\n [51, 0, 0.14285714285714285, -1],\n [52, 0, 0.42857142857142855, -1],\n [53, 0, 0.14285714285714285, -1],\n [54, 0, 0.5714285714285714, -1],\n [55, 0, 0.14285714285714285, -1],\n [56, 0, 0.2857142857142857, -1],\n [57, 0, 0.14285714285714285, -1],\n [58, 0, 0.2857142857142857, -1],\n [59, 0, 0.14285714285714285, -1],\n [60, 0, 0.14285714285714285, -1],\n [61, 0, 0.14285714285714285, -1],\n [62, 0, 0.5714285714285714, -1],\n [63, 0, 0.42857142857142855, -1],\n [64, 0, 0.2857142857142857, -1],\n [65, 0, 1.0, -1],\n [66, 0, 0.14285714285714285, -1],\n [67, 0, 0.8571428571428571, -1],\n [68, 0, 0.14285714285714285, -1],\n [69, 0, 0.14285714285714285, -1],\n [70, 0, 0.14285714285714285, -1],\n [71, 0, 0.2857142857142857, -1],\n [72, 0, 0.42857142857142855, -1],\n [73, 0, 0.2857142857142857, -1],\n [74, 0, 0.14285714285714285, -1],\n [75, 0, 0.14285714285714285, -1],\n [76, 0, 0.14285714285714285, -1],\n [77, 0, 0.2857142857142857, -1],\n [78, 0, 0.2857142857142857, -1],\n [79, 0, 0.2857142857142857, -1],\n [80, 0, 0.2857142857142857, -1],\n [81, 0, 0.14285714285714285, -1],\n [82, 0, 0.2857142857142857, -1],\n [83, 0, 0.42857142857142855, -1],\n [84, 0, 0.42857142857142855, -1],\n [85, 0, 0.14285714285714285, -1],\n [86, 0, 0.14285714285714285, -1],\n [87, 0, 0.14285714285714285, -1],\n [88, 0, 0.2857142857142857, -1],\n [89, 0, 0.2857142857142857, -1],\n [90, 0, 0.2857142857142857, -1],\n [91, 0, 0.7142857142857143, -1],\n [92, 0, 0.2857142857142857, -1],\n [93, 0, 0.14285714285714285, -1],\n [94, 0, 0.42857142857142855, -1],\n [95, 0, 0.14285714285714285, -1],\n [96, 0, 0.14285714285714285, -1],\n [97, 0, 0.14285714285714285, -1],\n [98, 0, 0.14285714285714285, -1],\n [99, 0, 0.14285714285714285, -1],\n [100, 0, 0.14285714285714285, -1],\n [101, 0, 0.2857142857142857, -1],\n [102, 0, 0.2857142857142857, -1],\n [103, 0, 0.2857142857142857, -1],\n [104, 0, 0.14285714285714285, -1],\n [105, 0, 0.14285714285714285, -1],\n [106, 0, 0.14285714285714285, -1],\n [107, 0, 0.14285714285714285, -1],\n [108, 0, 0.14285714285714285, -1],\n [109, 0, 0.14285714285714285, -1],\n [110, 0, 0.2857142857142857, -1],\n [111, 0, 0.2857142857142857, -1],\n [112, 0, 0.14285714285714285, -1],\n [113, 0, 0.14285714285714285, -1],\n [114, 0, 0.14285714285714285, -1],\n [115, 0, 0.14285714285714285, -1],\n [116, 0, 0.42857142857142855, -1],\n [117, 0, 0.2857142857142857, -1],\n [118, 0, 0.14285714285714285, -1],\n [119, 0, 0.14285714285714285, -1],\n [120, 0, 0.2857142857142857, -1],\n [121, 0, 0.2857142857142857, -1],\n [122, 0, 0.42857142857142855, -1],\n [123, 0, 0.14285714285714285, -1],\n [124, 0, 0.14285714285714285, -1],\n [125, 0, 0.14285714285714285, -1],\n [126, 0, 0.2857142857142857, -1],\n [127, 0, 0.14285714285714285, -1],\n [128, 0, 0.14285714285714285, -1],\n [129, 0, 0.14285714285714285, -1],\n [130, 0, 0.14285714285714285, -1],\n [131, 0, 0.14285714285714285, -1],\n [132, 0, 0.14285714285714285, -1],\n [133, 0, 0.14285714285714285, -1],\n [134, 0, 0.14285714285714285, -1],\n [135, 0, 0.14285714285714285, -1],\n [136, 0, 0.14285714285714285, -1],\n [137, 0, 0.14285714285714285, -1],\n [138, 0, 0.2857142857142857, -1],\n [139, 0, 0.14285714285714285, -1],\n [140, 0, 0.14285714285714285, -1],\n [141, 0, 0.14285714285714285, -1],\n [142, 0, 0.14285714285714285, -1],\n [143, 0, 0.2857142857142857, -1],\n [144, 0, 0.14285714285714285, -1],\n [145, 0, 0.14285714285714285, -1],\n [146, 0, 0.2857142857142857, -1],\n [147, 0, 0.14285714285714285, -1],\n [148, 0, 0.14285714285714285, -1],\n [149, 0, 0.2857142857142857, -1],\n [150, 0, 0.14285714285714285, -1],\n [151, 0, 0.42857142857142855, -1],\n [152, 0, 0.14285714285714285, -1],\n [153, 0, 0.14285714285714285, -1],\n [154, 0, 0.14285714285714285, -1],\n [155, 0, 0.14285714285714285, -1],\n [156, 0, 0.14285714285714285, -1],\n [157, 0, 0.14285714285714285, -1],\n [158, 0, 0.14285714285714285, -1],\n [159, 0, 0.7142857142857143, -1],\n [160, 0, 0.2857142857142857, -1],\n [161, 0, 0.2857142857142857, -1],\n [162, 0, 0.2857142857142857, -1],\n [163, 0, 0.2857142857142857, -1],\n [164, 0, 0.2857142857142857, -1],\n [165, 0, 0.14285714285714285, -1],\n [166, 0, 0.14285714285714285, -1],\n [167, 0, 0.2857142857142857, -1],\n [168, 0, 0.14285714285714285, -1],\n [169, 0, 0.14285714285714285, -1],\n [170, 0, 0.14285714285714285, -1],\n [171, 0, 0.14285714285714285, -1],\n [172, 0, 0.14285714285714285, -1],\n [173, 0, 0.14285714285714285, -1],\n [174, 0, 0.2857142857142857, -1],\n [175, 0, 0.2857142857142857, -1],\n [176, 0, 0.14285714285714285, -1],\n [177, 0, 0.14285714285714285, -1],\n [178, 0, 0.2857142857142857, -1],\n [179, 0, 0.14285714285714285, -1],\n [180, 0, 0.14285714285714285, -1],\n [181, 0, 0.14285714285714285, -1],\n [182, 0, 0.14285714285714285, -1],\n [183, 0, 0.14285714285714285, -1],\n [184, 0, 0.14285714285714285, -1],\n [185, 0, 0.14285714285714285, -1],\n [186, 0, 0.14285714285714285, -1],\n [187, 0, 0.14285714285714285, -1],\n [188, 0, 0.2857142857142857, -1],\n [189, 0, 0.14285714285714285, -1],\n [190, 0, 0.14285714285714285, -1],\n [191, 0, 0.14285714285714285, -1],\n [192, 0, 0.14285714285714285, -1],\n [193, 0, 0.14285714285714285, -1],\n [194, 0, 0.14285714285714285, -1],\n [195, 0, 0.14285714285714285, -1],\n [196, 0, 0.14285714285714285, -1],\n [197, 0, 0.14285714285714285, -1],\n [198, 0, 0.2857142857142857, -1],\n [199, 0, 0.14285714285714285, -1],\n [200, 0, 0.14285714285714285, -1],\n [201, 0, 0.14285714285714285, -1],\n [202, 0, 0.14285714285714285, -1],\n [203, 0, 0.14285714285714285, -1],\n [204, 0, 0.14285714285714285, -1],\n [205, 0, 0.14285714285714285, -1],\n [206, 0, 0.2857142857142857, -1],\n [207, 0, 0.14285714285714285, -1],\n [208, 0, 0.14285714285714285, -1],\n [209, 0, 0.14285714285714285, -1],\n [210, 0, 0.14285714285714285, -1],\n [211, 0, 0.14285714285714285, -1],\n [212, 0, 0.14285714285714285, -1],\n [213, 0, 0.14285714285714285, -1],\n [214, 0, 0.14285714285714285, -1],\n [215, 0, 0.14285714285714285, -1],\n [216, 0, 0.14285714285714285, -1],\n [217, 0, 0.14285714285714285, -1],\n [218, 0, 0.42857142857142855, -1],\n [219, 0, 0.14285714285714285, -1],\n [220, 0, 0.14285714285714285, -1],\n [221, 0, 0.14285714285714285, -1],\n [222, 0, 0.14285714285714285, -1],\n [223, 0, 0.42857142857142855, -1],\n [224, 0, 0.14285714285714285, -1],\n [225, 0, 0.14285714285714285, -1],\n [226, 0, 0.14285714285714285, -1],\n [227, 0, 0.14285714285714285, -1],\n [228, 0, 0.14285714285714285, -1],\n [229, 0, 0.14285714285714285, -1],\n [230, 0, 0.14285714285714285, -1],\n [231, 0, 0.14285714285714285, -1],\n [232, 0, 0.14285714285714285, -1],\n [233, 0, 0.14285714285714285, -1],\n [234, 0, 0.14285714285714285, -1],\n [235, 0, 0.14285714285714285, -1],\n [236, 0, 0.14285714285714285, -1],\n [237, 0, 0.2857142857142857, -1],\n [238, 0, 0.14285714285714285, -1],\n [239, 0, 0.14285714285714285, -1],\n [240, 0, 0.14285714285714285, -1],\n [241, 0, 0.14285714285714285, -1],\n [242, 0, 0.14285714285714285, -1],\n [243, 0, 0.14285714285714285, -1],\n [244, 0, 0.14285714285714285, -1],\n [245, 0, 0.14285714285714285, -1],\n [246, 0, 0.14285714285714285, -1],\n [247, 0, 0.14285714285714285, -1],\n [248, 0, 0.14285714285714285, -1],\n [249, 0, 0.14285714285714285, -1],\n [250, 0, 0.14285714285714285, -1],\n [251, 0, 0.14285714285714285, -1],\n [252, 0, 0.2857142857142857, -1],\n [253, 0, 0.14285714285714285, -1],\n [254, 0, 0.14285714285714285, -1],\n [255, 0, 0.14285714285714285, -1],\n [256, 0, 0.14285714285714285, -1],\n [257, 0, 0.14285714285714285, -1],\n [258, 0, 0.14285714285714285, -1],\n [259, 0, 0.14285714285714285, -1],\n [260, 0, 0.14285714285714285, -1],\n [261, 0, 0.14285714285714285, -1],\n [262, 0, 0.14285714285714285, -1],\n [263, 0, 0.14285714285714285, -1],\n [264, 0, 0.14285714285714285, -1],\n [265, 0, 0.14285714285714285, -1],\n [266, 0, 0.14285714285714285, -1],\n [267, 0, 0.14285714285714285, -1],\n [268, 0, 0.2857142857142857, -1],\n [269, 0, 0.2857142857142857, -1],\n [270, 0, 0.14285714285714285, -1],\n [271, 0, 0.14285714285714285, -1],\n [272, 0, 0.14285714285714285, -1],\n [273, 0, 0.2857142857142857, -1],\n [274, 0, 0.14285714285714285, -1],\n [275, 0, 0.14285714285714285, -1],\n [276, 0, 0.2857142857142857, -1],\n [277, 0, 0.14285714285714285, -1],\n [278, 0, 0.14285714285714285, -1],\n [279, 0, 0.14285714285714285, -1],\n [280, 0, 0.14285714285714285, -1],\n [281, 0, 0.14285714285714285, -1],\n [282, 0, 0.14285714285714285, -1],\n [283, 0, 0.14285714285714285, -1],\n [284, 0, 0.14285714285714285, -1],\n [285, 0, 0.14285714285714285, -1],\n [286, 0, 0.14285714285714285, -1],\n [287, 0, 0.14285714285714285, -1],\n [288, 0, 0.14285714285714285, -1],\n [289, 0, 0.14285714285714285, -1],\n [290, 0, 0.14285714285714285, -1],\n [291, 0, 0.14285714285714285, -1],\n [292, 0, 0.14285714285714285, -1],\n [293, 0, 0.14285714285714285, -1],\n [162, 1, 0.034482758620689655, 162],\n [294, 1, 0.034482758620689655, -1],\n [295, 1, 0.1724137931034483, -1],\n [296, 1, 0.034482758620689655, -1],\n [297, 1, 0.034482758620689655, -1],\n [298, 1, 0.034482758620689655, -1],\n [52, 1, 0.034482758620689655, 52],\n [299, 1, 0.034482758620689655, -1],\n [300, 1, 0.034482758620689655, -1],\n [301, 1, 0.10344827586206896, -1],\n [302, 1, 0.034482758620689655, -1],\n [303, 1, 0.20689655172413793, -1],\n [275, 1, 0.13793103448275862, 275],\n [90, 1, 0.5172413793103449, 90],\n [304, 1, 0.2413793103448276, -1],\n [305, 1, 1.0, -1],\n [306, 1, 0.034482758620689655, -1],\n [307, 1, 0.10344827586206896, -1],\n [308, 1, 0.034482758620689655, -1],\n [309, 1, 0.034482758620689655, -1],\n [310, 1, 0.034482758620689655, -1],\n [311, 1, 0.034482758620689655, -1],\n [312, 1, 0.06896551724137931, -1],\n [313, 1, 0.034482758620689655, -1],\n [314, 1, 0.20689655172413793, -1],\n [315, 1, 0.034482758620689655, -1],\n [316, 1, 0.034482758620689655, -1],\n [317, 1, 0.034482758620689655, -1],\n [318, 1, 0.034482758620689655, -1],\n [319, 1, 0.034482758620689655, -1],\n [320, 1, 0.034482758620689655, -1],\n [232, 1, 0.034482758620689655, 232],\n [116, 1, 0.10344827586206896, 116],\n [321, 1, 0.034482758620689655, -1],\n [322, 1, 0.034482758620689655, -1],\n [323, 1, 0.034482758620689655, -1],\n [324, 1, 0.10344827586206896, -1],\n [325, 1, 0.3793103448275862, -1],\n [326, 1, 0.034482758620689655, -1],\n [327, 1, 0.034482758620689655, -1],\n [328, 1, 0.034482758620689655, -1],\n [329, 1, 0.06896551724137931, -1],\n [330, 1, 0.034482758620689655, -1],\n [331, 1, 0.034482758620689655, -1],\n [332, 1, 0.034482758620689655, -1],\n [333, 1, 0.06896551724137931, -1],\n [334, 1, 0.06896551724137931, -1],\n [335, 1, 0.034482758620689655, -1],\n [336, 1, 0.034482758620689655, -1],\n [337, 1, 0.034482758620689655, -1],\n [338, 1, 0.06896551724137931, -1],\n [339, 1, 0.034482758620689655, -1],\n [340, 1, 0.034482758620689655, -1],\n [341, 1, 0.034482758620689655, -1],\n [342, 1, 0.034482758620689655, -1],\n [343, 1, 0.034482758620689655, -1],\n [344, 1, 0.034482758620689655, -1],\n [345, 1, 0.034482758620689655, -1],\n [346, 1, 0.034482758620689655, -1],\n [347, 1, 0.034482758620689655, -1],\n [348, 1, 0.06896551724137931, -1],\n [349, 1, 0.06896551724137931, -1],\n [350, 1, 0.034482758620689655, -1],\n [351, 1, 0.034482758620689655, -1],\n [352, 1, 0.034482758620689655, -1],\n [353, 1, 0.06896551724137931, -1],\n [354, 1, 0.034482758620689655, -1],\n [355, 1, 0.034482758620689655, -1],\n [356, 1, 0.034482758620689655, -1],\n [65, 1, 0.034482758620689655, 65],\n [357, 1, 0.034482758620689655, -1],\n [358, 1, 0.06896551724137931, -1],\n [359, 1, 0.034482758620689655, -1],\n [360, 1, 0.034482758620689655, -1],\n [361, 1, 0.034482758620689655, -1],\n [362, 1, 0.034482758620689655, -1],\n [363, 1, 0.034482758620689655, -1],\n [364, 1, 0.06896551724137931, -1],\n [365, 1, 0.034482758620689655, -1],\n [366, 1, 0.034482758620689655, -1],\n [367, 1, 0.06896551724137931, -1],\n [159, 1, 0.034482758620689655, 159],\n [368, 1, 0.034482758620689655, -1],\n [369, 1, 0.034482758620689655, -1],\n [370, 1, 0.034482758620689655, -1],\n [371, 1, 0.034482758620689655, -1],\n [372, 1, 0.034482758620689655, -1],\n [373, 1, 0.034482758620689655, -1],\n [374, 1, 0.06896551724137931, -1],\n [273, 1, 0.034482758620689655, 273],\n [375, 1, 0.034482758620689655, -1],\n [376, 1, 0.1724137931034483, -1],\n [243, 1, 0.10344827586206896, 243],\n [377, 1, 0.034482758620689655, -1],\n [284, 1, 0.06896551724137931, 284],\n [378, 1, 0.034482758620689655, -1],\n [379, 1, 0.06896551724137931, -1],\n [123, 1, 0.034482758620689655, 123],\n [380, 1, 0.034482758620689655, -1],\n [381, 1, 0.034482758620689655, -1],\n [382, 1, 0.034482758620689655, -1],\n [383, 1, 0.06896551724137931, -1],\n [384, 1, 0.06896551724137931, -1],\n [62, 1, 0.13793103448275862, 62],\n [385, 1, 0.034482758620689655, -1],\n [386, 1, 0.034482758620689655, -1],\n [387, 1, 0.06896551724137931, -1],\n [388, 1, 0.034482758620689655, -1],\n [389, 1, 0.034482758620689655, -1],\n [390, 1, 0.034482758620689655, -1],\n [391, 1, 0.034482758620689655, -1],\n [217, 1, 0.034482758620689655, 217],\n [392, 1, 0.034482758620689655, -1],\n [393, 1, 0.034482758620689655, -1],\n [394, 1, 0.034482758620689655, -1],\n [395, 1, 0.034482758620689655, -1],\n [396, 1, 0.034482758620689655, -1],\n [397, 1, 0.034482758620689655, -1],\n [398, 1, 0.034482758620689655, -1],\n [399, 1, 0.034482758620689655, -1],\n [400, 1, 0.06896551724137931, -1],\n [401, 1, 0.034482758620689655, -1],\n [402, 1, 0.034482758620689655, -1],\n [403, 1, 0.034482758620689655, -1],\n [404, 1, 0.034482758620689655, -1],\n [405, 1, 0.034482758620689655, -1],\n [406, 1, 0.034482758620689655, -1],\n [407, 1, 0.06896551724137931, -1],\n [408, 1, 0.034482758620689655, -1],\n [409, 1, 0.034482758620689655, -1],\n [410, 1, 0.034482758620689655, -1],\n [411, 1, 0.034482758620689655, -1],\n [412, 1, 0.06896551724137931, -1],\n [413, 1, 0.034482758620689655, -1],\n [414, 1, 0.034482758620689655, -1],\n [415, 1, 0.034482758620689655, -1],\n [416, 1, 0.034482758620689655, -1],\n [417, 1, 0.034482758620689655, -1],\n [418, 1, 0.034482758620689655, -1],\n [419, 1, 0.034482758620689655, -1],\n [420, 1, 0.06896551724137931, -1],\n [421, 1, 0.034482758620689655, -1],\n [422, 1, 0.034482758620689655, -1],\n [423, 1, 0.034482758620689655, -1],\n [424, 1, 0.10344827586206896, -1],\n [425, 1, 0.034482758620689655, -1],\n [426, 1, 0.034482758620689655, -1],\n [427, 1, 0.10344827586206896, -1],\n [428, 1, 0.06896551724137931, -1],\n [429, 1, 0.034482758620689655, -1],\n [430, 1, 0.034482758620689655, -1],\n [431, 1, 0.034482758620689655, -1],\n [432, 1, 0.034482758620689655, -1],\n [433, 1, 0.10344827586206896, -1],\n [434, 1, 0.034482758620689655, -1],\n [435, 1, 0.034482758620689655, -1],\n [436, 1, 0.034482758620689655, -1],\n [437, 1, 0.034482758620689655, -1],\n [438, 1, 0.034482758620689655, -1],\n [439, 1, 0.034482758620689655, -1],\n [440, 1, 0.034482758620689655, -1],\n [441, 1, 0.034482758620689655, -1],\n [442, 1, 0.10344827586206896, -1],\n [443, 1, 0.034482758620689655, -1],\n [444, 1, 0.034482758620689655, -1],\n [445, 1, 0.034482758620689655, -1],\n [446, 1, 0.034482758620689655, -1],\n [447, 1, 0.034482758620689655, -1],\n [64, 1, 0.034482758620689655, 64],\n [448, 1, 0.034482758620689655, -1],\n [449, 1, 0.10344827586206896, -1],\n [450, 1, 0.034482758620689655, -1],\n [451, 1, 0.034482758620689655, -1],\n [452, 1, 0.10344827586206896, -1],\n [453, 1, 0.034482758620689655, -1],\n [454, 1, 0.034482758620689655, -1],\n [455, 1, 0.034482758620689655, -1],\n [456, 1, 0.10344827586206896, -1],\n [457, 1, 0.034482758620689655, -1],\n [458, 1, 0.034482758620689655, -1],\n [459, 1, 0.034482758620689655, -1],\n [460, 1, 0.034482758620689655, -1],\n [461, 1, 0.034482758620689655, -1],\n [462, 1, 0.06896551724137931, -1],\n [463, 1, 0.034482758620689655, -1],\n [464, 1, 0.034482758620689655, -1],\n [88, 1, 0.034482758620689655, 88],\n [465, 1, 0.034482758620689655, -1],\n [466, 1, 0.06896551724137931, -1],\n [467, 1, 0.034482758620689655, -1],\n [468, 1, 0.06896551724137931, -1],\n [469, 1, 0.034482758620689655, -1],\n [470, 1, 0.034482758620689655, -1],\n [471, 1, 0.034482758620689655, -1],\n [472, 1, 0.06896551724137931, -1],\n [473, 1, 0.034482758620689655, -1],\n [474, 1, 0.034482758620689655, -1],\n [475, 1, 0.034482758620689655, -1],\n [476, 1, 0.034482758620689655, -1],\n [477, 1, 0.034482758620689655, -1],\n [478, 1, 0.034482758620689655, -1],\n [479, 1, 0.034482758620689655, -1],\n [480, 1, 0.10344827586206896, -1],\n [481, 1, 0.034482758620689655, -1],\n [83, 1, 0.034482758620689655, 83],\n [482, 1, 0.034482758620689655, -1],\n [483, 1, 0.034482758620689655, -1],\n [484, 1, 0.034482758620689655, -1],\n [485, 1, 0.034482758620689655, -1],\n [486, 1, 0.034482758620689655, -1],\n [487, 1, 0.034482758620689655, -1],\n [488, 1, 0.034482758620689655, -1],\n [489, 1, 0.034482758620689655, -1],\n [490, 1, 0.034482758620689655, -1],\n [491, 1, 0.034482758620689655, -1],\n [492, 1, 0.034482758620689655, -1],\n [493, 1, 0.034482758620689655, -1],\n [494, 1, 0.034482758620689655, -1],\n [495, 1, 0.034482758620689655, -1],\n [496, 1, 0.034482758620689655, -1],\n [497, 1, 0.034482758620689655, -1],\n [498, 1, 0.06896551724137931, -1],\n [499, 1, 0.034482758620689655, -1],\n [500, 1, 0.034482758620689655, -1],\n [501, 1, 0.06896551724137931, -1],\n [502, 1, 0.06896551724137931, -1],\n [503, 1, 0.034482758620689655, -1],\n [504, 1, 0.034482758620689655, -1],\n [505, 1, 0.034482758620689655, -1],\n [506, 1, 0.034482758620689655, -1],\n [507, 1, 0.034482758620689655, -1],\n [508, 1, 0.034482758620689655, -1],\n [509, 1, 0.034482758620689655, -1],\n [510, 1, 0.034482758620689655, -1],\n [511, 1, 0.034482758620689655, -1],\n [512, 1, 0.034482758620689655, -1],\n [513, 1, 0.034482758620689655, -1],\n [514, 1, 0.034482758620689655, -1],\n [515, 1, 0.06896551724137931, -1],\n [516, 1, 0.06896551724137931, -1],\n [517, 1, 0.034482758620689655, -1],\n [170, 1, 0.034482758620689655, 170],\n [518, 1, 0.034482758620689655, -1],\n [519, 1, 0.034482758620689655, -1],\n [520, 1, 0.034482758620689655, -1],\n [521, 1, 0.034482758620689655, -1],\n [282, 1, 0.034482758620689655, 282],\n [522, 1, 0.10344827586206896, -1],\n [523, 1, 0.06896551724137931, -1],\n [524, 1, 0.034482758620689655, -1],\n [525, 1, 0.034482758620689655, -1],\n [227, 1, 0.06896551724137931, 227],\n [526, 1, 0.034482758620689655, -1],\n [226, 1, 0.10344827586206896, 226],\n [527, 1, 0.034482758620689655, -1],\n [528, 1, 0.034482758620689655, -1],\n [529, 1, 0.034482758620689655, -1],\n [530, 1, 0.034482758620689655, -1],\n [531, 1, 0.034482758620689655, -1],\n [532, 1, 0.06896551724137931, -1],\n [533, 1, 0.034482758620689655, -1],\n [534, 1, 0.034482758620689655, -1],\n [535, 1, 0.034482758620689655, -1],\n [48, 1, 0.06896551724137931, 48],\n [536, 1, 0.06896551724137931, -1],\n [537, 1, 0.034482758620689655, -1],\n [538, 1, 0.06896551724137931, -1],\n [539, 1, 0.034482758620689655, -1],\n [540, 1, 0.034482758620689655, -1],\n [541, 1, 0.034482758620689655, -1],\n [542, 1, 0.034482758620689655, -1],\n [543, 1, 0.034482758620689655, -1],\n [544, 1, 0.034482758620689655, -1],\n [545, 1, 0.034482758620689655, -1],\n [546, 1, 0.034482758620689655, -1],\n [547, 1, 0.034482758620689655, -1],\n [86, 1, 0.034482758620689655, 86],\n [548, 1, 0.034482758620689655, -1],\n [549, 1, 0.034482758620689655, -1],\n [550, 1, 0.034482758620689655, -1],\n [551, 1, 0.034482758620689655, -1],\n [552, 1, 0.034482758620689655, -1],\n [553, 1, 0.034482758620689655, -1],\n [554, 1, 0.034482758620689655, -1],\n [555, 1, 0.034482758620689655, -1],\n [556, 1, 0.034482758620689655, -1],\n [557, 1, 0.034482758620689655, -1],\n [558, 1, 0.034482758620689655, -1],\n [559, 1, 0.034482758620689655, -1],\n [560, 1, 0.10344827586206896, -1],\n [561, 1, 0.034482758620689655, -1],\n [562, 1, 0.034482758620689655, -1],\n [563, 1, 0.034482758620689655, -1],\n [564, 1, 0.034482758620689655, -1],\n [565, 1, 0.06896551724137931, -1],\n [566, 1, 0.034482758620689655, -1],\n [567, 1, 0.034482758620689655, -1],\n [568, 1, 0.034482758620689655, -1],\n [569, 1, 0.034482758620689655, -1],\n [274, 1, 0.034482758620689655, 274],\n [570, 1, 0.034482758620689655, -1],\n [571, 1, 0.06896551724137931, -1],\n [572, 1, 0.034482758620689655, -1],\n [573, 1, 0.06896551724137931, -1],\n [574, 1, 0.034482758620689655, -1],\n [575, 1, 0.034482758620689655, -1],\n [576, 1, 0.034482758620689655, -1],\n [577, 1, 0.034482758620689655, -1],\n [578, 1, 0.034482758620689655, -1],\n [579, 1, 0.034482758620689655, -1],\n [580, 1, 0.034482758620689655, -1],\n [581, 1, 0.034482758620689655, -1],\n [582, 1, 0.034482758620689655, -1],\n [583, 1, 0.034482758620689655, -1],\n [584, 1, 0.10344827586206896, -1],\n [585, 1, 0.034482758620689655, -1],\n [586, 1, 0.034482758620689655, -1],\n [587, 1, 0.034482758620689655, -1],\n [588, 1, 0.034482758620689655, -1],\n [589, 1, 0.034482758620689655, -1],\n [590, 1, 0.034482758620689655, -1],\n [591, 1, 0.034482758620689655, -1],\n [167, 1, 0.034482758620689655, 167],\n [592, 1, 0.034482758620689655, -1],\n [593, 1, 0.034482758620689655, -1],\n [594, 1, 0.034482758620689655, -1],\n [595, 1, 0.034482758620689655, -1],\n [596, 1, 0.034482758620689655, -1],\n [597, 1, 0.034482758620689655, -1],\n [598, 1, 0.034482758620689655, -1],\n [599, 1, 0.06896551724137931, -1],\n [600, 1, 0.034482758620689655, -1],\n [601, 1, 0.034482758620689655, -1],\n [602, 1, 0.034482758620689655, -1],\n [603, 1, 0.034482758620689655, -1],\n [604, 1, 0.034482758620689655, -1],\n [605, 1, 0.034482758620689655, -1],\n [606, 1, 0.034482758620689655, -1],\n [607, 1, 0.034482758620689655, -1],\n [608, 1, 0.034482758620689655, -1],\n [609, 1, 0.034482758620689655, -1],\n [610, 1, 0.06896551724137931, -1],\n [611, 1, 0.034482758620689655, -1],\n [612, 1, 0.06896551724137931, -1],\n [613, 1, 0.034482758620689655, -1],\n [614, 1, 0.034482758620689655, -1],\n [615, 1, 0.034482758620689655, -1],\n [616, 1, 0.034482758620689655, -1],\n [617, 1, 0.034482758620689655, -1],\n [618, 1, 0.034482758620689655, -1],\n [619, 1, 0.034482758620689655, -1],\n [620, 1, 0.034482758620689655, -1],\n [237, 1, 0.034482758620689655, 237],\n [621, 1, 0.034482758620689655, -1],\n [622, 1, 0.034482758620689655, -1],\n [623, 1, 0.034482758620689655, -1],\n [624, 1, 0.034482758620689655, -1],\n [625, 1, 0.034482758620689655, -1],\n [626, 1, 0.034482758620689655, -1],\n [627, 1, 0.034482758620689655, -1],\n [628, 1, 0.034482758620689655, -1],\n [629, 1, 0.034482758620689655, -1],\n [630, 1, 0.06896551724137931, -1],\n [631, 1, 0.06896551724137931, -1],\n [632, 1, 0.06896551724137931, -1],\n [633, 1, 0.034482758620689655, -1],\n [63, 1, 0.034482758620689655, 63],\n [634, 1, 0.034482758620689655, -1],\n [635, 1, 0.034482758620689655, -1],\n [636, 1, 0.034482758620689655, -1],\n [637, 1, 0.034482758620689655, -1],\n [638, 1, 0.034482758620689655, -1],\n [639, 1, 0.034482758620689655, -1],\n [276, 1, 0.034482758620689655, 276],\n [640, 1, 0.034482758620689655, -1],\n [641, 1, 0.034482758620689655, -1],\n [642, 1, 0.034482758620689655, -1],\n [643, 1, 0.034482758620689655, -1],\n [644, 1, 0.034482758620689655, -1],\n [645, 1, 0.034482758620689655, -1],\n [646, 1, 0.06896551724137931, -1],\n [647, 1, 0.034482758620689655, -1],\n [648, 1, 0.06896551724137931, -1],\n [649, 1, 0.034482758620689655, -1],\n [650, 1, 0.034482758620689655, -1],\n [651, 1, 0.034482758620689655, -1],\n [652, 1, 0.034482758620689655, -1],\n [653, 1, 0.034482758620689655, -1],\n [654, 1, 0.034482758620689655, -1],\n [655, 1, 0.034482758620689655, -1],\n [656, 1, 0.034482758620689655, -1],\n [657, 1, 0.034482758620689655, -1],\n [658, 1, 0.034482758620689655, -1],\n [82, 1, 0.034482758620689655, 82],\n [659, 1, 0.034482758620689655, -1],\n [660, 1, 0.034482758620689655, -1],\n [661, 1, 0.034482758620689655, -1],\n [662, 1, 0.034482758620689655, -1],\n [663, 1, 0.034482758620689655, -1],\n [664, 1, 0.034482758620689655, -1],\n [665, 1, 0.034482758620689655, -1],\n [666, 1, 0.034482758620689655, -1],\n [667, 1, 0.034482758620689655, -1],\n [668, 1, 0.034482758620689655, -1],\n [669, 1, 0.034482758620689655, -1],\n [670, 1, 0.034482758620689655, -1],\n [671, 1, 0.034482758620689655, -1],\n [672, 1, 0.034482758620689655, -1],\n [673, 1, 0.034482758620689655, -1],\n [109, 1, 0.034482758620689655, 109],\n [674, 1, 0.034482758620689655, -1],\n [675, 1, 0.034482758620689655, -1],\n [676, 1, 0.034482758620689655, -1],\n [677, 1, 0.034482758620689655, -1],\n [678, 1, 0.034482758620689655, -1],\n [679, 1, 0.034482758620689655, -1],\n [680, 1, 0.034482758620689655, -1],\n [681, 1, 0.06896551724137931, -1],\n [682, 1, 0.034482758620689655, -1],\n [683, 1, 0.034482758620689655, -1],\n [684, 1, 0.034482758620689655, -1],\n [685, 1, 0.034482758620689655, -1],\n [686, 1, 0.034482758620689655, -1],\n [687, 1, 0.034482758620689655, -1],\n [688, 1, 0.034482758620689655, -1],\n [689, 1, 0.034482758620689655, -1],\n [690, 1, 0.034482758620689655, -1],\n [691, 1, 0.034482758620689655, -1],\n [692, 1, 0.034482758620689655, -1],\n [693, 1, 0.034482758620689655, -1],\n [694, 1, 0.034482758620689655, -1],\n [695, 1, 0.034482758620689655, -1],\n [696, 1, 0.034482758620689655, -1],\n [697, 1, 0.034482758620689655, -1],\n [698, 1, 0.034482758620689655, -1],\n [699, 1, 0.034482758620689655, -1],\n [700, 1, 0.034482758620689655, -1],\n [701, 1, 0.034482758620689655, -1],\n [702, 1, 0.20689655172413793, -1],\n [703, 1, 0.034482758620689655, -1],\n [704, 1, 0.034482758620689655, -1],\n [705, 1, 0.034482758620689655, -1],\n [706, 1, 0.034482758620689655, -1],\n [707, 1, 0.034482758620689655, -1],\n [708, 1, 0.06896551724137931, -1],\n [709, 1, 0.034482758620689655, -1],\n [710, 1, 0.034482758620689655, -1],\n [77, 1, 0.034482758620689655, 77],\n [711, 1, 0.034482758620689655, -1],\n [712, 1, 0.034482758620689655, -1],\n [713, 1, 0.034482758620689655, -1],\n [714, 1, 0.034482758620689655, -1],\n [715, 1, 0.034482758620689655, -1],\n [716, 1, 0.034482758620689655, -1],\n [717, 1, 0.034482758620689655, -1],\n [718, 1, 0.034482758620689655, -1],\n [719, 1, 0.034482758620689655, -1],\n [720, 1, 0.034482758620689655, -1],\n [290, 1, 0.034482758620689655, 290],\n [721, 1, 0.034482758620689655, -1],\n [722, 1, 0.034482758620689655, -1],\n [723, 1, 0.034482758620689655, -1],\n [724, 1, 0.034482758620689655, -1],\n [725, 1, 0.034482758620689655, -1],\n [726, 1, 0.034482758620689655, -1],\n [727, 1, 0.034482758620689655, -1],\n [728, 1, 0.034482758620689655, -1],\n [729, 1, 0.034482758620689655, -1],\n [730, 1, 0.034482758620689655, -1],\n [731, 1, 0.034482758620689655, -1],\n [732, 1, 0.034482758620689655, -1],\n [733, 1, 0.034482758620689655, -1],\n [734, 1, 0.034482758620689655, -1],\n [735, 1, 0.034482758620689655, -1],\n [149, 1, 0.034482758620689655, 149],\n [736, 1, 0.034482758620689655, -1],\n [737, 1, 0.034482758620689655, -1],\n [738, 1, 0.034482758620689655, -1],\n [739, 1, 0.034482758620689655, -1],\n [740, 1, 0.034482758620689655, -1],\n [741, 1, 0.034482758620689655, -1],\n [742, 2, 0.3333333333333333, -1],\n [743, 2, 1.0, -1],\n [744, 2, 0.16666666666666666, -1],\n [303, 2, 0.16666666666666666, 305],\n [745, 2, 0.16666666666666666, -1],\n [746, 2, 0.25, -1],\n [747, 2, 0.08333333333333333, -1],\n [748, 2, 0.5, -1],\n [749, 2, 0.08333333333333333, -1],\n [750, 2, 0.08333333333333333, -1],\n [751, 2, 0.08333333333333333, -1],\n [752, 2, 0.3333333333333333, -1],\n [753, 2, 0.08333333333333333, -1],\n [754, 2, 0.08333333333333333, -1],\n [755, 2, 0.08333333333333333, -1],\n [756, 2, 0.08333333333333333, -1],\n [757, 2, 0.08333333333333333, -1],\n [758, 2, 0.08333333333333333, -1],\n [759, 2, 0.08333333333333333, -1],\n [760, 2, 0.08333333333333333, -1],\n [761, 2, 0.08333333333333333, -1],\n [762, 2, 0.08333333333333333, -1],\n [406, 2, 0.08333333333333333, 420],\n [763, 2, 0.08333333333333333, -1],\n [764, 2, 0.08333333333333333, -1],\n [765, 2, 0.08333333333333333, -1],\n [766, 2, 0.08333333333333333, -1],\n [767, 2, 0.08333333333333333, -1],\n [768, 2, 0.08333333333333333, -1],\n [769, 2, 0.08333333333333333, -1],\n [770, 2, 0.08333333333333333, -1],\n [771, 2, 0.5, -1],\n [772, 2, 0.08333333333333333, -1],\n [773, 2, 0.25, -1],\n [774, 2, 0.08333333333333333, -1],\n [775, 2, 0.08333333333333333, -1],\n [776, 2, 0.08333333333333333, -1],\n [777, 2, 0.08333333333333333, -1],\n [778, 2, 0.08333333333333333, -1],\n [779, 2, 0.08333333333333333, -1],\n [780, 2, 0.16666666666666666, -1],\n [781, 2, 0.08333333333333333, -1],\n [782, 2, 0.08333333333333333, -1],\n [783, 2, 0.08333333333333333, -1],\n [784, 2, 0.08333333333333333, -1],\n [785, 2, 0.08333333333333333, -1],\n [786, 2, 0.08333333333333333, -1],\n [787, 2, 0.16666666666666666, -1],\n [788, 2, 0.25, -1],\n [290, 2, 0.16666666666666666, 752],\n [789, 2, 0.16666666666666666, -1],\n [790, 2, 0.3333333333333333, -1],\n [791, 2, 0.16666666666666666, -1],\n [792, 2, 0.08333333333333333, -1],\n [793, 2, 0.08333333333333333, -1],\n [794, 2, 0.08333333333333333, -1],\n [795, 2, 0.3333333333333333, -1],\n [77, 2, 0.16666666666666666, 741],\n [796, 2, 0.08333333333333333, -1],\n [305, 2, 0.08333333333333333, 309],\n [797, 2, 0.08333333333333333, -1],\n [798, 2, 0.08333333333333333, -1],\n [40, 2, 0.16666666666666666, 40],\n [799, 2, 0.08333333333333333, -1],\n [800, 2, 0.08333333333333333, -1],\n [801, 2, 0.08333333333333333, -1],\n [802, 2, 0.25, -1],\n [803, 2, 0.08333333333333333, -1],\n [804, 2, 0.25, -1],\n [805, 2, 0.16666666666666666, -1],\n [806, 2, 0.08333333333333333, -1],\n [807, 2, 0.16666666666666666, -1],\n [808, 2, 0.08333333333333333, -1],\n [160, 2, 0.08333333333333333, 160],\n [243, 2, 0.08333333333333333, 386],\n [809, 2, 0.08333333333333333, -1],\n [810, 2, 0.08333333333333333, -1],\n [811, 2, 0.08333333333333333, -1],\n [812, 2, 0.08333333333333333, -1],\n [813, 2, 0.08333333333333333, -1],\n [814, 2, 0.08333333333333333, -1],\n [815, 2, 0.3333333333333333, -1],\n [816, 2, 0.08333333333333333, -1],\n [817, 2, 0.08333333333333333, -1],\n [818, 2, 0.08333333333333333, -1],\n [819, 2, 0.08333333333333333, -1],\n [275, 2, 0.25, 306],\n [820, 2, 0.25, -1],\n [821, 2, 0.16666666666666666, -1],\n [822, 2, 0.16666666666666666, -1],\n [823, 2, 0.08333333333333333, -1],\n [824, 2, 0.08333333333333333, -1],\n [825, 2, 0.08333333333333333, -1],\n [826, 2, 0.08333333333333333, -1],\n [827, 2, 0.08333333333333333, -1],\n [828, 2, 0.08333333333333333, -1],\n [829, 2, 0.08333333333333333, -1],\n [404, 2, 0.08333333333333333, 418],\n [48, 2, 0.6666666666666666, 557],\n [62, 2, 0.5, 397],\n [830, 2, 0.08333333333333333, -1],\n [831, 2, 0.08333333333333333, -1],\n [832, 2, 0.08333333333333333, -1],\n [833, 2, 0.08333333333333333, -1],\n [834, 2, 0.08333333333333333, -1],\n [552, 2, 0.3333333333333333, 575],\n [835, 2, 0.08333333333333333, -1],\n [836, 2, 0.08333333333333333, -1],\n [837, 2, 0.08333333333333333, -1],\n [838, 2, 0.08333333333333333, -1],\n [839, 2, 0.08333333333333333, -1],\n [840, 2, 0.08333333333333333, -1],\n [841, 2, 0.08333333333333333, -1],\n [842, 2, 0.08333333333333333, -1],\n [843, 2, 0.08333333333333333, -1],\n [844, 2, 0.16666666666666666, -1],\n [845, 2, 0.16666666666666666, -1],\n [846, 2, 0.08333333333333333, -1],\n [847, 2, 0.16666666666666666, -1],\n [848, 2, 0.08333333333333333, -1],\n [849, 2, 0.08333333333333333, -1],\n [850, 2, 0.08333333333333333, -1],\n [851, 2, 0.08333333333333333, -1],\n [852, 2, 0.08333333333333333, -1],\n [853, 2, 0.08333333333333333, -1],\n [854, 2, 0.08333333333333333, -1],\n [855, 2, 0.08333333333333333, -1],\n [671, 2, 0.08333333333333333, 700],\n [314, 2, 0.16666666666666666, 318],\n [401, 2, 0.08333333333333333, 415],\n [856, 2, 0.08333333333333333, -1],\n [857, 2, 0.08333333333333333, -1],\n [858, 2, 0.08333333333333333, -1],\n [859, 2, 0.08333333333333333, -1],\n [860, 2, 0.08333333333333333, -1],\n [861, 2, 0.08333333333333333, -1],\n [862, 2, 0.08333333333333333, -1],\n [863, 2, 0.08333333333333333, -1],\n [864, 2, 0.08333333333333333, -1],\n [865, 2, 0.08333333333333333, -1],\n [584, 2, 0.08333333333333333, 608],\n [866, 2, 0.08333333333333333, -1],\n [308, 2, 0.08333333333333333, 312],\n [867, 2, 0.8333333333333334, -1],\n [868, 2, 0.5, -1],\n [869, 2, 0.08333333333333333, -1],\n [28, 2, 0.6666666666666666, 28],\n [870, 2, 0.08333333333333333, -1],\n [871, 2, 0.08333333333333333, -1],\n [872, 2, 0.08333333333333333, -1],\n [873, 2, 0.08333333333333333, -1],\n [874, 2, 0.08333333333333333, -1],\n [875, 2, 0.16666666666666666, -1],\n [876, 2, 0.08333333333333333, -1],\n [877, 2, 0.08333333333333333, -1],\n [878, 2, 0.08333333333333333, -1],\n [879, 2, 0.08333333333333333, -1],\n [880, 2, 0.08333333333333333, -1],\n [881, 2, 0.08333333333333333, -1],\n [882, 2, 0.08333333333333333, -1],\n [883, 2, 0.08333333333333333, -1],\n [884, 2, 0.08333333333333333, -1],\n [885, 2, 0.08333333333333333, -1],\n [721, 2, 0.08333333333333333, 753],\n [886, 2, 0.08333333333333333, -1],\n [887, 2, 0.08333333333333333, -1],\n [888, 2, 0.16666666666666666, -1],\n [889, 2, 0.08333333333333333, -1],\n [890, 2, 0.08333333333333333, -1],\n [891, 2, 0.08333333333333333, -1],\n [892, 2, 0.08333333333333333, -1],\n [893, 2, 0.08333333333333333, -1],\n [894, 2, 0.08333333333333333, -1],\n [895, 2, 0.08333333333333333, -1],\n [896, 2, 0.08333333333333333, -1],\n [897, 2, 0.08333333333333333, -1],\n [898, 2, 0.08333333333333333, -1],\n [899, 2, 0.08333333333333333, -1],\n [900, 2, 0.08333333333333333, -1],\n [901, 2, 0.08333333333333333, -1],\n [902, 2, 0.08333333333333333, -1],\n [83, 2, 0.25, 498],\n [903, 2, 0.08333333333333333, -1],\n [904, 2, 0.08333333333333333, -1],\n [905, 2, 0.16666666666666666, -1],\n [329, 2, 0.08333333333333333, 335],\n [906, 2, 0.08333333333333333, -1],\n [907, 2, 0.08333333333333333, -1],\n [908, 2, 0.08333333333333333, -1],\n [909, 2, 0.16666666666666666, -1],\n [86, 2, 0.08333333333333333, 570],\n [910, 2, 0.08333333333333333, -1],\n [911, 2, 0.08333333333333333, -1],\n [274, 2, 0.16666666666666666, 593],\n [912, 2, 0.16666666666666666, -1],\n [574, 2, 0.16666666666666666, 598],\n [913, 2, 0.08333333333333333, -1],\n [318, 2, 0.08333333333333333, 322],\n [914, 2, 0.08333333333333333, -1],\n [915, 2, 0.16666666666666666, -1],\n [916, 2, 0.08333333333333333, -1],\n [917, 2, 0.08333333333333333, -1],\n [918, 2, 0.08333333333333333, -1],\n [919, 2, 0.08333333333333333, -1],\n [920, 2, 0.08333333333333333, -1],\n [54, 2, 0.16666666666666666, 54],\n [88, 2, 0.08333333333333333, 480],\n [921, 2, 0.08333333333333333, -1],\n [642, 2, 0.08333333333333333, 670],\n [922, 2, 0.08333333333333333, -1],\n [923, 2, 0.08333333333333333, -1],\n [924, 2, 0.08333333333333333, -1],\n [357, 2, 0.08333333333333333, 364],\n [925, 2, 0.08333333333333333, -1],\n [926, 2, 0.08333333333333333, -1],\n [927, 2, 0.08333333333333333, -1],\n [493, 2, 0.08333333333333333, 510],\n [928, 2, 0.08333333333333333, -1],\n [929, 2, 0.08333333333333333, -1],\n [930, 2, 0.08333333333333333, -1],\n [931, 2, 0.08333333333333333, -1],\n [932, 2, 0.08333333333333333, -1],\n [933, 2, 0.08333333333333333, -1],\n [116, 2, 0.08333333333333333, 326],\n [934, 2, 0.08333333333333333, -1],\n ...]"
      ]
     },
     "execution_count": 21,
     "metadata": {},
     "output_type": "execute_result"
    }
   ],
   "source": [
    "globalPosting"
   ]
  },
  {
   "cell_type": "code",
   "execution_count": null,
   "metadata": {},
   "outputs": [],
   "source": [
    "N = len(globalDocument)\n",
    "globalLexiconIDF = dict()\n",
    "\n",
    "for indexTerm, postingIdx in globalLexicon.items():\n",
    "    df = 0\n",
    "    oldPostingIdx = postingIdx\n",
    "    \n",
    "    while True:  \n",
    "        if postingIdx == -1:\n",
    "            break\n",
    "        \n",
    "        df += 1\n",
    "        postingData = globalPosting[postingIdx]\n",
    "        postingIdx = postingData[3]\n",
    "        \n",
    "    idf = basicIDF(N, df)\n",
    "    globalLexiconIDF[indexTerm] = idf\n",
    "    postingIdx = oldPostingIdx\n",
    "    \n",
    "    # print('{0} / IDF-{1}'.format(indexTerm, idf))\n",
    "    \n",
    "    while True:\n",
    "        if postingIdx == -1:\n",
    "            break\n",
    "        \n",
    "        postingData = globalPosting[postingIdx]\n",
    "        TF = postingData[2]\n",
    "        globalPosting[postingIdx][2] *= idf\n",
    "        # print('    Documents:{0} / TF:{1} / TF-IDF:{2}'.format(globalDocument[postingData[1]], \n",
    "        #                                                        TF, globalPosting[postingIdx][2]))\n",
    "        \n",
    "        postingIdx = postingData[3]"
   ]
  },
  {
   "cell_type": "code",
   "execution_count": null,
   "metadata": {},
   "outputs": [],
   "source": []
  },
  {
   "cell_type": "code",
   "execution_count": null,
   "metadata": {},
   "outputs": [],
   "source": []
  },
  {
   "cell_type": "code",
   "execution_count": null,
   "metadata": {},
   "outputs": [],
   "source": []
  },
  {
   "cell_type": "code",
   "execution_count": null,
   "metadata": {},
   "outputs": [],
   "source": []
  },
  {
   "cell_type": "code",
   "execution_count": 67,
   "metadata": {},
   "outputs": [],
   "source": [
    "from nltk.tokenize import sent_tokenize, word_tokenize\n",
    "from konlpy.tag import Kkma\n",
    "ma = Kkma()\n",
    "\n",
    "dictTerm = list()\n",
    "dictPos = list()\n",
    "dictNoun = list()\n",
    "dictNgram = list()\n",
    "th = 1\n",
    "\n",
    "for sentence in sent_tokenize(NewsContent[0]):\n",
    "    for token in word_tokenize(sentence):\n",
    "        if len(token) > th:\n",
    "            dictTerm.append(token)\n",
    "            # 아래서부터는 list이기때문에 extend를 사용해야 함. \n",
    "            dictPos.extend([morpheme for morpheme in ma.morphs(token) if len(morpheme) > th]) # 형태소 분석결과를 extend\n",
    "            dictNoun.extend([noun for noun in ma.nouns(token) if len(noun) > th]) # 명사 단위로 잘라 extend\n",
    "            dictNgram.extend(ngramUmjeol(token)) # 바이그램을 리턴\n",
    "            \n",
    "# 빠른 속도 및 중복 데이터 처리를 위해 set사용\n",
    "dictTerm = list(set(dictTerm))\n",
    "dictPos = list(set(dictPos))\n",
    "dictNoun = list(set(dictNoun))\n",
    "dictNgram = list(set(dictNgram))"
   ]
  }
 ],
 "metadata": {
  "kernelspec": {
   "display_name": "Python 2",
   "language": "python",
   "name": "python2"
  },
  "language_info": {
   "codemirror_mode": {
    "name": "ipython",
    "version": 2
   },
   "file_extension": ".py",
   "mimetype": "text/x-python",
   "name": "python",
   "nbconvert_exporter": "python",
   "pygments_lexer": "ipython2",
   "version": "2.7.6"
  }
 },
 "nbformat": 4,
 "nbformat_minor": 0
}
