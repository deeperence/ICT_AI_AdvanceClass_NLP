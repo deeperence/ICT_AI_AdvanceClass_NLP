{
 "cells": [
  {
   "cell_type": "code",
   "execution_count": 1,
   "metadata": {},
   "outputs": [],
   "source": [
    "collection = [\n",
    "    [\"Hadoop\", \"Big Data\", \"HBase\", \"Java\", \"Spark\", \"Storm\", \"Cassandra\"],\n",
    "    [\"NoSQL\", \"MongoDB\", \"Cassandra\", \"HBase\", \"Postgres\"],\n",
    "    [\"Python\", \"scikit-learn\", \"scipy\", \"numpy\", \"statsmodels\", \"pandas\"],\n",
    "    [\"R\", \"Python\", \"statistics\", \"regression\", \"probability\"],\n",
    "    [\"machine learning\", \"regression\", \"decision trees\", \"libsvm\"],\n",
    "    [\"Python\", \"R\", \"Java\", \"C++\", \"Haskell\", \"programming languages\"],\n",
    "    [\"statistics\", \"probability\", \"mathematics\", \"theory\"],\n",
    "    [\"machine learning\", \"scikit-learn\", \"Mahout\", \"neural networks\"],\n",
    "    [\"neural networks\", \"deep learning\", \"Big Data\", \"artificial intelligence\"],\n",
    "    [\"Hadoop\", \"Java\", \"MapReduce\", \"Big Data\"],\n",
    "    [\"statistics\", \"R\", \"statsmodels\"],\n",
    "    [\"C++\", \"deep learning\", \"artificial intelligence\", \"probability\"],\n",
    "    [\"pandas\", \"R\", \"Python\"],\n",
    "    [\"databases\", \"HBase\", \"Postgres\", \"MySQL\", \"MongoDB\"],\n",
    "    [\"libsvm\", \"regression\", \"support vector machines\"]\n",
    "]"
   ]
  },
  {
   "cell_type": "code",
   "execution_count": 4,
   "metadata": {},
   "outputs": [],
   "source": [
    "from collections import defaultdict\n",
    "\n",
    "# DTM\n",
    "documents = defaultdict(lambda: defaultdict(int))\n",
    "vocabulary = list()\n",
    "\n",
    "for i, d in enumerate(collection): # i : 문서제목, d : i번째 문서 내 단어 목록\n",
    "    for term in d:\n",
    "        documents[i][term.lower()] += 1 # 아직 Z assignment는 안한상태. \n",
    "        vocabulary.append(term.lower())\n",
    "        \n",
    "vocabulary = list(set(vocabulary))"
   ]
  },
  {
   "cell_type": "code",
   "execution_count": 8,
   "metadata": {},
   "outputs": [],
   "source": [
    "alpha = 0.1 \n",
    "beta = 0.1\n",
    "\n",
    "K = 3 # 토픽 개수\n",
    "\n",
    "M = len(documents)\n",
    "V = len(vocabulary)\n",
    "\n",
    "# 특정 토픽에 몇 개의 단어가 있는지 => 분모\n",
    "topicTermCount = defaultdict(int)\n",
    "\n",
    "# 특정 문서의 단어에 상관없이 토픽 할당 횟수\n",
    "docTopicDistribution = defaultdict(lambda: defaultdict(int))\n",
    "# [document][0번째토픽:몇개의단어, 1번째토픽:몇개의단어]정보를 담고있음. \n",
    "\n",
    "#문서에 상관없이 특정 단어의 토픽 할당 횟수\n",
    "topicTermDistribution = defaultdict(lambda: defaultdict(int))\n",
    "#[topic][vocabulary 0:몇번, ..., n]\n",
    "\n",
    "# z_ml = m번째 문서 1번째 단어의 Topic\n",
    "# M개의 문서만큼 => N개의 단어 => Topic\n",
    "termTopicAssignmentMatrix = defaultdict(lambda: defaultdict(int))\n",
    "# Z[document][term] = Topic\n",
    "# n(i, (j, r)) = i번째 토픽의 횟수, j번째 문서의 r번째 단어"
   ]
  },
  {
   "cell_type": "code",
   "execution_count": 17,
   "metadata": {},
   "outputs": [],
   "source": [
    "# 기본적인 아이디어는 아래와 같다. \n",
    "\n",
    "# Z를 랜덤하게 initialize\n",
    "from random import randrange, seed\n",
    "\n",
    "seed(0) # 모두 같은 결과를 유도하기 위함(테스트)\n",
    "\n",
    "for i, termList in enumerate(collection): # i번째 문서를 뽑음\n",
    "    for j, term in enumerate(termList):\n",
    "        token = term.lower()\n",
    "        topic = randrange(K) # 0~2 사이의 int 하나를 받음. KNN과 같이 비지도학습이므로 컴퓨터가 알아서 토픽을 할당해 클러스터링해야한다. \n",
    "        \n",
    "        # 총 100개의 단어가 나왔다면 아래 셋의 합은 100이 되어야 함. \n",
    "        topicTermCount[topic] += 1 # 2번식의 분모에 필요. (3짜리 list에 넣어줌)\n",
    "        docTopicDistribution[i][topic] += 1 # 1번식때문에 필요(어느 doc의 몇번째 topic에 몇개만큼 단어가 할당되어 있는지)\n",
    "        topicTermDistribution[topic][term] += 1 \n",
    "        \n",
    "        termTopicAssignmentMatrix[i][j] = topic # i번째 문서에서 나온 n(여기선 j)번째 단어에 대한 topic assignment. 즉 수식의 Z와 같음. (어느 문서에 나온 특정 위치를 골라내기 위해 사용.)"
   ]
  },
  {
   "cell_type": "code",
   "execution_count": 21,
   "metadata": {},
   "outputs": [],
   "source": [
    "def likelihoodAlpha(i, k):\n",
    "    return docTopicDistribution[i][k] + a"
   ]
  },
  {
   "cell_type": "code",
   "execution_count": 22,
   "metadata": {},
   "outputs": [],
   "source": [
    "def likelihoodBeta(k, term):\n",
    "    return (topicTermDistribution[k][term] + b) / (topicTermCount[k] + b *V)"
   ]
  },
  {
   "cell_type": "code",
   "execution_count": 23,
   "metadata": {},
   "outputs": [
    {
     "ename": "SyntaxError",
     "evalue": "invalid syntax (<ipython-input-23-3dcf4f8c81f4>, line 3)",
     "output_type": "error",
     "traceback": [
      "\u001b[1;36m  File \u001b[1;32m\"<ipython-input-23-3dcf4f8c81f4>\"\u001b[1;36m, line \u001b[1;32m3\u001b[0m\n\u001b[1;33m    def collapsedGibbsSampling(i, term =):\u001b[0m\n\u001b[1;37m                                        ^\u001b[0m\n\u001b[1;31mSyntaxError\u001b[0m\u001b[1;31m:\u001b[0m invalid syntax\n"
     ]
    }
   ],
   "source": [
    "from random import random\n",
    "\n",
    "def collapsedGibbsSampling(i, term =):\n",
    "    sampling = list()\n",
    "    \n",
    "    for k in range(K):\n",
    "        sampling.append(likelihoodAlpha(i, k) * likelihoodBeta(k, term))\n",
    "    threshold = sum(sampling) * random()\n",
    "    "
   ]
  },
  {
   "cell_type": "code",
   "execution_count": 16,
   "metadata": {},
   "outputs": [
    {
     "ename": "NameError",
     "evalue": "name 'collapsedGibbsSampling' is not defined",
     "output_type": "error",
     "traceback": [
      "\u001b[1;31m---------------------------------------------------------------------------\u001b[0m",
      "\u001b[1;31mNameError\u001b[0m                                 Traceback (most recent call last)",
      "\u001b[1;32m<ipython-input-16-5517292f72cc>\u001b[0m in \u001b[0;36m<module>\u001b[1;34m\u001b[0m\n\u001b[0;32m     12\u001b[0m             \u001b[0mtopicTermDistribution\u001b[0m\u001b[1;33m[\u001b[0m\u001b[0mtopic\u001b[0m\u001b[1;33m]\u001b[0m\u001b[1;33m[\u001b[0m\u001b[0mterm\u001b[0m\u001b[1;33m]\u001b[0m \u001b[1;33m-=\u001b[0m \u001b[1;36m1\u001b[0m\u001b[1;33m\u001b[0m\u001b[1;33m\u001b[0m\u001b[0m\n\u001b[0;32m     13\u001b[0m \u001b[1;33m\u001b[0m\u001b[0m\n\u001b[1;32m---> 14\u001b[1;33m             \u001b[0mtopic\u001b[0m \u001b[1;33m=\u001b[0m \u001b[0mcollapsedGibbsSampling\u001b[0m\u001b[1;33m(\u001b[0m\u001b[0mi\u001b[0m\u001b[1;33m,\u001b[0m \u001b[0mterm\u001b[0m\u001b[1;33m)\u001b[0m\u001b[1;33m\u001b[0m\u001b[1;33m\u001b[0m\u001b[0m\n\u001b[0m\u001b[0;32m     15\u001b[0m \u001b[1;33m\u001b[0m\u001b[0m\n\u001b[0;32m     16\u001b[0m \u001b[1;33m\u001b[0m\u001b[0m\n",
      "\u001b[1;31mNameError\u001b[0m: name 'collapsedGibbsSampling' is not defined"
     ]
    }
   ],
   "source": [
    "# 1000번 이터레이션하는부분 추가\n",
    "\n",
    "iterationNumber = 1000\n",
    "\n",
    "for _ in range(iterationNumber):\n",
    "    for i, termList in enumerate(collection): # i번째 문서를 뽑음\n",
    "        for j, term in enumerate(termList):\n",
    "            topic = termTopicAssignmentMatrix[i][j]\n",
    "            \n",
    "            topicTermCount[topic] -= 1\n",
    "            docTopicDistribution[i][topic] -= 1\n",
    "            topicTermDistribution[topic][term] -= 1\n",
    "            \n",
    "            topic = collapsedGibbsSampling(i, term)\n",
    "            \n",
    "            \n",
    "            # 총 100개의 단어가 나왔다면 아래 셋의 합은 100이 되어야 함. \n",
    "            topicTermCount[topic] += 1 # 2번식의 분모에 필요. (3짜리 list에 넣어줌)\n",
    "            docTopicDistribution[i][topic] += 1 # 1번식때문에 필요(어느 doc의 몇번째 topic에 몇개만큼 단어가 할당되어 있는지)\n",
    "            topicTermDistribution[topic][term] += 1 \n",
    "\n",
    "            termTopicAssignmentMatrix[i][j] = topic # i번째 문서에서 나온 n(여기선 j)번째 단어에 대한 topic assignment. 즉 수식의 Z와 같음. (어느 문서에 나온 특정 위치를 골라내기 위해 사용.)"
   ]
  },
  {
   "cell_type": "code",
   "execution_count": null,
   "metadata": {},
   "outputs": [],
   "source": []
  },
  {
   "cell_type": "code",
   "execution_count": null,
   "metadata": {},
   "outputs": [],
   "source": []
  },
  {
   "cell_type": "code",
   "execution_count": null,
   "metadata": {},
   "outputs": [],
   "source": []
  },
  {
   "cell_type": "code",
   "execution_count": null,
   "metadata": {},
   "outputs": [],
   "source": []
  },
  {
   "cell_type": "code",
   "execution_count": null,
   "metadata": {},
   "outputs": [],
   "source": []
  },
  {
   "cell_type": "code",
   "execution_count": null,
   "metadata": {},
   "outputs": [],
   "source": []
  },
  {
   "cell_type": "code",
   "execution_count": null,
   "metadata": {},
   "outputs": [],
   "source": []
  },
  {
   "cell_type": "code",
   "execution_count": null,
   "metadata": {},
   "outputs": [],
   "source": []
  },
  {
   "cell_type": "code",
   "execution_count": null,
   "metadata": {},
   "outputs": [],
   "source": []
  },
  {
   "cell_type": "code",
   "execution_count": null,
   "metadata": {},
   "outputs": [],
   "source": []
  }
 ],
 "metadata": {
  "kernelspec": {
   "display_name": "Python 3",
   "language": "python",
   "name": "python3"
  },
  "language_info": {
   "codemirror_mode": {
    "name": "ipython",
    "version": 3
   },
   "file_extension": ".py",
   "mimetype": "text/x-python",
   "name": "python",
   "nbconvert_exporter": "python",
   "pygments_lexer": "ipython3",
   "version": "3.7.1"
  }
 },
 "nbformat": 4,
 "nbformat_minor": 2
}
