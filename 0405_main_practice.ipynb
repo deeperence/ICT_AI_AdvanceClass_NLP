{
 "cells": [
  {
   "cell_type": "code",
   "execution_count": 2,
   "metadata": {},
   "outputs": [],
   "source": [
    "def getFileList(base = \"./\", ext = \"txt\"): # 아무것도 안했다면 base는 현재 경로\n",
    "    fileList = list()\n",
    "    for file in listdir(base):\n",
    "        if file.split(\".\")[-1] == ext: # .을 기준으로 split한 것이 txt인지 검사\n",
    "            fileList.append(\"{0}/{1}\".format(base, file))\n",
    "            \n",
    "    return fileList\n",
    "\n",
    "# txt 컨텐츠를 편하게 읽어오기 위한 함수\n",
    "def getContent(file): \n",
    "    with open(file, encoding=\"UTF-8\") as f:\n",
    "        content = f.read()\n",
    "    return content"
   ]
  },
  {
   "cell_type": "code",
   "execution_count": null,
   "metadata": {},
   "outputs": [],
   "source": []
  },
  {
   "cell_type": "code",
   "execution_count": 5,
   "metadata": {
    "scrolled": true
   },
   "outputs": [
    {
     "name": "stdout",
     "output_type": "stream",
     "text": [
      "[\"\\ufeff■■■ MIRACLE ■■■\\n\\n미라클 주식 전문가의 기적의 순간 ?\\n\\n그대를 초대합니다!!\\n\\n3년간 운영된  기적을 만드는 곳에서\\n\\n선착순 60분만  초대 진행하겠습니다!\\n\\n100% ( 무료) 공 부 방 !!!!???\\n\\n본인의 계좌에 기적을 선택하세요!!!!!\\n\\n■ 최근 수익종목 ■\\n셀리버리 100% 수익\\n크린앤사이언스 70%수익\\n디지털대성 50% 수익\\n국보 30%수익\\n태양 25% 수익\\n\\n무료 종목 추천주 받기 링크 클릭!\\n↓↓↓↓↓↓↓↓↓↓↓↓↓↓\\nhttps://open.kakao.com/o/gQiKGL8\\n\\n♠ Rich Road ♠\\n주식&해외선물 공유방!!\\n\\n▶주식 상담과 확실한 종목추천\\n▶자유로운 방분위기\\n▶매월 고정수입\\n▶매매기법 전수\\n▶100% 무료리딩!!\\n\\n-대우부품 12%수익!!\\n-네이처셀 7%수익!!\\n-대아티아이 13%수익!!\\n-디피씨 8% 수익!!\\n\\n투자의 관심있는 모든분이라면 부자가 되실수있습니다\\n부자의 길로 모시겠습니다\\n♣선착순 100명 모십니다 ♣ 마감임박!!\\n\\n∇ ∇ ∇ ∇ ∇ ∇ 클릭∇ ∇ ∇ ∇ ∇ ∇\\nhttps://open.kakao.com/o/gfqkOl1\\n\\n\\n(하트)가족방 3000명(하트)\\n(하트)회원 2만8000명(하트)\\n▼▼▼▼플러스친구추가▼▼▼▼\\n10원 한장 금전적인 요구 하지 않습니다.\\n이상한 곳에서 피해 받으시는 일 없으셨으면 좋겠습니다\\n♬12월 공유방 수익 \\\\ 92.370.000\\n♬1월 공유방 수익 \\\\ 88.323.000\\n♬2월 공유방 현수익 23.656.000\\n▼적중내역&픽받는법 클릭▼\\nhttp://pf.kAkAO.com/_ZaBvj/33358069\\n(별)수수료 가입비 일절없음\\n(별)100%무료픽 공유\\n▼공유방 입장 1:1문의하기▼\\n\\nㅡㅡㅡ ?? 주식 大王 업적?? ㅡㅡㅡ\\n\\n??백성들은 듣거라\\n나라가 어지러우니 大王을 따르라!\\n주식에서 지극히 정성을 다하는 사람만이 계좌를 변하게 할 것 이다\\n\\n100% 무료 수익 리딩!! (선착순 49명)\\n▒▒▒▒▒▒▒▒▒▒▒▒▒▒▒▒\\n넥슨지티 7,200원(70%~80% 수익종료)\\n아난티 19,200원 (50% 수익종료)\\n제미니투자 692원(30% 수익종료)\\n▒▒▒▒▒▒▒▒▒▒▒▒▒▒▒▒\\n\\n?? 大王님의 ??\\n무료 주식추천 받아보기 ???\\nhttps://open.kakao.com/o/gFE6HL5\\n\\n\\n(선물)성공 할 사람과,\\n(선물)성공 한 사람이 모여\\n(선물)새로운 성공을 위한\\n\\n'그런 방이 필요하다' 라는\\n생각을 하게 됐기 때문입니다.\\n\\n실시간 코인 뉴스, 각종 재태크\\n코인 전망 및 뉴스, 부동산 정보를\\n공유하고 함께 부자가 될 수 있는 방\\n\\n(축하)Chase가 함께하겠습니다.(축하)\\n\\nChase 오픈채팅방에 참여하고\\n성공을 Chase하세요.\\n\\nhttps://open.kakao.com/o/gESnNx9\\n\\n\\n\\n\\n\\n\\n짤리기\\n지수\\n다운받아가세요\\nNEW\\n성인 동영상\\n최신 영화\\n아르바이트\\n재택알바\\n상위 노출\\n비교사이트\\n발도장\\n웹하드\\n도박\\n대출\\n구경오세요\\n놀러오세요\\n제 블로그\\n바카라\\n■\\n상위노출\\n대행\\n자식들\\n야구동영상\\n어*-른들만\\n성-*인용즐감하세요\\n동-영상\\n좋아 좋아요~!\\n◆\\n비밀루트\\n자격증\\n재태크\\n재테크\\n제태크\\n제테크\\n품앗이\\n. C O M\\n재택\\n최저\\n제작\\n퍼스트드림\\n. COM\\n.tc\\n배팅\\n성인\\n신규가입\\n잘보았습니다\\n잘 보았습니다\\n자기 쓸려고\\n개인정보\\n이거먹고\\n홍콩으로\\n눈으로 확인하세요\\n\\n\\n\\n\\n\\n\\n어서오세요\\n어서 오세요\\n가장 저렴한\\n저렴한\\n정품쇼핑몰\\n비밀포장\\n안전빠른배송\\n비교불가\\n알아두면 이득^^\\n가입 축하금\\n축하금\\n가입금\\n사은품 팍팍\\n지금 오세요\\n적립금\\n추가 적립\\n해드립니다\\n믿을 만한\\n추천 자료들\\n무료 배포\\n무료로\\n다운받으세요\\n간단한 정보만\\n입력하시면\\n바로 다운로드\\n한군데 모아둔\\n좋은정보\\n잘보고갑니다\\n토토\\n무제한\\n성인용품\\n입출금\\n최신 오픈겜\\n대박몰\\n해외 현지에서\\n괜찮은 사이트\\n스마트원룸\\n프로그램 무료\\n무료포인트\\n각종드라마\\n각종애니\\n각종영화\\n각종게임\\n무료 다시보기\\n연예인\\n섹시갤러리\\n섹시 갤러리\\n레이싱걸 노출\\n노출\\n노출블로그\\n고소득보장\\n굿아이안과\\n시간나실때 제 블로그에도\\n시간나실때 제블로그도\\n행복한 휴일\\n포스트 잘보고 갑니다\\n포스트 잘 보고 갑니다\\n애인대행\\n이색알바\\n화상채팅\\n이성친구만들기\\n★\\n☆\\n○\\n※\\n§\\n●\\n◎\\n◇\\n□\\n△\\n▲\\n▽\\n▼\\n♡\\n♥\\n♧\\n♣\\n⊙\\n◈\\n▣\\n◐\\n◑\\n▒\\n▤\\n▥\\n▨\\n▧\\n▦\\n▩\\n♨\\n☏\\n☎\\n☜\\n☞\\n¶\\n†\\n♬\\n캐피탈\\n개인회생\\n여관\\n노예처럼\\n펨돔\\n누님들\\n남도우미\\n여도우미\\n다조아\\n여기가면\\n바로가기\\n</dd>\\n쇼핑몰\\n투잡\\n남녀누구나\\n밑에땀차서\\n사f랑이 이f루어집니다\\n옆f주소 확인\\n허리돌림이\\n일본 원정녀\\n동영상 유출\\n장난아님!\\n레알 대박!!\\n안보면 후회합니다!\\n매출\\n업소여성\\n대환영\\n유출본\\n\\n\\n\\n\\n▽2012.10.18 목, 오후 5시 14분 추가 단어 목록\\n\\n융자\\n연체\\n근저당\\n경매직전\\n현금 최고가\\n매입\\n\\n▽2012.11.28 오후 2시 20분 추가 단어 목록\\n\\n릴.게.임\\n야/마/토\\n황.금.손\\n초.대.박\\n낚.아.라\\nhttp://vnvn.naver.to\\n콜투미\\n현금(포인트)\\n연출아닌\\n실제 여친 \\n섹사진\\n구라아님↓ ↓ ↓\\nhttp://sexygirlf.asia?200624084596203\\n좋은 포스팅 자료 \\n엔조이\\n무료보기\\n추천2영화 \\n성인영상\\n클릭☆\\n★클릭\\no(^_^)o\\n↖(^_^)↗\\nT&SOFT \\n토토사이트\\n고객 분들에 \\nFX585.COM\\n명품카지노\\n미녀딜러\\n아.이.디.클.릭\\n출/금/자\\n증정\\n주 ※ 의\\nL미녀딜러ㄱ\\nW W W . S F S 8 5 0 . C O M\\n1cb82\\nhttp://study.ee.je/?2020724488 \\n4d545\\n받는 곳\\nhttp://is.gd/Vm4lGX?13265992\\n포스팅 잘 읽었습니다\\n관련 자료를 모아두었습니다\\nhttp://to.ly/fcB5\\n시드구할수\\nhttp://joy-file.com/\\n닉ㄴㅔ임\\n섹ㅍㅏ대행\\nOㅐ인대행\\n━\\n이쁜이들\\n셐스커뮤니티\\n입싸\\n보싸\\n얼싸\\nhttp://a3FIa3.ⓢexjamji.iⓝfo \\n생활자금\\n고금리\\n퍼스트그레이더 \\n성인애니\\n무료 포인트 \\n'리텐 신경차단술'\\n무료체험단\\n\\n\\n▽2013.01.25 오후 12시 27분 추가 단어 목록\\n\\n햇살론\\n지원자금\\n잘해두었내요!\\n받는곳\\n안내해드릴꼐요\\n보는곳\\n바로보시길\\nfafb0\\nb8eba\\n\\n\\n▽2013.02.02 오전 11시 16분 추가 단어 목록\\n\\n섹띠한\\n여자노뚤\\n도옹영쌍\\n사이또\\n소개해뜨려여~\\n삐밀리에\\n꽁개된\\n영쌍\\n오쁜합니다.\\nhttp://me2.do/xpfG6wy\\n잘해두었내요\\n\\n\\n\\n▽2013.03.03 오전 3시 55분 추가 단어 목록(+81단어)\\n\\n\\n고고게임\\n이글스게임\\nⓞ1ⓞ\\n영등위\\n도박사이트가\\n게임머니\\n총판\\n가맹점모집\\n오픈피시방\\n오프라인영업\\n상담대환영\\n개인유져님들\\n딜러비\\n1인1매장\\n프로테이지\\n맞쳐드립니다\\n각종보드게임\\n매니저\\n컨츄리꼬꼬토마게임\\nOIO↔2138↔3979\\n↔\\n최고서비스\\n】\\n컨추리꼬꼬게임\\n토마토게임\\n꼬꼬토마\\n놀토봉봉게임\\n심의게임\\n바둑이\\n맞고사이트\\n신규페이지\\n모아드림캐피탈\\n도움이되는\\n카지노알바\\ncasialba.com\\n클릭\\nhttp://yni.me/rtAgl\\n공ㅉr\\nweb하드\\n노제휴\\n신규사이트\\n1억 포인트\\n통합 검색기\\n보장드립니다\\nhttp://yni.me/iARAA\\n토토다운로드\\n스포일러정보\\n시디키다운\\n엽기애니\\n사이트비교\\n유출동영상\\n최신일본영화\\n킹덤다운\\n뮤비다운로드\\n다운추천\\n삭제대하여\\nhttp://me2.do/G8vL6W2G?dgekmt\\n무료교육\\nwYbtuSWEt\\n잘읽었습니다\\n2차유출\\n관*련\\n야-동*영*상\\n야*애*니 \\n야*사\\n은꼴섹영상\\n컨텐츠자료\\n무료에요\\n메이져업체\\nwww점club-try점컴\\n대행\\n헬프유\\nKCSC\\n겅짜\\nⓒoupon\\nSA급\\n홍콩명품\\n전품목\\n포도톡\\nhttp://ganzibag.com\\n성 인 용 품\\n┠\\nhttp://goo.gl/f1RPs\\n업계1위\\n도도한 V라인 미녀들의수다\\n성형후기 이벤트\\n \\n\\n\"]\n"
     ]
    }
   ],
   "source": [
    "# 로컬에 저장되어 있는 스팸 가져오기(./0404_Spamtxts)\n",
    "from os import listdir\n",
    "\n",
    "FileList = getFileList(\"./0404_Spamtxts\")\n",
    "\n",
    "SpamContent = list() \n",
    "\n",
    "for i in range(len(FileList)):\n",
    "    SpamContent.append(getContent(FileList[i]))\n",
    "print(SpamContent)"
   ]
  },
  {
   "cell_type": "code",
   "execution_count": null,
   "metadata": {},
   "outputs": [],
   "source": []
  }
 ],
 "metadata": {
  "kernelspec": {
   "display_name": "Python 3",
   "language": "python",
   "name": "python3"
  },
  "language_info": {
   "codemirror_mode": {
    "name": "ipython",
    "version": 3
   },
   "file_extension": ".py",
   "mimetype": "text/x-python",
   "name": "python",
   "nbconvert_exporter": "python",
   "pygments_lexer": "ipython3",
   "version": "3.7.1"
  }
 },
 "nbformat": 4,
 "nbformat_minor": 2
}
