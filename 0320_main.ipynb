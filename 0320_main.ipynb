{
 "cells": [
  {
   "cell_type": "code",
   "execution_count": 30,
   "metadata": {
    "collapsed": false
   },
   "outputs": [
    {
     "name": "stdout",
     "output_type": "stream",
     "text": [
      ".\n"
     ]
    },
    {
     "data": {
      "text/plain": [
       "['she', 'sells', 'seashells', 'on', 'the', 'seashore']"
      ]
     },
     "execution_count": 31,
     "metadata": {},
     "output_type": "execute_result"
    }
   ],
   "source": [
    "# 이 코드에서는 ParseTree를 구성하고 형태소 분석을 수행해 봅니다. \n",
    "\n",
    "from matplotlib import font_manager, rc\n",
    "\n",
    "path = \"C:/windows/fonts/HMKMRHD.ttf\" # matplot의 폰트를 지정하기 위한 경로 설정\n",
    "font = font_manager.FontProperties(fname=path).get_name() # 폰트매니저 객체 생성\n",
    "rc(\"font\", family=font) # 폰트 변경"
   ]
  },
  {
   "cell_type": "code",
   "execution_count": 31,
   "metadata": {
    "collapsed": false
   },
   "outputs": [
    {
     "name": "stdout",
     "output_type": "stream",
     "text": [
      ".\n"
     ]
    },
    {
     "data": {
      "text/plain": [
       "['she', 'sells', 'seashells', 'on', 'the', 'seashore']"
      ]
     },
     "execution_count": 31,
     "metadata": {},
     "output_type": "execute_result"
    }
   ],
   "source": [
    "import re\n",
    "from string import punctuation\n",
    "from nltk.tokenize import word_tokenize\n",
    "\n",
    "sentence = 'She sells seashells on the seashore.'\n",
    "tokens = word_tokenize(sentence)\n",
    "\n",
    "# 구두점 제거를 위한 패턴 정의\n",
    "pattern = re.compile(r'[{0}]'.format(re.escape(punctuation)))\n",
    "\n",
    "result = []\n",
    "for token in tokens:\n",
    "    if pattern.search(token): # 패턴에 맞는 문자를 공백으로 치환\n",
    "        print(token)\n",
    "    else:\n",
    "        result.append(token.lower())\n",
    "result"
   ]
  },
  {
   "cell_type": "code",
   "execution_count": 32,
   "metadata": {},
   "outputs": [
    {
     "name": "stdout",
     "output_type": "stream",
     "text": [
      "[('she', 'PRP'), ('sells', 'VBZ'), ('seashells', 'NNS'), ('on', 'IN'), ('the', 'DT'), ('seashore', 'NN')]\nVBZ: verb, present tense, 3rd person singular\n    bases reconstructs marks mixes displeases seals carps weaves snatches\n    slumps stretches authorizes smolders pictures emerges stockpiles\n    seduces fizzes uses bolsters slaps speaks pleads ...\nNone\n"
     ]
    }
   ],
   "source": [
    "from nltk import pos_tag # 형태소 분석모듈\n",
    "from nltk.help import brown_tagset, upenn_tagset\n",
    "# nltk.download('tagsets') # 1회만 실행\n",
    "\n",
    "print(pos_tag(result)) # 형태소 분석결과 출력\n",
    "print(upenn_tagset('VBZ')) # 형태소 태그에 대한 상세설명 출력\n",
    "# print(upenn_tagset(\"N.*?\"))\n",
    "# print(brown_tagset())"
   ]
  },
  {
   "cell_type": "code",
   "execution_count": 33,
   "metadata": {},
   "outputs": [
    {
     "name": "stdout",
     "output_type": "stream",
     "text": [
      "she\nsells\nseashells\nSkipped :  on\nSkipped :  the\nseashore\n"
     ]
    },
    {
     "data": {
      "text/plain": [
       "['she', 'sells', 'seashells', 'seashore']"
      ]
     },
     "execution_count": 33,
     "metadata": {},
     "output_type": "execute_result"
    }
   ],
   "source": [
    "from nltk import pos_tag\n",
    "tags = []\n",
    "\n",
    "for term in pos_tag(result): # on, the와 같은 IT, DT 걸러내기\n",
    "    if term[1] in ['IN', 'DT']:\n",
    "        print('Skipped : ', term[0])\n",
    "    else:\n",
    "        print(term[0])\n",
    "        tags.append(term[0])\n",
    "        \n",
    "tags"
   ]
  },
  {
   "cell_type": "code",
   "execution_count": 37,
   "metadata": {},
   "outputs": [
    {
     "name": "stdout",
     "output_type": "stream",
     "text": [
      "[('she', 1), ('sells', 1), ('seashells', 1), ('seashore', 1)]\n"
     ]
    }
   ],
   "source": [
    "from nltk import Text\n",
    "\n",
    "textObj = Text(tags) # 형태소 태깅\n",
    "print(textObj.vocab().most_common()) # 형태소가 사용된 횟수 출력"
   ]
  },
  {
   "cell_type": "code",
   "execution_count": 35,
   "metadata": {},
   "outputs": [
    {
     "data": {
      "text/plain": [
       "['the', 'little', 'yellow', 'dog', 'barked', 'at', 'the', 'persian', 'cat']"
      ]
     },
     "execution_count": 35,
     "metadata": {},
     "output_type": "execute_result"
    }
   ],
   "source": [
    "sentence = 'The little yellow dog barked at the Persian Cat'\n",
    "\n",
    "tokens = word_tokenize(sentence)\n",
    "\n",
    "pattern = re.compile(r'[{0}]'.format(re.escape(punctuation)))\n",
    "\n",
    "result = []\n",
    "for token in tokens:\n",
    "    if pattern.search(token):\n",
    "        print(token)\n",
    "    else:\n",
    "        result.append(token.lower())\n",
    "result"
   ]
  },
  {
   "cell_type": "code",
   "execution_count": 39,
   "metadata": {},
   "outputs": [
    {
     "name": "stdout",
     "output_type": "stream",
     "text": [
      "Skipped :  the\nlittle\nyellow\ndog\nbarked\nSkipped :  at\nSkipped :  the\npersian\ncat\n"
     ]
    },
    {
     "data": {
      "text/plain": [
       "['little', 'yellow', 'dog', 'barked', 'persian', 'cat']"
      ]
     },
     "execution_count": 39,
     "metadata": {},
     "output_type": "execute_result"
    }
   ],
   "source": [
    "tags = []\n",
    "\n",
    "for term in pos_tag(result):\n",
    "    if term[1] in ['IN', 'DT']:\n",
    "        print('Skipped : ', term[0])\n",
    "    else:\n",
    "        print(term[0])\n",
    "        tags.append(term[0])\n",
    "        \n",
    "tags"
   ]
  },
  {
   "cell_type": "code",
   "execution_count": 40,
   "metadata": {},
   "outputs": [
    {
     "data": {
      "text/plain": [
       "['the', 'little', 'yellow', 'dog', 'barked', 'at', 'the', 'persian', 'cat']"
      ]
     },
     "execution_count": 40,
     "metadata": {},
     "output_type": "execute_result"
    }
   ],
   "source": [
    "# 언태그도 수행할 수 있음.\n",
    "from nltk.tag import untag\n",
    "\n",
    "tagged = pos_tag(result)\n",
    "untag(tagged)\n",
    "\n",
    "[tag[0] for tag in tagged]"
   ]
  },
  {
   "cell_type": "code",
   "execution_count": 41,
   "metadata": {},
   "outputs": [
    {
     "data": {
      "text/plain": [
       "([('the', 'DT'),\n  ('little', 'JJ'),\n  ('yellow', 'JJ'),\n  ('dog', 'NN'),\n  ('barked', 'VBD'),\n  ('at', 'IN'),\n  ('the', 'DT'),\n  ('persian', 'JJ'),\n  ('cat', 'NN')],\n ['the/DT',\n  'little/JJ',\n  'yellow/JJ',\n  'dog/NN',\n  'barked/VBD',\n  'at/IN',\n  'the/DT',\n  'persian/JJ',\n  'cat/NN'])"
      ]
     },
     "execution_count": 41,
     "metadata": {},
     "output_type": "execute_result"
    }
   ],
   "source": [
    "tagged, ['/'.join(tag) for tag in tagged]"
   ]
  },
  {
   "cell_type": "code",
   "execution_count": 50,
   "metadata": {},
   "outputs": [
    {
     "name": "stdout",
     "output_type": "stream",
     "text": [
      "9\n0.2222222222222222\n"
     ]
    }
   ],
   "source": [
    "from nltk import Text\n",
    "\n",
    "# FreqDist 클래스는 단어를 Key로, 출현빈도를 Value로 갖는 사전 자료형과 유사한 형태 \n",
    "textObj = Text(tagged) # 형태소 분석 수행\n",
    "print(textObj.vocab().N()) # 전체 단어의 수 \n",
    "print(textObj.vocab().freq(('the','DT'))) # 출현 확률 계산(key = the, value = DT?)"
   ]
  },
  {
   "cell_type": "code",
   "execution_count": 51,
   "metadata": {},
   "outputs": [
    {
     "name": "stdout",
     "output_type": "stream",
     "text": [
      "Skipped :  ('the', 'DT')\n"
     ]
    }
   ],
   "source": [
    "for key in textObj.vocab().keys():\n",
    "    if textObj.vocab().freq(key) > 0.2: # 확률(빈도)이 0.2보다 큰 FreqDist 객체에 대해서 수행 \n",
    "        print('Skipped : ', key)"
   ]
  },
  {
   "cell_type": "code",
   "execution_count": 52,
   "metadata": {},
   "outputs": [
    {
     "data": {
      "text/plain": [
       "(FreqDist({('the', 'DT'): 2}), 2)"
      ]
     },
     "execution_count": 52,
     "metadata": {},
     "output_type": "execute_result"
    }
   ],
   "source": [
    "from nltk.probability import FreqDist\n",
    "from collections import defaultdict\n",
    "\n",
    "taggedTerms = FreqDist()\n",
    "# taggedTerms = defaultdict(int)\n",
    "# key = tuple(단어, 품사)\n",
    "for key in textObj.vocab().keys():\n",
    "    if key[1].startswith('DT'):\n",
    "        # key[1] in ['DT']\n",
    "        # re.search(r'DT.*)\n",
    "        taggedTerms[key] = textObj.vocab().get(key)\n",
    "        \n",
    "taggedTerms, taggedTerms.N()"
   ]
  },
  {
   "cell_type": "code",
   "execution_count": 62,
   "metadata": {},
   "outputs": [],
   "source": [
    "# gutenberg 말뭉치에 대해서 분석\n",
    "from nltk.corpus import gutenberg\n",
    "\n",
    "corpus = gutenberg.open(gutenberg.fileids()[0]).read()\n",
    "corpus = pattern.sub('',corpus)\n",
    "tokens = word_tokenize(corpus)\n",
    "tagged = pos_tag(tokens)\n",
    "\n",
    "wordList = [pair[0] for pair in tagged] # ??\n",
    "posList = [pair[1] for pair in tagged]"
   ]
  },
  {
   "cell_type": "code",
   "execution_count": 64,
   "metadata": {},
   "outputs": [],
   "source": [
    "freqTagged = FreqDist()\n",
    "for row in tagged: # tuple(단어, 품사) 형태로 저장된다. (key로 value 호출가능)\n",
    "    freqTagged[row] += 1\n",
    "    \n",
    "freqWord = FreqDist()\n",
    "for row in wordList: # 단어\n",
    "    freqWord[row] += 1\n",
    "    \n",
    "freqPos = FreqDist()\n",
    "for row in posList: # 품사\n",
    "    freqPos[row] += 1"
   ]
  },
  {
   "cell_type": "code",
   "execution_count": 66,
   "metadata": {},
   "outputs": [
    {
     "data": {
      "text/plain": [
       "([(('to', 'TO'), 5099),\n  (('the', 'DT'), 4822),\n  (('and', 'CC'), 4412),\n  (('of', 'IN'), 4264),\n  (('I', 'PRP'), 2968),\n  (('a', 'DT'), 2962),\n  (('was', 'VBD'), 2369),\n  (('not', 'RB'), 2227),\n  (('in', 'IN'), 2086),\n  (('it', 'PRP'), 2041)],\n [('to', 5099),\n  ('the', 4822),\n  ('and', 4412),\n  ('of', 4264),\n  ('I', 2968),\n  ('a', 2962),\n  ('was', 2369),\n  ('her', 2333),\n  ('not', 2227),\n  ('in', 2086)],\n [('NN', 18524),\n  ('IN', 17875),\n  ('PRP', 14866),\n  ('RB', 12479),\n  ('DT', 12276),\n  ('JJ', 10305),\n  ('NNP', 9863),\n  ('VB', 9022),\n  ('VBD', 8948),\n  ('CC', 6445)])"
      ]
     },
     "execution_count": 66,
     "metadata": {},
     "output_type": "execute_result"
    }
   ],
   "source": [
    "# 가장 많이 나온 단어들을 10개씩 출력\n",
    "freqTagged.most_common(10), freqWord.most_common(10), freqPos.most_common(10) "
   ]
  },
  {
   "cell_type": "code",
   "execution_count": 69,
   "metadata": {},
   "outputs": [
    {
     "data": {
      "image/png": "[encoded data removed]",
      "text/plain": [
       "<Figure size 432x288 with 1 Axes>"
      ]
     },
     "metadata": {},
     "output_type": "display_data"
    }
   ],
   "source": [
    "# 빈도에 따라 단어(word, pos 쌍) 순위를 그래프로 출력\n",
    "import matplotlib.pyplot as plt\n",
    "\n",
    "x = range(1,51)\n",
    "y = [pair[1] for pair in freqTagged.most_common(50)]\n",
    "_y = [pair[1] for pair in freqWord.most_common(50)]\n",
    "\n",
    "_x = range(1,11)\n",
    "_yy = [pair[1] for pair in freqPos.most_common(10)]\n",
    "\n",
    "plt.plot(x, y, 'r-') # tuple(단어, 품사)\n",
    "plt.plot(x, _y, 'g-') # 단어\n",
    "plt.plot(_x, _yy, 'b-') # 품사\n",
    "plt.xlabel('단어(단어, 품사 쌍)의 순위')\n",
    "plt.ylabel('빈도')\n",
    "plt.show()"
   ]
  },
  {
   "cell_type": "heading",
   "metadata": {},
   "level": 2,
   "source": [
    "## 다양한 한국어 형태소 4종류 사용해보기"
   ]
  },
  {
   "cell_type": "code",
   "execution_count": 73,
   "metadata": {},
   "outputs": [
    {
     "data": {
      "text/plain": [
       "[('내', 'N'),\n ('친구', 'N'),\n ('는', 'J'),\n ('잠', 'N'),\n ('을', 'J'),\n ('많', 'P'),\n ('이', 'X'),\n ('자', 'P'),\n ('ㄴ다', 'E'),\n ('.', 'S')]"
      ]
     },
     "execution_count": 73,
     "metadata": {},
     "output_type": "execute_result"
    }
   ],
   "source": [
    "# Hannanum 한국어 형태소 분석 및 품사 태깅 모듈\n",
    "from konlpy.tag import Hannanum \n",
    "\n",
    "sentence = '내 친구는 잠을 많이 잔다.'\n",
    "\n",
    "obj = Hannanum()\n",
    "obj.morphs(sentence)\n",
    "obj.pos(sentence)\n",
    "# obj.nouns(sentence)\n",
    "# obj.tagset"
   ]
  },
  {
   "cell_type": "code",
   "execution_count": 74,
   "metadata": {},
   "outputs": [
    {
     "data": {
      "text/plain": [
       "[('내', 'NP'),\n ('친구', 'NNG'),\n ('는', 'JX'),\n ('잠', 'NNG'),\n ('을', 'JKO'),\n ('많이', 'MAG'),\n ('자', 'VV'),\n ('ㄴ다', 'EFN'),\n ('.', 'SF')]"
      ]
     },
     "execution_count": 74,
     "metadata": {},
     "output_type": "execute_result"
    }
   ],
   "source": [
    "# 꼬꼬마 한국어 형태소 분석 및 품사 태깅 모듈(세종 말뭉치 2010년 배포판 기반)\n",
    "from konlpy.tag import Kkma\n",
    "\n",
    "sentence = '내 친구는 잠을 많이 잔다.'\n",
    "\n",
    "obj = Kkma()\n",
    "obj.morphs(sentence)\n",
    "obj.pos(sentence)\n",
    "# obj.nouns(sentence)\n",
    "# obj.tagset"
   ]
  },
  {
   "cell_type": "code",
   "execution_count": 75,
   "metadata": {},
   "outputs": [
    {
     "data": {
      "text/plain": [
       "[('내', 'NP'),\n ('우리', 'NP'),\n ('그', 'MM'),\n ('이', 'MM'),\n ('나', 'NP'),\n ('는', 'JX'),\n ('친구', 'NNG'),\n ('는', 'JX'),\n ('잠', 'NNG'),\n ('을', 'JKO'),\n ('많이', 'MAG'),\n ('자', 'VV'),\n ('ㄴ다', 'EF'),\n ('.', 'SF')]"
      ]
     },
     "execution_count": 75,
     "metadata": {},
     "output_type": "execute_result"
    }
   ],
   "source": [
    "# Komoran 한국어 형태소 분석 및 품사 태깅 모듈\n",
    "from konlpy.tag import Komoran\n",
    "\n",
    "sentence = '내 우리 그 이 나는 친구는 잠을 많이 잔다.'\n",
    "\n",
    "obj = Komoran()\n",
    "obj.morphs(sentence)\n",
    "obj.pos(sentence)\n",
    "# obj.nouns(sentence)\n",
    "# obj.tagset"
   ]
  },
  {
   "cell_type": "code",
   "execution_count": 77,
   "metadata": {},
   "outputs": [
    {
     "data": {
      "text/plain": [
       "[('내', 'Noun'),\n ('우리', 'Noun'),\n ('그', 'Noun'),\n ('이', 'Noun'),\n ('나', 'Noun'),\n ('는', 'Josa'),\n ('친구', 'Noun'),\n ('는', 'Josa'),\n ('잠', 'Noun'),\n ('을', 'Josa'),\n ('많이', 'Adverb'),\n ('잔다', 'Verb'),\n ('.', 'Punctuation')]"
      ]
     },
     "execution_count": 77,
     "metadata": {},
     "output_type": "execute_result"
    }
   ],
   "source": [
    "# Okt 한국어 형태소 분석 및 품사 태깅 모듈\n",
    "from konlpy.tag import Okt\n",
    "\n",
    "obj = Okt()\n",
    "obj.morphs(sentence)\n",
    "obj.pos(sentence)\n",
    "# obj.nouns(sentence)\n",
    "# obj.tagset"
   ]
  },
  {
   "cell_type": "code",
   "execution_count": null,
   "metadata": {},
   "outputs": [],
   "source": [
    "# 한국어 말뭉치 다운로드 : https://ithub.korean.go.kr/user/corpus/corpusSearchManager.do\n",
    "\n",
    "# 성능 비교\n",
    "# 많이라는 부사로 테스트(품사 태깅)\n",
    "# Kkma, komoran, okt > Hannanum\n",
    "\n",
    "# 많이(부사) =? 품시태깅\n",
    "# Kkma, komoran, okt > Hannanum\n",
    "\n",
    "# 'ㅋㅋ'같은 신조어 처리\n",
    "# Okt, Hannanum > Kkma, Komoran\n",
    "\n",
    "# 명사 (불용어) - 신조어 무시\n",
    "# Komoran > Hannaum > Okt > Kkma"
   ]
  },
  {
   "cell_type": "heading",
   "metadata": {},
   "level": 2,
   "source": [
    "## 꼬꼬마 형태소 분석기로 kolaw 말뭉치 분석해보기"
   ]
  },
  {
   "cell_type": "code",
   "execution_count": 78,
   "metadata": {},
   "outputs": [],
   "source": [
    "from konlpy.corpus import kolaw\n",
    "\n",
    "corpus = kolaw.open(kolaw.fileids()[0]).read() # 말뭉치 오픈\n",
    "tokens = Kkma().pos(corpus) # 꼬꼬마 형태소 분석기로 말뭉치 분석"
   ]
  },
  {
   "cell_type": "code",
   "execution_count": 82,
   "metadata": {},
   "outputs": [
    {
     "data": {
      "text/plain": [
       "(4640, 10053, ('대한민국', 'NNG'))"
      ]
     },
     "execution_count": 82,
     "metadata": {},
     "output_type": "execute_result"
    }
   ],
   "source": [
    "len(word_tokenize(corpus)), len(tokens), tokens[0] # 토큰화, 형태소분석결과의 길이를 출력 (테스트)"
   ]
  },
  {
   "cell_type": "code",
   "execution_count": 80,
   "metadata": {},
   "outputs": [],
   "source": [
    "rawList = FreqDist()\n",
    "pairList = FreqDist()\n",
    "wordList = FreqDist()\n",
    "posList = FreqDist()\n",
    "\n",
    "for term in word_tokenize(corpus):\n",
    "    rawList[term] += 1\n",
    "\n",
    "for pair in tokens:\n",
    "    pairList[pair] += 1\n",
    "    wordList[pair[0]] += 1\n",
    "    posList[pair[1]] += 1"
   ]
  },
  {
   "cell_type": "code",
   "execution_count": 81,
   "metadata": {},
   "outputs": [
    {
     "data": {
      "text/plain": [
       "(2023, 1294, 1247, 38)"
      ]
     },
     "execution_count": 81,
     "metadata": {},
     "output_type": "execute_result"
    }
   ],
   "source": [
    "len(rawList), len(pairList), len(wordList), len(posList)"
   ]
  },
  {
   "cell_type": "code",
   "execution_count": 83,
   "metadata": {},
   "outputs": [
    {
     "data": {
      "image/png": "[encoded data removed]",
      "text/plain": [
       "<Figure size 432x288 with 1 Axes>"
      ]
     },
     "metadata": {},
     "output_type": "display_data"
    }
   ],
   "source": [
    "import math\n",
    "\n",
    "x = range(1,51)\n",
    "\n",
    "y = [pair[1] for pair in rawList.most_common(50)]\n",
    "yy = [pair[1] for pair in pairList.most_common(50)]\n",
    "yyy = [pair[1] for pair in wordList.most_common(50)]\n",
    "\n",
    "_y = [math.log10(_) for _ in y]\n",
    "_yy = [math.log10(_) for _ in yy]\n",
    "_yyy = [math.log10(_) for _ in yyy]\n",
    "\n",
    "# _x = range(1,11)\n",
    "# _yy = [pair[1] for pair in freqPos.most_common(10)]\n",
    "\n",
    "plt.plot(x, y, 'r-') \n",
    "plt.plot(x, yy, 'g-') \n",
    "plt.plot(x, yyy, 'b-') \n",
    "plt.xlabel('단어(단어, 품사 쌍)의 순위')\n",
    "plt.ylabel('빈도')\n",
    "plt.show()"
   ]
  },
  {
   "cell_type": "code",
   "execution_count": null,
   "metadata": {},
   "outputs": [],
   "source": [
    ""
   ]
  },
  {
   "cell_type": "code",
   "execution_count": null,
   "metadata": {
    "scrolled": true
   },
   "outputs": [],
   "source": [
    "from nltk.probability import FreqDist\n",
    "from konlpy.corpus import kolaw\n",
    "\n",
    "corpus = kolaw.open(kolaw.fileids()[0]).read()\n",
    "tokens = word_tokenize(corpus)\n",
    "tagged = kkm.pos(corpus)"
   ]
  },
  {
   "cell_type": "code",
   "execution_count": null,
   "metadata": {},
   "outputs": [],
   "source": [
    "freqTokens = FreqDist()\n",
    "freqTagged = FreqDist()\n",
    "\n",
    "for token in tokens:\n",
    "    freqTokens[token] += 1\n",
    "\n",
    "freqTokens = FreqDist()\n",
    "\n",
    "for token in tagged:\n",
    "    freqTagged[token] +=1\n",
    "\n",
    "# word 단위, 품사 단위로 쪼개보기\n",
    "freqWord = FreqDist()\n",
    "for token in tagged:\n",
    "    freqWord[token[0]] +=1\n",
    "\n",
    "freqPos = FreqDist()\n",
    "for token in tagged:\n",
    "    freqPos[token[0]] +=1"
   ]
  },
  {
   "cell_type": "code",
   "execution_count": null,
   "metadata": {},
   "outputs": [],
   "source": [
    "freqTagged.N(), freqWord.N()"
   ]
  },
  {
   "cell_type": "code",
   "execution_count": null,
   "metadata": {},
   "outputs": [],
   "source": []
  },
  {
   "cell_type": "code",
   "execution_count": null,
   "metadata": {},
   "outputs": [],
   "source": []
  },
  {
   "cell_type": "code",
   "execution_count": null,
   "metadata": {},
   "outputs": [],
   "source": []
  },
  {
   "cell_type": "code",
   "execution_count": null,
   "metadata": {},
   "outputs": [],
   "source": []
  },
  {
   "cell_type": "code",
   "execution_count": null,
   "metadata": {},
   "outputs": [],
   "source": []
  },
  {
   "cell_type": "code",
   "execution_count": null,
   "metadata": {},
   "outputs": [],
   "source": []
  },
  {
   "cell_type": "code",
   "execution_count": null,
   "metadata": {},
   "outputs": [],
   "source": []
  },
  {
   "cell_type": "code",
   "execution_count": null,
   "metadata": {},
   "outputs": [],
   "source": []
  },
  {
   "cell_type": "code",
   "execution_count": null,
   "metadata": {},
   "outputs": [],
   "source": []
  },
  {
   "cell_type": "code",
   "execution_count": null,
   "metadata": {},
   "outputs": [],
   "source": [
    "# 구두점, 부사류만 제거\n",
    "filteredList = FreqDist()\n",
    "for token in freqTagged: # tupple(단어, 품사)\n",
    "    if token[1] not in [\"JKG\", \"JKO\", \"SP\"]: # 제거하고 싶은 품사 \n",
    "        filteredList[token] = freqTagged[token]"
   ]
  },
  {
   "cell_type": "code",
   "execution_count": null,
   "metadata": {},
   "outputs": [],
   "source": [
    "freqTagged.N(), freqTagged.most_common(50)"
   ]
  },
  {
   "cell_type": "code",
   "execution_count": 17,
   "metadata": {},
   "outputs": [
    {
     "data": {
      "image/png": "[encoded data removed]",
      "text/plain": [
       "<Figure size 432x288 with 1 Axes>"
      ]
     },
     "metadata": {
      "needs_background": "light"
     },
     "output_type": "display_data"
    }
   ],
   "source": [
    "from konlpy.tag import Okt, Kkma \n",
    "import matplotlib.pyplot as plt\n",
    "# 형태소분석을 한 것이 좀 더 선형에 가까운 그래프를 보여준다. \n",
    "# 형태소분석을 거치고 난 결과값이 더 균등하므로 학습에 유리하다. \n",
    "import math, os\n",
    "kkm = Kkma()\n",
    "\n",
    "# 14일에 수집했던 뉴스 기사들에 대해 형태소 분석 후 그래프 그려보기\n",
    "for file in os.listdir(\"./0314_DownloadedNewstxts\"):\n",
    "    if file.endswith(\".txt\"):\n",
    "        with open(\"./0314_DownloadedNewstxts/\" + file, encoding = \"utf-8\") as f:\n",
    "            corpus += f.read()\n",
    "            \n",
    "tokens = word_tokenize(corpus)\n",
    "tagged = kkm.pos(corpus)\n",
    "freqTokens = FreqDist()\n",
    "\n",
    "freqTokens = FreqDist()\n",
    "for token in tokens:\n",
    "    freqTokens[token] += 1\n",
    "\n",
    "freqTagged = FreqDist()\n",
    "for token in tagged:\n",
    "    freqTagged[token] +=1\n",
    "\n",
    "# word 단위, 품사 단위로 쪼개보기\n",
    "freqWord = FreqDist()\n",
    "for token in tagged:\n",
    "    freqWord[token[0]] +=1\n",
    "\n",
    "freqPos = FreqDist()\n",
    "for token in tagged:\n",
    "    freqPos[token[0]] +=1    \n",
    "\n",
    "x = range(1, 51)\n",
    "y = [pair[1] for pair in freqTokens.most_common(50)] # 빈도\n",
    "yy = [pair[1] for pair in freqTagged.most_common(50)] \n",
    "yyy = [pair[1] for pair in freqWord.most_common(50)] \n",
    "xx = range(1, 31)\n",
    "yyyy = [pair[1] for pair in freqPos.most_common(50)] \n",
    "\n",
    "_y = [math.log10(_) for _ in y]\n",
    "_yy = [math.log10(_) for _ in yy]\n",
    "_yyy = [math.log10(_) for _ in yyy]\n",
    "_yyyy = [math.log10(_) for _ in yyyy]\n",
    "\n",
    "plt.plot(x, _y, \"r-\")\n",
    "plt.plot(x, _yy, \"g-\")\n",
    "plt.plot(x, _yyy, \"b-\")\n",
    "plt.plot(x, _yyyy, \"y-\")\n",
    "plt.show()"
   ]
  },
  {
   "cell_type": "code",
   "execution_count": 44,
   "metadata": {},
   "outputs": [
    {
     "ename": "FileNotFoundError",
     "evalue": "[Errno 2] No such file or directory: \"C:\\\\Users\\\\brsta\\\\Anaconda3\\\\lib\\\\site-packages\\\\konlpy/data/corpus/kobill/['1809890.txt', '1809891.txt', '1809892.txt', '1809893.txt', '1809894.txt', '1809895.txt', '1809896.txt', '1809897.txt', '1809898.txt', '1809899.txt']\"",
     "traceback": [
      "\u001b[1;31m---------------------------------------------------------------------------\u001b[0m",
      "\u001b[1;31mFileNotFoundError\u001b[0m                         Traceback (most recent call last)",
      "\u001b[1;32m<ipython-input-44-cb350656fb1e>\u001b[0m in \u001b[0;36m<module>\u001b[1;34m\u001b[0m\n\u001b[0;32m      9\u001b[0m \u001b[1;31m# corpus=\"\"\u001b[0m\u001b[1;33m\u001b[0m\u001b[1;33m\u001b[0m\u001b[1;33m\u001b[0m\u001b[0m\n\u001b[0;32m     10\u001b[0m \u001b[1;32mfor\u001b[0m \u001b[0mfile\u001b[0m \u001b[1;32min\u001b[0m \u001b[0mkobill\u001b[0m\u001b[1;33m.\u001b[0m\u001b[0mfileids\u001b[0m\u001b[1;33m(\u001b[0m\u001b[1;33m)\u001b[0m\u001b[1;33m:\u001b[0m\u001b[1;33m\u001b[0m\u001b[1;33m\u001b[0m\u001b[0m\n\u001b[1;32m---> 11\u001b[1;33m     \u001b[0mcorpus\u001b[0m \u001b[1;33m+=\u001b[0m \u001b[0mkobill\u001b[0m\u001b[1;33m.\u001b[0m\u001b[0mopen\u001b[0m\u001b[1;33m(\u001b[0m\u001b[0mkobill\u001b[0m\u001b[1;33m.\u001b[0m\u001b[0mfileids\u001b[0m\u001b[1;33m(\u001b[0m\u001b[1;33m)\u001b[0m\u001b[1;33m)\u001b[0m\u001b[1;33m\u001b[0m\u001b[1;33m\u001b[0m\u001b[0m\n\u001b[0m\u001b[0;32m     12\u001b[0m \u001b[1;33m\u001b[0m\u001b[0m\n\u001b[0;32m     13\u001b[0m \u001b[0mcorpus\u001b[0m \u001b[1;33m=\u001b[0m \u001b[0mkobill\u001b[0m\u001b[1;33m.\u001b[0m\u001b[0mopen\u001b[0m\u001b[1;33m(\u001b[0m\u001b[0mkobill\u001b[0m\u001b[1;33m.\u001b[0m\u001b[0mfileids\u001b[0m\u001b[1;33m(\u001b[0m\u001b[1;33m)\u001b[0m\u001b[1;33m[\u001b[0m\u001b[1;36m0\u001b[0m\u001b[1;33m]\u001b[0m\u001b[1;33m)\u001b[0m\u001b[1;33m.\u001b[0m\u001b[0mread\u001b[0m\u001b[1;33m(\u001b[0m\u001b[1;33m)\u001b[0m\u001b[1;33m\u001b[0m\u001b[1;33m\u001b[0m\u001b[0m\n",
      "\u001b[1;32m~\\Anaconda3\\lib\\site-packages\\konlpy\\corpus.py\u001b[0m in \u001b[0;36mopen\u001b[1;34m(self, filename)\u001b[0m\n\u001b[0;32m     44\u001b[0m         \u001b[1;33m:\u001b[0m\u001b[0mparam\u001b[0m \u001b[0mfilename\u001b[0m\u001b[1;33m:\u001b[0m \u001b[0mName\u001b[0m \u001b[0mof\u001b[0m \u001b[0ma\u001b[0m \u001b[0mparticular\u001b[0m \u001b[0mfile\u001b[0m \u001b[1;32min\u001b[0m \u001b[0mthe\u001b[0m \u001b[0mcorpus\u001b[0m\u001b[1;33m.\u001b[0m\u001b[1;33m\u001b[0m\u001b[1;33m\u001b[0m\u001b[0m\n\u001b[0;32m     45\u001b[0m         \"\"\"\n\u001b[1;32m---> 46\u001b[1;33m         \u001b[1;32mreturn\u001b[0m \u001b[0mutils\u001b[0m\u001b[1;33m.\u001b[0m\u001b[0mload_txt\u001b[0m\u001b[1;33m(\u001b[0m\u001b[0mself\u001b[0m\u001b[1;33m.\u001b[0m\u001b[0mabspath\u001b[0m\u001b[1;33m(\u001b[0m\u001b[0mfilename\u001b[0m\u001b[1;33m)\u001b[0m\u001b[1;33m)\u001b[0m\u001b[1;33m\u001b[0m\u001b[1;33m\u001b[0m\u001b[0m\n\u001b[0m\u001b[0;32m     47\u001b[0m \u001b[1;33m\u001b[0m\u001b[0m\n\u001b[0;32m     48\u001b[0m     \u001b[1;32mdef\u001b[0m \u001b[0m__init__\u001b[0m\u001b[1;33m(\u001b[0m\u001b[0mself\u001b[0m\u001b[1;33m,\u001b[0m \u001b[0mname\u001b[0m\u001b[1;33m=\u001b[0m\u001b[1;32mNone\u001b[0m\u001b[1;33m)\u001b[0m\u001b[1;33m:\u001b[0m\u001b[1;33m\u001b[0m\u001b[1;33m\u001b[0m\u001b[0m\n",
      "\u001b[1;32m~\\Anaconda3\\lib\\site-packages\\konlpy\\utils.py\u001b[0m in \u001b[0;36mload_txt\u001b[1;34m(filename, encoding)\u001b[0m\n\u001b[0;32m    184\u001b[0m     \u001b[0mTo\u001b[0m \u001b[0mread\u001b[0m \u001b[0ma\u001b[0m \u001b[0mfile\u001b[0m\u001b[1;33m,\u001b[0m \u001b[0muse\u001b[0m\u001b[0;31m \u001b[0m\u001b[0;31m`\u001b[0m\u001b[0;31m`\u001b[0m\u001b[0mread_txt\u001b[0m\u001b[1;33m(\u001b[0m\u001b[1;33m)\u001b[0m\u001b[0;31m`\u001b[0m\u001b[0;31m`\u001b[0m\u001b[0minstead\u001b[0m\u001b[1;33m.\u001b[0m\u001b[1;33m\u001b[0m\u001b[1;33m\u001b[0m\u001b[0m\n\u001b[0;32m    185\u001b[0m     \"\"\"\n\u001b[1;32m--> 186\u001b[1;33m     \u001b[1;32mreturn\u001b[0m \u001b[0mio\u001b[0m\u001b[1;33m.\u001b[0m\u001b[0mopen\u001b[0m\u001b[1;33m(\u001b[0m\u001b[0mfilename\u001b[0m\u001b[1;33m,\u001b[0m \u001b[1;34m'r'\u001b[0m\u001b[1;33m,\u001b[0m \u001b[0mencoding\u001b[0m\u001b[1;33m=\u001b[0m\u001b[0mencoding\u001b[0m\u001b[1;33m)\u001b[0m\u001b[1;33m\u001b[0m\u001b[1;33m\u001b[0m\u001b[0m\n\u001b[0m\u001b[0;32m    187\u001b[0m \u001b[1;33m\u001b[0m\u001b[0m\n\u001b[0;32m    188\u001b[0m \u001b[1;33m\u001b[0m\u001b[0m\n",
      "\u001b[1;31mFileNotFoundError\u001b[0m: [Errno 2] No such file or directory: \"C:\\\\Users\\\\brsta\\\\Anaconda3\\\\lib\\\\site-packages\\\\konlpy/data/corpus/kobill/['1809890.txt', '1809891.txt', '1809892.txt', '1809893.txt', '1809894.txt', '1809895.txt', '1809896.txt', '1809897.txt', '1809898.txt', '1809899.txt']\""
     ],
     "output_type": "error"
    }
   ],
   "source": [
    "from nltk.collocations import BigramAssocMeasures, BigramCollocationFinder\n",
    "from nltk.corpus import gutenberg\n",
    "from konlpy.corpus import kolaw, kobill\n",
    "from string import  punctuation\n",
    "import re\n",
    "\n",
    "corpus = gutenberg.open(gutenberg.fileids()[0]).read()\n",
    "# corpus = kolaw.open(kolaw.fileids()[0]).read()\n",
    "# corpus=\"\"\n",
    "for file in kobill.fileids():\n",
    "    corpus += kobill.open(kobill.fileids())\n",
    "\n",
    "corpus = kobill.open(kobill.fileids()[0]).read()\n",
    "corpus = re.sub(r\"[%s]\" % re.escape(punctuation), \" \", corpus)"
   ]
  },
  {
   "cell_type": "code",
   "execution_count": 42,
   "metadata": {},
   "outputs": [],
   "source": [
    "tokens = word_tokenize(corpus)\n",
    "result = []\n",
    "for term in tokens:\n",
    "    result.extend(kkm.pos(term))\n",
    "bigram = BigramCollocationFinder.from_words(result) # bigram 객체 생성\n",
    "measure = BigramAssocMeasures()"
   ]
  },
  {
   "cell_type": "code",
   "execution_count": 43,
   "metadata": {},
   "outputs": [
    {
     "data": {
      "text/plain": [
       "[(('``', 'SW'), ('나', 'NP')),\n",
       " (('강제', 'NNG'), ('노역', 'NNG')),\n",
       " (('경자', 'NNG'), ('유전', 'NNG')),\n",
       " (('공중', 'NNG'), ('도덕', 'NNG')),\n",
       " (('교전', 'NNG'), ('상태', 'NNG')),\n",
       " (('기본적', 'NNG'), ('인권', 'NNG')),\n",
       " (('내부', 'NNG'), ('규율', 'NNG')),\n",
       " (('누구', 'NP'), ('든지', 'JX')),\n",
       " (('다수', 'NNG'), ('표', 'NNG')),\n",
       " (('담임', 'NNG'), ('권', 'XSN'))]"
      ]
     },
     "execution_count": 43,
     "metadata": {},
     "output_type": "execute_result"
    }
   ],
   "source": [
    "# bigram.nbest(measure.pmi, 10) # 제일 무난한 통계 기법. 감성 분석에도 응용됨. \n",
    "bigram.nbest(measure.chi_sq, 10) # 제일 무난한 통계 기법. 감성 분석에도 응용됨. "
   ]
  },
  {
   "cell_type": "code",
   "execution_count": null,
   "metadata": {},
   "outputs": [],
   "source": []
  },
  {
   "cell_type": "code",
   "execution_count": null,
   "metadata": {},
   "outputs": [],
   "source": []
  },
  {
   "cell_type": "code",
   "execution_count": null,
   "metadata": {},
   "outputs": [],
   "source": []
  },
  {
   "cell_type": "code",
   "execution_count": null,
   "metadata": {},
   "outputs": [],
   "source": []
  }
 ],
 "metadata": {
  "kernelspec": {
   "display_name": "Python 3",
   "language": "python",
   "name": "python3"
  },
  "language_info": {
   "codemirror_mode": {
    "name": "ipython",
    "version": 3
   },
   "file_extension": ".py",
   "mimetype": "text/x-python",
   "name": "python",
   "nbconvert_exporter": "python",
   "pygments_lexer": "ipython3",
   "version": "3.7.1"
  }
 },
 "nbformat": 4,
 "nbformat_minor": 2
}
