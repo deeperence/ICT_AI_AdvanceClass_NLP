{
 "cells": [
  {
   "cell_type": "code",
   "execution_count": 1,
   "metadata": {},
   "outputs": [],
   "source": [
    "# 이 코드에서는 구문 분석을 수행한 후 시각화(ParseTree, WordCloud)하는 방법에 대해 알아봅니다. \n",
    "import re\n",
    "from string import punctuation\n",
    "from nltk.tokenize import word_tokenize\n",
    "from nltk import pos_tag"
   ]
  },
  {
   "cell_type": "code",
   "execution_count": 2,
   "metadata": {},
   "outputs": [
    {
     "name": "stdout",
     "output_type": "stream",
     "text": [
      "[('the', 'DT'), ('little', 'JJ'), ('yellow', 'JJ'), ('dog', 'NN'), ('braked', 'VBD'), ('at', 'IN'), ('the', 'DT'), ('cat', 'NN'), ('.', '.')]\n"
     ]
    }
   ],
   "source": [
    "from nltk import word_tokenize, pos_tag\n",
    "from nltk.help import upenn_tagset # 품사 약자가 뭔지 알려줌. \n",
    "\n",
    "sentence = \"the little yellow dog braked at the cat.\"\n",
    "tagged = pos_tag(word_tokenize(sentence)) # 품사 분석\n",
    "print(tagged)"
   ]
  },
  {
   "cell_type": "code",
   "execution_count": 3,
   "metadata": {},
   "outputs": [
    {
     "name": "stdout",
     "output_type": "stream",
     "text": [
      "NN: noun, common, singular or mass\n    common-carrier cabbage knuckle-duster Casino afghan shed thermostat\n    investment slide humour falloff slick wind hyena override subhumanity\n    machinist ...\nNNP: noun, proper, singular\n    Motown Venneboerger Czestochwa Ranzer Conchita Trumplane Christos\n    Oceanside Escobar Kreisler Sawyer Cougar Yvette Ervin ODI Darryl CTCA\n    Shannon A.K.C. Meltex Liverpool ...\nNNPS: noun, proper, plural\n    Americans Americas Amharas Amityvilles Amusements Anarcho-Syndicalists\n    Andalusians Andes Andruses Angels Animals Anthony Antilles Antiques\n    Apache Apaches Apocrypha ...\nNNS: noun, common, plural\n    undergraduates scotches bric-a-brac products bodyguards facets coasts\n    divestitures storehouses designs clubs fragrances averages\n    subjectivists apprehensions muses factory-jobs ...\nJJ: adjective or numeral, ordinal\n    third ill-mannered pre-war regrettable oiled calamitous first separable\n    ectoplasmic battery-powered participatory fourth still-to-be-named\n    multilingual multi-disciplinary ...\nJJR: adjective, comparative\n    bleaker braver breezier briefer brighter brisker broader bumper busier\n    calmer cheaper choosier cleaner clearer closer colder commoner costlier\n    cozier creamier crunchier cuter ...\nJJS: adjective, superlative\n    calmest cheapest choicest classiest cleanest clearest closest commonest\n    corniest costliest crassest creepiest crudest cutest darkest deadliest\n    dearest deepest densest dinkiest ...\nNo matching tags found.\n"
     ]
    }
   ],
   "source": [
    "upenn_tagset(\"NN.*\") # 품사 약자가 뭔지 알려줌. .*을 붙이면 NN으로 시작하는 모든 태그 설명 출력. \n",
    "upenn_tagset(\"JJ.*\")\n",
    "upenn_tagset(\"VP\")"
   ]
  },
  {
   "cell_type": "markdown",
   "metadata": {},
   "source": [
    "출력된 정보를 이용해서 규칙을 만든다."
   ]
  },
  {
   "cell_type": "code",
   "execution_count": null,
   "metadata": {},
   "outputs": [],
   "source": [
    "# 영어로 Parsetree 분석해보기\n",
    "from nltk.chunk.regexp import RegexpParser\n",
    "\n",
    "# DT+NN이거나 NN인 것들을 찾아야 함. \n",
    "rules = RegexpParser(\"NP: {<DT>?<JJ.*>*<NN.*>}\") # '있을수도 있고 없을수도 있음'을 알려주는 정규식을 삽입.\n",
    "parseTree = rules.parse(tagged)\n",
    "parseTree.draw()\n",
    "# parseTree"
   ]
  },
  {
   "cell_type": "markdown",
   "metadata": {},
   "source": [
    "사용할 정규식 설명 : \n",
    "- 있거나 없거나 : ?\n",
    "- 없거나 여러개 있거나 : *\n",
    "- 1개 이상 있거나(1-n) : +\n",
    "\n",
    "Rules : \n",
    "~~~\n",
    "NP: {<DT>?<JJ.*>*<NN.*>}\n",
    "NP: {<DT>?<NN.*>}\n",
    "~~~\n"
   ]
  },
  {
   "cell_type": "code",
   "execution_count": null,
   "metadata": {},
   "outputs": [
    {
     "data": {
      "text/plain": [
       "[('내', 'NP'),\n",
       " ('친구', 'NNG'),\n",
       " ('가', 'JKS'),\n",
       " ('잠', 'NNG'),\n",
       " ('을', 'JKO'),\n",
       " ('많이', 'MAG'),\n",
       " ('자', 'VV'),\n",
       " ('ㄴ다', 'EFN'),\n",
       " ('.', 'SF')]"
      ]
     },
     "execution_count": 63,
     "metadata": {},
     "output_type": "execute_result"
    }
   ],
   "source": [
    "# 한글로 Parsetree 분석해보기\n",
    "from konlpy.tag import Kkma # 꼬마 모듈 임포트\n",
    "\n",
    "sentence = \"내 친구가 잠을 많이 잔다.\"\n",
    "tagged = Kkma().pos(sentence)\n",
    "tagged"
   ]
  },
  {
   "cell_type": "code",
   "execution_count": null,
   "metadata": {
    "scrolled": true
   },
   "outputs": [
    {
     "data": {
      "text/plain": [
       "{'EC': '연결 어미',\n",
       " 'ECD': '의존적 연결 어미',\n",
       " 'ECE': '대등 연결 어미',\n",
       " 'ECS': '보조적 연결 어미',\n",
       " 'EF': '종결 어미',\n",
       " 'EFA': '청유형 종결 어미',\n",
       " 'EFI': '감탄형 종결 어미',\n",
       " 'EFN': '평서형 종결 어미',\n",
       " 'EFO': '명령형 종결 어미',\n",
       " 'EFQ': '의문형 종결 어미',\n",
       " 'EFR': '존칭형 종결 어미',\n",
       " 'EP': '선어말 어미',\n",
       " 'EPH': '존칭 선어말 어미',\n",
       " 'EPP': '공손 선어말 어미',\n",
       " 'EPT': '시제 선어말 어미',\n",
       " 'ET': '전성 어미',\n",
       " 'ETD': '관형형 전성 어미',\n",
       " 'ETN': '명사형 전성 어미',\n",
       " 'IC': '감탄사',\n",
       " 'JC': '접속 조사',\n",
       " 'JK': '조사',\n",
       " 'JKC': '보격 조사',\n",
       " 'JKG': '관형격 조사',\n",
       " 'JKI': '호격 조사',\n",
       " 'JKM': '부사격 조사',\n",
       " 'JKO': '목적격 조사',\n",
       " 'JKQ': '인용격 조사',\n",
       " 'JKS': '주격 조사',\n",
       " 'JX': '보조사',\n",
       " 'MA': '부사',\n",
       " 'MAC': '접속 부사',\n",
       " 'MAG': '일반 부사',\n",
       " 'MD': '관형사',\n",
       " 'MDN': '수 관형사',\n",
       " 'MDT': '일반 관형사',\n",
       " 'NN': '명사',\n",
       " 'NNB': '일반 의존 명사',\n",
       " 'NNG': '보통명사',\n",
       " 'NNM': '단위 의존 명사',\n",
       " 'NNP': '고유명사',\n",
       " 'NP': '대명사',\n",
       " 'NR': '수사',\n",
       " 'OH': '한자',\n",
       " 'OL': '외국어',\n",
       " 'ON': '숫자',\n",
       " 'SE': '줄임표',\n",
       " 'SF': '마침표, 물음표, 느낌표',\n",
       " 'SO': '붙임표(물결,숨김,빠짐)',\n",
       " 'SP': '쉼표,가운뎃점,콜론,빗금',\n",
       " 'SS': '따옴표,괄호표,줄표',\n",
       " 'SW': '기타기호 (논리수학기호,화폐기호)',\n",
       " 'UN': '명사추정범주',\n",
       " 'VA': '형용사',\n",
       " 'VC': '지정사',\n",
       " 'VCN': \"부정 지정사, 형용사 '아니다'\",\n",
       " 'VCP': \"긍정 지정사, 서술격 조사 '이다'\",\n",
       " 'VV': '동사',\n",
       " 'VX': '보조 용언',\n",
       " 'VXA': '보조 형용사',\n",
       " 'VXV': '보조 동사',\n",
       " 'XP': '접두사',\n",
       " 'XPN': '체언 접두사',\n",
       " 'XPV': '용언 접두사',\n",
       " 'XR': '어근',\n",
       " 'XSA': '형용사 파생 접미사',\n",
       " 'XSN': '명사파생 접미사',\n",
       " 'XSV': '동사 파생 접미사'}"
      ]
     },
     "execution_count": 64,
     "metadata": {},
     "output_type": "execute_result"
    }
   ],
   "source": [
    "Kkma().tagset # 태그셋 전부 출력해보기"
   ]
  },
  {
   "cell_type": "code",
   "execution_count": null,
   "metadata": {},
   "outputs": [
    {
     "name": "stdout",
     "output_type": "stream",
     "text": [
      "(S\n",
      "  (NP 내/NP 친구/NNG 가/JKS)\n",
      "  (NP 잠/NNG 을/JKO)\n",
      "  (VP 많이/MAG 자/VV ㄴ다/EFN)\n",
      "  ./SF)\n"
     ]
    }
   ],
   "source": [
    "rules = RegexpParser(\"\"\"\n",
    "    NP: {<N.*>+<JK.*>}\n",
    "    VP: {<MA.*>*<VV.*><EF.*>}\n",
    "\"\"\")\n",
    "parseTree = rules.parse(tagged) # 객체로 만들어두면 이터러블한 객체가 생성되며, 서브트리를 탐색할 수 있게 된다. \n",
    "rules.parse(tagged).pprint()\n",
    "rules.parse(tagged).draw()"
   ]
  },
  {
   "cell_type": "markdown",
   "metadata": {},
   "source": [
    "Rules : \n",
    "~~~\n",
    "NP: {<N.*>+<JK.*>} # 명사구 정의\n",
    "VP: {<MA.*>*<VV.*><EF.*>} # 동사구 정의(종결형 어미로 끝나야 함.)\n",
    "~~~\n"
   ]
  },
  {
   "cell_type": "code",
   "execution_count": null,
   "metadata": {},
   "outputs": [
    {
     "name": "stdout",
     "output_type": "stream",
     "text": [
      "(NP 내/NP 친구/NNG 가/JKS)\n",
      "(NP 잠/NNG 을/JKO)\n"
     ]
    }
   ],
   "source": [
    "for subtree in parseTree.subtrees(): # 위에있는것은 3개니까 trigram으로 생각해볼 수 있음. \n",
    "        if subtree.label() == \"NP\":\n",
    "            print(subtree)"
   ]
  },
  {
   "cell_type": "code",
   "execution_count": null,
   "metadata": {},
   "outputs": [],
   "source": [
    "# 영어 문장으로 parsetree 뽑는 연습해보기\n",
    "sentense1 = \"I shot an elephant in my pajamas.\"\n",
    "sentence2 = \"The dog saw a man in the park.\"\n",
    "sentence3 = \"The angry bear chased the frightened little squirrel.\"\n",
    "sentence4 = \"The little bear saw the fine fat trout in the brook.\"\n",
    "\n",
    "# pos_tag 분석\n",
    "tagged1 = pos_tag(word_tokenize(sentense1)) # 품사 분석\n",
    "tagged2 = pos_tag(word_tokenize(sentence2))\n",
    "tagged3 = pos_tag(word_tokenize(sentence3))\n",
    "tagged4 = pos_tag(word_tokenize(sentence4))\n",
    "print(tagged3)\n",
    "upenn_tagset(\"JJ.*\")\n",
    "\n",
    "# rules 패턴정의\n",
    "rulesGeneral = RegexpParser('''\n",
    "N: {<NN.*>}\n",
    "V: {<VB.*>}\n",
    "P: {<IN>}\n",
    "Adj: {<JJ.*>}\n",
    "Det: {<DT|PRP\\$>}\n",
    "Nom: {<Adj|Nom><N>}\n",
    "Nom: {<Adj|Nom><Nom>}\n",
    "NP: {<Det>?<N>$}\n",
    "NP: {<Det>?<PRP|Nom>}\n",
    "PP: {<P><NP>}\n",
    "NP: {<Det>?<N><PP>}\n",
    "NP: {<Det>?<N>}\n",
    "VP: {<V><NP>}\n",
    "VP: {<VP><NP>}\n",
    "''')\n",
    "\n",
    "# parseTree 정의\n",
    "parseTree1 = rulesGeneral.parse(tagged4)\n",
    "parseTree1.draw()\n",
    "rules1.parse(tagged1).pprint()"
   ]
  },
  {
   "cell_type": "markdown",
   "metadata": {},
   "source": [
    "사용할 정규식 설명 :\n",
    "\n",
    "- 있거나 없거나 : ?\n",
    "- 없거나 여러개 있거나 : *\n",
    "- 1개 이상 있거나(1-n) : +\n",
    "\n",
    "rule 정의하기\n",
    "- 2, 4번같은경우 중의성 문제 때문에 NP를 올바른 위치에 정의하기 어렵다.(rulesGeneral은 1, 2, 3, 4번 모두에서 꽤 잘 작동하지만 세부 트리는 수정해 주어야 함.)\n",
    "- bag-of-word는 맨 마지막 엘리먼트만으로 구성되기 때문에, NP와 같이 어느 단어가 누구를 수식하는지에 대한 지역 정보를 잃어버린다. 따라서 parsetree를 구축해야 의미를 제대로 전달할 수 있다. \n"
   ]
  },
  {
   "cell_type": "code",
   "execution_count": 1,
   "metadata": {},
   "outputs": [
    {
     "name": "stdout",
     "output_type": "stream",
     "text": [
      "Requirement already satisfied: wordcloud in c:\\users\\brsta\\anaconda3\\lib\\site-packages (1.5.0)\nRequirement already satisfied: pillow in c:\\users\\brsta\\anaconda3\\lib\\site-packages (from wordcloud) (5.3.0)\nRequirement already satisfied: numpy>=1.6.1 in c:\\users\\brsta\\anaconda3\\lib\\site-packages (from wordcloud) (1.15.4)\n"
     ]
    }
   ],
   "source": [
    "# 태그들의 빈도를 갖고 클라우드를 그려 시각화해주는 모듈\n",
    "!pip install wordcloud "
   ]
  },
  {
   "cell_type": "code",
   "execution_count": 219,
   "metadata": {},
   "outputs": [],
   "source": [
    "from konlpy.corpus import kolaw\n",
    "from konlpy.tag import Kkma # 꼬마 모듈(형태소분석기) 임포트\n",
    "import os\n",
    "\n",
    "# 경제, IT과학 분야 기사를 담기 위한 빈 객체 두개 생성\n",
    "corpus_Eco = \"\"\n",
    "corpus_ITSci = \"\"\n",
    "txtfilespath = \"./0314_DownloadedNewstxts\" # 긁어왔던 기사가 저장되어 있는 폴더\n",
    "\n",
    "for file in os.listdir(\"./0314_DownloadedNewstxts\"):\n",
    "    if file.endswith(\".txt\") and file.startswith(\"경제\"): # '경제'로 시작하고 .txt로 끝나는 파일\n",
    "        with open(\"./0314_DownloadedNewstxts/\" + file, encoding = \"utf-8\") as f:\n",
    "            corpus_Eco += f.read() # 읽어오는 내용들을 계속해서 추가\n",
    "\n",
    "for file in os.listdir(\"./0314_DownloadedNewstxts\"):\n",
    "    if file.endswith(\".txt\") and file.startswith(\"IT과학\"):\n",
    "        with open(\"./0314_DownloadedNewstxts/\" + file, encoding = \"utf-8\") as f:\n",
    "            corpus_ITSci += f.read()\n",
    "\n",
    "# corpus = kolaw.open(kolaw.fileids()[0]).read() # 법전 하나 읽어와서 corpus로 open하기\n",
    "tokens = [_[0] for _ in Kkma().pos(corpus_Eco) # 형태소 분석\n",
    "    if len(_[0]) > 1 and _[1].startswith(\"N\")] # 어미에 해당하는 부분 없애기\n",
    "tokens2 = [_[0] for _ in Kkma().pos(corpus_ITSci) # 형태소 분석\n",
    "    if len(_[0]) > 1 and _[1].startswith(\"N\")] # 어미에 해당하는 부분 없애기"
   ]
  },
  {
   "cell_type": "code",
   "execution_count": 220,
   "metadata": {},
   "outputs": [],
   "source": [
    "from nltk import Text\n",
    "textObj = Text(tokens)\n",
    "textObj2 = Text(tokens2)"
   ]
  },
  {
   "cell_type": "code",
   "execution_count": 225,
   "metadata": {},
   "outputs": [],
   "source": [
    "from wordcloud import WordCloud\n",
    "\n",
    "Fontpath = \"C:/windows/fonts/HMKMRHD.ttf\" # 한글 깨짐 방지를 위해 폰트를 지정해주기\n",
    "wc = WordCloud(font_path=Fontpath, max_words=30, background_color=\"white\")"
   ]
  },
  {
   "cell_type": "code",
   "execution_count": 226,
   "metadata": {},
   "outputs": [
    {
     "data": {
      "image/png": "[encoded data removed]",
      "text/plain": [
       "<PIL.Image.Image image mode=RGB size=400x200 at 0x20C01D73400>"
      ]
     },
     "execution_count": 226,
     "metadata": {},
     "output_type": "execute_result"
    }
   ],
   "source": [
    "termList = textObj.vocab()\n",
    "wc.generate_from_frequencies(termList)\n",
    "wc.to_image() # 이미지로 출력. 글자만 넣어야 함!!(튜플 넣으면 안돌아감.)"
   ]
  },
  {
   "cell_type": "code",
   "execution_count": 227,
   "metadata": {},
   "outputs": [
    {
     "data": {
      "image/png": "[encoded data removed]",
      "text/plain": [
       "<PIL.Image.Image image mode=RGB size=400x200 at 0x20C01A03358>"
      ]
     },
     "execution_count": 227,
     "metadata": {},
     "output_type": "execute_result"
    }
   ],
   "source": [
    "termList2 = textObj2.vocab()\n",
    "wc.generate_from_frequencies(termList2)\n",
    "wc.to_image() # 생활문화"
   ]
  },
  {
   "cell_type": "code",
   "execution_count": 228,
   "metadata": {},
   "outputs": [
    {
     "data": {
      "text/plain": [
       "'http://www.cs.virginia.edu/~hw5x/Course/IR2015/_site/lectures/'"
      ]
     },
     "execution_count": 228,
     "metadata": {},
     "output_type": "execute_result"
    }
   ],
   "source": [
    "\"http://www.cs.virginia.edu/~hw5x/Course/IR2015/_site/lectures/\" # 버지니아 공대 Information retrieval MOOC 강좌 링크"
   ]
  }
 ],
 "metadata": {
  "kernelspec": {
   "display_name": "Python 3",
   "language": "python",
   "name": "python3"
  },
  "language_info": {
   "codemirror_mode": {
    "name": "ipython",
    "version": 3
   },
   "file_extension": ".py",
   "mimetype": "text/x-python",
   "name": "python",
   "nbconvert_exporter": "python",
   "pygments_lexer": "ipython3",
   "version": "3.7.1"
  }
 },
 "nbformat": 4,
 "nbformat_minor": 2
}
