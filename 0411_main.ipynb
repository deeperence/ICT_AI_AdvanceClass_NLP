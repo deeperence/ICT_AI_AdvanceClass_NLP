{
 "cells": [
  {
   "cell_type": "code",
   "execution_count": 1,
   "metadata": {},
   "outputs": [],
   "source": [
    "# K-Means\n",
    "# K = 3, Data = (x, y), Cluster = Random(x, y) = mu, k={1,2,3}\n",
    "from random import randrange\n",
    "\n",
    "K=3\n",
    "N=100\n",
    "\n",
    "data = list()\n",
    "cluster = list()\n",
    "\n",
    "for i in range(N):\n",
    "    data.append((randrange(0, 100), randrange(0, 100))) # x좌표(randrange(0, 100)))와 y좌표에 대해 append\n",
    "                \n",
    "for i in range(K):\n",
    "    cluster.append((randrange(0, 100), randrange(0, 100))) # x좌표(randrange(0, 100)))와 y좌표에 대해 append"
   ]
  },
  {
   "cell_type": "code",
   "execution_count": 2,
   "metadata": {},
   "outputs": [
    {
     "data": {
      "text/plain": [
       "<Figure size 640x480 with 1 Axes>"
      ]
     },
     "metadata": {},
     "output_type": "display_data"
    }
   ],
   "source": [
    "# 2차원에서 그림 그려보기\n",
    "import matplotlib.pyplot as plt\n",
    "\n",
    "r = 1\n",
    "g = 2\n",
    "b = 3\n",
    "D = K # 색깔지정\n",
    "colorMap = (\"r\", \"g\", \"b\", \"k\")\n",
    "\n",
    "for i in range(N):\n",
    "    plt.scatter(data[i][0], data[i][1], alpha = 0.3, color = colorMap[-1]) # i라는 데이터의 x좌표와 y좌표를 뿌려줌, color는 colorMap[-1](검정색)\n",
    "    \n",
    "for i in range(K):\n",
    "    plt.scatter(cluster[i][0], cluster[i][1], color = colorMap[i])\n",
    "    \n",
    "plt.show()"
   ]
  },
  {
   "cell_type": "code",
   "execution_count": 3,
   "metadata": {},
   "outputs": [],
   "source": [
    "from math import sqrt\n",
    " \n",
    "# 다차원 공간에서 두 벡터 사이의 유클리디안 구하기\n",
    "def distance(x1, x2): # x1:(x, y), x2:(x, y)\n",
    "    _sum = 0.0\n",
    "    \n",
    "    for i in range(len(x1)):\n",
    "        _sum += (x1[i]-x2[i])**2\n",
    "    return sqrt(_sum)"
   ]
  },
  {
   "cell_type": "code",
   "execution_count": 4,
   "metadata": {},
   "outputs": [],
   "source": [
    "from math import log\n",
    "# x1 내적 x2 / x2길이 * x2길이\n",
    "\n",
    "def cosine(x1, x2): # 다차원 공간에서 두 벡터 사이의 내적 구하기\n",
    "    _sum = 0.0\n",
    "    x1Length = 0.0\n",
    "    x2Length = 0.0\n",
    "    \n",
    "    for i in range(len(x1)):\n",
    "        _sum += x1[i]*x2[i]\n",
    "        x1Length += x1[i]**2\n",
    "        x2Length += x2[i]**2\n",
    "    \n",
    "    return _sum / (sqrt(x1Length)*sqrt(x2Length)) "
   ]
  },
  {
   "cell_type": "code",
   "execution_count": 5,
   "metadata": {},
   "outputs": [],
   "source": [
    "# point = 1개, cluster = K개 \n",
    "def expectation(point, cluster, cos = False): # 하나의 데이터와 cluster 여러개, cosine함수를 쓸지말지 여부를 받아 expectation반환. \n",
    "    distList = list()\n",
    "    metric = cosine if cos else distance # cos가 true이면 cosine함수포인터를 넘겨줌\n",
    "    returnValue = max if cos else min\n",
    "    print(cluster)\n",
    "    for i in range(len(cluster)):\n",
    "#         distList.append(distance(point, cluster[i]))\n",
    "        distList.append(metric(point, cluster[i]))\n",
    "        \n",
    "#     return distList.index(min(distList)) # 거리가 최소가 되는 요소의 인덱스를 반환\n",
    "    return distList.index(returnValue(distList))# 코싸인값이 최대가 되어야 함. "
   ]
  },
  {
   "cell_type": "code",
   "execution_count": 6,
   "metadata": {},
   "outputs": [],
   "source": [
    "def maximization(data):\n",
    "    M = len(data) # 데이터의 개수. M을 분모로 둔다. \n",
    "    _vector = list(0.0 for _ in range(len(data[0]))) # 평균만큼 축을 만들어 주어야 한다. \n",
    "    \n",
    "    #모든 데이터에 대해서 \n",
    "    for i in range(len(data)):\n",
    "        for j in range(len(data[i])):\n",
    "            _vector[j] += data[i][j] # 모든 데이터마다 덧셈 수행        \n",
    "        return [_/M for _ in _vector] # 모든 벡터로부터 하나씩 뽑아서 평균낸 후 리스트로 반환"
   ]
  },
  {
   "cell_type": "code",
   "execution_count": 7,
   "metadata": {},
   "outputs": [],
   "source": [
    "def SSE(data, centeroid): # 각 센터로이드와 데이터 포인트들간의 거리 반환\n",
    "    sse = 0.0\n",
    "    \n",
    "    for point in data:\n",
    "        sse += distance(point, centeroid)\n",
    "    \n",
    "    return sse # 모든 데이터 포인트와 centroid간의 거리를 더한 값"
   ]
  },
  {
   "cell_type": "code",
   "execution_count": 8,
   "metadata": {},
   "outputs": [],
   "source": [
    "from random import sample"
   ]
  },
  {
   "cell_type": "code",
   "execution_count": 9,
   "metadata": {},
   "outputs": [
    {
     "name": "stdout",
     "output_type": "stream",
     "text": [
      "[(97, 85), (94, 45)]\n",
      "1\n",
      "[(97, 85), (94, 45)]\n",
      "0\n",
      "[(97, 85), (94, 45)]\n",
      "1\n",
      "[(97, 85), (94, 45)]\n",
      "0\n",
      "[(97, 85), (94, 45)]\n",
      "1\n",
      "[(97, 85), (94, 45)]\n",
      "1\n",
      "[(97, 85), (94, 45)]\n",
      "1\n",
      "[(97, 85), (94, 45)]\n",
      "1\n",
      "[(97, 85), (94, 45)]\n",
      "1\n",
      "[(97, 85), (94, 45)]\n",
      "1\n",
      "[(97, 85), (94, 45)]\n",
      "1\n",
      "[(97, 85), (94, 45)]\n",
      "0\n",
      "[(97, 85), (94, 45)]\n",
      "1\n",
      "[(97, 85), (94, 45)]\n",
      "1\n",
      "[(97, 85), (94, 45)]\n",
      "1\n",
      "[(97, 85), (94, 45)]\n",
      "1\n",
      "[(97, 85), (94, 45)]\n",
      "0\n",
      "[(97, 85), (94, 45)]\n",
      "1\n",
      "[(97, 85), (94, 45)]\n",
      "1\n",
      "[(97, 85), (94, 45)]\n",
      "1\n",
      "[(97, 85), (94, 45)]\n",
      "1\n",
      "[(97, 85), (94, 45)]\n",
      "1\n",
      "[(97, 85), (94, 45)]\n",
      "0\n",
      "[(97, 85), (94, 45)]\n",
      "1\n",
      "[(97, 85), (94, 45)]\n",
      "0\n",
      "[(97, 85), (94, 45)]\n",
      "0\n",
      "[(97, 85), (94, 45)]\n",
      "1\n",
      "[(97, 85), (94, 45)]\n",
      "0\n",
      "[(97, 85), (94, 45)]\n",
      "1\n",
      "[(97, 85), (94, 45)]\n",
      "1\n",
      "[(97, 85), (94, 45)]\n",
      "1\n",
      "[(97, 85), (94, 45)]\n",
      "1\n",
      "[(97, 85), (94, 45)]\n",
      "0\n",
      "[(97, 85), (94, 45)]\n",
      "1\n",
      "[(97, 85), (94, 45)]\n",
      "0\n",
      "[(97, 85), (94, 45)]\n",
      "1\n",
      "[(97, 85), (94, 45)]\n",
      "1\n",
      "[(97, 85), (94, 45)]\n",
      "1\n",
      "[(97, 85), (94, 45)]\n",
      "0\n",
      "[(97, 85), (94, 45)]\n",
      "0\n",
      "[(97, 85), (94, 45)]\n",
      "1\n",
      "[(97, 85), (94, 45)]\n",
      "0\n",
      "[(97, 85), (94, 45)]\n",
      "1\n",
      "[(97, 85), (94, 45)]\n",
      "1\n",
      "[(97, 85), (94, 45)]\n",
      "1\n",
      "[(97, 85), (94, 45)]\n",
      "1\n",
      "[(97, 85), (94, 45)]\n",
      "0\n",
      "[(97, 85), (94, 45)]\n",
      "1\n",
      "[(97, 85), (94, 45)]\n",
      "1\n",
      "[(97, 85), (94, 45)]\n",
      "1\n",
      "[(97, 85), (94, 45)]\n",
      "1\n",
      "[(97, 85), (94, 45)]\n",
      "1\n",
      "[(97, 85), (94, 45)]\n",
      "1\n",
      "[(97, 85), (94, 45)]\n",
      "0\n",
      "[(97, 85), (94, 45)]\n",
      "1\n",
      "[(97, 85), (94, 45)]\n",
      "1\n",
      "[(97, 85), (94, 45)]\n",
      "1\n",
      "[(97, 85), (94, 45)]\n",
      "1\n",
      "[(97, 85), (94, 45)]\n",
      "0\n",
      "[(97, 85), (94, 45)]\n",
      "1\n",
      "[(97, 85), (94, 45)]\n",
      "1\n",
      "[(97, 85), (94, 45)]\n",
      "0\n",
      "[(97, 85), (94, 45)]\n",
      "0\n",
      "[(97, 85), (94, 45)]\n",
      "1\n",
      "[(97, 85), (94, 45)]\n",
      "0\n",
      "[(97, 85), (94, 45)]\n",
      "1\n",
      "[(97, 85), (94, 45)]\n",
      "1\n",
      "[(97, 85), (94, 45)]\n",
      "1\n",
      "[(97, 85), (94, 45)]\n",
      "1\n",
      "[(97, 85), (94, 45)]\n",
      "0\n",
      "[(97, 85), (94, 45)]\n",
      "1\n",
      "[(97, 85), (94, 45)]\n",
      "1\n",
      "[(97, 85), (94, 45)]\n",
      "1\n",
      "[(97, 85), (94, 45)]\n",
      "1\n",
      "[(97, 85), (94, 45)]\n",
      "1\n",
      "[(97, 85), (94, 45)]\n",
      "1\n",
      "[(97, 85), (94, 45)]\n",
      "1\n",
      "[(97, 85), (94, 45)]\n",
      "1\n",
      "[(97, 85), (94, 45)]\n",
      "1\n",
      "[(97, 85), (94, 45)]\n",
      "1\n",
      "[(97, 85), (94, 45)]\n",
      "1\n",
      "[(97, 85), (94, 45)]\n",
      "1\n",
      "[(97, 85), (94, 45)]\n",
      "1\n",
      "[(97, 85), (94, 45)]\n",
      "1\n",
      "[(97, 85), (94, 45)]\n",
      "0\n",
      "[(97, 85), (94, 45)]\n",
      "1\n",
      "[(97, 85), (94, 45)]\n",
      "0\n",
      "[(97, 85), (94, 45)]\n",
      "0\n",
      "[(97, 85), (94, 45)]\n",
      "1\n",
      "[(97, 85), (94, 45)]\n",
      "0\n",
      "[(97, 85), (94, 45)]\n",
      "1\n",
      "[(97, 85), (94, 45)]\n",
      "0\n",
      "[(97, 85), (94, 45)]\n",
      "0\n",
      "[(97, 85), (94, 45)]\n",
      "1\n",
      "[(97, 85), (94, 45)]\n",
      "1\n",
      "[(97, 85), (94, 45)]\n",
      "1\n",
      "[(97, 85), (94, 45)]\n",
      "0\n",
      "[(97, 85), (94, 45)]\n",
      "0\n",
      "[(97, 85), (94, 45)]\n",
      "1\n",
      "[(97, 85), (94, 45)]\n",
      "1\n",
      "[[0, 1], [1, 0], [0, 1], [1, 0], [0, 1], [0, 1], [0, 1], [0, 1], [0, 1], [0, 1], [0, 1], [1, 0], [0, 1], [0, 1], [0, 1], [0, 1], [1, 0], [0, 1], [0, 1], [0, 1], [0, 1], [0, 1], [1, 0], [0, 1], [1, 0], [1, 0], [0, 1], [1, 0], [0, 1], [0, 1], [0, 1], [0, 1], [1, 0], [0, 1], [1, 0], [0, 1], [0, 1], [0, 1], [1, 0], [1, 0], [0, 1], [1, 0], [0, 1], [0, 1], [0, 1], [0, 1], [1, 0], [0, 1], [0, 1], [0, 1], [0, 1], [0, 1], [0, 1], [1, 0], [0, 1], [0, 1], [0, 1], [0, 1], [1, 0], [0, 1], [0, 1], [1, 0], [1, 0], [0, 1], [1, 0], [0, 1], [0, 1], [0, 1], [0, 1], [1, 0], [0, 1], [0, 1], [0, 1], [0, 1], [0, 1], [0, 1], [0, 1], [0, 1], [0, 1], [0, 1], [0, 1], [0, 1], [0, 1], [0, 1], [1, 0], [0, 1], [1, 0], [1, 0], [0, 1], [1, 0], [0, 1], [1, 0], [1, 0], [0, 1], [0, 1], [0, 1], [1, 0], [1, 0], [0, 1], [0, 1]]\n"
     ]
    },
    {
     "ename": "NameError",
     "evalue": "name 'sse' is not defined",
     "output_type": "error",
     "traceback": [
      "\u001b[1;31m---------------------------------------------------------------------------\u001b[0m",
      "\u001b[1;31mNameError\u001b[0m                                 Traceback (most recent call last)",
      "\u001b[1;32m<ipython-input-9-a46f1f177d3b>\u001b[0m in \u001b[0;36m<module>\u001b[1;34m\u001b[0m\n\u001b[0;32m     36\u001b[0m         \u001b[0mplt\u001b[0m\u001b[1;33m.\u001b[0m\u001b[0mshow\u001b[0m\u001b[1;33m(\u001b[0m\u001b[1;33m)\u001b[0m\u001b[1;33m\u001b[0m\u001b[1;33m\u001b[0m\u001b[0m\n\u001b[0;32m     37\u001b[0m \u001b[1;33m\u001b[0m\u001b[0m\n\u001b[1;32m---> 38\u001b[1;33m     \u001b[0mprint\u001b[0m\u001b[1;33m(\u001b[0m\u001b[0msse\u001b[0m\u001b[1;33m)\u001b[0m\u001b[1;33m\u001b[0m\u001b[1;33m\u001b[0m\u001b[0m\n\u001b[0m\u001b[0;32m     39\u001b[0m     \u001b[0msseList\u001b[0m\u001b[1;33m.\u001b[0m\u001b[0mappend\u001b[0m\u001b[1;33m(\u001b[0m\u001b[0msse\u001b[0m\u001b[1;33m)\u001b[0m\u001b[1;33m\u001b[0m\u001b[1;33m\u001b[0m\u001b[0m\n",
      "\u001b[1;31mNameError\u001b[0m: name 'sse' is not defined"
     ]
    }
   ],
   "source": [
    "# 찾아야 하는 parameter = 2개(rnk, mu)인데, mu는 k-randomly하게 할당함. \n",
    "# rnk = n번째 데이터가 k번째 클러스터에 속했는지를 {0, 1}로 저장. \n",
    "sseList = list()\n",
    "colorMap = colorMap = (\"r\", \"g\", \"b\", \"c\", \"m\", \"y\", \"C0\", \"C1\", \"C2\", \"C3\", \"C4\", \"C5\", \"k\")\n",
    "\n",
    "for k in range(2, 10):\n",
    "    cluster = sample(data, k)\n",
    "    \n",
    "    for _ in range(10):\n",
    "        rnk = list(list(0 for _ in range(k)) for _ in range(N)) # 리스트인데 0이 K개만큼 있어야하며 이것이 데이터 개수만큼 존재해야 하므로 또 list를 씌움. \n",
    "\n",
    "        # Expectation구하는 과정\n",
    "        for i in range(N):\n",
    "            c = expectation(data[i], cluster)\n",
    "            print(c)\n",
    "            rnk[i][c] = 1\n",
    "        print(rnk)\n",
    "        break\n",
    "        \n",
    "        # Sum squared error\n",
    "        sse = 0.0\n",
    "\n",
    "        # Maximization (특정 클러스터 c에 속하는 데이터의 평균)\n",
    "        for c in range(k):\n",
    "            subData = [data[i] for i in range(N) if rnk[i][c]] # rnk[c]는 특정 데이터 행을 가리킴. 이 값이 1이어야만 해당 클러스터에 속하는 데이터이다. \n",
    "            sse += SSE(subData, cluster[c])\n",
    "            cluster[c] = maximization(subData) # 기존의 클러스터를 maximization(subData)로 업데이트해줌. \n",
    "\n",
    "        for i in range(N):\n",
    "            color = rnk[i].index(max(rnk[i])) # max값은 1이 나올 것이며 이때의 인덱스를 구하고자 함. \n",
    "            plt.scatter(data[i][0], data[i][1], alpha = 0.3, color = colorMap[color]) # i라는 데이터의 x좌표와 y좌표를 뿌려줌, color는 colorMap[-1](검정색)\n",
    "\n",
    "        for i in range(K):\n",
    "            plt.scatter(cluster[i][0], cluster[i][1], color = colorMap[i])\n",
    "\n",
    "        plt.show()   \n",
    "            \n",
    "    print(sse)\n",
    "    sseList.append(sse)"
   ]
  },
  {
   "cell_type": "code",
   "execution_count": 10,
   "metadata": {},
   "outputs": [
    {
     "data": {
      "text/plain": [
       "[(97, 85), (94, 45)]"
      ]
     },
     "execution_count": 10,
     "metadata": {},
     "output_type": "execute_result"
    }
   ],
   "source": [
    "cluster"
   ]
  },
  {
   "cell_type": "code",
   "execution_count": 11,
   "metadata": {
    "scrolled": true
   },
   "outputs": [
    {
     "data": {
      "text/plain": [
       "[[0, 1],\n",
       " [1, 0],\n",
       " [0, 1],\n",
       " [1, 0],\n",
       " [0, 1],\n",
       " [0, 1],\n",
       " [0, 1],\n",
       " [0, 1],\n",
       " [0, 1],\n",
       " [0, 1],\n",
       " [0, 1],\n",
       " [1, 0],\n",
       " [0, 1],\n",
       " [0, 1],\n",
       " [0, 1],\n",
       " [0, 1],\n",
       " [1, 0],\n",
       " [0, 1],\n",
       " [0, 1],\n",
       " [0, 1],\n",
       " [0, 1],\n",
       " [0, 1],\n",
       " [1, 0],\n",
       " [0, 1],\n",
       " [1, 0],\n",
       " [1, 0],\n",
       " [0, 1],\n",
       " [1, 0],\n",
       " [0, 1],\n",
       " [0, 1],\n",
       " [0, 1],\n",
       " [0, 1],\n",
       " [1, 0],\n",
       " [0, 1],\n",
       " [1, 0],\n",
       " [0, 1],\n",
       " [0, 1],\n",
       " [0, 1],\n",
       " [1, 0],\n",
       " [1, 0],\n",
       " [0, 1],\n",
       " [1, 0],\n",
       " [0, 1],\n",
       " [0, 1],\n",
       " [0, 1],\n",
       " [0, 1],\n",
       " [1, 0],\n",
       " [0, 1],\n",
       " [0, 1],\n",
       " [0, 1],\n",
       " [0, 1],\n",
       " [0, 1],\n",
       " [0, 1],\n",
       " [1, 0],\n",
       " [0, 1],\n",
       " [0, 1],\n",
       " [0, 1],\n",
       " [0, 1],\n",
       " [1, 0],\n",
       " [0, 1],\n",
       " [0, 1],\n",
       " [1, 0],\n",
       " [1, 0],\n",
       " [0, 1],\n",
       " [1, 0],\n",
       " [0, 1],\n",
       " [0, 1],\n",
       " [0, 1],\n",
       " [0, 1],\n",
       " [1, 0],\n",
       " [0, 1],\n",
       " [0, 1],\n",
       " [0, 1],\n",
       " [0, 1],\n",
       " [0, 1],\n",
       " [0, 1],\n",
       " [0, 1],\n",
       " [0, 1],\n",
       " [0, 1],\n",
       " [0, 1],\n",
       " [0, 1],\n",
       " [0, 1],\n",
       " [0, 1],\n",
       " [0, 1],\n",
       " [1, 0],\n",
       " [0, 1],\n",
       " [1, 0],\n",
       " [1, 0],\n",
       " [0, 1],\n",
       " [1, 0],\n",
       " [0, 1],\n",
       " [1, 0],\n",
       " [1, 0],\n",
       " [0, 1],\n",
       " [0, 1],\n",
       " [0, 1],\n",
       " [1, 0],\n",
       " [1, 0],\n",
       " [0, 1],\n",
       " [0, 1]]"
      ]
     },
     "execution_count": 11,
     "metadata": {},
     "output_type": "execute_result"
    }
   ],
   "source": [
    "# rnk는 N개의 행과 K개의 열로 구성되어 있으며 1행 = c열 = 1\n",
    "\n",
    "rnk"
   ]
  },
  {
   "cell_type": "code",
   "execution_count": 17,
   "metadata": {},
   "outputs": [
    {
     "data": {
      "image/png": "[encoded data removed]",
      "text/plain": [
       "<Figure size 432x288 with 1 Axes>"
      ]
     },
     "metadata": {
      "needs_background": "light"
     },
     "output_type": "display_data"
    }
   ],
   "source": [
    "# 그림 그려보기\n",
    "\n",
    "for i in range(N):\n",
    "    color = rnk[i].index(max(rnk[i])) # max값은 1이 나올 것이며 이때의 인덱스를 구하고자 함. \n",
    "    plt.scatter(data[i][0], data[i][1], alpha = 0.3, color = colorMap[color]) # i라는 데이터의 x좌표와 y좌표를 뿌려줌, color는 colorMap[-1](검정색)\n",
    "\n",
    "for i in range(k):\n",
    "    plt.scatter(cluster[i][0], cluster[i][1], color = colorMap[i])\n",
    "    \n",
    "plt.show()"
   ]
  },
  {
   "cell_type": "code",
   "execution_count": 18,
   "metadata": {},
   "outputs": [
    {
     "ename": "ValueError",
     "evalue": "x and y must have same first dimension, but have shapes (10,) and (0,)",
     "output_type": "error",
     "traceback": [
      "\u001b[1;31m---------------------------------------------------------------------------\u001b[0m",
      "\u001b[1;31mValueError\u001b[0m                                Traceback (most recent call last)",
      "\u001b[1;32m<ipython-input-18-b10764187a91>\u001b[0m in \u001b[0;36m<module>\u001b[1;34m\u001b[0m\n\u001b[0;32m      1\u001b[0m \u001b[1;31m# 그림 그려보기\u001b[0m\u001b[1;33m\u001b[0m\u001b[1;33m\u001b[0m\u001b[1;33m\u001b[0m\u001b[0m\n\u001b[0;32m      2\u001b[0m \u001b[1;33m\u001b[0m\u001b[0m\n\u001b[1;32m----> 3\u001b[1;33m \u001b[0mplt\u001b[0m\u001b[1;33m.\u001b[0m\u001b[0mplot\u001b[0m\u001b[1;33m(\u001b[0m\u001b[0mrange\u001b[0m\u001b[1;33m(\u001b[0m\u001b[1;36m1\u001b[0m\u001b[1;33m,\u001b[0m \u001b[1;36m11\u001b[0m\u001b[1;33m)\u001b[0m\u001b[1;33m,\u001b[0m \u001b[0msseList\u001b[0m\u001b[1;33m)\u001b[0m\u001b[1;33m\u001b[0m\u001b[1;33m\u001b[0m\u001b[0m\n\u001b[0m\u001b[0;32m      4\u001b[0m \u001b[0mplt\u001b[0m\u001b[1;33m.\u001b[0m\u001b[0mshow\u001b[0m\u001b[1;33m(\u001b[0m\u001b[1;33m)\u001b[0m\u001b[1;33m\u001b[0m\u001b[1;33m\u001b[0m\u001b[0m\n",
      "\u001b[1;32m~\\Anaconda3\\lib\\site-packages\\matplotlib\\pyplot.py\u001b[0m in \u001b[0;36mplot\u001b[1;34m(scalex, scaley, data, *args, **kwargs)\u001b[0m\n\u001b[0;32m   2811\u001b[0m     return gca().plot(\n\u001b[0;32m   2812\u001b[0m         *args, scalex=scalex, scaley=scaley, **({\"data\": data} if data\n\u001b[1;32m-> 2813\u001b[1;33m         is not None else {}), **kwargs)\n\u001b[0m\u001b[0;32m   2814\u001b[0m \u001b[1;33m\u001b[0m\u001b[0m\n\u001b[0;32m   2815\u001b[0m \u001b[1;33m\u001b[0m\u001b[0m\n",
      "\u001b[1;32m~\\Anaconda3\\lib\\site-packages\\matplotlib\\__init__.py\u001b[0m in \u001b[0;36minner\u001b[1;34m(ax, data, *args, **kwargs)\u001b[0m\n\u001b[0;32m   1808\u001b[0m                         \u001b[1;34m\"the Matplotlib list!)\"\u001b[0m \u001b[1;33m%\u001b[0m \u001b[1;33m(\u001b[0m\u001b[0mlabel_namer\u001b[0m\u001b[1;33m,\u001b[0m \u001b[0mfunc\u001b[0m\u001b[1;33m.\u001b[0m\u001b[0m__name__\u001b[0m\u001b[1;33m)\u001b[0m\u001b[1;33m,\u001b[0m\u001b[1;33m\u001b[0m\u001b[1;33m\u001b[0m\u001b[0m\n\u001b[0;32m   1809\u001b[0m                         RuntimeWarning, stacklevel=2)\n\u001b[1;32m-> 1810\u001b[1;33m             \u001b[1;32mreturn\u001b[0m \u001b[0mfunc\u001b[0m\u001b[1;33m(\u001b[0m\u001b[0max\u001b[0m\u001b[1;33m,\u001b[0m \u001b[1;33m*\u001b[0m\u001b[0margs\u001b[0m\u001b[1;33m,\u001b[0m \u001b[1;33m**\u001b[0m\u001b[0mkwargs\u001b[0m\u001b[1;33m)\u001b[0m\u001b[1;33m\u001b[0m\u001b[1;33m\u001b[0m\u001b[0m\n\u001b[0m\u001b[0;32m   1811\u001b[0m \u001b[1;33m\u001b[0m\u001b[0m\n\u001b[0;32m   1812\u001b[0m         inner.__doc__ = _add_data_doc(inner.__doc__,\n",
      "\u001b[1;32m~\\Anaconda3\\lib\\site-packages\\matplotlib\\axes\\_axes.py\u001b[0m in \u001b[0;36mplot\u001b[1;34m(self, scalex, scaley, *args, **kwargs)\u001b[0m\n\u001b[0;32m   1609\u001b[0m         \u001b[0mkwargs\u001b[0m \u001b[1;33m=\u001b[0m \u001b[0mcbook\u001b[0m\u001b[1;33m.\u001b[0m\u001b[0mnormalize_kwargs\u001b[0m\u001b[1;33m(\u001b[0m\u001b[0mkwargs\u001b[0m\u001b[1;33m,\u001b[0m \u001b[0mmlines\u001b[0m\u001b[1;33m.\u001b[0m\u001b[0mLine2D\u001b[0m\u001b[1;33m.\u001b[0m\u001b[0m_alias_map\u001b[0m\u001b[1;33m)\u001b[0m\u001b[1;33m\u001b[0m\u001b[1;33m\u001b[0m\u001b[0m\n\u001b[0;32m   1610\u001b[0m \u001b[1;33m\u001b[0m\u001b[0m\n\u001b[1;32m-> 1611\u001b[1;33m         \u001b[1;32mfor\u001b[0m \u001b[0mline\u001b[0m \u001b[1;32min\u001b[0m \u001b[0mself\u001b[0m\u001b[1;33m.\u001b[0m\u001b[0m_get_lines\u001b[0m\u001b[1;33m(\u001b[0m\u001b[1;33m*\u001b[0m\u001b[0margs\u001b[0m\u001b[1;33m,\u001b[0m \u001b[1;33m**\u001b[0m\u001b[0mkwargs\u001b[0m\u001b[1;33m)\u001b[0m\u001b[1;33m:\u001b[0m\u001b[1;33m\u001b[0m\u001b[1;33m\u001b[0m\u001b[0m\n\u001b[0m\u001b[0;32m   1612\u001b[0m             \u001b[0mself\u001b[0m\u001b[1;33m.\u001b[0m\u001b[0madd_line\u001b[0m\u001b[1;33m(\u001b[0m\u001b[0mline\u001b[0m\u001b[1;33m)\u001b[0m\u001b[1;33m\u001b[0m\u001b[1;33m\u001b[0m\u001b[0m\n\u001b[0;32m   1613\u001b[0m             \u001b[0mlines\u001b[0m\u001b[1;33m.\u001b[0m\u001b[0mappend\u001b[0m\u001b[1;33m(\u001b[0m\u001b[0mline\u001b[0m\u001b[1;33m)\u001b[0m\u001b[1;33m\u001b[0m\u001b[1;33m\u001b[0m\u001b[0m\n",
      "\u001b[1;32m~\\Anaconda3\\lib\\site-packages\\matplotlib\\axes\\_base.py\u001b[0m in \u001b[0;36m_grab_next_args\u001b[1;34m(self, *args, **kwargs)\u001b[0m\n\u001b[0;32m    391\u001b[0m                 \u001b[0mthis\u001b[0m \u001b[1;33m+=\u001b[0m \u001b[0margs\u001b[0m\u001b[1;33m[\u001b[0m\u001b[1;36m0\u001b[0m\u001b[1;33m]\u001b[0m\u001b[1;33m,\u001b[0m\u001b[1;33m\u001b[0m\u001b[1;33m\u001b[0m\u001b[0m\n\u001b[0;32m    392\u001b[0m                 \u001b[0margs\u001b[0m \u001b[1;33m=\u001b[0m \u001b[0margs\u001b[0m\u001b[1;33m[\u001b[0m\u001b[1;36m1\u001b[0m\u001b[1;33m:\u001b[0m\u001b[1;33m]\u001b[0m\u001b[1;33m\u001b[0m\u001b[1;33m\u001b[0m\u001b[0m\n\u001b[1;32m--> 393\u001b[1;33m             \u001b[1;32myield\u001b[0m \u001b[1;32mfrom\u001b[0m \u001b[0mself\u001b[0m\u001b[1;33m.\u001b[0m\u001b[0m_plot_args\u001b[0m\u001b[1;33m(\u001b[0m\u001b[0mthis\u001b[0m\u001b[1;33m,\u001b[0m \u001b[0mkwargs\u001b[0m\u001b[1;33m)\u001b[0m\u001b[1;33m\u001b[0m\u001b[1;33m\u001b[0m\u001b[0m\n\u001b[0m\u001b[0;32m    394\u001b[0m \u001b[1;33m\u001b[0m\u001b[0m\n\u001b[0;32m    395\u001b[0m \u001b[1;33m\u001b[0m\u001b[0m\n",
      "\u001b[1;32m~\\Anaconda3\\lib\\site-packages\\matplotlib\\axes\\_base.py\u001b[0m in \u001b[0;36m_plot_args\u001b[1;34m(self, tup, kwargs)\u001b[0m\n\u001b[0;32m    368\u001b[0m             \u001b[0mx\u001b[0m\u001b[1;33m,\u001b[0m \u001b[0my\u001b[0m \u001b[1;33m=\u001b[0m \u001b[0mindex_of\u001b[0m\u001b[1;33m(\u001b[0m\u001b[0mtup\u001b[0m\u001b[1;33m[\u001b[0m\u001b[1;33m-\u001b[0m\u001b[1;36m1\u001b[0m\u001b[1;33m]\u001b[0m\u001b[1;33m)\u001b[0m\u001b[1;33m\u001b[0m\u001b[1;33m\u001b[0m\u001b[0m\n\u001b[0;32m    369\u001b[0m \u001b[1;33m\u001b[0m\u001b[0m\n\u001b[1;32m--> 370\u001b[1;33m         \u001b[0mx\u001b[0m\u001b[1;33m,\u001b[0m \u001b[0my\u001b[0m \u001b[1;33m=\u001b[0m \u001b[0mself\u001b[0m\u001b[1;33m.\u001b[0m\u001b[0m_xy_from_xy\u001b[0m\u001b[1;33m(\u001b[0m\u001b[0mx\u001b[0m\u001b[1;33m,\u001b[0m \u001b[0my\u001b[0m\u001b[1;33m)\u001b[0m\u001b[1;33m\u001b[0m\u001b[1;33m\u001b[0m\u001b[0m\n\u001b[0m\u001b[0;32m    371\u001b[0m \u001b[1;33m\u001b[0m\u001b[0m\n\u001b[0;32m    372\u001b[0m         \u001b[1;32mif\u001b[0m \u001b[0mself\u001b[0m\u001b[1;33m.\u001b[0m\u001b[0mcommand\u001b[0m \u001b[1;33m==\u001b[0m \u001b[1;34m'plot'\u001b[0m\u001b[1;33m:\u001b[0m\u001b[1;33m\u001b[0m\u001b[1;33m\u001b[0m\u001b[0m\n",
      "\u001b[1;32m~\\Anaconda3\\lib\\site-packages\\matplotlib\\axes\\_base.py\u001b[0m in \u001b[0;36m_xy_from_xy\u001b[1;34m(self, x, y)\u001b[0m\n\u001b[0;32m    229\u001b[0m         \u001b[1;32mif\u001b[0m \u001b[0mx\u001b[0m\u001b[1;33m.\u001b[0m\u001b[0mshape\u001b[0m\u001b[1;33m[\u001b[0m\u001b[1;36m0\u001b[0m\u001b[1;33m]\u001b[0m \u001b[1;33m!=\u001b[0m \u001b[0my\u001b[0m\u001b[1;33m.\u001b[0m\u001b[0mshape\u001b[0m\u001b[1;33m[\u001b[0m\u001b[1;36m0\u001b[0m\u001b[1;33m]\u001b[0m\u001b[1;33m:\u001b[0m\u001b[1;33m\u001b[0m\u001b[1;33m\u001b[0m\u001b[0m\n\u001b[0;32m    230\u001b[0m             raise ValueError(\"x and y must have same first dimension, but \"\n\u001b[1;32m--> 231\u001b[1;33m                              \"have shapes {} and {}\".format(x.shape, y.shape))\n\u001b[0m\u001b[0;32m    232\u001b[0m         \u001b[1;32mif\u001b[0m \u001b[0mx\u001b[0m\u001b[1;33m.\u001b[0m\u001b[0mndim\u001b[0m \u001b[1;33m>\u001b[0m \u001b[1;36m2\u001b[0m \u001b[1;32mor\u001b[0m \u001b[0my\u001b[0m\u001b[1;33m.\u001b[0m\u001b[0mndim\u001b[0m \u001b[1;33m>\u001b[0m \u001b[1;36m2\u001b[0m\u001b[1;33m:\u001b[0m\u001b[1;33m\u001b[0m\u001b[1;33m\u001b[0m\u001b[0m\n\u001b[0;32m    233\u001b[0m             raise ValueError(\"x and y can be no greater than 2-D, but have \"\n",
      "\u001b[1;31mValueError\u001b[0m: x and y must have same first dimension, but have shapes (10,) and (0,)"
     ]
    },
    {
     "data": {
      "image/png": "[encoded data removed]",
      "text/plain": [
       "<Figure size 432x288 with 1 Axes>"
      ]
     },
     "metadata": {
      "needs_background": "light"
     },
     "output_type": "display_data"
    }
   ],
   "source": [
    "# 그림 그려보기\n",
    "\n",
    "plt.plot(range(1, 11), sseList)\n",
    "plt.show()\n"
   ]
  },
  {
   "cell_type": "code",
   "execution_count": 14,
   "metadata": {},
   "outputs": [
    {
     "ename": "ValueError",
     "evalue": "x and y must have same first dimension, but have shapes (8,) and (0,)",
     "output_type": "error",
     "traceback": [
      "\u001b[1;31m---------------------------------------------------------------------------\u001b[0m",
      "\u001b[1;31mValueError\u001b[0m                                Traceback (most recent call last)",
      "\u001b[1;32m<ipython-input-14-c9268ab38101>\u001b[0m in \u001b[0;36m<module>\u001b[1;34m\u001b[0m\n\u001b[0;32m      1\u001b[0m \u001b[1;31m# 그림 그려보기\u001b[0m\u001b[1;33m\u001b[0m\u001b[1;33m\u001b[0m\u001b[1;33m\u001b[0m\u001b[0m\n\u001b[0;32m      2\u001b[0m \u001b[1;33m\u001b[0m\u001b[0m\n\u001b[1;32m----> 3\u001b[1;33m \u001b[0mplt\u001b[0m\u001b[1;33m.\u001b[0m\u001b[0mplot\u001b[0m\u001b[1;33m(\u001b[0m\u001b[0mrange\u001b[0m\u001b[1;33m(\u001b[0m\u001b[1;36m2\u001b[0m\u001b[1;33m,\u001b[0m \u001b[1;36m10\u001b[0m\u001b[1;33m)\u001b[0m\u001b[1;33m,\u001b[0m \u001b[0msseList\u001b[0m\u001b[1;33m)\u001b[0m\u001b[1;33m\u001b[0m\u001b[1;33m\u001b[0m\u001b[0m\n\u001b[0m\u001b[0;32m      4\u001b[0m \u001b[0mplt\u001b[0m\u001b[1;33m.\u001b[0m\u001b[0mshow\u001b[0m\u001b[1;33m(\u001b[0m\u001b[1;33m)\u001b[0m\u001b[1;33m\u001b[0m\u001b[1;33m\u001b[0m\u001b[0m\n",
      "\u001b[1;32m~\\Anaconda3\\lib\\site-packages\\matplotlib\\pyplot.py\u001b[0m in \u001b[0;36mplot\u001b[1;34m(scalex, scaley, data, *args, **kwargs)\u001b[0m\n\u001b[0;32m   2811\u001b[0m     return gca().plot(\n\u001b[0;32m   2812\u001b[0m         *args, scalex=scalex, scaley=scaley, **({\"data\": data} if data\n\u001b[1;32m-> 2813\u001b[1;33m         is not None else {}), **kwargs)\n\u001b[0m\u001b[0;32m   2814\u001b[0m \u001b[1;33m\u001b[0m\u001b[0m\n\u001b[0;32m   2815\u001b[0m \u001b[1;33m\u001b[0m\u001b[0m\n",
      "\u001b[1;32m~\\Anaconda3\\lib\\site-packages\\matplotlib\\__init__.py\u001b[0m in \u001b[0;36minner\u001b[1;34m(ax, data, *args, **kwargs)\u001b[0m\n\u001b[0;32m   1808\u001b[0m                         \u001b[1;34m\"the Matplotlib list!)\"\u001b[0m \u001b[1;33m%\u001b[0m \u001b[1;33m(\u001b[0m\u001b[0mlabel_namer\u001b[0m\u001b[1;33m,\u001b[0m \u001b[0mfunc\u001b[0m\u001b[1;33m.\u001b[0m\u001b[0m__name__\u001b[0m\u001b[1;33m)\u001b[0m\u001b[1;33m,\u001b[0m\u001b[1;33m\u001b[0m\u001b[1;33m\u001b[0m\u001b[0m\n\u001b[0;32m   1809\u001b[0m                         RuntimeWarning, stacklevel=2)\n\u001b[1;32m-> 1810\u001b[1;33m             \u001b[1;32mreturn\u001b[0m \u001b[0mfunc\u001b[0m\u001b[1;33m(\u001b[0m\u001b[0max\u001b[0m\u001b[1;33m,\u001b[0m \u001b[1;33m*\u001b[0m\u001b[0margs\u001b[0m\u001b[1;33m,\u001b[0m \u001b[1;33m**\u001b[0m\u001b[0mkwargs\u001b[0m\u001b[1;33m)\u001b[0m\u001b[1;33m\u001b[0m\u001b[1;33m\u001b[0m\u001b[0m\n\u001b[0m\u001b[0;32m   1811\u001b[0m \u001b[1;33m\u001b[0m\u001b[0m\n\u001b[0;32m   1812\u001b[0m         inner.__doc__ = _add_data_doc(inner.__doc__,\n",
      "\u001b[1;32m~\\Anaconda3\\lib\\site-packages\\matplotlib\\axes\\_axes.py\u001b[0m in \u001b[0;36mplot\u001b[1;34m(self, scalex, scaley, *args, **kwargs)\u001b[0m\n\u001b[0;32m   1609\u001b[0m         \u001b[0mkwargs\u001b[0m \u001b[1;33m=\u001b[0m \u001b[0mcbook\u001b[0m\u001b[1;33m.\u001b[0m\u001b[0mnormalize_kwargs\u001b[0m\u001b[1;33m(\u001b[0m\u001b[0mkwargs\u001b[0m\u001b[1;33m,\u001b[0m \u001b[0mmlines\u001b[0m\u001b[1;33m.\u001b[0m\u001b[0mLine2D\u001b[0m\u001b[1;33m.\u001b[0m\u001b[0m_alias_map\u001b[0m\u001b[1;33m)\u001b[0m\u001b[1;33m\u001b[0m\u001b[1;33m\u001b[0m\u001b[0m\n\u001b[0;32m   1610\u001b[0m \u001b[1;33m\u001b[0m\u001b[0m\n\u001b[1;32m-> 1611\u001b[1;33m         \u001b[1;32mfor\u001b[0m \u001b[0mline\u001b[0m \u001b[1;32min\u001b[0m \u001b[0mself\u001b[0m\u001b[1;33m.\u001b[0m\u001b[0m_get_lines\u001b[0m\u001b[1;33m(\u001b[0m\u001b[1;33m*\u001b[0m\u001b[0margs\u001b[0m\u001b[1;33m,\u001b[0m \u001b[1;33m**\u001b[0m\u001b[0mkwargs\u001b[0m\u001b[1;33m)\u001b[0m\u001b[1;33m:\u001b[0m\u001b[1;33m\u001b[0m\u001b[1;33m\u001b[0m\u001b[0m\n\u001b[0m\u001b[0;32m   1612\u001b[0m             \u001b[0mself\u001b[0m\u001b[1;33m.\u001b[0m\u001b[0madd_line\u001b[0m\u001b[1;33m(\u001b[0m\u001b[0mline\u001b[0m\u001b[1;33m)\u001b[0m\u001b[1;33m\u001b[0m\u001b[1;33m\u001b[0m\u001b[0m\n\u001b[0;32m   1613\u001b[0m             \u001b[0mlines\u001b[0m\u001b[1;33m.\u001b[0m\u001b[0mappend\u001b[0m\u001b[1;33m(\u001b[0m\u001b[0mline\u001b[0m\u001b[1;33m)\u001b[0m\u001b[1;33m\u001b[0m\u001b[1;33m\u001b[0m\u001b[0m\n",
      "\u001b[1;32m~\\Anaconda3\\lib\\site-packages\\matplotlib\\axes\\_base.py\u001b[0m in \u001b[0;36m_grab_next_args\u001b[1;34m(self, *args, **kwargs)\u001b[0m\n\u001b[0;32m    391\u001b[0m                 \u001b[0mthis\u001b[0m \u001b[1;33m+=\u001b[0m \u001b[0margs\u001b[0m\u001b[1;33m[\u001b[0m\u001b[1;36m0\u001b[0m\u001b[1;33m]\u001b[0m\u001b[1;33m,\u001b[0m\u001b[1;33m\u001b[0m\u001b[1;33m\u001b[0m\u001b[0m\n\u001b[0;32m    392\u001b[0m                 \u001b[0margs\u001b[0m \u001b[1;33m=\u001b[0m \u001b[0margs\u001b[0m\u001b[1;33m[\u001b[0m\u001b[1;36m1\u001b[0m\u001b[1;33m:\u001b[0m\u001b[1;33m]\u001b[0m\u001b[1;33m\u001b[0m\u001b[1;33m\u001b[0m\u001b[0m\n\u001b[1;32m--> 393\u001b[1;33m             \u001b[1;32myield\u001b[0m \u001b[1;32mfrom\u001b[0m \u001b[0mself\u001b[0m\u001b[1;33m.\u001b[0m\u001b[0m_plot_args\u001b[0m\u001b[1;33m(\u001b[0m\u001b[0mthis\u001b[0m\u001b[1;33m,\u001b[0m \u001b[0mkwargs\u001b[0m\u001b[1;33m)\u001b[0m\u001b[1;33m\u001b[0m\u001b[1;33m\u001b[0m\u001b[0m\n\u001b[0m\u001b[0;32m    394\u001b[0m \u001b[1;33m\u001b[0m\u001b[0m\n\u001b[0;32m    395\u001b[0m \u001b[1;33m\u001b[0m\u001b[0m\n",
      "\u001b[1;32m~\\Anaconda3\\lib\\site-packages\\matplotlib\\axes\\_base.py\u001b[0m in \u001b[0;36m_plot_args\u001b[1;34m(self, tup, kwargs)\u001b[0m\n\u001b[0;32m    368\u001b[0m             \u001b[0mx\u001b[0m\u001b[1;33m,\u001b[0m \u001b[0my\u001b[0m \u001b[1;33m=\u001b[0m \u001b[0mindex_of\u001b[0m\u001b[1;33m(\u001b[0m\u001b[0mtup\u001b[0m\u001b[1;33m[\u001b[0m\u001b[1;33m-\u001b[0m\u001b[1;36m1\u001b[0m\u001b[1;33m]\u001b[0m\u001b[1;33m)\u001b[0m\u001b[1;33m\u001b[0m\u001b[1;33m\u001b[0m\u001b[0m\n\u001b[0;32m    369\u001b[0m \u001b[1;33m\u001b[0m\u001b[0m\n\u001b[1;32m--> 370\u001b[1;33m         \u001b[0mx\u001b[0m\u001b[1;33m,\u001b[0m \u001b[0my\u001b[0m \u001b[1;33m=\u001b[0m \u001b[0mself\u001b[0m\u001b[1;33m.\u001b[0m\u001b[0m_xy_from_xy\u001b[0m\u001b[1;33m(\u001b[0m\u001b[0mx\u001b[0m\u001b[1;33m,\u001b[0m \u001b[0my\u001b[0m\u001b[1;33m)\u001b[0m\u001b[1;33m\u001b[0m\u001b[1;33m\u001b[0m\u001b[0m\n\u001b[0m\u001b[0;32m    371\u001b[0m \u001b[1;33m\u001b[0m\u001b[0m\n\u001b[0;32m    372\u001b[0m         \u001b[1;32mif\u001b[0m \u001b[0mself\u001b[0m\u001b[1;33m.\u001b[0m\u001b[0mcommand\u001b[0m \u001b[1;33m==\u001b[0m \u001b[1;34m'plot'\u001b[0m\u001b[1;33m:\u001b[0m\u001b[1;33m\u001b[0m\u001b[1;33m\u001b[0m\u001b[0m\n",
      "\u001b[1;32m~\\Anaconda3\\lib\\site-packages\\matplotlib\\axes\\_base.py\u001b[0m in \u001b[0;36m_xy_from_xy\u001b[1;34m(self, x, y)\u001b[0m\n\u001b[0;32m    229\u001b[0m         \u001b[1;32mif\u001b[0m \u001b[0mx\u001b[0m\u001b[1;33m.\u001b[0m\u001b[0mshape\u001b[0m\u001b[1;33m[\u001b[0m\u001b[1;36m0\u001b[0m\u001b[1;33m]\u001b[0m \u001b[1;33m!=\u001b[0m \u001b[0my\u001b[0m\u001b[1;33m.\u001b[0m\u001b[0mshape\u001b[0m\u001b[1;33m[\u001b[0m\u001b[1;36m0\u001b[0m\u001b[1;33m]\u001b[0m\u001b[1;33m:\u001b[0m\u001b[1;33m\u001b[0m\u001b[1;33m\u001b[0m\u001b[0m\n\u001b[0;32m    230\u001b[0m             raise ValueError(\"x and y must have same first dimension, but \"\n\u001b[1;32m--> 231\u001b[1;33m                              \"have shapes {} and {}\".format(x.shape, y.shape))\n\u001b[0m\u001b[0;32m    232\u001b[0m         \u001b[1;32mif\u001b[0m \u001b[0mx\u001b[0m\u001b[1;33m.\u001b[0m\u001b[0mndim\u001b[0m \u001b[1;33m>\u001b[0m \u001b[1;36m2\u001b[0m \u001b[1;32mor\u001b[0m \u001b[0my\u001b[0m\u001b[1;33m.\u001b[0m\u001b[0mndim\u001b[0m \u001b[1;33m>\u001b[0m \u001b[1;36m2\u001b[0m\u001b[1;33m:\u001b[0m\u001b[1;33m\u001b[0m\u001b[1;33m\u001b[0m\u001b[0m\n\u001b[0;32m    233\u001b[0m             raise ValueError(\"x and y can be no greater than 2-D, but have \"\n",
      "\u001b[1;31mValueError\u001b[0m: x and y must have same first dimension, but have shapes (8,) and (0,)"
     ]
    },
    {
     "data": {
      "image/png": "[encoded data removed]",
      "text/plain": [
       "<Figure size 432x288 with 1 Axes>"
      ]
     },
     "metadata": {
      "needs_background": "light"
     },
     "output_type": "display_data"
    }
   ],
   "source": [
    "# 그림 그려보기\n",
    "\n",
    "plt.plot(range(2, 10), sseList)\n",
    "plt.show()"
   ]
  },
  {
   "cell_type": "code",
   "execution_count": 15,
   "metadata": {},
   "outputs": [],
   "source": [
    "documents = [\n",
    "    \"This little kitty came to play when I was eating at a restaurant.\",\n",
    "    \"Merley has the best squooshy kitten belly.\", \n",
    "    \"Google Translate app is incredible.\",\n",
    "    \"If you open 100 tab in google you get a smiley face.\",\n",
    "    \"Best cat photo I've ever taken.\", \n",
    "    \"Climbing ninja cat.\", \n",
    "    \"Impressed with google map feedback.\",\n",
    "    \"Key promoter extension for google chrome.\" \n",
    "]"
   ]
  },
  {
   "cell_type": "code",
   "execution_count": 16,
   "metadata": {},
   "outputs": [],
   "source": [
    "from nltk.tokenize import word_tokenize\n",
    "from nltk.corpus import stopwords\n",
    "from string import punctuation\n",
    "from collections import defaultdict # 구조 만들기 목적\n",
    "from math import log10\n",
    "import re\n",
    "\n",
    "# DTM 만들기. DTM = document-term-freq....구조. \n",
    "DTM = defaultdict(lambda: defaultdict(int)) # 빈도를 적을 것이므로 int\n",
    "# TDM = 어떤 term이 어떤 document에서 얼만큼의 freq로 나왔는지\n",
    "TDM = defaultdict(lambda: defaultdict(int))\n",
    "# TWM = term-document-weight(tf-idf)\n",
    "TWM = defaultdict(lambda: defaultdict(float))\n",
    "\n",
    "stopList = stopwords.words(\"english\") # 단어들만 남아있음. \n",
    "puncPattern = re.compile(r\"[{0}]\".format(re.escape(punctuation)))\n",
    "\n",
    "for i, d in enumerate(documents): # collection\n",
    "    for t in word_tokenize(d.lower()): # 소문자로 변환한 후 구두점 분리 => 이를 통해 단어를 추출함('t'). \n",
    "        if t not in stopList and not puncPattern.match(t): \n",
    "            DTM[i][t] += 1 # if문을 통과한 단어만 색인어로 취급. 구두점, at과 같은 쓸데없는 단어를 제거한다. \n",
    "            \n",
    "# i = index     \n",
    "for i, termList in DTM.items():\n",
    "    for t, f in termList.items():\n",
    "        TDM[t][i] = f\n",
    "        \n",
    "# V = 전체 단어가 몇개인지\n",
    "V = len(TDM.keys())\n",
    "N = len(DTM.keys())\n",
    "\n",
    "# TWM => TF-IDF 구하기(freq/max)*(logN/df), 여기서 max는 모르는 값.\n",
    "for t, docList in TDM.items():\n",
    "    df = len(docList)\n",
    "    for d, f in docList.items():\n",
    "        maxtf = max(DTM[d].values())\n",
    "        TWM[t][d] = (f/maxtf) * log(N/df)"
   ]
  },
  {
   "cell_type": "code",
   "execution_count": null,
   "metadata": {
    "scrolled": true
   },
   "outputs": [],
   "source": [
    "V, N # 총 8개의 문서에서 34개의 단어 추출 완료"
   ]
  },
  {
   "cell_type": "code",
   "execution_count": null,
   "metadata": {
    "scrolled": true
   },
   "outputs": [],
   "source": [
    "TWM # little은 0번째 문서에서 2.0794415416798357만큼의 가중치를 가짐. 문서 중에서 단 한번만 나왔으므로 옳게 나왔다. "
   ]
  },
  {
   "cell_type": "code",
   "execution_count": null,
   "metadata": {},
   "outputs": [],
   "source": []
  },
  {
   "cell_type": "code",
   "execution_count": null,
   "metadata": {},
   "outputs": [],
   "source": []
  },
  {
   "cell_type": "code",
   "execution_count": null,
   "metadata": {},
   "outputs": [],
   "source": []
  }
 ],
 "metadata": {
  "kernelspec": {
   "display_name": "Python 3",
   "language": "python",
   "name": "python3"
  },
  "language_info": {
   "codemirror_mode": {
    "name": "ipython",
    "version": 3
   },
   "file_extension": ".py",
   "mimetype": "text/x-python",
   "name": "python",
   "nbconvert_exporter": "python",
   "pygments_lexer": "ipython3",
   "version": "3.7.1"
  }
 },
 "nbformat": 4,
 "nbformat_minor": 2
}
